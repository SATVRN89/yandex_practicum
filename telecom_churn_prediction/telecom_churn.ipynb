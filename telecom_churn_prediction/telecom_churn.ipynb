{
 "cells": [
  {
   "cell_type": "markdown",
   "id": "7661e08f",
   "metadata": {
    "toc": true
   },
   "source": [
    "<h1>Table of Contents<span class=\"tocSkip\"></span></h1>\n",
    "<div class=\"toc\"><ul class=\"toc-item\"><li><ul class=\"toc-item\"><li><span><a href=\"#Service-description\" data-toc-modified-id=\"Service-description-0.1\"><span class=\"toc-item-num\">0.1&nbsp;&nbsp;</span>Service description</a></span></li><li><span><a href=\"#Data-description\" data-toc-modified-id=\"Data-description-0.2\"><span class=\"toc-item-num\">0.2&nbsp;&nbsp;</span>Data description</a></span></li><li><span><a href=\"#Objective-of-the-project\" data-toc-modified-id=\"Objective-of-the-project-0.3\"><span class=\"toc-item-num\">0.3&nbsp;&nbsp;</span>Objective of the project</a></span></li><li><span><a href=\"#Work-plan\" data-toc-modified-id=\"Work-plan-0.4\"><span class=\"toc-item-num\">0.4&nbsp;&nbsp;</span>Work plan</a></span></li></ul></li><li><span><a href=\"#Load-data\" data-toc-modified-id=\"Load-data-1\"><span class=\"toc-item-num\">1&nbsp;&nbsp;</span>Load data</a></span></li><li><span><a href=\"#Data-analysis-and-preprocessing\" data-toc-modified-id=\"Data-analysis-and-preprocessing-2\"><span class=\"toc-item-num\">2&nbsp;&nbsp;</span>Data analysis and preprocessing</a></span><ul class=\"toc-item\"><li><span><a href=\"#Data-analysis-conclusion\" data-toc-modified-id=\"Data-analysis-conclusion-2.1\"><span class=\"toc-item-num\">2.1&nbsp;&nbsp;</span>Data analysis conclusion</a></span></li></ul></li><li><span><a href=\"#Model-learning\" data-toc-modified-id=\"Model-learning-3\"><span class=\"toc-item-num\">3&nbsp;&nbsp;</span>Model learning</a></span><ul class=\"toc-item\"><li><span><a href=\"#Model-learning-conclusion\" data-toc-modified-id=\"Model-learning-conclusion-3.1\"><span class=\"toc-item-num\">3.1&nbsp;&nbsp;</span>Model learning conclusion</a></span></li><li><span><a href=\"#Best-model-testing-conclusion\" data-toc-modified-id=\"Best-model-testing-conclusion-3.2\"><span class=\"toc-item-num\">3.2&nbsp;&nbsp;</span>Best model testing conclusion</a></span></li></ul></li><li><span><a href=\"#Report\" data-toc-modified-id=\"Report-4\"><span class=\"toc-item-num\">4&nbsp;&nbsp;</span>Report</a></span><ul class=\"toc-item\"><li><span><a href=\"#Project-description\" data-toc-modified-id=\"Project-description-4.1\"><span class=\"toc-item-num\">4.1&nbsp;&nbsp;</span>Project description</a></span></li><li><span><a href=\"#Data-preprocessing\" data-toc-modified-id=\"Data-preprocessing-4.2\"><span class=\"toc-item-num\">4.2&nbsp;&nbsp;</span>Data preprocessing</a></span></li><li><span><a href=\"#Exploratory-analysis\" data-toc-modified-id=\"Exploratory-analysis-4.3\"><span class=\"toc-item-num\">4.3&nbsp;&nbsp;</span>Exploratory analysis</a></span></li><li><span><a href=\"#Model-learning\" data-toc-modified-id=\"Model-learning-4.4\"><span class=\"toc-item-num\">4.4&nbsp;&nbsp;</span>Model learning</a></span></li><li><span><a href=\"#Best-model-and-its-quality\" data-toc-modified-id=\"Best-model-and-its-quality-4.5\"><span class=\"toc-item-num\">4.5&nbsp;&nbsp;</span>Best model and its quality</a></span><ul class=\"toc-item\"><li><span><a href=\"#Model\" data-toc-modified-id=\"Model-4.5.1\"><span class=\"toc-item-num\">4.5.1&nbsp;&nbsp;</span>Model</a></span></li><li><span><a href=\"#Quality\" data-toc-modified-id=\"Quality-4.5.2\"><span class=\"toc-item-num\">4.5.2&nbsp;&nbsp;</span>Quality</a></span></li><li><span><a href=\"#Comparing-with-Constant-model\" data-toc-modified-id=\"Comparing-with-Constant-model-4.5.3\"><span class=\"toc-item-num\">4.5.3&nbsp;&nbsp;</span>Comparing with Constant model</a></span></li><li><span><a href=\"#Features-importance-for-best-model\" data-toc-modified-id=\"Features-importance-for-best-model-4.5.4\"><span class=\"toc-item-num\">4.5.4&nbsp;&nbsp;</span>Features importance for best model</a></span></li></ul></li></ul></li><li><span><a href=\"#Business-recommendation\" data-toc-modified-id=\"Business-recommendation-5\"><span class=\"toc-item-num\">5&nbsp;&nbsp;</span>Business recommendation</a></span></li></ul></div>"
   ]
  },
  {
   "cell_type": "markdown",
   "id": "3feed5ab",
   "metadata": {},
   "source": [
    "# Churn prediction for telecom company"
   ]
  },
  {
   "cell_type": "markdown",
   "id": "445ef7e9",
   "metadata": {},
   "source": [
    "Telecom operator would like to predict churn of clients. If it's discovered that useris planning to leave, company will offer promotional codes and special plan options. Telecom's marketing team has collected some of clients' personal data, including information about their plans and contracts.\n",
    "\n",
    "### Service description\n",
    "\n",
    "Company mainly provides two types of services: \n",
    "\n",
    "1. Landline communication. The telephone can be connected to several lines simultaneously.\n",
    "2. Internet. The network can be set up via a telephone line (DSL, digital subscriber line) or through a fiber optic cable.  \n",
    "\n",
    "Some other services the company provides include:\n",
    "\n",
    "- Internet security: antivirus software (DeviceProtection) and a malicious website blocker (OnlineSecurity)\n",
    "- A dedicated technical support line (TechSupport)\n",
    "- Cloud file storage and data backup (OnlineBackup)\n",
    "- TV streaming (StreamingTV) and a movie directory (StreamingMovies)\n",
    "\n",
    "The clients can choose either a monthly payment or sign a 1- or 2-year contract. They can use various payment methods and receive an electronic invoice after a transaction.\n",
    "\n",
    "### Data description \n",
    "\n",
    "The data consists of files obtained from different sources:\n",
    "\n",
    "- `contract.csv` — contract information\n",
    "- `personal.csv` — the client's personal data\n",
    "- `internet.csv` — information about Internet services\n",
    "- `phone.csv` — information about telephone services\n",
    "\n",
    "In each file, the column `customerID` contains a unique code assigned to each client.\n",
    "\n",
    "The contract information is valid as of February 1, 2020.\n",
    "\n",
    "### Objective of the project\n",
    "\n",
    "By October 22, 2022 we need to build a model to get best classification possible on the target variable with ROC AUC more than 0,88"
   ]
  },
  {
   "cell_type": "markdown",
   "id": "c7c8bbaf",
   "metadata": {},
   "source": [
    "### Work plan\n",
    "\n",
    "**1. Prepare data:**\n",
    "\n",
    "   - Add target feature in the sheet contract.csv from EndDate feature, where 1 means client left, 0 - still with company. \n",
    "\n",
    "   - Change boolean values into numerical in all sheets.\n",
    "\n",
    "   - Merge all sheets by customerID feature.\n",
    "   \n",
    "   - Formate names of features\n",
    "   \n",
    "   - Fill missing values, make type conversion, EDA.\n",
    "\n",
    "\n",
    "**2. Build model:**\n",
    "\n",
    "   - Build 2-3 models.\n",
    "\n",
    "   - Learn models and check their quality.\n",
    "   \n",
    "   - Choose best model and ckeck it on test data set.\n",
    "\n",
    "**3. Make conclusion.**\n",
    "     \n",
    "   - Conclusion and recommendations."
   ]
  },
  {
   "cell_type": "markdown",
   "id": "cad0847f",
   "metadata": {},
   "source": [
    "## Load data"
   ]
  },
  {
   "cell_type": "code",
   "execution_count": 1,
   "id": "482d08d6",
   "metadata": {
    "scrolled": true
   },
   "outputs": [],
   "source": [
    "import warnings                   \n",
    "warnings.filterwarnings('ignore')\n",
    "\n",
    "import pandas as pd\n",
    "import numpy as np\n",
    "import seaborn as sns\n",
    "import matplotlib.pyplot as plt\n",
    "\n",
    "import phik\n",
    "from phik.report import plot_correlation_matrix\n",
    "from phik import report\n",
    "\n",
    "import category_encoders as ce\n",
    "from sklearn.preprocessing import StandardScaler\n",
    "\n",
    "from sklearn.model_selection import GridSearchCV\n",
    "from sklearn.model_selection import train_test_split\n",
    "\n",
    "from sklearn.ensemble import RandomForestClassifier\n",
    "from catboost import CatBoostClassifier\n",
    "from lightgbm import LGBMClassifier\n",
    "from sklearn.dummy import DummyClassifier\n",
    "\n",
    "from sklearn.pipeline import Pipeline\n",
    "\n",
    "from sklearn.metrics import confusion_matrix\n",
    "from sklearn.metrics import roc_auc_score\n",
    "from sklearn.metrics import roc_curve\n",
    "from sklearn.metrics import accuracy_score"
   ]
  },
  {
   "cell_type": "code",
   "execution_count": 2,
   "id": "35a12375",
   "metadata": {},
   "outputs": [],
   "source": [
    "try:\n",
    "    contract = pd.read_csv('C:/Users/SATVRN/Desktop/Учеба/16 Финальный проект/contract.csv')\n",
    "    internet = pd.read_csv('C:/Users/SATVRN/Desktop/Учеба/16 Финальный проект/internet.csv')\n",
    "    personal = pd.read_csv('C:/Users/SATVRN/Desktop/Учеба/16 Финальный проект/personal.csv')\n",
    "    phone = pd.read_csv('C:/Users/SATVRN/Desktop/Учеба/16 Финальный проект/phone.csv')\n",
    "\n",
    "    \n",
    "except:\n",
    "    contract = pd.read_csv('/datasets/final_provider/contract.csv')\n",
    "    internet = pd.read_csv('/datasets/final_provider/internet.csv')\n",
    "    personal = pd.read_csv('/datasets/final_provider/personal.csv')\n",
    "    phone = pd.read_csv('/datasets/final_provider/phone.csv') "
   ]
  },
  {
   "cell_type": "code",
   "execution_count": 3,
   "id": "e0c6715a",
   "metadata": {},
   "outputs": [],
   "source": [
    "def get_data_name(data):\n",
    "    name =[x for x in globals() if globals()[x] is data][0]\n",
    "    return name"
   ]
  },
  {
   "cell_type": "markdown",
   "id": "0cdfacce",
   "metadata": {},
   "source": [
    "## Data analysis and preprocessing"
   ]
  },
  {
   "cell_type": "code",
   "execution_count": 4,
   "id": "1ab051b2",
   "metadata": {
    "scrolled": false
   },
   "outputs": [
    {
     "name": "stdout",
     "output_type": "stream",
     "text": [
      "\n",
      "\u001b[1mDataframe info contract \n",
      "\n",
      "Random five lines:\u001b[0m\n"
     ]
    },
    {
     "data": {
      "text/html": [
       "<div>\n",
       "<style scoped>\n",
       "    .dataframe tbody tr th:only-of-type {\n",
       "        vertical-align: middle;\n",
       "    }\n",
       "\n",
       "    .dataframe tbody tr th {\n",
       "        vertical-align: top;\n",
       "    }\n",
       "\n",
       "    .dataframe thead th {\n",
       "        text-align: right;\n",
       "    }\n",
       "</style>\n",
       "<table border=\"1\" class=\"dataframe\">\n",
       "  <thead>\n",
       "    <tr style=\"text-align: right;\">\n",
       "      <th></th>\n",
       "      <th>customerID</th>\n",
       "      <th>BeginDate</th>\n",
       "      <th>EndDate</th>\n",
       "      <th>Type</th>\n",
       "      <th>PaperlessBilling</th>\n",
       "      <th>PaymentMethod</th>\n",
       "      <th>MonthlyCharges</th>\n",
       "      <th>TotalCharges</th>\n",
       "    </tr>\n",
       "  </thead>\n",
       "  <tbody>\n",
       "    <tr>\n",
       "      <th>61</th>\n",
       "      <td>1215-FIGMP</td>\n",
       "      <td>2015-02-01</td>\n",
       "      <td>No</td>\n",
       "      <td>Month-to-month</td>\n",
       "      <td>Yes</td>\n",
       "      <td>Bank transfer (automatic)</td>\n",
       "      <td>89.90</td>\n",
       "      <td>5450.7</td>\n",
       "    </tr>\n",
       "    <tr>\n",
       "      <th>5660</th>\n",
       "      <td>1121-QSIVB</td>\n",
       "      <td>2016-06-01</td>\n",
       "      <td>No</td>\n",
       "      <td>One year</td>\n",
       "      <td>Yes</td>\n",
       "      <td>Mailed check</td>\n",
       "      <td>77.55</td>\n",
       "      <td>3471.1</td>\n",
       "    </tr>\n",
       "    <tr>\n",
       "      <th>6024</th>\n",
       "      <td>5095-AESKG</td>\n",
       "      <td>2019-09-01</td>\n",
       "      <td>2019-12-01 00:00:00</td>\n",
       "      <td>Month-to-month</td>\n",
       "      <td>Yes</td>\n",
       "      <td>Credit card (automatic)</td>\n",
       "      <td>91.50</td>\n",
       "      <td>242.95</td>\n",
       "    </tr>\n",
       "    <tr>\n",
       "      <th>2346</th>\n",
       "      <td>0020-INWCK</td>\n",
       "      <td>2014-03-01</td>\n",
       "      <td>No</td>\n",
       "      <td>Two year</td>\n",
       "      <td>Yes</td>\n",
       "      <td>Credit card (automatic)</td>\n",
       "      <td>95.75</td>\n",
       "      <td>6849.4</td>\n",
       "    </tr>\n",
       "    <tr>\n",
       "      <th>3945</th>\n",
       "      <td>3815-SLMEF</td>\n",
       "      <td>2019-09-01</td>\n",
       "      <td>2019-12-01 00:00:00</td>\n",
       "      <td>Month-to-month</td>\n",
       "      <td>No</td>\n",
       "      <td>Mailed check</td>\n",
       "      <td>34.25</td>\n",
       "      <td>139.35</td>\n",
       "    </tr>\n",
       "  </tbody>\n",
       "</table>\n",
       "</div>"
      ],
      "text/plain": [
       "      customerID   BeginDate              EndDate            Type  \\\n",
       "61    1215-FIGMP  2015-02-01                   No  Month-to-month   \n",
       "5660  1121-QSIVB  2016-06-01                   No        One year   \n",
       "6024  5095-AESKG  2019-09-01  2019-12-01 00:00:00  Month-to-month   \n",
       "2346  0020-INWCK  2014-03-01                   No        Two year   \n",
       "3945  3815-SLMEF  2019-09-01  2019-12-01 00:00:00  Month-to-month   \n",
       "\n",
       "     PaperlessBilling              PaymentMethod  MonthlyCharges TotalCharges  \n",
       "61                Yes  Bank transfer (automatic)           89.90       5450.7  \n",
       "5660              Yes               Mailed check           77.55       3471.1  \n",
       "6024              Yes    Credit card (automatic)           91.50       242.95  \n",
       "2346              Yes    Credit card (automatic)           95.75       6849.4  \n",
       "3945               No               Mailed check           34.25       139.35  "
      ]
     },
     "metadata": {},
     "output_type": "display_data"
    },
    {
     "name": "stdout",
     "output_type": "stream",
     "text": [
      "\n",
      "\u001b[1mGeneral info:\n",
      "\u001b[0m\n",
      "<class 'pandas.core.frame.DataFrame'>\n",
      "RangeIndex: 7043 entries, 0 to 7042\n",
      "Data columns (total 8 columns):\n",
      " #   Column            Non-Null Count  Dtype  \n",
      "---  ------            --------------  -----  \n",
      " 0   customerID        7043 non-null   object \n",
      " 1   BeginDate         7043 non-null   object \n",
      " 2   EndDate           7043 non-null   object \n",
      " 3   Type              7043 non-null   object \n",
      " 4   PaperlessBilling  7043 non-null   object \n",
      " 5   PaymentMethod     7043 non-null   object \n",
      " 6   MonthlyCharges    7043 non-null   float64\n",
      " 7   TotalCharges      7043 non-null   object \n",
      "dtypes: float64(1), object(7)\n",
      "memory usage: 440.3+ KB\n",
      "\n",
      "\u001b[1mDescriptive statistics:\n",
      "\u001b[0m\n"
     ]
    },
    {
     "data": {
      "text/html": [
       "<div>\n",
       "<style scoped>\n",
       "    .dataframe tbody tr th:only-of-type {\n",
       "        vertical-align: middle;\n",
       "    }\n",
       "\n",
       "    .dataframe tbody tr th {\n",
       "        vertical-align: top;\n",
       "    }\n",
       "\n",
       "    .dataframe thead th {\n",
       "        text-align: right;\n",
       "    }\n",
       "</style>\n",
       "<table border=\"1\" class=\"dataframe\">\n",
       "  <thead>\n",
       "    <tr style=\"text-align: right;\">\n",
       "      <th></th>\n",
       "      <th>customerID</th>\n",
       "      <th>BeginDate</th>\n",
       "      <th>EndDate</th>\n",
       "      <th>Type</th>\n",
       "      <th>PaperlessBilling</th>\n",
       "      <th>PaymentMethod</th>\n",
       "      <th>MonthlyCharges</th>\n",
       "      <th>TotalCharges</th>\n",
       "    </tr>\n",
       "  </thead>\n",
       "  <tbody>\n",
       "    <tr>\n",
       "      <th>count</th>\n",
       "      <td>7043</td>\n",
       "      <td>7043</td>\n",
       "      <td>7043</td>\n",
       "      <td>7043</td>\n",
       "      <td>7043</td>\n",
       "      <td>7043</td>\n",
       "      <td>7043.000000</td>\n",
       "      <td>7043</td>\n",
       "    </tr>\n",
       "    <tr>\n",
       "      <th>unique</th>\n",
       "      <td>7043</td>\n",
       "      <td>77</td>\n",
       "      <td>5</td>\n",
       "      <td>3</td>\n",
       "      <td>2</td>\n",
       "      <td>4</td>\n",
       "      <td>NaN</td>\n",
       "      <td>6531</td>\n",
       "    </tr>\n",
       "    <tr>\n",
       "      <th>top</th>\n",
       "      <td>7590-VHVEG</td>\n",
       "      <td>2014-02-01</td>\n",
       "      <td>No</td>\n",
       "      <td>Month-to-month</td>\n",
       "      <td>Yes</td>\n",
       "      <td>Electronic check</td>\n",
       "      <td>NaN</td>\n",
       "      <td></td>\n",
       "    </tr>\n",
       "    <tr>\n",
       "      <th>freq</th>\n",
       "      <td>1</td>\n",
       "      <td>366</td>\n",
       "      <td>5174</td>\n",
       "      <td>3875</td>\n",
       "      <td>4171</td>\n",
       "      <td>2365</td>\n",
       "      <td>NaN</td>\n",
       "      <td>11</td>\n",
       "    </tr>\n",
       "    <tr>\n",
       "      <th>mean</th>\n",
       "      <td>NaN</td>\n",
       "      <td>NaN</td>\n",
       "      <td>NaN</td>\n",
       "      <td>NaN</td>\n",
       "      <td>NaN</td>\n",
       "      <td>NaN</td>\n",
       "      <td>64.761692</td>\n",
       "      <td>NaN</td>\n",
       "    </tr>\n",
       "    <tr>\n",
       "      <th>std</th>\n",
       "      <td>NaN</td>\n",
       "      <td>NaN</td>\n",
       "      <td>NaN</td>\n",
       "      <td>NaN</td>\n",
       "      <td>NaN</td>\n",
       "      <td>NaN</td>\n",
       "      <td>30.090047</td>\n",
       "      <td>NaN</td>\n",
       "    </tr>\n",
       "    <tr>\n",
       "      <th>min</th>\n",
       "      <td>NaN</td>\n",
       "      <td>NaN</td>\n",
       "      <td>NaN</td>\n",
       "      <td>NaN</td>\n",
       "      <td>NaN</td>\n",
       "      <td>NaN</td>\n",
       "      <td>18.250000</td>\n",
       "      <td>NaN</td>\n",
       "    </tr>\n",
       "    <tr>\n",
       "      <th>25%</th>\n",
       "      <td>NaN</td>\n",
       "      <td>NaN</td>\n",
       "      <td>NaN</td>\n",
       "      <td>NaN</td>\n",
       "      <td>NaN</td>\n",
       "      <td>NaN</td>\n",
       "      <td>35.500000</td>\n",
       "      <td>NaN</td>\n",
       "    </tr>\n",
       "    <tr>\n",
       "      <th>50%</th>\n",
       "      <td>NaN</td>\n",
       "      <td>NaN</td>\n",
       "      <td>NaN</td>\n",
       "      <td>NaN</td>\n",
       "      <td>NaN</td>\n",
       "      <td>NaN</td>\n",
       "      <td>70.350000</td>\n",
       "      <td>NaN</td>\n",
       "    </tr>\n",
       "    <tr>\n",
       "      <th>75%</th>\n",
       "      <td>NaN</td>\n",
       "      <td>NaN</td>\n",
       "      <td>NaN</td>\n",
       "      <td>NaN</td>\n",
       "      <td>NaN</td>\n",
       "      <td>NaN</td>\n",
       "      <td>89.850000</td>\n",
       "      <td>NaN</td>\n",
       "    </tr>\n",
       "    <tr>\n",
       "      <th>max</th>\n",
       "      <td>NaN</td>\n",
       "      <td>NaN</td>\n",
       "      <td>NaN</td>\n",
       "      <td>NaN</td>\n",
       "      <td>NaN</td>\n",
       "      <td>NaN</td>\n",
       "      <td>118.750000</td>\n",
       "      <td>NaN</td>\n",
       "    </tr>\n",
       "  </tbody>\n",
       "</table>\n",
       "</div>"
      ],
      "text/plain": [
       "        customerID   BeginDate EndDate            Type PaperlessBilling  \\\n",
       "count         7043        7043    7043            7043             7043   \n",
       "unique        7043          77       5               3                2   \n",
       "top     7590-VHVEG  2014-02-01      No  Month-to-month              Yes   \n",
       "freq             1         366    5174            3875             4171   \n",
       "mean           NaN         NaN     NaN             NaN              NaN   \n",
       "std            NaN         NaN     NaN             NaN              NaN   \n",
       "min            NaN         NaN     NaN             NaN              NaN   \n",
       "25%            NaN         NaN     NaN             NaN              NaN   \n",
       "50%            NaN         NaN     NaN             NaN              NaN   \n",
       "75%            NaN         NaN     NaN             NaN              NaN   \n",
       "max            NaN         NaN     NaN             NaN              NaN   \n",
       "\n",
       "           PaymentMethod  MonthlyCharges TotalCharges  \n",
       "count               7043     7043.000000         7043  \n",
       "unique                 4             NaN         6531  \n",
       "top     Electronic check             NaN               \n",
       "freq                2365             NaN           11  \n",
       "mean                 NaN       64.761692          NaN  \n",
       "std                  NaN       30.090047          NaN  \n",
       "min                  NaN       18.250000          NaN  \n",
       "25%                  NaN       35.500000          NaN  \n",
       "50%                  NaN       70.350000          NaN  \n",
       "75%                  NaN       89.850000          NaN  \n",
       "max                  NaN      118.750000          NaN  "
      ]
     },
     "metadata": {},
     "output_type": "display_data"
    },
    {
     "name": "stdout",
     "output_type": "stream",
     "text": [
      "\n",
      "\u001b[1mNumber of explicit duplicates:\n",
      "\u001b[0m\n"
     ]
    },
    {
     "data": {
      "text/plain": [
       "0"
      ]
     },
     "metadata": {},
     "output_type": "display_data"
    },
    {
     "name": "stdout",
     "output_type": "stream",
     "text": [
      "\n",
      "\u001b[1mNumber of missing values:\n",
      "\u001b[0m\n"
     ]
    },
    {
     "data": {
      "text/plain": [
       "customerID          0\n",
       "BeginDate           0\n",
       "EndDate             0\n",
       "Type                0\n",
       "PaperlessBilling    0\n",
       "PaymentMethod       0\n",
       "MonthlyCharges      0\n",
       "TotalCharges        0\n",
       "dtype: int64"
      ]
     },
     "metadata": {},
     "output_type": "display_data"
    },
    {
     "name": "stdout",
     "output_type": "stream",
     "text": [
      "----------------------------------------------------------------------------------------------------\n",
      "\n",
      "\u001b[1mDataframe info internet \n",
      "\n",
      "Random five lines:\u001b[0m\n"
     ]
    },
    {
     "data": {
      "text/html": [
       "<div>\n",
       "<style scoped>\n",
       "    .dataframe tbody tr th:only-of-type {\n",
       "        vertical-align: middle;\n",
       "    }\n",
       "\n",
       "    .dataframe tbody tr th {\n",
       "        vertical-align: top;\n",
       "    }\n",
       "\n",
       "    .dataframe thead th {\n",
       "        text-align: right;\n",
       "    }\n",
       "</style>\n",
       "<table border=\"1\" class=\"dataframe\">\n",
       "  <thead>\n",
       "    <tr style=\"text-align: right;\">\n",
       "      <th></th>\n",
       "      <th>customerID</th>\n",
       "      <th>InternetService</th>\n",
       "      <th>OnlineSecurity</th>\n",
       "      <th>OnlineBackup</th>\n",
       "      <th>DeviceProtection</th>\n",
       "      <th>TechSupport</th>\n",
       "      <th>StreamingTV</th>\n",
       "      <th>StreamingMovies</th>\n",
       "    </tr>\n",
       "  </thead>\n",
       "  <tbody>\n",
       "    <tr>\n",
       "      <th>1823</th>\n",
       "      <td>4967-WPNCF</td>\n",
       "      <td>DSL</td>\n",
       "      <td>Yes</td>\n",
       "      <td>Yes</td>\n",
       "      <td>Yes</td>\n",
       "      <td>Yes</td>\n",
       "      <td>Yes</td>\n",
       "      <td>Yes</td>\n",
       "    </tr>\n",
       "    <tr>\n",
       "      <th>2342</th>\n",
       "      <td>2207-QPJED</td>\n",
       "      <td>Fiber optic</td>\n",
       "      <td>No</td>\n",
       "      <td>No</td>\n",
       "      <td>Yes</td>\n",
       "      <td>Yes</td>\n",
       "      <td>Yes</td>\n",
       "      <td>No</td>\n",
       "    </tr>\n",
       "    <tr>\n",
       "      <th>5327</th>\n",
       "      <td>6300-BWMJX</td>\n",
       "      <td>Fiber optic</td>\n",
       "      <td>No</td>\n",
       "      <td>No</td>\n",
       "      <td>Yes</td>\n",
       "      <td>Yes</td>\n",
       "      <td>Yes</td>\n",
       "      <td>No</td>\n",
       "    </tr>\n",
       "    <tr>\n",
       "      <th>945</th>\n",
       "      <td>5673-FSSMF</td>\n",
       "      <td>DSL</td>\n",
       "      <td>No</td>\n",
       "      <td>No</td>\n",
       "      <td>No</td>\n",
       "      <td>No</td>\n",
       "      <td>No</td>\n",
       "      <td>Yes</td>\n",
       "    </tr>\n",
       "    <tr>\n",
       "      <th>5176</th>\n",
       "      <td>9888-ZCUMM</td>\n",
       "      <td>DSL</td>\n",
       "      <td>Yes</td>\n",
       "      <td>No</td>\n",
       "      <td>Yes</td>\n",
       "      <td>Yes</td>\n",
       "      <td>Yes</td>\n",
       "      <td>Yes</td>\n",
       "    </tr>\n",
       "  </tbody>\n",
       "</table>\n",
       "</div>"
      ],
      "text/plain": [
       "      customerID InternetService OnlineSecurity OnlineBackup DeviceProtection  \\\n",
       "1823  4967-WPNCF             DSL            Yes          Yes              Yes   \n",
       "2342  2207-QPJED     Fiber optic             No           No              Yes   \n",
       "5327  6300-BWMJX     Fiber optic             No           No              Yes   \n",
       "945   5673-FSSMF             DSL             No           No               No   \n",
       "5176  9888-ZCUMM             DSL            Yes           No              Yes   \n",
       "\n",
       "     TechSupport StreamingTV StreamingMovies  \n",
       "1823         Yes         Yes             Yes  \n",
       "2342         Yes         Yes              No  \n",
       "5327         Yes         Yes              No  \n",
       "945           No          No             Yes  \n",
       "5176         Yes         Yes             Yes  "
      ]
     },
     "metadata": {},
     "output_type": "display_data"
    },
    {
     "name": "stdout",
     "output_type": "stream",
     "text": [
      "\n",
      "\u001b[1mGeneral info:\n",
      "\u001b[0m\n",
      "<class 'pandas.core.frame.DataFrame'>\n",
      "RangeIndex: 5517 entries, 0 to 5516\n",
      "Data columns (total 8 columns):\n",
      " #   Column            Non-Null Count  Dtype \n",
      "---  ------            --------------  ----- \n",
      " 0   customerID        5517 non-null   object\n",
      " 1   InternetService   5517 non-null   object\n",
      " 2   OnlineSecurity    5517 non-null   object\n",
      " 3   OnlineBackup      5517 non-null   object\n",
      " 4   DeviceProtection  5517 non-null   object\n",
      " 5   TechSupport       5517 non-null   object\n",
      " 6   StreamingTV       5517 non-null   object\n",
      " 7   StreamingMovies   5517 non-null   object\n",
      "dtypes: object(8)\n",
      "memory usage: 344.9+ KB\n",
      "\n",
      "\u001b[1mDescriptive statistics:\n",
      "\u001b[0m\n"
     ]
    },
    {
     "data": {
      "text/html": [
       "<div>\n",
       "<style scoped>\n",
       "    .dataframe tbody tr th:only-of-type {\n",
       "        vertical-align: middle;\n",
       "    }\n",
       "\n",
       "    .dataframe tbody tr th {\n",
       "        vertical-align: top;\n",
       "    }\n",
       "\n",
       "    .dataframe thead th {\n",
       "        text-align: right;\n",
       "    }\n",
       "</style>\n",
       "<table border=\"1\" class=\"dataframe\">\n",
       "  <thead>\n",
       "    <tr style=\"text-align: right;\">\n",
       "      <th></th>\n",
       "      <th>customerID</th>\n",
       "      <th>InternetService</th>\n",
       "      <th>OnlineSecurity</th>\n",
       "      <th>OnlineBackup</th>\n",
       "      <th>DeviceProtection</th>\n",
       "      <th>TechSupport</th>\n",
       "      <th>StreamingTV</th>\n",
       "      <th>StreamingMovies</th>\n",
       "    </tr>\n",
       "  </thead>\n",
       "  <tbody>\n",
       "    <tr>\n",
       "      <th>count</th>\n",
       "      <td>5517</td>\n",
       "      <td>5517</td>\n",
       "      <td>5517</td>\n",
       "      <td>5517</td>\n",
       "      <td>5517</td>\n",
       "      <td>5517</td>\n",
       "      <td>5517</td>\n",
       "      <td>5517</td>\n",
       "    </tr>\n",
       "    <tr>\n",
       "      <th>unique</th>\n",
       "      <td>5517</td>\n",
       "      <td>2</td>\n",
       "      <td>2</td>\n",
       "      <td>2</td>\n",
       "      <td>2</td>\n",
       "      <td>2</td>\n",
       "      <td>2</td>\n",
       "      <td>2</td>\n",
       "    </tr>\n",
       "    <tr>\n",
       "      <th>top</th>\n",
       "      <td>7590-VHVEG</td>\n",
       "      <td>Fiber optic</td>\n",
       "      <td>No</td>\n",
       "      <td>No</td>\n",
       "      <td>No</td>\n",
       "      <td>No</td>\n",
       "      <td>No</td>\n",
       "      <td>No</td>\n",
       "    </tr>\n",
       "    <tr>\n",
       "      <th>freq</th>\n",
       "      <td>1</td>\n",
       "      <td>3096</td>\n",
       "      <td>3498</td>\n",
       "      <td>3088</td>\n",
       "      <td>3095</td>\n",
       "      <td>3473</td>\n",
       "      <td>2810</td>\n",
       "      <td>2785</td>\n",
       "    </tr>\n",
       "  </tbody>\n",
       "</table>\n",
       "</div>"
      ],
      "text/plain": [
       "        customerID InternetService OnlineSecurity OnlineBackup  \\\n",
       "count         5517            5517           5517         5517   \n",
       "unique        5517               2              2            2   \n",
       "top     7590-VHVEG     Fiber optic             No           No   \n",
       "freq             1            3096           3498         3088   \n",
       "\n",
       "       DeviceProtection TechSupport StreamingTV StreamingMovies  \n",
       "count              5517        5517        5517            5517  \n",
       "unique                2           2           2               2  \n",
       "top                  No          No          No              No  \n",
       "freq               3095        3473        2810            2785  "
      ]
     },
     "metadata": {},
     "output_type": "display_data"
    },
    {
     "name": "stdout",
     "output_type": "stream",
     "text": [
      "\n",
      "\u001b[1mNumber of explicit duplicates:\n",
      "\u001b[0m\n"
     ]
    },
    {
     "data": {
      "text/plain": [
       "0"
      ]
     },
     "metadata": {},
     "output_type": "display_data"
    },
    {
     "name": "stdout",
     "output_type": "stream",
     "text": [
      "\n",
      "\u001b[1mNumber of missing values:\n",
      "\u001b[0m\n"
     ]
    },
    {
     "data": {
      "text/plain": [
       "customerID          0\n",
       "InternetService     0\n",
       "OnlineSecurity      0\n",
       "OnlineBackup        0\n",
       "DeviceProtection    0\n",
       "TechSupport         0\n",
       "StreamingTV         0\n",
       "StreamingMovies     0\n",
       "dtype: int64"
      ]
     },
     "metadata": {},
     "output_type": "display_data"
    },
    {
     "name": "stdout",
     "output_type": "stream",
     "text": [
      "----------------------------------------------------------------------------------------------------\n",
      "\n",
      "\u001b[1mDataframe info personal \n",
      "\n",
      "Random five lines:\u001b[0m\n"
     ]
    },
    {
     "data": {
      "text/html": [
       "<div>\n",
       "<style scoped>\n",
       "    .dataframe tbody tr th:only-of-type {\n",
       "        vertical-align: middle;\n",
       "    }\n",
       "\n",
       "    .dataframe tbody tr th {\n",
       "        vertical-align: top;\n",
       "    }\n",
       "\n",
       "    .dataframe thead th {\n",
       "        text-align: right;\n",
       "    }\n",
       "</style>\n",
       "<table border=\"1\" class=\"dataframe\">\n",
       "  <thead>\n",
       "    <tr style=\"text-align: right;\">\n",
       "      <th></th>\n",
       "      <th>customerID</th>\n",
       "      <th>gender</th>\n",
       "      <th>SeniorCitizen</th>\n",
       "      <th>Partner</th>\n",
       "      <th>Dependents</th>\n",
       "    </tr>\n",
       "  </thead>\n",
       "  <tbody>\n",
       "    <tr>\n",
       "      <th>5896</th>\n",
       "      <td>1635-NZATJ</td>\n",
       "      <td>Male</td>\n",
       "      <td>1</td>\n",
       "      <td>Yes</td>\n",
       "      <td>No</td>\n",
       "    </tr>\n",
       "    <tr>\n",
       "      <th>138</th>\n",
       "      <td>6217-KDYWC</td>\n",
       "      <td>Male</td>\n",
       "      <td>0</td>\n",
       "      <td>No</td>\n",
       "      <td>Yes</td>\n",
       "    </tr>\n",
       "    <tr>\n",
       "      <th>5691</th>\n",
       "      <td>5619-XZZKR</td>\n",
       "      <td>Male</td>\n",
       "      <td>0</td>\n",
       "      <td>No</td>\n",
       "      <td>No</td>\n",
       "    </tr>\n",
       "    <tr>\n",
       "      <th>1167</th>\n",
       "      <td>4189-NAKJS</td>\n",
       "      <td>Male</td>\n",
       "      <td>0</td>\n",
       "      <td>No</td>\n",
       "      <td>No</td>\n",
       "    </tr>\n",
       "    <tr>\n",
       "      <th>636</th>\n",
       "      <td>7954-MLBUN</td>\n",
       "      <td>Male</td>\n",
       "      <td>0</td>\n",
       "      <td>No</td>\n",
       "      <td>No</td>\n",
       "    </tr>\n",
       "  </tbody>\n",
       "</table>\n",
       "</div>"
      ],
      "text/plain": [
       "      customerID gender  SeniorCitizen Partner Dependents\n",
       "5896  1635-NZATJ   Male              1     Yes         No\n",
       "138   6217-KDYWC   Male              0      No        Yes\n",
       "5691  5619-XZZKR   Male              0      No         No\n",
       "1167  4189-NAKJS   Male              0      No         No\n",
       "636   7954-MLBUN   Male              0      No         No"
      ]
     },
     "metadata": {},
     "output_type": "display_data"
    },
    {
     "name": "stdout",
     "output_type": "stream",
     "text": [
      "\n",
      "\u001b[1mGeneral info:\n",
      "\u001b[0m\n",
      "<class 'pandas.core.frame.DataFrame'>\n",
      "RangeIndex: 7043 entries, 0 to 7042\n",
      "Data columns (total 5 columns):\n",
      " #   Column         Non-Null Count  Dtype \n",
      "---  ------         --------------  ----- \n",
      " 0   customerID     7043 non-null   object\n",
      " 1   gender         7043 non-null   object\n",
      " 2   SeniorCitizen  7043 non-null   int64 \n",
      " 3   Partner        7043 non-null   object\n",
      " 4   Dependents     7043 non-null   object\n",
      "dtypes: int64(1), object(4)\n",
      "memory usage: 275.2+ KB\n",
      "\n",
      "\u001b[1mDescriptive statistics:\n",
      "\u001b[0m\n"
     ]
    },
    {
     "data": {
      "text/html": [
       "<div>\n",
       "<style scoped>\n",
       "    .dataframe tbody tr th:only-of-type {\n",
       "        vertical-align: middle;\n",
       "    }\n",
       "\n",
       "    .dataframe tbody tr th {\n",
       "        vertical-align: top;\n",
       "    }\n",
       "\n",
       "    .dataframe thead th {\n",
       "        text-align: right;\n",
       "    }\n",
       "</style>\n",
       "<table border=\"1\" class=\"dataframe\">\n",
       "  <thead>\n",
       "    <tr style=\"text-align: right;\">\n",
       "      <th></th>\n",
       "      <th>customerID</th>\n",
       "      <th>gender</th>\n",
       "      <th>SeniorCitizen</th>\n",
       "      <th>Partner</th>\n",
       "      <th>Dependents</th>\n",
       "    </tr>\n",
       "  </thead>\n",
       "  <tbody>\n",
       "    <tr>\n",
       "      <th>count</th>\n",
       "      <td>7043</td>\n",
       "      <td>7043</td>\n",
       "      <td>7043.000000</td>\n",
       "      <td>7043</td>\n",
       "      <td>7043</td>\n",
       "    </tr>\n",
       "    <tr>\n",
       "      <th>unique</th>\n",
       "      <td>7043</td>\n",
       "      <td>2</td>\n",
       "      <td>NaN</td>\n",
       "      <td>2</td>\n",
       "      <td>2</td>\n",
       "    </tr>\n",
       "    <tr>\n",
       "      <th>top</th>\n",
       "      <td>7590-VHVEG</td>\n",
       "      <td>Male</td>\n",
       "      <td>NaN</td>\n",
       "      <td>No</td>\n",
       "      <td>No</td>\n",
       "    </tr>\n",
       "    <tr>\n",
       "      <th>freq</th>\n",
       "      <td>1</td>\n",
       "      <td>3555</td>\n",
       "      <td>NaN</td>\n",
       "      <td>3641</td>\n",
       "      <td>4933</td>\n",
       "    </tr>\n",
       "    <tr>\n",
       "      <th>mean</th>\n",
       "      <td>NaN</td>\n",
       "      <td>NaN</td>\n",
       "      <td>0.162147</td>\n",
       "      <td>NaN</td>\n",
       "      <td>NaN</td>\n",
       "    </tr>\n",
       "    <tr>\n",
       "      <th>std</th>\n",
       "      <td>NaN</td>\n",
       "      <td>NaN</td>\n",
       "      <td>0.368612</td>\n",
       "      <td>NaN</td>\n",
       "      <td>NaN</td>\n",
       "    </tr>\n",
       "    <tr>\n",
       "      <th>min</th>\n",
       "      <td>NaN</td>\n",
       "      <td>NaN</td>\n",
       "      <td>0.000000</td>\n",
       "      <td>NaN</td>\n",
       "      <td>NaN</td>\n",
       "    </tr>\n",
       "    <tr>\n",
       "      <th>25%</th>\n",
       "      <td>NaN</td>\n",
       "      <td>NaN</td>\n",
       "      <td>0.000000</td>\n",
       "      <td>NaN</td>\n",
       "      <td>NaN</td>\n",
       "    </tr>\n",
       "    <tr>\n",
       "      <th>50%</th>\n",
       "      <td>NaN</td>\n",
       "      <td>NaN</td>\n",
       "      <td>0.000000</td>\n",
       "      <td>NaN</td>\n",
       "      <td>NaN</td>\n",
       "    </tr>\n",
       "    <tr>\n",
       "      <th>75%</th>\n",
       "      <td>NaN</td>\n",
       "      <td>NaN</td>\n",
       "      <td>0.000000</td>\n",
       "      <td>NaN</td>\n",
       "      <td>NaN</td>\n",
       "    </tr>\n",
       "    <tr>\n",
       "      <th>max</th>\n",
       "      <td>NaN</td>\n",
       "      <td>NaN</td>\n",
       "      <td>1.000000</td>\n",
       "      <td>NaN</td>\n",
       "      <td>NaN</td>\n",
       "    </tr>\n",
       "  </tbody>\n",
       "</table>\n",
       "</div>"
      ],
      "text/plain": [
       "        customerID gender  SeniorCitizen Partner Dependents\n",
       "count         7043   7043    7043.000000    7043       7043\n",
       "unique        7043      2            NaN       2          2\n",
       "top     7590-VHVEG   Male            NaN      No         No\n",
       "freq             1   3555            NaN    3641       4933\n",
       "mean           NaN    NaN       0.162147     NaN        NaN\n",
       "std            NaN    NaN       0.368612     NaN        NaN\n",
       "min            NaN    NaN       0.000000     NaN        NaN\n",
       "25%            NaN    NaN       0.000000     NaN        NaN\n",
       "50%            NaN    NaN       0.000000     NaN        NaN\n",
       "75%            NaN    NaN       0.000000     NaN        NaN\n",
       "max            NaN    NaN       1.000000     NaN        NaN"
      ]
     },
     "metadata": {},
     "output_type": "display_data"
    },
    {
     "name": "stdout",
     "output_type": "stream",
     "text": [
      "\n",
      "\u001b[1mNumber of explicit duplicates:\n",
      "\u001b[0m\n"
     ]
    },
    {
     "data": {
      "text/plain": [
       "0"
      ]
     },
     "metadata": {},
     "output_type": "display_data"
    },
    {
     "name": "stdout",
     "output_type": "stream",
     "text": [
      "\n",
      "\u001b[1mNumber of missing values:\n",
      "\u001b[0m\n"
     ]
    },
    {
     "data": {
      "text/plain": [
       "customerID       0\n",
       "gender           0\n",
       "SeniorCitizen    0\n",
       "Partner          0\n",
       "Dependents       0\n",
       "dtype: int64"
      ]
     },
     "metadata": {},
     "output_type": "display_data"
    },
    {
     "name": "stdout",
     "output_type": "stream",
     "text": [
      "----------------------------------------------------------------------------------------------------\n",
      "\n",
      "\u001b[1mDataframe info phone \n",
      "\n",
      "Random five lines:\u001b[0m\n"
     ]
    },
    {
     "data": {
      "text/html": [
       "<div>\n",
       "<style scoped>\n",
       "    .dataframe tbody tr th:only-of-type {\n",
       "        vertical-align: middle;\n",
       "    }\n",
       "\n",
       "    .dataframe tbody tr th {\n",
       "        vertical-align: top;\n",
       "    }\n",
       "\n",
       "    .dataframe thead th {\n",
       "        text-align: right;\n",
       "    }\n",
       "</style>\n",
       "<table border=\"1\" class=\"dataframe\">\n",
       "  <thead>\n",
       "    <tr style=\"text-align: right;\">\n",
       "      <th></th>\n",
       "      <th>customerID</th>\n",
       "      <th>MultipleLines</th>\n",
       "    </tr>\n",
       "  </thead>\n",
       "  <tbody>\n",
       "    <tr>\n",
       "      <th>3733</th>\n",
       "      <td>6627-CFOSN</td>\n",
       "      <td>Yes</td>\n",
       "    </tr>\n",
       "    <tr>\n",
       "      <th>1267</th>\n",
       "      <td>0471-LVHGK</td>\n",
       "      <td>Yes</td>\n",
       "    </tr>\n",
       "    <tr>\n",
       "      <th>1298</th>\n",
       "      <td>4652-ODEVH</td>\n",
       "      <td>Yes</td>\n",
       "    </tr>\n",
       "    <tr>\n",
       "      <th>626</th>\n",
       "      <td>2682-KEVRP</td>\n",
       "      <td>No</td>\n",
       "    </tr>\n",
       "    <tr>\n",
       "      <th>1073</th>\n",
       "      <td>8399-YNDCH</td>\n",
       "      <td>No</td>\n",
       "    </tr>\n",
       "  </tbody>\n",
       "</table>\n",
       "</div>"
      ],
      "text/plain": [
       "      customerID MultipleLines\n",
       "3733  6627-CFOSN           Yes\n",
       "1267  0471-LVHGK           Yes\n",
       "1298  4652-ODEVH           Yes\n",
       "626   2682-KEVRP            No\n",
       "1073  8399-YNDCH            No"
      ]
     },
     "metadata": {},
     "output_type": "display_data"
    },
    {
     "name": "stdout",
     "output_type": "stream",
     "text": [
      "\n",
      "\u001b[1mGeneral info:\n",
      "\u001b[0m\n",
      "<class 'pandas.core.frame.DataFrame'>\n",
      "RangeIndex: 6361 entries, 0 to 6360\n",
      "Data columns (total 2 columns):\n",
      " #   Column         Non-Null Count  Dtype \n",
      "---  ------         --------------  ----- \n",
      " 0   customerID     6361 non-null   object\n",
      " 1   MultipleLines  6361 non-null   object\n",
      "dtypes: object(2)\n",
      "memory usage: 99.5+ KB\n",
      "\n",
      "\u001b[1mDescriptive statistics:\n",
      "\u001b[0m\n"
     ]
    },
    {
     "data": {
      "text/html": [
       "<div>\n",
       "<style scoped>\n",
       "    .dataframe tbody tr th:only-of-type {\n",
       "        vertical-align: middle;\n",
       "    }\n",
       "\n",
       "    .dataframe tbody tr th {\n",
       "        vertical-align: top;\n",
       "    }\n",
       "\n",
       "    .dataframe thead th {\n",
       "        text-align: right;\n",
       "    }\n",
       "</style>\n",
       "<table border=\"1\" class=\"dataframe\">\n",
       "  <thead>\n",
       "    <tr style=\"text-align: right;\">\n",
       "      <th></th>\n",
       "      <th>customerID</th>\n",
       "      <th>MultipleLines</th>\n",
       "    </tr>\n",
       "  </thead>\n",
       "  <tbody>\n",
       "    <tr>\n",
       "      <th>count</th>\n",
       "      <td>6361</td>\n",
       "      <td>6361</td>\n",
       "    </tr>\n",
       "    <tr>\n",
       "      <th>unique</th>\n",
       "      <td>6361</td>\n",
       "      <td>2</td>\n",
       "    </tr>\n",
       "    <tr>\n",
       "      <th>top</th>\n",
       "      <td>5575-GNVDE</td>\n",
       "      <td>No</td>\n",
       "    </tr>\n",
       "    <tr>\n",
       "      <th>freq</th>\n",
       "      <td>1</td>\n",
       "      <td>3390</td>\n",
       "    </tr>\n",
       "  </tbody>\n",
       "</table>\n",
       "</div>"
      ],
      "text/plain": [
       "        customerID MultipleLines\n",
       "count         6361          6361\n",
       "unique        6361             2\n",
       "top     5575-GNVDE            No\n",
       "freq             1          3390"
      ]
     },
     "metadata": {},
     "output_type": "display_data"
    },
    {
     "name": "stdout",
     "output_type": "stream",
     "text": [
      "\n",
      "\u001b[1mNumber of explicit duplicates:\n",
      "\u001b[0m\n"
     ]
    },
    {
     "data": {
      "text/plain": [
       "0"
      ]
     },
     "metadata": {},
     "output_type": "display_data"
    },
    {
     "name": "stdout",
     "output_type": "stream",
     "text": [
      "\n",
      "\u001b[1mNumber of missing values:\n",
      "\u001b[0m\n"
     ]
    },
    {
     "data": {
      "text/plain": [
       "customerID       0\n",
       "MultipleLines    0\n",
       "dtype: int64"
      ]
     },
     "metadata": {},
     "output_type": "display_data"
    },
    {
     "name": "stdout",
     "output_type": "stream",
     "text": [
      "----------------------------------------------------------------------------------------------------\n"
     ]
    }
   ],
   "source": [
    "datas = [contract, internet, personal, phone]\n",
    "for data in datas:\n",
    "    print('\\n\\033[1m' + 'Dataframe info', get_data_name(data), '\\n')\n",
    "    print('Random five lines:' + '\\033[0m')\n",
    "    display(data.sample(5))\n",
    "    print('\\n\\033[1m' + 'General info:\\n' + '\\033[0m')\n",
    "    data.info()\n",
    "    print('\\n\\033[1m' + 'Descriptive statistics:\\n' + '\\033[0m')\n",
    "    display(data.describe(include='all'))\n",
    "    print('\\n\\033[1m' + 'Number of explicit duplicates:\\n' + '\\033[0m')\n",
    "    display(data.duplicated().sum())\n",
    "    print('\\n\\033[1m' + 'Number of missing values:\\n' + '\\033[0m')\n",
    "    display(data.isna().sum())\n",
    "    print(100*'-')"
   ]
  },
  {
   "cell_type": "code",
   "execution_count": 5,
   "id": "753934a7",
   "metadata": {},
   "outputs": [
    {
     "data": {
      "text/plain": [
       "Text(0, 0.5, 'Quantity')"
      ]
     },
     "execution_count": 5,
     "metadata": {},
     "output_type": "execute_result"
    },
    {
     "data": {
      "image/png": "[encoded data removed]",
      "text/plain": [
       "<Figure size 720x432 with 1 Axes>"
      ]
     },
     "metadata": {
      "needs_background": "light"
     },
     "output_type": "display_data"
    }
   ],
   "source": [
    "contract['MonthlyCharges'].hist(bins=60, \n",
    "                        figsize=(10,6))\n",
    "plt.xlabel('Sum')\n",
    "plt.ylabel('Quantity')"
   ]
  },
  {
   "cell_type": "code",
   "execution_count": 6,
   "id": "2f302dca",
   "metadata": {},
   "outputs": [
    {
     "data": {
      "image/png": "[encoded data removed]",
      "text/plain": [
       "<Figure size 540x540 with 1 Axes>"
      ]
     },
     "metadata": {
      "needs_background": "light"
     },
     "output_type": "display_data"
    }
   ],
   "source": [
    "plt.figure(figsize=(6,6), dpi = 90)\n",
    "sns.set_style(\"darkgrid\")\n",
    "sns.boxplot(data=contract['MonthlyCharges'], \n",
    "            palette = 'pastel')\n",
    "plt.show()"
   ]
  },
  {
   "cell_type": "markdown",
   "id": "75579cc3",
   "metadata": {},
   "source": [
    "There are large number of values near 20 in data distribution of `MonthlyCharges` feature. Boxplot shows that data is ok."
   ]
  },
  {
   "cell_type": "code",
   "execution_count": 7,
   "id": "8904ecc6",
   "metadata": {},
   "outputs": [],
   "source": [
    "contract['TotalCharges'] = (contract[\"TotalCharges\"]\n",
    "                           .replace(\" \",np.nan)\n",
    "                           .astype(float))"
   ]
  },
  {
   "cell_type": "code",
   "execution_count": 8,
   "id": "2c49b4eb",
   "metadata": {},
   "outputs": [
    {
     "data": {
      "text/plain": [
       "Text(0, 0.5, 'Quantity')"
      ]
     },
     "execution_count": 8,
     "metadata": {},
     "output_type": "execute_result"
    },
    {
     "data": {
      "image/png": "[encoded data removed]",
      "text/plain": [
       "<Figure size 720x432 with 1 Axes>"
      ]
     },
     "metadata": {},
     "output_type": "display_data"
    }
   ],
   "source": [
    "contract['TotalCharges'].hist(bins=60, \n",
    "                        figsize=(10,6))\n",
    "plt.xlabel('Sum')\n",
    "plt.ylabel('Quantity')"
   ]
  },
  {
   "cell_type": "code",
   "execution_count": 9,
   "id": "c91c2d46",
   "metadata": {},
   "outputs": [
    {
     "data": {
      "image/png": "[encoded data removed]",
      "text/plain": [
       "<Figure size 540x540 with 1 Axes>"
      ]
     },
     "metadata": {},
     "output_type": "display_data"
    }
   ],
   "source": [
    "plt.figure(figsize=(6,6), dpi = 90)\n",
    "sns.set_style(\"darkgrid\")\n",
    "sns.boxplot(data=contract['TotalCharges'], \n",
    "            palette = 'pastel')\n",
    "plt.show()"
   ]
  },
  {
   "cell_type": "markdown",
   "id": "173d6804",
   "metadata": {},
   "source": [
    "There are large number of values near 0 in data distribution of `TotalCharges` feature. Let's check these values later.  Boxplot shows that data is ok."
   ]
  },
  {
   "cell_type": "markdown",
   "id": "2b1eeb0d",
   "metadata": {},
   "source": [
    "Need to ckeck missing values in `TotalCharges` feature"
   ]
  },
  {
   "cell_type": "code",
   "execution_count": 10,
   "id": "0950f996",
   "metadata": {},
   "outputs": [
    {
     "name": "stdout",
     "output_type": "stream",
     "text": [
      "<class 'pandas.core.frame.DataFrame'>\n",
      "RangeIndex: 7043 entries, 0 to 7042\n",
      "Data columns (total 8 columns):\n",
      " #   Column            Non-Null Count  Dtype  \n",
      "---  ------            --------------  -----  \n",
      " 0   customerID        7043 non-null   object \n",
      " 1   BeginDate         7043 non-null   object \n",
      " 2   EndDate           7043 non-null   object \n",
      " 3   Type              7043 non-null   object \n",
      " 4   PaperlessBilling  7043 non-null   object \n",
      " 5   PaymentMethod     7043 non-null   object \n",
      " 6   MonthlyCharges    7043 non-null   float64\n",
      " 7   TotalCharges      7032 non-null   float64\n",
      "dtypes: float64(2), object(6)\n",
      "memory usage: 440.3+ KB\n"
     ]
    }
   ],
   "source": [
    "contract.info()"
   ]
  },
  {
   "cell_type": "markdown",
   "id": "a29e5348",
   "metadata": {},
   "source": [
    "We have 11 missing values"
   ]
  },
  {
   "cell_type": "code",
   "execution_count": 11,
   "id": "c6abb09c",
   "metadata": {},
   "outputs": [
    {
     "data": {
      "text/html": [
       "<div>\n",
       "<style scoped>\n",
       "    .dataframe tbody tr th:only-of-type {\n",
       "        vertical-align: middle;\n",
       "    }\n",
       "\n",
       "    .dataframe tbody tr th {\n",
       "        vertical-align: top;\n",
       "    }\n",
       "\n",
       "    .dataframe thead th {\n",
       "        text-align: right;\n",
       "    }\n",
       "</style>\n",
       "<table border=\"1\" class=\"dataframe\">\n",
       "  <thead>\n",
       "    <tr style=\"text-align: right;\">\n",
       "      <th></th>\n",
       "      <th>customerID</th>\n",
       "      <th>BeginDate</th>\n",
       "      <th>EndDate</th>\n",
       "      <th>Type</th>\n",
       "      <th>PaperlessBilling</th>\n",
       "      <th>PaymentMethod</th>\n",
       "      <th>MonthlyCharges</th>\n",
       "      <th>TotalCharges</th>\n",
       "    </tr>\n",
       "  </thead>\n",
       "  <tbody>\n",
       "    <tr>\n",
       "      <th>488</th>\n",
       "      <td>4472-LVYGI</td>\n",
       "      <td>2020-02-01</td>\n",
       "      <td>No</td>\n",
       "      <td>Two year</td>\n",
       "      <td>Yes</td>\n",
       "      <td>Bank transfer (automatic)</td>\n",
       "      <td>52.55</td>\n",
       "      <td>NaN</td>\n",
       "    </tr>\n",
       "    <tr>\n",
       "      <th>753</th>\n",
       "      <td>3115-CZMZD</td>\n",
       "      <td>2020-02-01</td>\n",
       "      <td>No</td>\n",
       "      <td>Two year</td>\n",
       "      <td>No</td>\n",
       "      <td>Mailed check</td>\n",
       "      <td>20.25</td>\n",
       "      <td>NaN</td>\n",
       "    </tr>\n",
       "    <tr>\n",
       "      <th>936</th>\n",
       "      <td>5709-LVOEQ</td>\n",
       "      <td>2020-02-01</td>\n",
       "      <td>No</td>\n",
       "      <td>Two year</td>\n",
       "      <td>No</td>\n",
       "      <td>Mailed check</td>\n",
       "      <td>80.85</td>\n",
       "      <td>NaN</td>\n",
       "    </tr>\n",
       "    <tr>\n",
       "      <th>1082</th>\n",
       "      <td>4367-NUYAO</td>\n",
       "      <td>2020-02-01</td>\n",
       "      <td>No</td>\n",
       "      <td>Two year</td>\n",
       "      <td>No</td>\n",
       "      <td>Mailed check</td>\n",
       "      <td>25.75</td>\n",
       "      <td>NaN</td>\n",
       "    </tr>\n",
       "    <tr>\n",
       "      <th>1340</th>\n",
       "      <td>1371-DWPAZ</td>\n",
       "      <td>2020-02-01</td>\n",
       "      <td>No</td>\n",
       "      <td>Two year</td>\n",
       "      <td>No</td>\n",
       "      <td>Credit card (automatic)</td>\n",
       "      <td>56.05</td>\n",
       "      <td>NaN</td>\n",
       "    </tr>\n",
       "    <tr>\n",
       "      <th>3331</th>\n",
       "      <td>7644-OMVMY</td>\n",
       "      <td>2020-02-01</td>\n",
       "      <td>No</td>\n",
       "      <td>Two year</td>\n",
       "      <td>No</td>\n",
       "      <td>Mailed check</td>\n",
       "      <td>19.85</td>\n",
       "      <td>NaN</td>\n",
       "    </tr>\n",
       "    <tr>\n",
       "      <th>3826</th>\n",
       "      <td>3213-VVOLG</td>\n",
       "      <td>2020-02-01</td>\n",
       "      <td>No</td>\n",
       "      <td>Two year</td>\n",
       "      <td>No</td>\n",
       "      <td>Mailed check</td>\n",
       "      <td>25.35</td>\n",
       "      <td>NaN</td>\n",
       "    </tr>\n",
       "    <tr>\n",
       "      <th>4380</th>\n",
       "      <td>2520-SGTTA</td>\n",
       "      <td>2020-02-01</td>\n",
       "      <td>No</td>\n",
       "      <td>Two year</td>\n",
       "      <td>No</td>\n",
       "      <td>Mailed check</td>\n",
       "      <td>20.00</td>\n",
       "      <td>NaN</td>\n",
       "    </tr>\n",
       "    <tr>\n",
       "      <th>5218</th>\n",
       "      <td>2923-ARZLG</td>\n",
       "      <td>2020-02-01</td>\n",
       "      <td>No</td>\n",
       "      <td>One year</td>\n",
       "      <td>Yes</td>\n",
       "      <td>Mailed check</td>\n",
       "      <td>19.70</td>\n",
       "      <td>NaN</td>\n",
       "    </tr>\n",
       "    <tr>\n",
       "      <th>6670</th>\n",
       "      <td>4075-WKNIU</td>\n",
       "      <td>2020-02-01</td>\n",
       "      <td>No</td>\n",
       "      <td>Two year</td>\n",
       "      <td>No</td>\n",
       "      <td>Mailed check</td>\n",
       "      <td>73.35</td>\n",
       "      <td>NaN</td>\n",
       "    </tr>\n",
       "    <tr>\n",
       "      <th>6754</th>\n",
       "      <td>2775-SEFEE</td>\n",
       "      <td>2020-02-01</td>\n",
       "      <td>No</td>\n",
       "      <td>Two year</td>\n",
       "      <td>Yes</td>\n",
       "      <td>Bank transfer (automatic)</td>\n",
       "      <td>61.90</td>\n",
       "      <td>NaN</td>\n",
       "    </tr>\n",
       "  </tbody>\n",
       "</table>\n",
       "</div>"
      ],
      "text/plain": [
       "      customerID   BeginDate EndDate      Type PaperlessBilling  \\\n",
       "488   4472-LVYGI  2020-02-01      No  Two year              Yes   \n",
       "753   3115-CZMZD  2020-02-01      No  Two year               No   \n",
       "936   5709-LVOEQ  2020-02-01      No  Two year               No   \n",
       "1082  4367-NUYAO  2020-02-01      No  Two year               No   \n",
       "1340  1371-DWPAZ  2020-02-01      No  Two year               No   \n",
       "3331  7644-OMVMY  2020-02-01      No  Two year               No   \n",
       "3826  3213-VVOLG  2020-02-01      No  Two year               No   \n",
       "4380  2520-SGTTA  2020-02-01      No  Two year               No   \n",
       "5218  2923-ARZLG  2020-02-01      No  One year              Yes   \n",
       "6670  4075-WKNIU  2020-02-01      No  Two year               No   \n",
       "6754  2775-SEFEE  2020-02-01      No  Two year              Yes   \n",
       "\n",
       "                  PaymentMethod  MonthlyCharges  TotalCharges  \n",
       "488   Bank transfer (automatic)           52.55           NaN  \n",
       "753                Mailed check           20.25           NaN  \n",
       "936                Mailed check           80.85           NaN  \n",
       "1082               Mailed check           25.75           NaN  \n",
       "1340    Credit card (automatic)           56.05           NaN  \n",
       "3331               Mailed check           19.85           NaN  \n",
       "3826               Mailed check           25.35           NaN  \n",
       "4380               Mailed check           20.00           NaN  \n",
       "5218               Mailed check           19.70           NaN  \n",
       "6670               Mailed check           73.35           NaN  \n",
       "6754  Bank transfer (automatic)           61.90           NaN  "
      ]
     },
     "execution_count": 11,
     "metadata": {},
     "output_type": "execute_result"
    }
   ],
   "source": [
    "contract.loc[contract['TotalCharges'].isna()]"
   ]
  },
  {
   "cell_type": "markdown",
   "id": "7a0e7845",
   "metadata": {},
   "source": [
    "These missing values appear because of the begin date to correspond to date of data upload. It's possible to fill the missing values with the same in `MonthlyCharges`"
   ]
  },
  {
   "cell_type": "code",
   "execution_count": 12,
   "id": "aa7f76e5",
   "metadata": {},
   "outputs": [],
   "source": [
    "contract['TotalCharges'] = contract['TotalCharges'].fillna(contract['MonthlyCharges'])"
   ]
  },
  {
   "cell_type": "code",
   "execution_count": 13,
   "id": "f4222010",
   "metadata": {},
   "outputs": [
    {
     "data": {
      "text/plain": [
       "0"
      ]
     },
     "execution_count": 13,
     "metadata": {},
     "output_type": "execute_result"
    }
   ],
   "source": [
    "contract['TotalCharges'].isna().sum()"
   ]
  },
  {
   "cell_type": "code",
   "execution_count": 14,
   "id": "54d3928e",
   "metadata": {},
   "outputs": [
    {
     "data": {
      "text/plain": [
       "61.9"
      ]
     },
     "execution_count": 14,
     "metadata": {},
     "output_type": "execute_result"
    }
   ],
   "source": [
    "contract['TotalCharges'][6754]"
   ]
  },
  {
   "cell_type": "markdown",
   "id": "7c1529f5",
   "metadata": {},
   "source": [
    "Missing values are filled. Let's check if there are any 0 values in `TotalCharges` feature"
   ]
  },
  {
   "cell_type": "code",
   "execution_count": 15,
   "id": "c79540c6",
   "metadata": {},
   "outputs": [
    {
     "data": {
      "text/html": [
       "<div>\n",
       "<style scoped>\n",
       "    .dataframe tbody tr th:only-of-type {\n",
       "        vertical-align: middle;\n",
       "    }\n",
       "\n",
       "    .dataframe tbody tr th {\n",
       "        vertical-align: top;\n",
       "    }\n",
       "\n",
       "    .dataframe thead th {\n",
       "        text-align: right;\n",
       "    }\n",
       "</style>\n",
       "<table border=\"1\" class=\"dataframe\">\n",
       "  <thead>\n",
       "    <tr style=\"text-align: right;\">\n",
       "      <th></th>\n",
       "      <th>customerID</th>\n",
       "      <th>BeginDate</th>\n",
       "      <th>EndDate</th>\n",
       "      <th>Type</th>\n",
       "      <th>PaperlessBilling</th>\n",
       "      <th>PaymentMethod</th>\n",
       "      <th>MonthlyCharges</th>\n",
       "      <th>TotalCharges</th>\n",
       "    </tr>\n",
       "  </thead>\n",
       "  <tbody>\n",
       "    <tr>\n",
       "      <th>1151</th>\n",
       "      <td>8992-CEUEN</td>\n",
       "      <td>2020-01-01</td>\n",
       "      <td>No</td>\n",
       "      <td>Month-to-month</td>\n",
       "      <td>No</td>\n",
       "      <td>Electronic check</td>\n",
       "      <td>18.85</td>\n",
       "      <td>18.85</td>\n",
       "    </tr>\n",
       "    <tr>\n",
       "      <th>1654</th>\n",
       "      <td>2967-MXRAV</td>\n",
       "      <td>2020-01-01</td>\n",
       "      <td>No</td>\n",
       "      <td>One year</td>\n",
       "      <td>No</td>\n",
       "      <td>Mailed check</td>\n",
       "      <td>18.80</td>\n",
       "      <td>18.80</td>\n",
       "    </tr>\n",
       "    <tr>\n",
       "      <th>4939</th>\n",
       "      <td>9975-SKRNR</td>\n",
       "      <td>2020-01-01</td>\n",
       "      <td>No</td>\n",
       "      <td>Month-to-month</td>\n",
       "      <td>No</td>\n",
       "      <td>Mailed check</td>\n",
       "      <td>18.90</td>\n",
       "      <td>18.90</td>\n",
       "    </tr>\n",
       "    <tr>\n",
       "      <th>6489</th>\n",
       "      <td>9318-NKNFC</td>\n",
       "      <td>2019-11-01</td>\n",
       "      <td>2019-12-01 00:00:00</td>\n",
       "      <td>Month-to-month</td>\n",
       "      <td>Yes</td>\n",
       "      <td>Mailed check</td>\n",
       "      <td>18.85</td>\n",
       "      <td>18.85</td>\n",
       "    </tr>\n",
       "  </tbody>\n",
       "</table>\n",
       "</div>"
      ],
      "text/plain": [
       "      customerID   BeginDate              EndDate            Type  \\\n",
       "1151  8992-CEUEN  2020-01-01                   No  Month-to-month   \n",
       "1654  2967-MXRAV  2020-01-01                   No        One year   \n",
       "4939  9975-SKRNR  2020-01-01                   No  Month-to-month   \n",
       "6489  9318-NKNFC  2019-11-01  2019-12-01 00:00:00  Month-to-month   \n",
       "\n",
       "     PaperlessBilling     PaymentMethod  MonthlyCharges  TotalCharges  \n",
       "1151               No  Electronic check           18.85         18.85  \n",
       "1654               No      Mailed check           18.80         18.80  \n",
       "4939               No      Mailed check           18.90         18.90  \n",
       "6489              Yes      Mailed check           18.85         18.85  "
      ]
     },
     "execution_count": 15,
     "metadata": {},
     "output_type": "execute_result"
    }
   ],
   "source": [
    "contract.loc[contract['TotalCharges'] < 19]"
   ]
  },
  {
   "cell_type": "markdown",
   "id": "d30f43c3",
   "metadata": {},
   "source": [
    "There are no 0 values"
   ]
  },
  {
   "cell_type": "markdown",
   "id": "e60d7a94",
   "metadata": {},
   "source": [
    "Now we merge all sheets"
   ]
  },
  {
   "cell_type": "code",
   "execution_count": 16,
   "id": "151de64d",
   "metadata": {},
   "outputs": [
    {
     "data": {
      "text/html": [
       "<div>\n",
       "<style scoped>\n",
       "    .dataframe tbody tr th:only-of-type {\n",
       "        vertical-align: middle;\n",
       "    }\n",
       "\n",
       "    .dataframe tbody tr th {\n",
       "        vertical-align: top;\n",
       "    }\n",
       "\n",
       "    .dataframe thead th {\n",
       "        text-align: right;\n",
       "    }\n",
       "</style>\n",
       "<table border=\"1\" class=\"dataframe\">\n",
       "  <thead>\n",
       "    <tr style=\"text-align: right;\">\n",
       "      <th></th>\n",
       "      <th>customerID</th>\n",
       "      <th>gender</th>\n",
       "      <th>SeniorCitizen</th>\n",
       "      <th>Partner</th>\n",
       "      <th>Dependents</th>\n",
       "      <th>BeginDate</th>\n",
       "      <th>EndDate</th>\n",
       "      <th>Type</th>\n",
       "      <th>PaperlessBilling</th>\n",
       "      <th>PaymentMethod</th>\n",
       "      <th>MonthlyCharges</th>\n",
       "      <th>TotalCharges</th>\n",
       "      <th>MultipleLines</th>\n",
       "      <th>InternetService</th>\n",
       "      <th>OnlineSecurity</th>\n",
       "      <th>OnlineBackup</th>\n",
       "      <th>DeviceProtection</th>\n",
       "      <th>TechSupport</th>\n",
       "      <th>StreamingTV</th>\n",
       "      <th>StreamingMovies</th>\n",
       "    </tr>\n",
       "  </thead>\n",
       "  <tbody>\n",
       "    <tr>\n",
       "      <th>0</th>\n",
       "      <td>7590-VHVEG</td>\n",
       "      <td>Female</td>\n",
       "      <td>0</td>\n",
       "      <td>Yes</td>\n",
       "      <td>No</td>\n",
       "      <td>2020-01-01</td>\n",
       "      <td>No</td>\n",
       "      <td>Month-to-month</td>\n",
       "      <td>Yes</td>\n",
       "      <td>Electronic check</td>\n",
       "      <td>29.85</td>\n",
       "      <td>29.85</td>\n",
       "      <td>NaN</td>\n",
       "      <td>DSL</td>\n",
       "      <td>No</td>\n",
       "      <td>Yes</td>\n",
       "      <td>No</td>\n",
       "      <td>No</td>\n",
       "      <td>No</td>\n",
       "      <td>No</td>\n",
       "    </tr>\n",
       "    <tr>\n",
       "      <th>1</th>\n",
       "      <td>5575-GNVDE</td>\n",
       "      <td>Male</td>\n",
       "      <td>0</td>\n",
       "      <td>No</td>\n",
       "      <td>No</td>\n",
       "      <td>2017-04-01</td>\n",
       "      <td>No</td>\n",
       "      <td>One year</td>\n",
       "      <td>No</td>\n",
       "      <td>Mailed check</td>\n",
       "      <td>56.95</td>\n",
       "      <td>1889.50</td>\n",
       "      <td>No</td>\n",
       "      <td>DSL</td>\n",
       "      <td>Yes</td>\n",
       "      <td>No</td>\n",
       "      <td>Yes</td>\n",
       "      <td>No</td>\n",
       "      <td>No</td>\n",
       "      <td>No</td>\n",
       "    </tr>\n",
       "    <tr>\n",
       "      <th>2</th>\n",
       "      <td>3668-QPYBK</td>\n",
       "      <td>Male</td>\n",
       "      <td>0</td>\n",
       "      <td>No</td>\n",
       "      <td>No</td>\n",
       "      <td>2019-10-01</td>\n",
       "      <td>2019-12-01 00:00:00</td>\n",
       "      <td>Month-to-month</td>\n",
       "      <td>Yes</td>\n",
       "      <td>Mailed check</td>\n",
       "      <td>53.85</td>\n",
       "      <td>108.15</td>\n",
       "      <td>No</td>\n",
       "      <td>DSL</td>\n",
       "      <td>Yes</td>\n",
       "      <td>Yes</td>\n",
       "      <td>No</td>\n",
       "      <td>No</td>\n",
       "      <td>No</td>\n",
       "      <td>No</td>\n",
       "    </tr>\n",
       "    <tr>\n",
       "      <th>3</th>\n",
       "      <td>7795-CFOCW</td>\n",
       "      <td>Male</td>\n",
       "      <td>0</td>\n",
       "      <td>No</td>\n",
       "      <td>No</td>\n",
       "      <td>2016-05-01</td>\n",
       "      <td>No</td>\n",
       "      <td>One year</td>\n",
       "      <td>No</td>\n",
       "      <td>Bank transfer (automatic)</td>\n",
       "      <td>42.30</td>\n",
       "      <td>1840.75</td>\n",
       "      <td>NaN</td>\n",
       "      <td>DSL</td>\n",
       "      <td>Yes</td>\n",
       "      <td>No</td>\n",
       "      <td>Yes</td>\n",
       "      <td>Yes</td>\n",
       "      <td>No</td>\n",
       "      <td>No</td>\n",
       "    </tr>\n",
       "    <tr>\n",
       "      <th>4</th>\n",
       "      <td>9237-HQITU</td>\n",
       "      <td>Female</td>\n",
       "      <td>0</td>\n",
       "      <td>No</td>\n",
       "      <td>No</td>\n",
       "      <td>2019-09-01</td>\n",
       "      <td>2019-11-01 00:00:00</td>\n",
       "      <td>Month-to-month</td>\n",
       "      <td>Yes</td>\n",
       "      <td>Electronic check</td>\n",
       "      <td>70.70</td>\n",
       "      <td>151.65</td>\n",
       "      <td>No</td>\n",
       "      <td>Fiber optic</td>\n",
       "      <td>No</td>\n",
       "      <td>No</td>\n",
       "      <td>No</td>\n",
       "      <td>No</td>\n",
       "      <td>No</td>\n",
       "      <td>No</td>\n",
       "    </tr>\n",
       "    <tr>\n",
       "      <th>...</th>\n",
       "      <td>...</td>\n",
       "      <td>...</td>\n",
       "      <td>...</td>\n",
       "      <td>...</td>\n",
       "      <td>...</td>\n",
       "      <td>...</td>\n",
       "      <td>...</td>\n",
       "      <td>...</td>\n",
       "      <td>...</td>\n",
       "      <td>...</td>\n",
       "      <td>...</td>\n",
       "      <td>...</td>\n",
       "      <td>...</td>\n",
       "      <td>...</td>\n",
       "      <td>...</td>\n",
       "      <td>...</td>\n",
       "      <td>...</td>\n",
       "      <td>...</td>\n",
       "      <td>...</td>\n",
       "      <td>...</td>\n",
       "    </tr>\n",
       "    <tr>\n",
       "      <th>7038</th>\n",
       "      <td>6840-RESVB</td>\n",
       "      <td>Male</td>\n",
       "      <td>0</td>\n",
       "      <td>Yes</td>\n",
       "      <td>Yes</td>\n",
       "      <td>2018-02-01</td>\n",
       "      <td>No</td>\n",
       "      <td>One year</td>\n",
       "      <td>Yes</td>\n",
       "      <td>Mailed check</td>\n",
       "      <td>84.80</td>\n",
       "      <td>1990.50</td>\n",
       "      <td>Yes</td>\n",
       "      <td>DSL</td>\n",
       "      <td>Yes</td>\n",
       "      <td>No</td>\n",
       "      <td>Yes</td>\n",
       "      <td>Yes</td>\n",
       "      <td>Yes</td>\n",
       "      <td>Yes</td>\n",
       "    </tr>\n",
       "    <tr>\n",
       "      <th>7039</th>\n",
       "      <td>2234-XADUH</td>\n",
       "      <td>Female</td>\n",
       "      <td>0</td>\n",
       "      <td>Yes</td>\n",
       "      <td>Yes</td>\n",
       "      <td>2014-02-01</td>\n",
       "      <td>No</td>\n",
       "      <td>One year</td>\n",
       "      <td>Yes</td>\n",
       "      <td>Credit card (automatic)</td>\n",
       "      <td>103.20</td>\n",
       "      <td>7362.90</td>\n",
       "      <td>Yes</td>\n",
       "      <td>Fiber optic</td>\n",
       "      <td>No</td>\n",
       "      <td>Yes</td>\n",
       "      <td>Yes</td>\n",
       "      <td>No</td>\n",
       "      <td>Yes</td>\n",
       "      <td>Yes</td>\n",
       "    </tr>\n",
       "    <tr>\n",
       "      <th>7040</th>\n",
       "      <td>4801-JZAZL</td>\n",
       "      <td>Female</td>\n",
       "      <td>0</td>\n",
       "      <td>Yes</td>\n",
       "      <td>Yes</td>\n",
       "      <td>2019-03-01</td>\n",
       "      <td>No</td>\n",
       "      <td>Month-to-month</td>\n",
       "      <td>Yes</td>\n",
       "      <td>Electronic check</td>\n",
       "      <td>29.60</td>\n",
       "      <td>346.45</td>\n",
       "      <td>NaN</td>\n",
       "      <td>DSL</td>\n",
       "      <td>Yes</td>\n",
       "      <td>No</td>\n",
       "      <td>No</td>\n",
       "      <td>No</td>\n",
       "      <td>No</td>\n",
       "      <td>No</td>\n",
       "    </tr>\n",
       "    <tr>\n",
       "      <th>7041</th>\n",
       "      <td>8361-LTMKD</td>\n",
       "      <td>Male</td>\n",
       "      <td>1</td>\n",
       "      <td>Yes</td>\n",
       "      <td>No</td>\n",
       "      <td>2019-07-01</td>\n",
       "      <td>2019-11-01 00:00:00</td>\n",
       "      <td>Month-to-month</td>\n",
       "      <td>Yes</td>\n",
       "      <td>Mailed check</td>\n",
       "      <td>74.40</td>\n",
       "      <td>306.60</td>\n",
       "      <td>Yes</td>\n",
       "      <td>Fiber optic</td>\n",
       "      <td>No</td>\n",
       "      <td>No</td>\n",
       "      <td>No</td>\n",
       "      <td>No</td>\n",
       "      <td>No</td>\n",
       "      <td>No</td>\n",
       "    </tr>\n",
       "    <tr>\n",
       "      <th>7042</th>\n",
       "      <td>3186-AJIEK</td>\n",
       "      <td>Male</td>\n",
       "      <td>0</td>\n",
       "      <td>No</td>\n",
       "      <td>No</td>\n",
       "      <td>2014-08-01</td>\n",
       "      <td>No</td>\n",
       "      <td>Two year</td>\n",
       "      <td>Yes</td>\n",
       "      <td>Bank transfer (automatic)</td>\n",
       "      <td>105.65</td>\n",
       "      <td>6844.50</td>\n",
       "      <td>No</td>\n",
       "      <td>Fiber optic</td>\n",
       "      <td>Yes</td>\n",
       "      <td>No</td>\n",
       "      <td>Yes</td>\n",
       "      <td>Yes</td>\n",
       "      <td>Yes</td>\n",
       "      <td>Yes</td>\n",
       "    </tr>\n",
       "  </tbody>\n",
       "</table>\n",
       "<p>7043 rows × 20 columns</p>\n",
       "</div>"
      ],
      "text/plain": [
       "      customerID  gender  SeniorCitizen Partner Dependents   BeginDate  \\\n",
       "0     7590-VHVEG  Female              0     Yes         No  2020-01-01   \n",
       "1     5575-GNVDE    Male              0      No         No  2017-04-01   \n",
       "2     3668-QPYBK    Male              0      No         No  2019-10-01   \n",
       "3     7795-CFOCW    Male              0      No         No  2016-05-01   \n",
       "4     9237-HQITU  Female              0      No         No  2019-09-01   \n",
       "...          ...     ...            ...     ...        ...         ...   \n",
       "7038  6840-RESVB    Male              0     Yes        Yes  2018-02-01   \n",
       "7039  2234-XADUH  Female              0     Yes        Yes  2014-02-01   \n",
       "7040  4801-JZAZL  Female              0     Yes        Yes  2019-03-01   \n",
       "7041  8361-LTMKD    Male              1     Yes         No  2019-07-01   \n",
       "7042  3186-AJIEK    Male              0      No         No  2014-08-01   \n",
       "\n",
       "                  EndDate            Type PaperlessBilling  \\\n",
       "0                      No  Month-to-month              Yes   \n",
       "1                      No        One year               No   \n",
       "2     2019-12-01 00:00:00  Month-to-month              Yes   \n",
       "3                      No        One year               No   \n",
       "4     2019-11-01 00:00:00  Month-to-month              Yes   \n",
       "...                   ...             ...              ...   \n",
       "7038                   No        One year              Yes   \n",
       "7039                   No        One year              Yes   \n",
       "7040                   No  Month-to-month              Yes   \n",
       "7041  2019-11-01 00:00:00  Month-to-month              Yes   \n",
       "7042                   No        Two year              Yes   \n",
       "\n",
       "                  PaymentMethod  MonthlyCharges  TotalCharges MultipleLines  \\\n",
       "0              Electronic check           29.85         29.85           NaN   \n",
       "1                  Mailed check           56.95       1889.50            No   \n",
       "2                  Mailed check           53.85        108.15            No   \n",
       "3     Bank transfer (automatic)           42.30       1840.75           NaN   \n",
       "4              Electronic check           70.70        151.65            No   \n",
       "...                         ...             ...           ...           ...   \n",
       "7038               Mailed check           84.80       1990.50           Yes   \n",
       "7039    Credit card (automatic)          103.20       7362.90           Yes   \n",
       "7040           Electronic check           29.60        346.45           NaN   \n",
       "7041               Mailed check           74.40        306.60           Yes   \n",
       "7042  Bank transfer (automatic)          105.65       6844.50            No   \n",
       "\n",
       "     InternetService OnlineSecurity OnlineBackup DeviceProtection TechSupport  \\\n",
       "0                DSL             No          Yes               No          No   \n",
       "1                DSL            Yes           No              Yes          No   \n",
       "2                DSL            Yes          Yes               No          No   \n",
       "3                DSL            Yes           No              Yes         Yes   \n",
       "4        Fiber optic             No           No               No          No   \n",
       "...              ...            ...          ...              ...         ...   \n",
       "7038             DSL            Yes           No              Yes         Yes   \n",
       "7039     Fiber optic             No          Yes              Yes          No   \n",
       "7040             DSL            Yes           No               No          No   \n",
       "7041     Fiber optic             No           No               No          No   \n",
       "7042     Fiber optic            Yes           No              Yes         Yes   \n",
       "\n",
       "     StreamingTV StreamingMovies  \n",
       "0             No              No  \n",
       "1             No              No  \n",
       "2             No              No  \n",
       "3             No              No  \n",
       "4             No              No  \n",
       "...          ...             ...  \n",
       "7038         Yes             Yes  \n",
       "7039         Yes             Yes  \n",
       "7040          No              No  \n",
       "7041          No              No  \n",
       "7042         Yes             Yes  \n",
       "\n",
       "[7043 rows x 20 columns]"
      ]
     },
     "execution_count": 16,
     "metadata": {},
     "output_type": "execute_result"
    }
   ],
   "source": [
    "data = (personal\n",
    "        .merge(contract, on=['customerID'], how='left')\n",
    "        .merge(phone, on=['customerID'], how='left')\n",
    "        .merge(internet, on=['customerID'], how='left')\n",
    "       )\n",
    "data"
   ]
  },
  {
   "cell_type": "markdown",
   "id": "df789fc1",
   "metadata": {},
   "source": [
    "Need to check if there are any missing values in new sheet. Also it's better to change values in `SeniorCitizen` feature for further convenience in encoding"
   ]
  },
  {
   "cell_type": "code",
   "execution_count": 17,
   "id": "81067ac9",
   "metadata": {},
   "outputs": [
    {
     "name": "stdout",
     "output_type": "stream",
     "text": [
      "<class 'pandas.core.frame.DataFrame'>\n",
      "Int64Index: 7043 entries, 0 to 7042\n",
      "Data columns (total 20 columns):\n",
      " #   Column            Non-Null Count  Dtype  \n",
      "---  ------            --------------  -----  \n",
      " 0   customerID        7043 non-null   object \n",
      " 1   gender            7043 non-null   object \n",
      " 2   SeniorCitizen     7043 non-null   int64  \n",
      " 3   Partner           7043 non-null   object \n",
      " 4   Dependents        7043 non-null   object \n",
      " 5   BeginDate         7043 non-null   object \n",
      " 6   EndDate           7043 non-null   object \n",
      " 7   Type              7043 non-null   object \n",
      " 8   PaperlessBilling  7043 non-null   object \n",
      " 9   PaymentMethod     7043 non-null   object \n",
      " 10  MonthlyCharges    7043 non-null   float64\n",
      " 11  TotalCharges      7043 non-null   float64\n",
      " 12  MultipleLines     6361 non-null   object \n",
      " 13  InternetService   5517 non-null   object \n",
      " 14  OnlineSecurity    5517 non-null   object \n",
      " 15  OnlineBackup      5517 non-null   object \n",
      " 16  DeviceProtection  5517 non-null   object \n",
      " 17  TechSupport       5517 non-null   object \n",
      " 18  StreamingTV       5517 non-null   object \n",
      " 19  StreamingMovies   5517 non-null   object \n",
      "dtypes: float64(2), int64(1), object(17)\n",
      "memory usage: 1.1+ MB\n"
     ]
    }
   ],
   "source": [
    "data.info()"
   ]
  },
  {
   "cell_type": "markdown",
   "id": "cc0b53d3",
   "metadata": {},
   "source": [
    "All missing values are in other services. it can be assumed, that such services are not popular and main services for clients are calls and internet. Such missing values should be filled with **No** value."
   ]
  },
  {
   "cell_type": "code",
   "execution_count": 18,
   "id": "f84f950b",
   "metadata": {},
   "outputs": [],
   "source": [
    "data['SeniorCitizen'] = data['SeniorCitizen'].replace({1:'Yes', 0:'No'})"
   ]
  },
  {
   "cell_type": "markdown",
   "id": "0aee7dba",
   "metadata": {},
   "source": [
    "Formate names of features"
   ]
  },
  {
   "cell_type": "code",
   "execution_count": 19,
   "id": "49b726ac",
   "metadata": {},
   "outputs": [],
   "source": [
    "data.rename(columns = {'customerID':'CustomerId', 'gender':'Gender', 'StreamingTV':'StreamingTv'}, inplace = True) \n",
    "data.columns = data.columns.str.findall('[A-Z][^A-Z]*').map(lambda x : '_'.join(y.lower() for y in x) )"
   ]
  },
  {
   "cell_type": "code",
   "execution_count": 20,
   "id": "e93f4df2",
   "metadata": {},
   "outputs": [
    {
     "data": {
      "text/html": [
       "<div>\n",
       "<style scoped>\n",
       "    .dataframe tbody tr th:only-of-type {\n",
       "        vertical-align: middle;\n",
       "    }\n",
       "\n",
       "    .dataframe tbody tr th {\n",
       "        vertical-align: top;\n",
       "    }\n",
       "\n",
       "    .dataframe thead th {\n",
       "        text-align: right;\n",
       "    }\n",
       "</style>\n",
       "<table border=\"1\" class=\"dataframe\">\n",
       "  <thead>\n",
       "    <tr style=\"text-align: right;\">\n",
       "      <th></th>\n",
       "      <th>customer_id</th>\n",
       "      <th>gender</th>\n",
       "      <th>senior_citizen</th>\n",
       "      <th>partner</th>\n",
       "      <th>dependents</th>\n",
       "      <th>begin_date</th>\n",
       "      <th>end_date</th>\n",
       "      <th>type</th>\n",
       "      <th>paperless_billing</th>\n",
       "      <th>payment_method</th>\n",
       "      <th>monthly_charges</th>\n",
       "      <th>total_charges</th>\n",
       "      <th>multiple_lines</th>\n",
       "      <th>internet_service</th>\n",
       "      <th>online_security</th>\n",
       "      <th>online_backup</th>\n",
       "      <th>device_protection</th>\n",
       "      <th>tech_support</th>\n",
       "      <th>streaming_tv</th>\n",
       "      <th>streaming_movies</th>\n",
       "    </tr>\n",
       "  </thead>\n",
       "  <tbody>\n",
       "    <tr>\n",
       "      <th>0</th>\n",
       "      <td>7590-VHVEG</td>\n",
       "      <td>Female</td>\n",
       "      <td>No</td>\n",
       "      <td>Yes</td>\n",
       "      <td>No</td>\n",
       "      <td>2020-01-01</td>\n",
       "      <td>No</td>\n",
       "      <td>Month-to-month</td>\n",
       "      <td>Yes</td>\n",
       "      <td>Electronic check</td>\n",
       "      <td>29.85</td>\n",
       "      <td>29.85</td>\n",
       "      <td>NaN</td>\n",
       "      <td>DSL</td>\n",
       "      <td>No</td>\n",
       "      <td>Yes</td>\n",
       "      <td>No</td>\n",
       "      <td>No</td>\n",
       "      <td>No</td>\n",
       "      <td>No</td>\n",
       "    </tr>\n",
       "    <tr>\n",
       "      <th>1</th>\n",
       "      <td>5575-GNVDE</td>\n",
       "      <td>Male</td>\n",
       "      <td>No</td>\n",
       "      <td>No</td>\n",
       "      <td>No</td>\n",
       "      <td>2017-04-01</td>\n",
       "      <td>No</td>\n",
       "      <td>One year</td>\n",
       "      <td>No</td>\n",
       "      <td>Mailed check</td>\n",
       "      <td>56.95</td>\n",
       "      <td>1889.50</td>\n",
       "      <td>No</td>\n",
       "      <td>DSL</td>\n",
       "      <td>Yes</td>\n",
       "      <td>No</td>\n",
       "      <td>Yes</td>\n",
       "      <td>No</td>\n",
       "      <td>No</td>\n",
       "      <td>No</td>\n",
       "    </tr>\n",
       "    <tr>\n",
       "      <th>2</th>\n",
       "      <td>3668-QPYBK</td>\n",
       "      <td>Male</td>\n",
       "      <td>No</td>\n",
       "      <td>No</td>\n",
       "      <td>No</td>\n",
       "      <td>2019-10-01</td>\n",
       "      <td>2019-12-01 00:00:00</td>\n",
       "      <td>Month-to-month</td>\n",
       "      <td>Yes</td>\n",
       "      <td>Mailed check</td>\n",
       "      <td>53.85</td>\n",
       "      <td>108.15</td>\n",
       "      <td>No</td>\n",
       "      <td>DSL</td>\n",
       "      <td>Yes</td>\n",
       "      <td>Yes</td>\n",
       "      <td>No</td>\n",
       "      <td>No</td>\n",
       "      <td>No</td>\n",
       "      <td>No</td>\n",
       "    </tr>\n",
       "    <tr>\n",
       "      <th>3</th>\n",
       "      <td>7795-CFOCW</td>\n",
       "      <td>Male</td>\n",
       "      <td>No</td>\n",
       "      <td>No</td>\n",
       "      <td>No</td>\n",
       "      <td>2016-05-01</td>\n",
       "      <td>No</td>\n",
       "      <td>One year</td>\n",
       "      <td>No</td>\n",
       "      <td>Bank transfer (automatic)</td>\n",
       "      <td>42.30</td>\n",
       "      <td>1840.75</td>\n",
       "      <td>NaN</td>\n",
       "      <td>DSL</td>\n",
       "      <td>Yes</td>\n",
       "      <td>No</td>\n",
       "      <td>Yes</td>\n",
       "      <td>Yes</td>\n",
       "      <td>No</td>\n",
       "      <td>No</td>\n",
       "    </tr>\n",
       "    <tr>\n",
       "      <th>4</th>\n",
       "      <td>9237-HQITU</td>\n",
       "      <td>Female</td>\n",
       "      <td>No</td>\n",
       "      <td>No</td>\n",
       "      <td>No</td>\n",
       "      <td>2019-09-01</td>\n",
       "      <td>2019-11-01 00:00:00</td>\n",
       "      <td>Month-to-month</td>\n",
       "      <td>Yes</td>\n",
       "      <td>Electronic check</td>\n",
       "      <td>70.70</td>\n",
       "      <td>151.65</td>\n",
       "      <td>No</td>\n",
       "      <td>Fiber optic</td>\n",
       "      <td>No</td>\n",
       "      <td>No</td>\n",
       "      <td>No</td>\n",
       "      <td>No</td>\n",
       "      <td>No</td>\n",
       "      <td>No</td>\n",
       "    </tr>\n",
       "  </tbody>\n",
       "</table>\n",
       "</div>"
      ],
      "text/plain": [
       "  customer_id  gender senior_citizen partner dependents  begin_date  \\\n",
       "0  7590-VHVEG  Female             No     Yes         No  2020-01-01   \n",
       "1  5575-GNVDE    Male             No      No         No  2017-04-01   \n",
       "2  3668-QPYBK    Male             No      No         No  2019-10-01   \n",
       "3  7795-CFOCW    Male             No      No         No  2016-05-01   \n",
       "4  9237-HQITU  Female             No      No         No  2019-09-01   \n",
       "\n",
       "              end_date            type paperless_billing  \\\n",
       "0                   No  Month-to-month               Yes   \n",
       "1                   No        One year                No   \n",
       "2  2019-12-01 00:00:00  Month-to-month               Yes   \n",
       "3                   No        One year                No   \n",
       "4  2019-11-01 00:00:00  Month-to-month               Yes   \n",
       "\n",
       "              payment_method  monthly_charges  total_charges multiple_lines  \\\n",
       "0           Electronic check            29.85          29.85            NaN   \n",
       "1               Mailed check            56.95        1889.50             No   \n",
       "2               Mailed check            53.85         108.15             No   \n",
       "3  Bank transfer (automatic)            42.30        1840.75            NaN   \n",
       "4           Electronic check            70.70         151.65             No   \n",
       "\n",
       "  internet_service online_security online_backup device_protection  \\\n",
       "0              DSL              No           Yes                No   \n",
       "1              DSL             Yes            No               Yes   \n",
       "2              DSL             Yes           Yes                No   \n",
       "3              DSL             Yes            No               Yes   \n",
       "4      Fiber optic              No            No                No   \n",
       "\n",
       "  tech_support streaming_tv streaming_movies  \n",
       "0           No           No               No  \n",
       "1           No           No               No  \n",
       "2           No           No               No  \n",
       "3          Yes           No               No  \n",
       "4           No           No               No  "
      ]
     },
     "execution_count": 20,
     "metadata": {},
     "output_type": "execute_result"
    }
   ],
   "source": [
    "data.head()"
   ]
  },
  {
   "cell_type": "markdown",
   "id": "b7eeb5ea",
   "metadata": {},
   "source": [
    "We create target feature `churn`, where **1** value means client left, **0** - still with company"
   ]
  },
  {
   "cell_type": "code",
   "execution_count": 21,
   "id": "024dc6d3",
   "metadata": {},
   "outputs": [],
   "source": [
    "def churn(value): \n",
    "    if value == 'No': \n",
    "        return 0 \n",
    "    else: \n",
    "        return 1\n",
    "    \n",
    "data['churn'] = data['end_date'].apply(churn)"
   ]
  },
  {
   "cell_type": "markdown",
   "id": "492560e8",
   "metadata": {},
   "source": [
    "Here is Class Balance"
   ]
  },
  {
   "cell_type": "code",
   "execution_count": 22,
   "id": "8bd85e87",
   "metadata": {},
   "outputs": [
    {
     "data": {
      "image/png": "[encoded data removed]",
      "text/plain": [
       "<Figure size 432x288 with 1 Axes>"
      ]
     },
     "metadata": {},
     "output_type": "display_data"
    }
   ],
   "source": [
    "sns.countplot(data['churn'], palette = \"Set2\");"
   ]
  },
  {
   "cell_type": "markdown",
   "id": "d09bb6d5",
   "metadata": {},
   "source": [
    "Negative class is near three times more than positive"
   ]
  },
  {
   "cell_type": "markdown",
   "id": "9d8e5482",
   "metadata": {},
   "source": [
    "To track period in which customers leave more often we create new feature `total_days`"
   ]
  },
  {
   "cell_type": "code",
   "execution_count": 23,
   "id": "abe33e0c",
   "metadata": {
    "scrolled": true
   },
   "outputs": [],
   "source": [
    "data['begin_date'] = data['begin_date'].apply(pd.to_datetime)\n",
    "\n",
    "data['end_date'] = (data['end_date']\n",
    "                    .replace('No','2020-02-01')\n",
    "                    .apply(pd.to_datetime)\n",
    "                   )\n",
    "\n",
    "data['total_days'] = (data['end_date'] - data['begin_date']).dt.days"
   ]
  },
  {
   "cell_type": "markdown",
   "id": "4d2f9b5f",
   "metadata": {},
   "source": [
    "In new data set we fill missing values with **No** value."
   ]
  },
  {
   "cell_type": "code",
   "execution_count": 24,
   "id": "1780a2a8",
   "metadata": {},
   "outputs": [],
   "source": [
    "data = (data.fillna('No')\n",
    "        .drop(['begin_date', 'end_date'], axis=1)\n",
    "       )"
   ]
  },
  {
   "cell_type": "markdown",
   "id": "fe5df808",
   "metadata": {},
   "source": [
    "Set `customer_id` as index column"
   ]
  },
  {
   "cell_type": "code",
   "execution_count": 25,
   "id": "f059b7f7",
   "metadata": {},
   "outputs": [],
   "source": [
    "data = data.set_index('customer_id')"
   ]
  },
  {
   "cell_type": "markdown",
   "id": "91d9ccdf",
   "metadata": {},
   "source": [
    "To check multicollinearity problem we use Phik"
   ]
  },
  {
   "cell_type": "code",
   "execution_count": 26,
   "id": "fd65861a",
   "metadata": {},
   "outputs": [
    {
     "data": {
      "image/png": "[encoded data removed]",
      "text/plain": [
       "<Figure size 936x792 with 2 Axes>"
      ]
     },
     "metadata": {},
     "output_type": "display_data"
    }
   ],
   "source": [
    "interval_cols = ['monthly_charges', 'total_charges', 'total_days', 'churn']\n",
    "phik_overview = data.phik_matrix(interval_cols=interval_cols)\n",
    "\n",
    "plot_correlation_matrix(phik_overview.values,\n",
    "                        x_labels=phik_overview.columns, \n",
    "                        y_labels=phik_overview.index, \n",
    "                        vmin=0, vmax=1, color_map=\"Greens\", \n",
    "                        title=r\"correlation $\\phi_K$\", \n",
    "                        fontsize_factor=1.3, \n",
    "                        figsize=(13, 11))\n",
    "plt.tight_layout()"
   ]
  },
  {
   "cell_type": "markdown",
   "id": "1fa2485f",
   "metadata": {},
   "source": [
    "Observe strong correlation between variables such as `streaming_tv` and `streaming_movies`. These feautures seem to be practically the same, because streaming_movies are usually part of streaming_tv. So we can delete `streaming_movies` feature. There is also strong correlation between variables such as `total_charges` and `monthly_charges`. Since we have `total_days` feature we can delete `total_charges`. If we need we are able to recover data from `total_charges` using `monthly_charges` and `total_days`."
   ]
  },
  {
   "cell_type": "markdown",
   "id": "cd637c80",
   "metadata": {},
   "source": [
    "Look at current and left customers"
   ]
  },
  {
   "cell_type": "code",
   "execution_count": 27,
   "id": "58e53816",
   "metadata": {},
   "outputs": [
    {
     "data": {
      "image/png": "[encoded data removed]",
      "text/plain": [
       "<Figure size 581.625x540 with 12 Axes>"
      ]
     },
     "metadata": {},
     "output_type": "display_data"
    }
   ],
   "source": [
    "sns.pairplot(data, hue='churn');"
   ]
  },
  {
   "cell_type": "markdown",
   "id": "74475d5e",
   "metadata": {},
   "source": [
    "Dropout peak is in beginning of service(see total_days) "
   ]
  },
  {
   "cell_type": "markdown",
   "id": "560c80a5",
   "metadata": {},
   "source": [
    "Check days with dropout peak"
   ]
  },
  {
   "cell_type": "code",
   "execution_count": 28,
   "id": "eaaf1306",
   "metadata": {},
   "outputs": [
    {
     "data": {
      "text/html": [
       "<div>\n",
       "<style scoped>\n",
       "    .dataframe tbody tr th:only-of-type {\n",
       "        vertical-align: middle;\n",
       "    }\n",
       "\n",
       "    .dataframe tbody tr th {\n",
       "        vertical-align: top;\n",
       "    }\n",
       "\n",
       "    .dataframe thead th {\n",
       "        text-align: right;\n",
       "    }\n",
       "</style>\n",
       "<table border=\"1\" class=\"dataframe\">\n",
       "  <thead>\n",
       "    <tr style=\"text-align: right;\">\n",
       "      <th></th>\n",
       "      <th>churn</th>\n",
       "    </tr>\n",
       "    <tr>\n",
       "      <th>total_days</th>\n",
       "      <th></th>\n",
       "    </tr>\n",
       "  </thead>\n",
       "  <tbody>\n",
       "    <tr>\n",
       "      <th>0</th>\n",
       "      <td>0</td>\n",
       "    </tr>\n",
       "    <tr>\n",
       "      <th>30</th>\n",
       "      <td>182</td>\n",
       "    </tr>\n",
       "    <tr>\n",
       "      <th>31</th>\n",
       "      <td>198</td>\n",
       "    </tr>\n",
       "    <tr>\n",
       "      <th>61</th>\n",
       "      <td>123</td>\n",
       "    </tr>\n",
       "    <tr>\n",
       "      <th>62</th>\n",
       "      <td>0</td>\n",
       "    </tr>\n",
       "    <tr>\n",
       "      <th>91</th>\n",
       "      <td>31</td>\n",
       "    </tr>\n",
       "    <tr>\n",
       "      <th>92</th>\n",
       "      <td>63</td>\n",
       "    </tr>\n",
       "    <tr>\n",
       "      <th>122</th>\n",
       "      <td>58</td>\n",
       "    </tr>\n",
       "    <tr>\n",
       "      <th>123</th>\n",
       "      <td>25</td>\n",
       "    </tr>\n",
       "    <tr>\n",
       "      <th>153</th>\n",
       "      <td>64</td>\n",
       "    </tr>\n",
       "  </tbody>\n",
       "</table>\n",
       "</div>"
      ],
      "text/plain": [
       "            churn\n",
       "total_days       \n",
       "0               0\n",
       "30            182\n",
       "31            198\n",
       "61            123\n",
       "62              0\n",
       "91             31\n",
       "92             63\n",
       "122            58\n",
       "123            25\n",
       "153            64"
      ]
     },
     "execution_count": 28,
     "metadata": {},
     "output_type": "execute_result"
    }
   ],
   "source": [
    "data.pivot_table(index='total_days', \n",
    "                 values='churn', \n",
    "                 aggfunc='sum').head(10)"
   ]
  },
  {
   "cell_type": "markdown",
   "id": "06a4084d",
   "metadata": {},
   "source": [
    "The highest outflow is in first **61** days"
   ]
  },
  {
   "cell_type": "markdown",
   "id": "06b6b5e5",
   "metadata": {},
   "source": [
    "Check other peaks on chart"
   ]
  },
  {
   "cell_type": "code",
   "execution_count": 29,
   "id": "488f5820",
   "metadata": {
    "scrolled": false
   },
   "outputs": [
    {
     "data": {
      "image/png": "[encoded data removed]",
      "text/plain": [
       "<Figure size 1080x576 with 1 Axes>"
      ]
     },
     "metadata": {},
     "output_type": "display_data"
    }
   ],
   "source": [
    "(data.pivot_table(columns='total_days',\n",
    "                  values='churn', \n",
    "                  aggfunc='sum')\n",
    "                                .T\n",
    "                                .plot(kind='line', \n",
    "                                      figsize=(15,8), \n",
    "                                      fontsize=15.3)\n",
    ")\n",
    "plt.title('Chart of left customers'+ \"\\n\")\n",
    "plt.xlabel('Days')\n",
    "plt.ylabel('**');"
   ]
  },
  {
   "cell_type": "markdown",
   "id": "9518076c",
   "metadata": {},
   "source": [
    "There are no any other peaks. Look at boxplot\n"
   ]
  },
  {
   "cell_type": "code",
   "execution_count": 30,
   "id": "335fb268",
   "metadata": {
    "scrolled": true
   },
   "outputs": [
    {
     "data": {
      "image/png": "[encoded data removed]",
      "text/plain": [
       "<Figure size 960x240 with 1 Axes>"
      ]
     },
     "metadata": {},
     "output_type": "display_data"
    }
   ],
   "source": [
    "plt.figure(figsize=(12,3), dpi = 80)\n",
    "sns.set_style(\"darkgrid\")\n",
    "sns.boxplot(data=data.pivot_table(index='total_days', \n",
    "                 values='churn', \n",
    "                 aggfunc='sum'),\n",
    "            orient='h',\n",
    "            palette = 'pastel')\n",
    "plt.xlabel('Quantity')\n",
    "plt.show()"
   ]
  },
  {
   "cell_type": "markdown",
   "id": "003f75b4",
   "metadata": {},
   "source": [
    "Outflow of **25** customers is normal, all above is anomaly"
   ]
  },
  {
   "cell_type": "markdown",
   "id": "a3d25bd6",
   "metadata": {},
   "source": [
    "Count sum of money of current and left clients. Estimate share of left clients' sum to total sum"
   ]
  },
  {
   "cell_type": "code",
   "execution_count": 31,
   "id": "c0864272",
   "metadata": {},
   "outputs": [
    {
     "data": {
      "text/html": [
       "<div>\n",
       "<style scoped>\n",
       "    .dataframe tbody tr th:only-of-type {\n",
       "        vertical-align: middle;\n",
       "    }\n",
       "\n",
       "    .dataframe tbody tr th {\n",
       "        vertical-align: top;\n",
       "    }\n",
       "\n",
       "    .dataframe thead th {\n",
       "        text-align: right;\n",
       "    }\n",
       "</style>\n",
       "<table border=\"1\" class=\"dataframe\">\n",
       "  <thead>\n",
       "    <tr style=\"text-align: right;\">\n",
       "      <th></th>\n",
       "      <th>total_charges</th>\n",
       "    </tr>\n",
       "    <tr>\n",
       "      <th>churn</th>\n",
       "      <th></th>\n",
       "    </tr>\n",
       "  </thead>\n",
       "  <tbody>\n",
       "    <tr>\n",
       "      <th>0</th>\n",
       "      <td>13193697.4</td>\n",
       "    </tr>\n",
       "    <tr>\n",
       "      <th>1</th>\n",
       "      <td>2862926.9</td>\n",
       "    </tr>\n",
       "  </tbody>\n",
       "</table>\n",
       "</div>"
      ],
      "text/plain": [
       "       total_charges\n",
       "churn               \n",
       "0         13193697.4\n",
       "1          2862926.9"
      ]
     },
     "execution_count": 31,
     "metadata": {},
     "output_type": "execute_result"
    }
   ],
   "source": [
    "data.pivot_table(index='churn', \n",
    "                 values='total_charges', \n",
    "                 aggfunc='sum').head(20)"
   ]
  },
  {
   "cell_type": "code",
   "execution_count": 32,
   "id": "a56921e1",
   "metadata": {},
   "outputs": [],
   "source": [
    "left = data.loc[data['churn'] == 1]"
   ]
  },
  {
   "cell_type": "code",
   "execution_count": 33,
   "id": "9662e7cd",
   "metadata": {},
   "outputs": [
    {
     "data": {
      "text/plain": [
       "0.18"
      ]
     },
     "execution_count": 33,
     "metadata": {},
     "output_type": "execute_result"
    }
   ],
   "source": [
    "(round(left['total_charges'].sum() \n",
    "       / data['total_charges'].sum(), 2)\n",
    ")"
   ]
  },
  {
   "cell_type": "markdown",
   "id": "bcd71b37",
   "metadata": {},
   "source": [
    "The share of left clients' charges is **18%**. Bad news"
   ]
  },
  {
   "cell_type": "markdown",
   "id": "484ea513",
   "metadata": {},
   "source": [
    "Now we look at clients who leave in the first 61 days and count share of their charges to total sum of charges of all clients"
   ]
  },
  {
   "cell_type": "code",
   "execution_count": 34,
   "id": "28ee16e5",
   "metadata": {},
   "outputs": [
    {
     "data": {
      "text/plain": [
       "0.002"
      ]
     },
     "execution_count": 34,
     "metadata": {},
     "output_type": "execute_result"
    }
   ],
   "source": [
    "(round(left.loc[left['total_days'] < 62]\n",
    "                    ['total_charges'].sum() \n",
    "       / data['total_charges'].sum(), 3)\n",
    ")"
   ]
  },
  {
   "cell_type": "markdown",
   "id": "7bfc460c",
   "metadata": {},
   "source": [
    "Quantity of clients who leave in the first 61 days"
   ]
  },
  {
   "cell_type": "code",
   "execution_count": 35,
   "id": "e3cd28a0",
   "metadata": {},
   "outputs": [
    {
     "data": {
      "text/plain": [
       "503"
      ]
     },
     "execution_count": 35,
     "metadata": {},
     "output_type": "execute_result"
    }
   ],
   "source": [
    "left.loc[left['total_days'] < 62]['churn'].sum()"
   ]
  },
  {
   "cell_type": "markdown",
   "id": "810a74c7",
   "metadata": {},
   "source": [
    "Quantity of clients who leave after 61 days"
   ]
  },
  {
   "cell_type": "code",
   "execution_count": 36,
   "id": "9ebf08ba",
   "metadata": {
    "scrolled": true
   },
   "outputs": [
    {
     "data": {
      "text/plain": [
       "1366"
      ]
     },
     "execution_count": 36,
     "metadata": {},
     "output_type": "execute_result"
    }
   ],
   "source": [
    "left.loc[left['total_days'] > 62]['churn'].sum()"
   ]
  },
  {
   "cell_type": "markdown",
   "id": "6eb2ee07",
   "metadata": {},
   "source": [
    "Clients who leave in first **61** days make up **one third** of all left. And their charges are only **0,2%** of all charges"
   ]
  },
  {
   "cell_type": "markdown",
   "id": "df5e7040",
   "metadata": {},
   "source": [
    "Check the most frequent contract of left customers"
   ]
  },
  {
   "cell_type": "code",
   "execution_count": 37,
   "id": "d5d30c3d",
   "metadata": {
    "scrolled": false
   },
   "outputs": [
    {
     "data": {
      "image/png": "[encoded data removed]",
      "text/plain": [
       "<Figure size 720x576 with 1 Axes>"
      ]
     },
     "metadata": {},
     "output_type": "display_data"
    }
   ],
   "source": [
    "(left.pivot_table(index='type', \n",
    "                 values='churn', \n",
    "                 aggfunc='sum')\n",
    "                               .plot(kind='pie', \n",
    "                                     autopct='%1.1f%%', \n",
    "                                     subplots=True, \n",
    "                                     figsize=(10,8))\n",
    ")\n",
    "plt.legend(['month-to-month', 'one-year', 'two-year'])\n",
    "plt.title('Data distribution of left customers by contract')\n",
    "plt.tight_layout()\n",
    "plt.axis('off');"
   ]
  },
  {
   "cell_type": "markdown",
   "id": "596fa33b",
   "metadata": {},
   "source": [
    "Customers with **month-to-month** contract cancel **9** times more often then customers with both one and two years contracts"
   ]
  },
  {
   "cell_type": "markdown",
   "id": "deb1a03d",
   "metadata": {},
   "source": [
    "### Data analysis conclusion\n",
    "- The highest outflow is in first **61** days.\n",
    "- The share of left clients' charges is **18%**.\n",
    "- Customers with month-to-month contract cancel **9** times more often then customers with both one and two years contracts."
   ]
  },
  {
   "cell_type": "markdown",
   "id": "c2275628",
   "metadata": {},
   "source": [
    "## Model learning"
   ]
  },
  {
   "cell_type": "markdown",
   "id": "860558bd",
   "metadata": {},
   "source": [
    "Train-test split"
   ]
  },
  {
   "cell_type": "code",
   "execution_count": 38,
   "id": "e7d424da",
   "metadata": {},
   "outputs": [
    {
     "name": "stdout",
     "output_type": "stream",
     "text": [
      "Share of train sample:75.0%\n",
      "Share of test sample:25.0%\n"
     ]
    }
   ],
   "source": [
    "features_train, features_test, target_train, target_test = train_test_split(\n",
    "                                    data.drop(['churn', \n",
    "                                               'total_charges', \n",
    "                                               'streaming_movies'], axis=1), \n",
    "                                              data['churn'], \n",
    "                                              test_size=0.25, \n",
    "                                              random_state=101022,\n",
    "                                              stratify=data['churn'])\n",
    "\n",
    "print(f'Share of train sample:{features_train.shape[0] / len(data):.1%}')\n",
    "print(f'Share of test sample:{features_test.shape[0] / len(data):.1%}')"
   ]
  },
  {
   "cell_type": "markdown",
   "id": "62528b1c",
   "metadata": {},
   "source": [
    "Encode features with **object** type using ordinal encoder, because we will use model based on trees"
   ]
  },
  {
   "cell_type": "code",
   "execution_count": 39,
   "id": "eeec9ed0",
   "metadata": {},
   "outputs": [],
   "source": [
    "encoder = (ce.OrdinalEncoder(\n",
    "    cols = features_train.select_dtypes('object').columns)\n",
    "          )\n",
    "features_train = encoder.fit_transform(features_train)\n",
    "features_test = encoder.transform(features_test)"
   ]
  },
  {
   "cell_type": "markdown",
   "id": "671cfa7a",
   "metadata": {},
   "source": [
    "Write function for model learning"
   ]
  },
  {
   "cell_type": "code",
   "execution_count": 40,
   "id": "385443fb",
   "metadata": {},
   "outputs": [],
   "source": [
    "def models(model, parametrs, features_train, target_train):\n",
    "    grid = GridSearchCV(model, \n",
    "                        parametrs, \n",
    "                        cv=10,\n",
    "                        #verbose=3,\n",
    "                        n_jobs=-1, \n",
    "                        scoring='roc_auc')\n",
    "    grid.fit(features_train, target_train)\n",
    "    return grid.best_score_, grid.best_params_"
   ]
  },
  {
   "cell_type": "markdown",
   "id": "d784d9c4",
   "metadata": {},
   "source": [
    "First model is **CatBoostClassifier**"
   ]
  },
  {
   "cell_type": "code",
   "execution_count": 41,
   "id": "886adba8",
   "metadata": {
    "scrolled": true
   },
   "outputs": [
    {
     "data": {
      "text/plain": [
       "(0.9256281988009067,\n",
       " {'cb__depth': 4, 'cb__iterations': 1000, 'cb__learning_rate': 0.1})"
      ]
     },
     "execution_count": 41,
     "metadata": {},
     "output_type": "execute_result"
    }
   ],
   "source": [
    "pipe_cb = Pipeline(steps=\n",
    "                  [('scaler', StandardScaler()),\n",
    "                   ('cb', CatBoostClassifier(random_seed=101022,\n",
    "                                             loss_function='Logloss',\n",
    "                                             silent=True,\n",
    "                                             scale_pos_weight=3))])\n",
    "cb_parametrs = {'cb__depth'         : [4,7,10],\n",
    "                'cb__learning_rate' : [0.01,0.05,0.1,0.5],\n",
    "                'cb__iterations'    : [100,500,1000]\n",
    "               }\n",
    "cb = models(pipe_cb, \n",
    "            cb_parametrs, \n",
    "            features_train, target_train)\n",
    "cb"
   ]
  },
  {
   "cell_type": "markdown",
   "id": "8f4efeda",
   "metadata": {},
   "source": [
    "Second model is **LGBMClassifier**"
   ]
  },
  {
   "cell_type": "code",
   "execution_count": 42,
   "id": "11d7c380",
   "metadata": {
    "scrolled": true
   },
   "outputs": [
    {
     "data": {
      "text/plain": [
       "(0.9132386488264972,\n",
       " {'lgbm__learning_rate': 0.1,\n",
       "  'lgbm__max_depth': 4,\n",
       "  'lgbm__n_estimators': 1000})"
      ]
     },
     "execution_count": 42,
     "metadata": {},
     "output_type": "execute_result"
    }
   ],
   "source": [
    "pipe_lgbm = Pipeline(steps=\n",
    "                    [('scaler', StandardScaler()),\n",
    "                     ('lgbm', LGBMClassifier(random_state=101022,\n",
    "                                             objective='binary',\n",
    "                                             class_weight='balanced'))])\n",
    "\n",
    "lgbm_parametrs = {'lgbm__max_depth': [4,7,10],\n",
    "                  'lgbm__learning_rate': [0.01,0.05,0.1,0.5],\n",
    "                  'lgbm__n_estimators': [100,500,1000]\n",
    "                 }\n",
    "\n",
    "lgbm = models(pipe_lgbm, \n",
    "              lgbm_parametrs, \n",
    "              features_train, target_train)\n",
    "lgbm"
   ]
  },
  {
   "cell_type": "markdown",
   "id": "3484a61a",
   "metadata": {},
   "source": [
    "Third model is **RandomForestClassifier**"
   ]
  },
  {
   "cell_type": "code",
   "execution_count": 43,
   "id": "a1f9032e",
   "metadata": {
    "scrolled": true
   },
   "outputs": [
    {
     "data": {
      "text/plain": [
       "(0.8628270610722902,\n",
       " {'rfc__criterion': 'entropy', 'rfc__max_depth': 7, 'rfc__n_estimators': 1000})"
      ]
     },
     "execution_count": 43,
     "metadata": {},
     "output_type": "execute_result"
    }
   ],
   "source": [
    "pipe_rfc = Pipeline(steps=\n",
    "                   [('scaler', StandardScaler()),\n",
    "                    ('rfc', RandomForestClassifier(random_state=101022,\n",
    "                                                   class_weight='balanced'))])\n",
    "rfc_parametrs = {\n",
    "     'rfc__max_depth': [4,7,10],\n",
    "     'rfc__criterion': ['gini', 'entropy'],\n",
    "     'rfc__n_estimators': [100,500,1000]\n",
    "\n",
    "             }\n",
    "\n",
    "rfc = models(pipe_rfc, \n",
    "             rfc_parametrs, \n",
    "             features_train, target_train)\n",
    "rfc"
   ]
  },
  {
   "cell_type": "code",
   "execution_count": 44,
   "id": "3ddbf51a",
   "metadata": {},
   "outputs": [
    {
     "data": {
      "text/html": [
       "<div>\n",
       "<style scoped>\n",
       "    .dataframe tbody tr th:only-of-type {\n",
       "        vertical-align: middle;\n",
       "    }\n",
       "\n",
       "    .dataframe tbody tr th {\n",
       "        vertical-align: top;\n",
       "    }\n",
       "\n",
       "    .dataframe thead th {\n",
       "        text-align: right;\n",
       "    }\n",
       "</style>\n",
       "<table border=\"1\" class=\"dataframe\">\n",
       "  <thead>\n",
       "    <tr style=\"text-align: right;\">\n",
       "      <th></th>\n",
       "      <th>roc_auc</th>\n",
       "    </tr>\n",
       "  </thead>\n",
       "  <tbody>\n",
       "    <tr>\n",
       "      <th>CatBoost</th>\n",
       "      <td>0.925628</td>\n",
       "    </tr>\n",
       "    <tr>\n",
       "      <th>LGBM</th>\n",
       "      <td>0.913239</td>\n",
       "    </tr>\n",
       "    <tr>\n",
       "      <th>RandomForest</th>\n",
       "      <td>0.862827</td>\n",
       "    </tr>\n",
       "  </tbody>\n",
       "</table>\n",
       "</div>"
      ],
      "text/plain": [
       "               roc_auc\n",
       "CatBoost      0.925628\n",
       "LGBM          0.913239\n",
       "RandomForest  0.862827"
      ]
     },
     "execution_count": 44,
     "metadata": {},
     "output_type": "execute_result"
    }
   ],
   "source": [
    "result = pd.DataFrame([cb[0], lgbm[0], rfc[0]], \n",
    "                       columns=['roc_auc'], \n",
    "                       index=['CatBoost',\n",
    "                              'LGBM',\n",
    "                              'RandomForest'])\n",
    "result"
   ]
  },
  {
   "cell_type": "markdown",
   "id": "a820c220",
   "metadata": {},
   "source": [
    "### Model learning conclusion\n",
    "- Best model is **CatBoostClassifier**\n",
    "- Best ROC AUC is **0.926**\n",
    "- Hyperparameters are **depth = 4**, **iterations = 1000**, **learning_rate = 0.1**"
   ]
  },
  {
   "cell_type": "markdown",
   "id": "ac20dfbb",
   "metadata": {},
   "source": [
    "Check best model on test sample"
   ]
  },
  {
   "cell_type": "code",
   "execution_count": 45,
   "id": "749cee2d",
   "metadata": {},
   "outputs": [],
   "source": [
    "best_model = CatBoostClassifier(random_seed=101022, \n",
    "                               loss_function='Logloss', \n",
    "                               silent=True,\n",
    "                               scale_pos_weight=3,\n",
    "                               depth=4, \n",
    "                               iterations=1000, \n",
    "                               learning_rate=0.1)\n",
    "\n",
    "best_model.fit(features_train, target_train)\n",
    "predict_proba = best_model.predict_proba(features_test)[:, 1]\n",
    "roc_auc_cb = round(roc_auc_score(target_test, predict_proba), 2)"
   ]
  },
  {
   "cell_type": "markdown",
   "id": "1bc3e280",
   "metadata": {},
   "source": [
    "Build **ROC-curve** to see model's prediction quality"
   ]
  },
  {
   "cell_type": "code",
   "execution_count": 46,
   "id": "7a7605e0",
   "metadata": {},
   "outputs": [
    {
     "data": {
      "image/png": "[encoded data removed]",
      "text/plain": [
       "<Figure size 576x576 with 1 Axes>"
      ]
     },
     "metadata": {},
     "output_type": "display_data"
    }
   ],
   "source": [
    "fpr, tpr, thresholds = roc_curve(target_test, predict_proba, pos_label=1)\n",
    "plt.figure(figsize=(8, 8))\n",
    "plt.plot(fpr, tpr)\n",
    "plt.xlim([0.0, 1.0])\n",
    "plt.ylim([0.0, 1.0])\n",
    "plt.xlabel('False Positive Rate')\n",
    "plt.ylabel('True Positive Rate')\n",
    "plt.title('ROC-curve')\n",
    "plt.plot([0, 1], [0, 1], linestyle='--')\n",
    "plt.show() "
   ]
  },
  {
   "cell_type": "markdown",
   "id": "a4d9bc2f",
   "metadata": {},
   "source": [
    "Nice done!"
   ]
  },
  {
   "cell_type": "markdown",
   "id": "18a569e8",
   "metadata": {},
   "source": [
    "What's about **accuracy**?"
   ]
  },
  {
   "cell_type": "code",
   "execution_count": 47,
   "id": "43397729",
   "metadata": {},
   "outputs": [],
   "source": [
    "predicted_test = best_model.predict(features_test) \n",
    "acc_cb = round(accuracy_score(target_test, predicted_test), 2)"
   ]
  },
  {
   "cell_type": "markdown",
   "id": "69935661",
   "metadata": {},
   "source": [
    "Confusion matrix"
   ]
  },
  {
   "cell_type": "code",
   "execution_count": 48,
   "id": "ba236cc2",
   "metadata": {},
   "outputs": [
    {
     "data": {
      "image/png": "[encoded data removed]",
      "text/plain": [
       "<Figure size 700x700 with 1 Axes>"
      ]
     },
     "metadata": {},
     "output_type": "display_data"
    }
   ],
   "source": [
    "plt.figure(figsize=(10,10), dpi = 70)\n",
    "sns.heatmap(\n",
    "    confusion_matrix(target_test, predicted_test), \n",
    "    annot = True, \n",
    "    cmap= 'coolwarm', \n",
    "    cbar=False, \n",
    "    square=True,\n",
    "    fmt='3.0f')\n",
    "plt.title('Confusion matrix');"
   ]
  },
  {
   "cell_type": "markdown",
   "id": "852fb837",
   "metadata": {},
   "source": [
    "Check constant model ROC AUC and accuracy"
   ]
  },
  {
   "cell_type": "code",
   "execution_count": 49,
   "id": "331bf752",
   "metadata": {},
   "outputs": [],
   "source": [
    "dummy_clf = DummyClassifier(strategy=\"stratified\", random_state=101022)\n",
    "dummy_clf.fit(features_train, target_train)\n",
    "dummy_pred_proba = dummy_clf.predict_proba(features_test)[:, 1]\n",
    "dummy_pred = dummy_clf.predict(features_test)"
   ]
  },
  {
   "cell_type": "code",
   "execution_count": 50,
   "id": "1a75cd10",
   "metadata": {},
   "outputs": [],
   "source": [
    "roc_auc_dummy = round(roc_auc_score(target_test, dummy_pred_proba), 2)"
   ]
  },
  {
   "cell_type": "code",
   "execution_count": 51,
   "id": "d9c1f9bf",
   "metadata": {},
   "outputs": [],
   "source": [
    "acc_dummy = round(accuracy_score(target_test, dummy_pred), 2)"
   ]
  },
  {
   "cell_type": "markdown",
   "id": "f11c075d",
   "metadata": {},
   "source": [
    "Compare results"
   ]
  },
  {
   "cell_type": "code",
   "execution_count": 52,
   "id": "35b1fc4b",
   "metadata": {},
   "outputs": [
    {
     "data": {
      "text/html": [
       "<div>\n",
       "<style scoped>\n",
       "    .dataframe tbody tr th:only-of-type {\n",
       "        vertical-align: middle;\n",
       "    }\n",
       "\n",
       "    .dataframe tbody tr th {\n",
       "        vertical-align: top;\n",
       "    }\n",
       "\n",
       "    .dataframe thead th {\n",
       "        text-align: right;\n",
       "    }\n",
       "</style>\n",
       "<table border=\"1\" class=\"dataframe\">\n",
       "  <thead>\n",
       "    <tr style=\"text-align: right;\">\n",
       "      <th></th>\n",
       "      <th>roc_auc</th>\n",
       "      <th>accuracy</th>\n",
       "    </tr>\n",
       "  </thead>\n",
       "  <tbody>\n",
       "    <tr>\n",
       "      <th>CatBoost</th>\n",
       "      <td>0.92</td>\n",
       "      <td>0.86</td>\n",
       "    </tr>\n",
       "    <tr>\n",
       "      <th>Dummy</th>\n",
       "      <td>0.51</td>\n",
       "      <td>0.62</td>\n",
       "    </tr>\n",
       "  </tbody>\n",
       "</table>\n",
       "</div>"
      ],
      "text/plain": [
       "          roc_auc  accuracy\n",
       "CatBoost     0.92      0.86\n",
       "Dummy        0.51      0.62"
      ]
     },
     "execution_count": 52,
     "metadata": {},
     "output_type": "execute_result"
    }
   ],
   "source": [
    "final_result = pd.DataFrame([[roc_auc_cb, acc_cb], [roc_auc_dummy, acc_dummy]], \n",
    "                       columns=['roc_auc', 'accuracy'], \n",
    "                       index=['CatBoost',\n",
    "                              'Dummy'])\n",
    "final_result"
   ]
  },
  {
   "cell_type": "markdown",
   "id": "069634de",
   "metadata": {},
   "source": [
    "Look at feature importance for best model"
   ]
  },
  {
   "cell_type": "code",
   "execution_count": 53,
   "id": "d5a02cc6",
   "metadata": {
    "scrolled": false
   },
   "outputs": [
    {
     "data": {
      "image/png": "[encoded data removed]",
      "text/plain": [
       "<Figure size 864x576 with 1 Axes>"
      ]
     },
     "metadata": {},
     "output_type": "display_data"
    }
   ],
   "source": [
    "feature_importance = best_model.feature_importances_\n",
    "sorted_idx = np.argsort(feature_importance)\n",
    "plt.figure(figsize=(12, 8))\n",
    "plt.barh(range(len(sorted_idx)), \n",
    "         feature_importance[sorted_idx], \n",
    "         align='center', \n",
    "         color='r')\n",
    "plt.yticks(range(len(sorted_idx)), \n",
    "           np.array(features_test.columns)[sorted_idx])\n",
    "plt.title('Feature Importance', fontsize = 14);"
   ]
  },
  {
   "cell_type": "markdown",
   "id": "48e1cbfc",
   "metadata": {},
   "source": [
    "### Best model testing conclusion\n",
    "- ROC-curve shows that model predict pretty qualitatively and not by accident\n",
    "- Confusion matrix: model marked **FP**(False Positive) 168 times and **FN**(False Negative) 82 times. **TP**(True Positive) model marked almost 1126 times, so we have **recall 0,93** and **precision 0,87**. It means that model has really good quality.\n",
    "- ROC AUC is **0.92**\n",
    "- Accuracy is **0.86**\n",
    "- Best model has better predictions then constant one. Validity check is done.\n",
    "- `total_days` feature is the most important for our model. Then goes `monthly_charges` and `type`."
   ]
  },
  {
   "cell_type": "markdown",
   "id": "cefc491e",
   "metadata": {},
   "source": [
    "## Report"
   ]
  },
  {
   "cell_type": "markdown",
   "id": "66492ba3",
   "metadata": {},
   "source": [
    "### Project description\n",
    "Telecom operator would like to predict churn of clients.\n",
    "\n",
    "Company mainly provides two types of services: \n",
    "\n",
    "1. Landline communication.\n",
    "2. Internet. \n",
    "\n",
    "Some other services the company provides include:\n",
    "\n",
    "- Internet security: antivirus software (DeviceProtection) and a malicious website blocker (OnlineSecurity)\n",
    "- A dedicated technical support line (TechSupport)\n",
    "- Cloud file storage and data backup (OnlineBackup)\n",
    "- TV streaming (StreamingTV) and a movie directory (StreamingMovies)\n",
    "\n",
    "The clients can choose either a monthly payment or sign a 1- or 2-year contract.\n",
    "\n",
    "### Data preprocessing\n",
    "\n",
    "During data preprocessing, the following actions were performed:\n",
    " - Changed type of `total_charges` feature to float using **.astype()** method. `begin_date`, `end_date` type was changed using **pd.to_datetime()**.\n",
    " - Added target feature `churn` where **1** means client left, **0** means client still uses services.\n",
    " - Added `total_days` feature as difference between `end_date` and `begin_date`.\n",
    " - Deleted `begin_date` and `end_date` features to avoid leakage of target feature when training models.\n",
    " - Merged all sheets into one with name `data` using `customerID` feature as key. We used **.merge()** method.\n",
    " - Set `customerID` feature as index with help of **.set_index()** to train model correctly.\n",
    " - Formated names of features.\n",
    " - Filled missing values with **.fillna()**.\n",
    "\n",
    "### Exploratory analysis\n",
    "\n",
    "- Did **EDA**. Used **.hist()**, **.plot()**, **sns.boxplot()**, **sns.pairplot()**, **sns.countplot()**, **phik_matrix()**. During analysis we found that:\n",
    "    - Negative class is three times more than positive. Need to balace classes when learn models.\n",
    "    - Analyzing multicollinearity problem with the help of **Phik** correlation, we discovered: \n",
    "      - strong correlation between variables such as `streaming_tv` and `streaming_movies`. These feautures seem to be practically the same, because streaming_movies are usually part of streaming_tv. So we can delete `streaming_movies` feature. \n",
    "      - strong correlation between variables such as `total_charges` and `monthly_charges`. Since we have `total_days` feature we can delete `total_charges`. If we need we are able to recover data from `total_charges` using `monthly_charges` and `total_days`.\n",
    "      \n",
    "    - Outflow of **25** customers is normal, all **above** is anomaly.\n",
    "    \n",
    "    <a href=\"https://ibb.co/5WKF6Hf\"><img src=\"https://i.ibb.co/wNcsRmx/boxplot.png\" alt=\"boxplot\" border=\"0\"></a>\n",
    "\n",
    "    - Share of left clients' charges is **18%**.\n",
    "    - Highest outflow is in first **61** days.\n",
    "    - Clients who leave in first **61** days make up one third of all left. And their charges are only **0,2%** of all charges.\n",
    "    - Customers with month-to-month contract cancel **9** times more often then customers with both one and two years contracts.\n",
    "    \n",
    "    <a href=\"https://imgbb.com/\"><img src=\"https://i.ibb.co/XyKNwq2/pie.png\" alt=\"pie\" border=\"0\"></a>\n",
    "    \n",
    "### Model learning\n",
    "\n",
    " - Models:\n",
    "    - **CatBoostClassifier**\n",
    "    - **LGBMClassifier**\n",
    "    - **RandomForestClassifier**\n",
    " - For model learning and searching best hyperparameters we used **GridSearchCV**.\n",
    " - Also **PipeLine**  for standardizing features with the help of **StandardScaler()**\n",
    " - Comparison of models' results:\n",
    " \n",
    "| Model | ROC AUC |\n",
    "| ------| ----------- |\n",
    "| CatBoost     | 0.92 |\n",
    "| LGBM         | 0.91 |\n",
    "| RandomForest | 0.86 |\n",
    "\n",
    "### Best model and its quality\n",
    "\n",
    "#### Model\n",
    "Best model is **CatBoostClassifier** with following results:\n",
    " - **depth=4**\n",
    " - **iterations=1000**\n",
    " - **learning_rate=0.1**\n",
    "\n",
    "#### Quality\n",
    "Obtained following results:\n",
    "\n",
    "| Metrics | Result |\n",
    "| ------- | --------- |\n",
    "| Accuracy     | 0.86 |\n",
    "| ROC AUC      | 0.92 |\n",
    "| Recall       | 0.93 |\n",
    "| Precision    | 0.87 |\n",
    "\n",
    "\n",
    "<a href=\"https://imgbb.com/\"><img src=\"https://i.ibb.co/WfJgsGw/roc-curve.png\" alt=\"roc-curve\" border=\"0\"></a>\n",
    "\n",
    "#### Comparing with Constant model\n",
    "Best model has better predictions then constant one(**ROC AUC 0.51, Accuracy 0.62**). Validity check is done.\n",
    "\n",
    "#### Features importance for best model\n",
    "`total_days` feature is the most important for our model. Then goes `monthly_charges` and `type`.\n",
    "\n",
    "\n",
    "<a href=\"https://ibb.co/3RSxnGL\"><img src=\"https://i.ibb.co/2ZczTmf/fi.png\" alt=\"fi\" border=\"0\"></a>\n",
    "\n"
   ]
  },
  {
   "cell_type": "markdown",
   "id": "08333051",
   "metadata": {},
   "source": [
    "## Business recommendation"
   ]
  },
  {
   "cell_type": "markdown",
   "id": "b7aab781",
   "metadata": {},
   "source": [
    " 1. Should take a closer look at customers who drop services in the first 61 days. Although they bring only 0.2% of total revenue, at the same time such clients make up one third of all left people. It seems quite possible to introduce a new package of services for such clients.\n",
    " 2. For customers who outflow after 61 days will be very useful to offer loyalty programs, 'cause their share of total charges is 17.8%.\n",
    " 3. It is necessary to update or optimize month-to-month contract. Customers with month-to-month contract cancel 9 times more often then customers with both one and two years contracts."
   ]
  }
 ],
 "metadata": {
  "ExecuteTimeLog": [
   {
    "duration": 1639,
    "start_time": "2022-10-11T10:46:03.585Z"
   },
   {
    "duration": 99,
    "start_time": "2022-10-11T10:46:34.542Z"
   },
   {
    "duration": 187,
    "start_time": "2022-10-11T10:46:43.124Z"
   },
   {
    "duration": 83,
    "start_time": "2022-10-11T10:47:11.714Z"
   },
   {
    "duration": 191,
    "start_time": "2022-10-11T10:47:16.792Z"
   },
   {
    "duration": 91,
    "start_time": "2022-10-11T10:47:23.343Z"
   },
   {
    "duration": 5,
    "start_time": "2022-10-11T10:47:27.108Z"
   },
   {
    "duration": 204,
    "start_time": "2022-10-11T10:47:27.607Z"
   },
   {
    "duration": 98,
    "start_time": "2022-10-11T10:47:36.586Z"
   },
   {
    "duration": 95,
    "start_time": "2022-10-11T10:48:04.571Z"
   },
   {
    "duration": 79,
    "start_time": "2022-10-11T10:48:23.718Z"
   },
   {
    "duration": 103,
    "start_time": "2022-10-11T10:49:28.065Z"
   },
   {
    "duration": 76,
    "start_time": "2022-10-11T10:50:13.545Z"
   },
   {
    "duration": 166,
    "start_time": "2022-10-11T10:50:45.605Z"
   },
   {
    "duration": 81,
    "start_time": "2022-10-11T10:51:04.067Z"
   },
   {
    "duration": 54,
    "start_time": "2022-10-11T14:11:29.319Z"
   },
   {
    "duration": 1499,
    "start_time": "2022-10-18T07:15:35.414Z"
   },
   {
    "duration": 0,
    "start_time": "2022-10-18T07:15:36.916Z"
   },
   {
    "duration": 0,
    "start_time": "2022-10-18T07:15:36.917Z"
   },
   {
    "duration": 0,
    "start_time": "2022-10-18T07:15:36.918Z"
   },
   {
    "duration": 0,
    "start_time": "2022-10-18T07:15:36.919Z"
   },
   {
    "duration": 0,
    "start_time": "2022-10-18T07:15:36.920Z"
   },
   {
    "duration": 0,
    "start_time": "2022-10-18T07:15:36.921Z"
   },
   {
    "duration": 0,
    "start_time": "2022-10-18T07:15:36.923Z"
   },
   {
    "duration": 0,
    "start_time": "2022-10-18T07:15:36.924Z"
   },
   {
    "duration": 0,
    "start_time": "2022-10-18T07:15:36.925Z"
   },
   {
    "duration": 0,
    "start_time": "2022-10-18T07:15:36.926Z"
   },
   {
    "duration": 0,
    "start_time": "2022-10-18T07:15:36.927Z"
   },
   {
    "duration": 0,
    "start_time": "2022-10-18T07:15:36.929Z"
   },
   {
    "duration": 0,
    "start_time": "2022-10-18T07:15:36.929Z"
   },
   {
    "duration": 0,
    "start_time": "2022-10-18T07:15:36.930Z"
   },
   {
    "duration": 0,
    "start_time": "2022-10-18T07:15:36.931Z"
   },
   {
    "duration": 0,
    "start_time": "2022-10-18T07:15:36.932Z"
   },
   {
    "duration": 0,
    "start_time": "2022-10-18T07:15:36.933Z"
   },
   {
    "duration": 0,
    "start_time": "2022-10-18T07:15:36.934Z"
   },
   {
    "duration": 0,
    "start_time": "2022-10-18T07:15:36.935Z"
   },
   {
    "duration": 0,
    "start_time": "2022-10-18T07:15:36.936Z"
   },
   {
    "duration": 0,
    "start_time": "2022-10-18T07:15:36.937Z"
   },
   {
    "duration": 0,
    "start_time": "2022-10-18T07:15:36.938Z"
   },
   {
    "duration": 0,
    "start_time": "2022-10-18T07:15:36.939Z"
   },
   {
    "duration": 0,
    "start_time": "2022-10-18T07:15:36.940Z"
   },
   {
    "duration": 3346,
    "start_time": "2022-10-18T07:15:59.820Z"
   },
   {
    "duration": 67,
    "start_time": "2022-10-18T07:16:05.093Z"
   },
   {
    "duration": 464,
    "start_time": "2022-10-18T07:16:05.574Z"
   },
   {
    "duration": 11,
    "start_time": "2022-10-18T07:16:08.753Z"
   },
   {
    "duration": 167,
    "start_time": "2022-10-18T07:16:09.195Z"
   },
   {
    "duration": 374,
    "start_time": "2022-10-18T07:16:16.714Z"
   },
   {
    "duration": 140,
    "start_time": "2022-10-18T07:16:17.397Z"
   },
   {
    "duration": 3,
    "start_time": "2022-10-18T07:16:17.747Z"
   },
   {
    "duration": 214,
    "start_time": "2022-10-18T07:16:18.634Z"
   },
   {
    "duration": 221,
    "start_time": "2022-10-18T07:16:18.953Z"
   },
   {
    "duration": 110,
    "start_time": "2022-10-18T07:16:19.176Z"
   },
   {
    "duration": 7,
    "start_time": "2022-10-18T07:16:19.429Z"
   },
   {
    "duration": 227,
    "start_time": "2022-10-18T07:16:19.593Z"
   },
   {
    "duration": 203,
    "start_time": "2022-10-18T07:16:19.822Z"
   },
   {
    "duration": 13,
    "start_time": "2022-10-18T07:16:21.153Z"
   },
   {
    "duration": 14,
    "start_time": "2022-10-18T07:16:21.474Z"
   },
   {
    "duration": 3,
    "start_time": "2022-10-18T07:16:21.827Z"
   },
   {
    "duration": 6,
    "start_time": "2022-10-18T07:16:21.952Z"
   },
   {
    "duration": 3,
    "start_time": "2022-10-18T07:16:22.132Z"
   },
   {
    "duration": 11,
    "start_time": "2022-10-18T07:16:22.684Z"
   },
   {
    "duration": 45,
    "start_time": "2022-10-18T07:16:23.193Z"
   },
   {
    "duration": 21,
    "start_time": "2022-10-18T07:16:23.532Z"
   },
   {
    "duration": 5,
    "start_time": "2022-10-18T07:16:23.934Z"
   },
   {
    "duration": 4,
    "start_time": "2022-10-18T07:16:24.415Z"
   },
   {
    "duration": 18,
    "start_time": "2022-10-18T07:16:24.562Z"
   },
   {
    "duration": 7,
    "start_time": "2022-10-18T07:16:25.132Z"
   },
   {
    "duration": 96,
    "start_time": "2022-10-18T07:16:25.772Z"
   },
   {
    "duration": 757,
    "start_time": "2022-10-18T07:16:26.815Z"
   },
   {
    "duration": 16,
    "start_time": "2022-10-18T07:16:29.234Z"
   },
   {
    "duration": 4,
    "start_time": "2022-10-18T07:16:30.365Z"
   },
   {
    "duration": 4690,
    "start_time": "2022-10-18T07:16:32.974Z"
   },
   {
    "duration": 4308,
    "start_time": "2022-10-18T07:16:49.313Z"
   },
   {
    "duration": 4861,
    "start_time": "2022-10-18T07:17:17.775Z"
   },
   {
    "duration": 93,
    "start_time": "2022-10-18T07:23:29.027Z"
   },
   {
    "duration": 71,
    "start_time": "2022-10-18T07:26:21.280Z"
   },
   {
    "duration": 3163,
    "start_time": "2022-10-18T17:57:38.518Z"
   },
   {
    "duration": 2560,
    "start_time": "2022-10-18T17:57:41.683Z"
   },
   {
    "duration": 1683,
    "start_time": "2022-10-18T17:57:44.246Z"
   },
   {
    "duration": 734,
    "start_time": "2022-10-18T17:57:45.932Z"
   },
   {
    "duration": 5,
    "start_time": "2022-10-18T17:57:46.668Z"
   },
   {
    "duration": 329,
    "start_time": "2022-10-18T17:57:46.675Z"
   },
   {
    "duration": 249,
    "start_time": "2022-10-18T17:57:47.006Z"
   },
   {
    "duration": 188,
    "start_time": "2022-10-18T17:57:47.257Z"
   },
   {
    "duration": 6,
    "start_time": "2022-10-18T17:57:47.447Z"
   },
   {
    "duration": 241,
    "start_time": "2022-10-18T17:57:47.456Z"
   },
   {
    "duration": 113,
    "start_time": "2022-10-18T17:57:47.698Z"
   },
   {
    "duration": 23,
    "start_time": "2022-10-18T17:57:47.813Z"
   },
   {
    "duration": 24,
    "start_time": "2022-10-18T17:57:47.838Z"
   },
   {
    "duration": 4,
    "start_time": "2022-10-18T17:57:47.863Z"
   },
   {
    "duration": 10,
    "start_time": "2022-10-18T17:57:47.868Z"
   },
   {
    "duration": 16,
    "start_time": "2022-10-18T17:57:47.880Z"
   },
   {
    "duration": 13,
    "start_time": "2022-10-18T17:57:47.898Z"
   },
   {
    "duration": 85,
    "start_time": "2022-10-18T17:57:47.914Z"
   },
   {
    "duration": 27,
    "start_time": "2022-10-18T17:57:48.001Z"
   },
   {
    "duration": 6,
    "start_time": "2022-10-18T17:57:48.031Z"
   },
   {
    "duration": 15,
    "start_time": "2022-10-18T17:57:48.039Z"
   },
   {
    "duration": 44,
    "start_time": "2022-10-18T17:57:48.055Z"
   },
   {
    "duration": 11,
    "start_time": "2022-10-18T17:57:48.100Z"
   },
   {
    "duration": 109,
    "start_time": "2022-10-18T17:57:48.113Z"
   },
   {
    "duration": 820,
    "start_time": "2022-10-18T17:57:48.224Z"
   },
   {
    "duration": 15,
    "start_time": "2022-10-18T17:57:49.046Z"
   },
   {
    "duration": 6,
    "start_time": "2022-10-18T17:57:49.063Z"
   },
   {
    "duration": 4536,
    "start_time": "2022-10-18T17:57:49.072Z"
   },
   {
    "duration": 4229,
    "start_time": "2022-10-18T17:57:53.610Z"
   },
   {
    "duration": 15,
    "start_time": "2022-10-18T17:57:57.841Z"
   },
   {
    "duration": 257,
    "start_time": "2022-10-18T17:57:57.857Z"
   },
   {
    "duration": 161,
    "start_time": "2022-10-18T17:57:58.117Z"
   },
   {
    "duration": 23,
    "start_time": "2022-10-18T17:57:58.281Z"
   },
   {
    "duration": 5,
    "start_time": "2022-10-18T17:57:58.307Z"
   },
   {
    "duration": 6,
    "start_time": "2022-10-18T17:57:58.314Z"
   },
   {
    "duration": 12,
    "start_time": "2022-10-18T17:57:58.322Z"
   },
   {
    "duration": 9,
    "start_time": "2022-10-18T17:57:58.336Z"
   },
   {
    "duration": 9,
    "start_time": "2022-10-18T17:57:58.347Z"
   },
   {
    "duration": 327,
    "start_time": "2022-10-18T17:57:58.395Z"
   },
   {
    "duration": 3,
    "start_time": "2022-10-18T17:57:58.724Z"
   },
   {
    "duration": 22,
    "start_time": "2022-10-18T17:57:58.729Z"
   },
   {
    "duration": 131,
    "start_time": "2022-10-18T17:57:58.753Z"
   },
   {
    "duration": 18,
    "start_time": "2022-10-18T17:58:55.741Z"
   },
   {
    "duration": 19,
    "start_time": "2022-10-18T17:59:12.459Z"
   },
   {
    "duration": 2137,
    "start_time": "2022-10-18T17:59:31.553Z"
   },
   {
    "duration": 2016,
    "start_time": "2022-10-18T17:59:33.693Z"
   },
   {
    "duration": 1530,
    "start_time": "2022-10-18T17:59:35.711Z"
   },
   {
    "duration": 136,
    "start_time": "2022-10-18T17:59:37.243Z"
   },
   {
    "duration": 3,
    "start_time": "2022-10-18T17:59:37.381Z"
   },
   {
    "duration": 239,
    "start_time": "2022-10-18T17:59:37.386Z"
   },
   {
    "duration": 269,
    "start_time": "2022-10-18T17:59:37.626Z"
   },
   {
    "duration": 200,
    "start_time": "2022-10-18T17:59:37.898Z"
   },
   {
    "duration": 7,
    "start_time": "2022-10-18T17:59:38.101Z"
   },
   {
    "duration": 246,
    "start_time": "2022-10-18T17:59:38.112Z"
   },
   {
    "duration": 109,
    "start_time": "2022-10-18T17:59:38.359Z"
   },
   {
    "duration": 12,
    "start_time": "2022-10-18T17:59:38.470Z"
   },
   {
    "duration": 25,
    "start_time": "2022-10-18T17:59:38.484Z"
   },
   {
    "duration": 4,
    "start_time": "2022-10-18T17:59:38.511Z"
   },
   {
    "duration": 10,
    "start_time": "2022-10-18T17:59:38.517Z"
   },
   {
    "duration": 8,
    "start_time": "2022-10-18T17:59:38.528Z"
   },
   {
    "duration": 17,
    "start_time": "2022-10-18T17:59:38.537Z"
   },
   {
    "duration": 69,
    "start_time": "2022-10-18T17:59:38.556Z"
   },
   {
    "duration": 17,
    "start_time": "2022-10-18T17:59:38.626Z"
   },
   {
    "duration": 5,
    "start_time": "2022-10-18T17:59:38.645Z"
   },
   {
    "duration": 7,
    "start_time": "2022-10-18T17:59:38.651Z"
   },
   {
    "duration": 40,
    "start_time": "2022-10-18T17:59:38.660Z"
   },
   {
    "duration": 10,
    "start_time": "2022-10-18T17:59:38.702Z"
   },
   {
    "duration": 107,
    "start_time": "2022-10-18T17:59:38.713Z"
   },
   {
    "duration": 799,
    "start_time": "2022-10-18T17:59:38.822Z"
   },
   {
    "duration": 16,
    "start_time": "2022-10-18T17:59:39.622Z"
   },
   {
    "duration": 6,
    "start_time": "2022-10-18T17:59:39.639Z"
   },
   {
    "duration": 4504,
    "start_time": "2022-10-18T17:59:39.648Z"
   },
   {
    "duration": 4147,
    "start_time": "2022-10-18T17:59:44.154Z"
   },
   {
    "duration": 14,
    "start_time": "2022-10-18T17:59:48.302Z"
   },
   {
    "duration": 242,
    "start_time": "2022-10-18T17:59:48.318Z"
   },
   {
    "duration": 172,
    "start_time": "2022-10-18T17:59:48.562Z"
   },
   {
    "duration": 13,
    "start_time": "2022-10-18T17:59:48.736Z"
   },
   {
    "duration": 8,
    "start_time": "2022-10-18T17:59:48.750Z"
   },
   {
    "duration": 8,
    "start_time": "2022-10-18T17:59:48.759Z"
   },
   {
    "duration": 29,
    "start_time": "2022-10-18T17:59:48.769Z"
   },
   {
    "duration": 5,
    "start_time": "2022-10-18T17:59:48.800Z"
   },
   {
    "duration": 8,
    "start_time": "2022-10-18T17:59:48.807Z"
   },
   {
    "duration": 390,
    "start_time": "2022-10-18T17:59:48.816Z"
   },
   {
    "duration": 2,
    "start_time": "2022-10-18T17:59:49.207Z"
   },
   {
    "duration": 19,
    "start_time": "2022-10-18T17:59:49.211Z"
   },
   {
    "duration": 121,
    "start_time": "2022-10-18T17:59:49.232Z"
   },
   {
    "duration": 3,
    "start_time": "2022-10-18T17:59:49.355Z"
   },
   {
    "duration": 9,
    "start_time": "2022-10-18T17:59:49.359Z"
   },
   {
    "duration": 526148,
    "start_time": "2022-10-18T17:59:49.369Z"
   }
  ],
  "kernelspec": {
   "display_name": "Python 3 (ipykernel)",
   "language": "python",
   "name": "python3"
  },
  "language_info": {
   "codemirror_mode": {
    "name": "ipython",
    "version": 3
   },
   "file_extension": ".py",
   "mimetype": "text/x-python",
   "name": "python",
   "nbconvert_exporter": "python",
   "pygments_lexer": "ipython3",
   "version": "3.9.13"
  },
  "toc": {
   "base_numbering": 1,
   "nav_menu": {},
   "number_sections": true,
   "sideBar": true,
   "skip_h1_title": true,
   "title_cell": "Table of Contents",
   "title_sidebar": "Contents",
   "toc_cell": true,
   "toc_position": {
    "height": "calc(100% - 180px)",
    "left": "10px",
    "top": "150px",
    "width": "273.188px"
   },
   "toc_section_display": true,
   "toc_window_display": false
  }
 },
 "nbformat": 4,
 "nbformat_minor": 5
}
