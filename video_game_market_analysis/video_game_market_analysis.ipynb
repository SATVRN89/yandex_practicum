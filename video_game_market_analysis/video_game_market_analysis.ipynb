{
 "cells": [
  {
   "cell_type": "markdown",
   "id": "e4bb69f7",
   "metadata": {
    "toc": true
   },
   "source": [
    "<h1>Table of contents<span class=\"tocSkip\"></span></h1>\n",
    "<div class=\"toc\"><ul class=\"toc-item\"><li><ul class=\"toc-item\"><li><span><a href=\"#Project-description\" data-toc-modified-id=\"Project-description-0.1\"><span class=\"toc-item-num\">0.1&nbsp;&nbsp;</span>Project description</a></span></li><li><span><a href=\"#Data-description\" data-toc-modified-id=\"Data-description-0.2\"><span class=\"toc-item-num\">0.2&nbsp;&nbsp;</span>Data description</a></span></li><li><span><a href=\"#Work-plan\" data-toc-modified-id=\"Work-plan-0.3\"><span class=\"toc-item-num\">0.3&nbsp;&nbsp;</span>Work plan</a></span><ul class=\"toc-item\"><li><span><a href=\"#First-step\" data-toc-modified-id=\"First-step-0.3.1\"><span class=\"toc-item-num\">0.3.1&nbsp;&nbsp;</span>First step</a></span></li><li><span><a href=\"#Second-step\" data-toc-modified-id=\"Second-step-0.3.2\"><span class=\"toc-item-num\">0.3.2&nbsp;&nbsp;</span>Second step</a></span></li><li><span><a href=\"#Third-step\" data-toc-modified-id=\"Third-step-0.3.3\"><span class=\"toc-item-num\">0.3.3&nbsp;&nbsp;</span>Third step</a></span></li><li><span><a href=\"#Fourth-step\" data-toc-modified-id=\"Fourth-step-0.3.4\"><span class=\"toc-item-num\">0.3.4&nbsp;&nbsp;</span>Fourth step</a></span></li><li><span><a href=\"#Fifth-step\" data-toc-modified-id=\"Fifth-step-0.3.5\"><span class=\"toc-item-num\">0.3.5&nbsp;&nbsp;</span>Fifth step</a></span></li><li><span><a href=\"#Last-step\" data-toc-modified-id=\"Last-step-0.3.6\"><span class=\"toc-item-num\">0.3.6&nbsp;&nbsp;</span>Last step</a></span></li></ul></li></ul></li><li><span><a href=\"#Load-data\" data-toc-modified-id=\"Load-data-1\"><span class=\"toc-item-num\">1&nbsp;&nbsp;</span>Load data</a></span><ul class=\"toc-item\"><li><span><a href=\"#Conclusion\" data-toc-modified-id=\"Conclusion-1.1\"><span class=\"toc-item-num\">1.1&nbsp;&nbsp;</span>Conclusion</a></span></li></ul></li><li><span><a href=\"#Data-preprocessing\" data-toc-modified-id=\"Data-preprocessing-2\"><span class=\"toc-item-num\">2&nbsp;&nbsp;</span>Data preprocessing</a></span><ul class=\"toc-item\"><li><span><a href=\"#Conclusion\" data-toc-modified-id=\"Conclusion-2.1\"><span class=\"toc-item-num\">2.1&nbsp;&nbsp;</span>Conclusion</a></span></li></ul></li><li><span><a href=\"#Data-analysis\" data-toc-modified-id=\"Data-analysis-3\"><span class=\"toc-item-num\">3&nbsp;&nbsp;</span>Data analysis</a></span><ul class=\"toc-item\"><li><span><a href=\"#Conclusion\" data-toc-modified-id=\"Conclusion-3.1\"><span class=\"toc-item-num\">3.1&nbsp;&nbsp;</span>Conclusion</a></span></li></ul></li><li><span><a href=\"#Сreate-user-profile-for-each-region\" data-toc-modified-id=\"Сreate-user-profile-for-each-region-4\"><span class=\"toc-item-num\">4&nbsp;&nbsp;</span>Сreate user profile for each region</a></span><ul class=\"toc-item\"><li><span><a href=\"#Conclusion\" data-toc-modified-id=\"Conclusion-4.1\"><span class=\"toc-item-num\">4.1&nbsp;&nbsp;</span>Conclusion</a></span></li></ul></li><li><span><a href=\"#Check-hypotheses\" data-toc-modified-id=\"Check-hypotheses-5\"><span class=\"toc-item-num\">5&nbsp;&nbsp;</span>Check hypotheses</a></span><ul class=\"toc-item\"><li><span><a href=\"#Average-user-scores-of-Xbox-One-and-PC-platforms-are-equal\" data-toc-modified-id=\"Average-user-scores-of-Xbox-One-and-PC-platforms-are-equal-5.1\"><span class=\"toc-item-num\">5.1&nbsp;&nbsp;</span>Average user scores of Xbox One and PC platforms are equal</a></span></li><li><span><a href=\"#Average-user-scores-for-Action-and-Sports-genres-are-different\" data-toc-modified-id=\"Average-user-scores-for-Action-and-Sports-genres-are-different-5.2\"><span class=\"toc-item-num\">5.2&nbsp;&nbsp;</span>Average user scores for Action and Sports genres are different</a></span></li></ul></li><li><span><a href=\"#General-conclusion\" data-toc-modified-id=\"General-conclusion-6\"><span class=\"toc-item-num\">6&nbsp;&nbsp;</span>General conclusion</a></span></li><li><span><a href=\"#Campaign-plan-for-2017\" data-toc-modified-id=\"Campaign-plan-for-2017-7\"><span class=\"toc-item-num\">7&nbsp;&nbsp;</span>Campaign plan for 2017</a></span></li></ul></div>"
   ]
  },
  {
   "cell_type": "markdown",
   "id": "b223f78c",
   "metadata": {},
   "source": [
    "# Video game market analysis"
   ]
  },
  {
   "cell_type": "markdown",
   "id": "b3c6a41d",
   "metadata": {},
   "source": [
    "### Project description\n",
    "Online store sells video games worldwide. User and expert reviews, genres, platforms (e.g. Xbox or PlayStation), and historical data on game sales are available from open sources. Store wants to identify patterns that determine whether game succeeds or not. This allows to spend money on potentially popular item and plan advertising campaigns.\n",
    "Data is available up to December 2016. Task is to plan campaign for 2017.\n",
    "\n",
    "### Data description\n",
    "\n",
    "- `Name` — name of game\n",
    "- `Platform` — platform\n",
    "- `Year_of_Release` — year of release\n",
    "- `Genre` — genre of game\n",
    "- `NA_sales` — sales in Northern America (millions of purchased copies)\n",
    "- `EU_sales` — sales in Europe (millions of purchased copies)\n",
    "- `JP_sales` — sales in Japan (millions of purchased copies)\n",
    "- `Other_sales` — sales in other countries (millions of purchased copies)\n",
    "- `Critic_Score` — critics' score (maximum 100)\n",
    "- `User_Score` — users' score (maximum 10)\n",
    "- `Rating` — rating from ESRB (Entertainment Software Rating Board). ESRB evaluates game's content and assigns appropriate age categories, such as Teen and Mature.\n",
    "- Data for 2016 may be incomplete.\n",
    "\n",
    "### Work plan\n",
    "\n",
    "#### First step\n",
    "- Data load\n",
    "\n",
    "#### Second step\n",
    "- Data preprocessing\n",
    "- Сalculate total sales for all regions \n",
    "\n",
    "#### Third step\n",
    "- Check quantity of released games by year \n",
    "- Check sales by platforms. Choose platforms with top total sales. Plot distribution by year. Check platforms' life span\n",
    "- Determine current data period\n",
    "- Choose best platforms\n",
    "- Plot boxplot for global sales of games by platform\n",
    "- Check affection of users' and critics' reviews on sales for one popular platform\n",
    "- Relate conclusions to sales of games on other platforms\n",
    "- Look at general distribution of games by genre\n",
    "\n",
    "#### Fourth step\n",
    "- Define for user of each region (NA, EU, JP):\n",
    "  - Top five platforms\n",
    "  - Top five genres\n",
    "  - If rating ESRB affect on sales in particular region\n",
    "\n",
    "#### Fifth step\n",
    "- Check hypotheses\n",
    "\n",
    "#### Last step\n",
    "- Make conclusion"
   ]
  },
  {
   "cell_type": "markdown",
   "id": "6430d1b8",
   "metadata": {},
   "source": [
    "## Load data"
   ]
  },
  {
   "cell_type": "code",
   "execution_count": 1,
   "id": "bc94b66d",
   "metadata": {},
   "outputs": [
    {
     "data": {
      "application/javascript": [
       "IPython.OutputArea.prototype._should_scroll = function(lines) {\n",
       "    return false;\n",
       "}\n"
      ],
      "text/plain": [
       "<IPython.core.display.Javascript object>"
      ]
     },
     "metadata": {},
     "output_type": "display_data"
    }
   ],
   "source": [
    "%%javascript\n",
    "IPython.OutputArea.prototype._should_scroll = function(lines) {\n",
    "    return false;\n",
    "}"
   ]
  },
  {
   "cell_type": "code",
   "execution_count": 2,
   "id": "5f69328d",
   "metadata": {},
   "outputs": [
    {
     "data": {
      "text/html": [
       "<div>\n",
       "<style scoped>\n",
       "    .dataframe tbody tr th:only-of-type {\n",
       "        vertical-align: middle;\n",
       "    }\n",
       "\n",
       "    .dataframe tbody tr th {\n",
       "        vertical-align: top;\n",
       "    }\n",
       "\n",
       "    .dataframe thead th {\n",
       "        text-align: right;\n",
       "    }\n",
       "</style>\n",
       "<table border=\"1\" class=\"dataframe\">\n",
       "  <thead>\n",
       "    <tr style=\"text-align: right;\">\n",
       "      <th></th>\n",
       "      <th>Name</th>\n",
       "      <th>Platform</th>\n",
       "      <th>Year_of_Release</th>\n",
       "      <th>Genre</th>\n",
       "      <th>NA_sales</th>\n",
       "      <th>EU_sales</th>\n",
       "      <th>JP_sales</th>\n",
       "      <th>Other_sales</th>\n",
       "      <th>Critic_Score</th>\n",
       "      <th>User_Score</th>\n",
       "      <th>Rating</th>\n",
       "    </tr>\n",
       "  </thead>\n",
       "  <tbody>\n",
       "    <tr>\n",
       "      <th>0</th>\n",
       "      <td>Wii Sports</td>\n",
       "      <td>Wii</td>\n",
       "      <td>2006.0</td>\n",
       "      <td>Sports</td>\n",
       "      <td>41.36</td>\n",
       "      <td>28.96</td>\n",
       "      <td>3.77</td>\n",
       "      <td>8.45</td>\n",
       "      <td>76.0</td>\n",
       "      <td>8</td>\n",
       "      <td>E</td>\n",
       "    </tr>\n",
       "    <tr>\n",
       "      <th>1</th>\n",
       "      <td>Super Mario Bros.</td>\n",
       "      <td>NES</td>\n",
       "      <td>1985.0</td>\n",
       "      <td>Platform</td>\n",
       "      <td>29.08</td>\n",
       "      <td>3.58</td>\n",
       "      <td>6.81</td>\n",
       "      <td>0.77</td>\n",
       "      <td>NaN</td>\n",
       "      <td>NaN</td>\n",
       "      <td>NaN</td>\n",
       "    </tr>\n",
       "    <tr>\n",
       "      <th>2</th>\n",
       "      <td>Mario Kart Wii</td>\n",
       "      <td>Wii</td>\n",
       "      <td>2008.0</td>\n",
       "      <td>Racing</td>\n",
       "      <td>15.68</td>\n",
       "      <td>12.76</td>\n",
       "      <td>3.79</td>\n",
       "      <td>3.29</td>\n",
       "      <td>82.0</td>\n",
       "      <td>8.3</td>\n",
       "      <td>E</td>\n",
       "    </tr>\n",
       "    <tr>\n",
       "      <th>3</th>\n",
       "      <td>Wii Sports Resort</td>\n",
       "      <td>Wii</td>\n",
       "      <td>2009.0</td>\n",
       "      <td>Sports</td>\n",
       "      <td>15.61</td>\n",
       "      <td>10.93</td>\n",
       "      <td>3.28</td>\n",
       "      <td>2.95</td>\n",
       "      <td>80.0</td>\n",
       "      <td>8</td>\n",
       "      <td>E</td>\n",
       "    </tr>\n",
       "    <tr>\n",
       "      <th>4</th>\n",
       "      <td>Pokemon Red/Pokemon Blue</td>\n",
       "      <td>GB</td>\n",
       "      <td>1996.0</td>\n",
       "      <td>Role-Playing</td>\n",
       "      <td>11.27</td>\n",
       "      <td>8.89</td>\n",
       "      <td>10.22</td>\n",
       "      <td>1.00</td>\n",
       "      <td>NaN</td>\n",
       "      <td>NaN</td>\n",
       "      <td>NaN</td>\n",
       "    </tr>\n",
       "  </tbody>\n",
       "</table>\n",
       "</div>"
      ],
      "text/plain": [
       "                       Name Platform  Year_of_Release         Genre  NA_sales  \\\n",
       "0                Wii Sports      Wii           2006.0        Sports     41.36   \n",
       "1         Super Mario Bros.      NES           1985.0      Platform     29.08   \n",
       "2            Mario Kart Wii      Wii           2008.0        Racing     15.68   \n",
       "3         Wii Sports Resort      Wii           2009.0        Sports     15.61   \n",
       "4  Pokemon Red/Pokemon Blue       GB           1996.0  Role-Playing     11.27   \n",
       "\n",
       "   EU_sales  JP_sales  Other_sales  Critic_Score User_Score Rating  \n",
       "0     28.96      3.77         8.45          76.0          8      E  \n",
       "1      3.58      6.81         0.77           NaN        NaN    NaN  \n",
       "2     12.76      3.79         3.29          82.0        8.3      E  \n",
       "3     10.93      3.28         2.95          80.0          8      E  \n",
       "4      8.89     10.22         1.00           NaN        NaN    NaN  "
      ]
     },
     "execution_count": 2,
     "metadata": {},
     "output_type": "execute_result"
    }
   ],
   "source": [
    "import warnings                   \n",
    "warnings.filterwarnings('ignore')\n",
    "\n",
    "import pandas as pd\n",
    "import numpy as np\n",
    "import seaborn as sns\n",
    "import matplotlib.pyplot as plt\n",
    "\n",
    "from scipy import stats as st\n",
    "\n",
    "pd.options.display.max_columns = 100\n",
    "\n",
    "try:\n",
    "    data = pd.read_csv('C:/Users/SATVRN/Desktop/Учеба/05 Сборный проект/games.csv')\n",
    "except:\n",
    "    data = pd.read_csv('/datasets/games.csv')\n",
    "\n",
    "data.head()"
   ]
  },
  {
   "cell_type": "code",
   "execution_count": 3,
   "id": "fffbcdac",
   "metadata": {},
   "outputs": [
    {
     "name": "stdout",
     "output_type": "stream",
     "text": [
      "<class 'pandas.core.frame.DataFrame'>\n",
      "RangeIndex: 16715 entries, 0 to 16714\n",
      "Data columns (total 11 columns):\n",
      " #   Column           Non-Null Count  Dtype  \n",
      "---  ------           --------------  -----  \n",
      " 0   Name             16713 non-null  object \n",
      " 1   Platform         16715 non-null  object \n",
      " 2   Year_of_Release  16446 non-null  float64\n",
      " 3   Genre            16713 non-null  object \n",
      " 4   NA_sales         16715 non-null  float64\n",
      " 5   EU_sales         16715 non-null  float64\n",
      " 6   JP_sales         16715 non-null  float64\n",
      " 7   Other_sales      16715 non-null  float64\n",
      " 8   Critic_Score     8137 non-null   float64\n",
      " 9   User_Score       10014 non-null  object \n",
      " 10  Rating           9949 non-null   object \n",
      "dtypes: float64(6), object(5)\n",
      "memory usage: 1.4+ MB\n"
     ]
    }
   ],
   "source": [
    "data.info()"
   ]
  },
  {
   "cell_type": "code",
   "execution_count": 4,
   "id": "a206c042",
   "metadata": {},
   "outputs": [
    {
     "data": {
      "text/plain": [
       "Name                  2\n",
       "Platform              0\n",
       "Year_of_Release     269\n",
       "Genre                 2\n",
       "NA_sales              0\n",
       "EU_sales              0\n",
       "JP_sales              0\n",
       "Other_sales           0\n",
       "Critic_Score       8578\n",
       "User_Score         6701\n",
       "Rating             6766\n",
       "dtype: int64"
      ]
     },
     "execution_count": 4,
     "metadata": {},
     "output_type": "execute_result"
    }
   ],
   "source": [
    "data.isna().sum()"
   ]
  },
  {
   "cell_type": "code",
   "execution_count": 5,
   "id": "4abf948a",
   "metadata": {},
   "outputs": [
    {
     "data": {
      "text/html": [
       "<div>\n",
       "<style scoped>\n",
       "    .dataframe tbody tr th:only-of-type {\n",
       "        vertical-align: middle;\n",
       "    }\n",
       "\n",
       "    .dataframe tbody tr th {\n",
       "        vertical-align: top;\n",
       "    }\n",
       "\n",
       "    .dataframe thead th {\n",
       "        text-align: right;\n",
       "    }\n",
       "</style>\n",
       "<table border=\"1\" class=\"dataframe\">\n",
       "  <thead>\n",
       "    <tr style=\"text-align: right;\">\n",
       "      <th></th>\n",
       "      <th>Year_of_Release</th>\n",
       "      <th>NA_sales</th>\n",
       "      <th>EU_sales</th>\n",
       "      <th>JP_sales</th>\n",
       "      <th>Other_sales</th>\n",
       "      <th>Critic_Score</th>\n",
       "    </tr>\n",
       "  </thead>\n",
       "  <tbody>\n",
       "    <tr>\n",
       "      <th>count</th>\n",
       "      <td>16446.000000</td>\n",
       "      <td>16715.000000</td>\n",
       "      <td>16715.000000</td>\n",
       "      <td>16715.000000</td>\n",
       "      <td>16715.000000</td>\n",
       "      <td>8137.000000</td>\n",
       "    </tr>\n",
       "    <tr>\n",
       "      <th>mean</th>\n",
       "      <td>2006.484616</td>\n",
       "      <td>0.263377</td>\n",
       "      <td>0.145060</td>\n",
       "      <td>0.077617</td>\n",
       "      <td>0.047342</td>\n",
       "      <td>68.967679</td>\n",
       "    </tr>\n",
       "    <tr>\n",
       "      <th>std</th>\n",
       "      <td>5.877050</td>\n",
       "      <td>0.813604</td>\n",
       "      <td>0.503339</td>\n",
       "      <td>0.308853</td>\n",
       "      <td>0.186731</td>\n",
       "      <td>13.938165</td>\n",
       "    </tr>\n",
       "    <tr>\n",
       "      <th>min</th>\n",
       "      <td>1980.000000</td>\n",
       "      <td>0.000000</td>\n",
       "      <td>0.000000</td>\n",
       "      <td>0.000000</td>\n",
       "      <td>0.000000</td>\n",
       "      <td>13.000000</td>\n",
       "    </tr>\n",
       "    <tr>\n",
       "      <th>25%</th>\n",
       "      <td>2003.000000</td>\n",
       "      <td>0.000000</td>\n",
       "      <td>0.000000</td>\n",
       "      <td>0.000000</td>\n",
       "      <td>0.000000</td>\n",
       "      <td>60.000000</td>\n",
       "    </tr>\n",
       "    <tr>\n",
       "      <th>50%</th>\n",
       "      <td>2007.000000</td>\n",
       "      <td>0.080000</td>\n",
       "      <td>0.020000</td>\n",
       "      <td>0.000000</td>\n",
       "      <td>0.010000</td>\n",
       "      <td>71.000000</td>\n",
       "    </tr>\n",
       "    <tr>\n",
       "      <th>75%</th>\n",
       "      <td>2010.000000</td>\n",
       "      <td>0.240000</td>\n",
       "      <td>0.110000</td>\n",
       "      <td>0.040000</td>\n",
       "      <td>0.030000</td>\n",
       "      <td>79.000000</td>\n",
       "    </tr>\n",
       "    <tr>\n",
       "      <th>max</th>\n",
       "      <td>2016.000000</td>\n",
       "      <td>41.360000</td>\n",
       "      <td>28.960000</td>\n",
       "      <td>10.220000</td>\n",
       "      <td>10.570000</td>\n",
       "      <td>98.000000</td>\n",
       "    </tr>\n",
       "  </tbody>\n",
       "</table>\n",
       "</div>"
      ],
      "text/plain": [
       "       Year_of_Release      NA_sales      EU_sales      JP_sales  \\\n",
       "count     16446.000000  16715.000000  16715.000000  16715.000000   \n",
       "mean       2006.484616      0.263377      0.145060      0.077617   \n",
       "std           5.877050      0.813604      0.503339      0.308853   \n",
       "min        1980.000000      0.000000      0.000000      0.000000   \n",
       "25%        2003.000000      0.000000      0.000000      0.000000   \n",
       "50%        2007.000000      0.080000      0.020000      0.000000   \n",
       "75%        2010.000000      0.240000      0.110000      0.040000   \n",
       "max        2016.000000     41.360000     28.960000     10.220000   \n",
       "\n",
       "        Other_sales  Critic_Score  \n",
       "count  16715.000000   8137.000000  \n",
       "mean       0.047342     68.967679  \n",
       "std        0.186731     13.938165  \n",
       "min        0.000000     13.000000  \n",
       "25%        0.000000     60.000000  \n",
       "50%        0.010000     71.000000  \n",
       "75%        0.030000     79.000000  \n",
       "max       10.570000     98.000000  "
      ]
     },
     "execution_count": 5,
     "metadata": {},
     "output_type": "execute_result"
    }
   ],
   "source": [
    "data.describe()"
   ]
  },
  {
   "cell_type": "code",
   "execution_count": 6,
   "id": "f44fda59",
   "metadata": {},
   "outputs": [
    {
     "data": {
      "text/plain": [
       "16655                                     Summer Athletics\n",
       "16656                     Imagine Figure Skater (JP sales)\n",
       "16657                            Dramatical Murder Re:code\n",
       "16658                               Driving Simulator 2011\n",
       "16659                         Hyakki Yagyou Kaidan Romance\n",
       "16660                                     Prison Architect\n",
       "16661                                      Bookworm Deluxe\n",
       "16662                  Hakuoki: Reimeiroku - Omouhase Kara\n",
       "16663                           E.T. The Extra-Terrestrial\n",
       "16664             Mahou Sensei Negima!? Neo-Pactio Fight!!\n",
       "16665                                   Sweet Honey Coming\n",
       "16666                                    Psychic Detective\n",
       "16667                                    Hanasaku Manimani\n",
       "16668    Fujiko F. Fujio Characters: Great Assembly! Sl...\n",
       "16669              Super Robot Taisen: Original Generation\n",
       "16670         Sugar + Spice! Anoko no Suteki na Nanimokamo\n",
       "16671                                       Kanokon: Esuii\n",
       "16672        Metal Gear Solid V: The Definitive Experience\n",
       "16673                       Mortal Kombat: Deadly Alliance\n",
       "16674                        Tsukigime Ranko's Longest Day\n",
       "16675        Original Frisbee Disc Sports: Ultimate & Golf\n",
       "16676                                     G1 Jockey 4 2008\n",
       "16677                     Aikatsu Stars! My Special Appeal\n",
       "16678                                       End of Nations\n",
       "16679                                          XI Coliseum\n",
       "16680                                 Kyoukai no Shirayuki\n",
       "16681                                              Worms 2\n",
       "16682           Grisaia no Kajitsu: La Fruit de la Grisaia\n",
       "16683                     Scarlett: Nichijou no Kyoukaisen\n",
       "16684                                            7'scarlet\n",
       "16685                Help Wanted: 50 Wacky Jobs (jp sales)\n",
       "16686    Yattaman Wii: BikkuriDokkiri Machine de Mou Ra...\n",
       "16687                                Neo Angelique Special\n",
       "16688                        Outdoors Unleashed: Africa 3D\n",
       "16689                                            Real Rode\n",
       "16690                                       Pony Friends 2\n",
       "16691                         Dynasty Warriors: Eiketsuden\n",
       "16692                    Metal Gear Solid V: Ground Zeroes\n",
       "16693                                    PGA European Tour\n",
       "16694                                       Carmageddon 64\n",
       "16695                                      Planet Monsters\n",
       "16696                                               Breach\n",
       "16697                                     Bust-A-Move 3000\n",
       "16698                                     Mega Brain Boost\n",
       "16699                                The Longest 5 Minutes\n",
       "16700                             Mezase!! Tsuri Master DS\n",
       "16701    Eiyuu Densetsu: Sora no Kiseki Material Collec...\n",
       "16702                              STORM: Frontline Nation\n",
       "16703                                     Strawberry Nauts\n",
       "16704                                             Plushees\n",
       "16705                                              15 Days\n",
       "16706                        Men in Black II: Alien Escape\n",
       "16707                                     Aiyoku no Eustia\n",
       "16708                   Woody Woodpecker in Crazy Castle 5\n",
       "16709     SCORE International Baja 1000: The Official Game\n",
       "16710                        Samurai Warriors: Sanada Maru\n",
       "16711                                     LMA Manager 2007\n",
       "16712                              Haitaka no Psychedelica\n",
       "16713                                     Spirits & Spells\n",
       "16714                                  Winning Post 8 2016\n",
       "Name: Name, dtype: object"
      ]
     },
     "execution_count": 6,
     "metadata": {},
     "output_type": "execute_result"
    }
   ],
   "source": [
    "data['Name'].tail(60)"
   ]
  },
  {
   "cell_type": "code",
   "execution_count": 7,
   "id": "57e978db",
   "metadata": {},
   "outputs": [
    {
     "data": {
      "text/html": [
       "<div>\n",
       "<style scoped>\n",
       "    .dataframe tbody tr th:only-of-type {\n",
       "        vertical-align: middle;\n",
       "    }\n",
       "\n",
       "    .dataframe tbody tr th {\n",
       "        vertical-align: top;\n",
       "    }\n",
       "\n",
       "    .dataframe thead th {\n",
       "        text-align: right;\n",
       "    }\n",
       "</style>\n",
       "<table border=\"1\" class=\"dataframe\">\n",
       "  <thead>\n",
       "    <tr style=\"text-align: right;\">\n",
       "      <th></th>\n",
       "      <th>Name</th>\n",
       "      <th>Platform</th>\n",
       "      <th>Year_of_Release</th>\n",
       "      <th>Genre</th>\n",
       "      <th>NA_sales</th>\n",
       "      <th>EU_sales</th>\n",
       "      <th>JP_sales</th>\n",
       "      <th>Other_sales</th>\n",
       "      <th>Critic_Score</th>\n",
       "      <th>User_Score</th>\n",
       "      <th>Rating</th>\n",
       "    </tr>\n",
       "  </thead>\n",
       "  <tbody>\n",
       "    <tr>\n",
       "      <th>788</th>\n",
       "      <td>Project Gotham Racing (JP weekly sales)</td>\n",
       "      <td>XB</td>\n",
       "      <td>2002.0</td>\n",
       "      <td>Action</td>\n",
       "      <td>1.54</td>\n",
       "      <td>0.44</td>\n",
       "      <td>0.04</td>\n",
       "      <td>0.07</td>\n",
       "      <td>NaN</td>\n",
       "      <td>NaN</td>\n",
       "      <td>NaN</td>\n",
       "    </tr>\n",
       "    <tr>\n",
       "      <th>920</th>\n",
       "      <td>Medal of Honor: European Assault (All Region s...</td>\n",
       "      <td>PS2</td>\n",
       "      <td>2005.0</td>\n",
       "      <td>Shooter</td>\n",
       "      <td>0.89</td>\n",
       "      <td>0.69</td>\n",
       "      <td>0.09</td>\n",
       "      <td>0.21</td>\n",
       "      <td>NaN</td>\n",
       "      <td>NaN</td>\n",
       "      <td>NaN</td>\n",
       "    </tr>\n",
       "    <tr>\n",
       "      <th>1123</th>\n",
       "      <td>NBA Live 06 (All region sales)</td>\n",
       "      <td>PS2</td>\n",
       "      <td>2005.0</td>\n",
       "      <td>Sports</td>\n",
       "      <td>1.44</td>\n",
       "      <td>0.15</td>\n",
       "      <td>0.00</td>\n",
       "      <td>0.05</td>\n",
       "      <td>NaN</td>\n",
       "      <td>NaN</td>\n",
       "      <td>NaN</td>\n",
       "    </tr>\n",
       "    <tr>\n",
       "      <th>1136</th>\n",
       "      <td>Tony Hawk's American Wasteland (Old all region...</td>\n",
       "      <td>PS2</td>\n",
       "      <td>2005.0</td>\n",
       "      <td>Sports</td>\n",
       "      <td>0.80</td>\n",
       "      <td>0.63</td>\n",
       "      <td>0.01</td>\n",
       "      <td>0.19</td>\n",
       "      <td>NaN</td>\n",
       "      <td>NaN</td>\n",
       "      <td>NaN</td>\n",
       "    </tr>\n",
       "    <tr>\n",
       "      <th>1324</th>\n",
       "      <td>Tony Hawk's American Wasteland (Weekly america...</td>\n",
       "      <td>PS2</td>\n",
       "      <td>2005.0</td>\n",
       "      <td>Sports</td>\n",
       "      <td>1.38</td>\n",
       "      <td>0.05</td>\n",
       "      <td>0.00</td>\n",
       "      <td>0.02</td>\n",
       "      <td>NaN</td>\n",
       "      <td>NaN</td>\n",
       "      <td>NaN</td>\n",
       "    </tr>\n",
       "    <tr>\n",
       "      <th>...</th>\n",
       "      <td>...</td>\n",
       "      <td>...</td>\n",
       "      <td>...</td>\n",
       "      <td>...</td>\n",
       "      <td>...</td>\n",
       "      <td>...</td>\n",
       "      <td>...</td>\n",
       "      <td>...</td>\n",
       "      <td>...</td>\n",
       "      <td>...</td>\n",
       "      <td>...</td>\n",
       "    </tr>\n",
       "    <tr>\n",
       "      <th>16426</th>\n",
       "      <td>Rondo of Swords (jp sales)</td>\n",
       "      <td>DS</td>\n",
       "      <td>2007.0</td>\n",
       "      <td>Role-Playing</td>\n",
       "      <td>0.00</td>\n",
       "      <td>0.00</td>\n",
       "      <td>0.01</td>\n",
       "      <td>0.00</td>\n",
       "      <td>NaN</td>\n",
       "      <td>NaN</td>\n",
       "      <td>NaN</td>\n",
       "    </tr>\n",
       "    <tr>\n",
       "      <th>16506</th>\n",
       "      <td>The Godfather (JP sales)</td>\n",
       "      <td>X360</td>\n",
       "      <td>2006.0</td>\n",
       "      <td>Action</td>\n",
       "      <td>0.00</td>\n",
       "      <td>0.00</td>\n",
       "      <td>0.01</td>\n",
       "      <td>0.00</td>\n",
       "      <td>NaN</td>\n",
       "      <td>NaN</td>\n",
       "      <td>NaN</td>\n",
       "    </tr>\n",
       "    <tr>\n",
       "      <th>16616</th>\n",
       "      <td>National Geographic Panda (JP sales)</td>\n",
       "      <td>DS</td>\n",
       "      <td>2008.0</td>\n",
       "      <td>Simulation</td>\n",
       "      <td>0.00</td>\n",
       "      <td>0.00</td>\n",
       "      <td>0.01</td>\n",
       "      <td>0.00</td>\n",
       "      <td>NaN</td>\n",
       "      <td>NaN</td>\n",
       "      <td>NaN</td>\n",
       "    </tr>\n",
       "    <tr>\n",
       "      <th>16656</th>\n",
       "      <td>Imagine Figure Skater (JP sales)</td>\n",
       "      <td>DS</td>\n",
       "      <td>2007.0</td>\n",
       "      <td>Sports</td>\n",
       "      <td>0.00</td>\n",
       "      <td>0.00</td>\n",
       "      <td>0.01</td>\n",
       "      <td>0.00</td>\n",
       "      <td>NaN</td>\n",
       "      <td>NaN</td>\n",
       "      <td>NaN</td>\n",
       "    </tr>\n",
       "    <tr>\n",
       "      <th>16685</th>\n",
       "      <td>Help Wanted: 50 Wacky Jobs (jp sales)</td>\n",
       "      <td>Wii</td>\n",
       "      <td>2008.0</td>\n",
       "      <td>Simulation</td>\n",
       "      <td>0.00</td>\n",
       "      <td>0.00</td>\n",
       "      <td>0.01</td>\n",
       "      <td>0.00</td>\n",
       "      <td>NaN</td>\n",
       "      <td>NaN</td>\n",
       "      <td>NaN</td>\n",
       "    </tr>\n",
       "  </tbody>\n",
       "</table>\n",
       "<p>147 rows × 11 columns</p>\n",
       "</div>"
      ],
      "text/plain": [
       "                                                    Name Platform  \\\n",
       "788              Project Gotham Racing (JP weekly sales)       XB   \n",
       "920    Medal of Honor: European Assault (All Region s...      PS2   \n",
       "1123                      NBA Live 06 (All region sales)      PS2   \n",
       "1136   Tony Hawk's American Wasteland (Old all region...      PS2   \n",
       "1324   Tony Hawk's American Wasteland (Weekly america...      PS2   \n",
       "...                                                  ...      ...   \n",
       "16426                         Rondo of Swords (jp sales)       DS   \n",
       "16506                           The Godfather (JP sales)     X360   \n",
       "16616               National Geographic Panda (JP sales)       DS   \n",
       "16656                   Imagine Figure Skater (JP sales)       DS   \n",
       "16685              Help Wanted: 50 Wacky Jobs (jp sales)      Wii   \n",
       "\n",
       "       Year_of_Release         Genre  NA_sales  EU_sales  JP_sales  \\\n",
       "788             2002.0        Action      1.54      0.44      0.04   \n",
       "920             2005.0       Shooter      0.89      0.69      0.09   \n",
       "1123            2005.0        Sports      1.44      0.15      0.00   \n",
       "1136            2005.0        Sports      0.80      0.63      0.01   \n",
       "1324            2005.0        Sports      1.38      0.05      0.00   \n",
       "...                ...           ...       ...       ...       ...   \n",
       "16426           2007.0  Role-Playing      0.00      0.00      0.01   \n",
       "16506           2006.0        Action      0.00      0.00      0.01   \n",
       "16616           2008.0    Simulation      0.00      0.00      0.01   \n",
       "16656           2007.0        Sports      0.00      0.00      0.01   \n",
       "16685           2008.0    Simulation      0.00      0.00      0.01   \n",
       "\n",
       "       Other_sales  Critic_Score User_Score Rating  \n",
       "788           0.07           NaN        NaN    NaN  \n",
       "920           0.21           NaN        NaN    NaN  \n",
       "1123          0.05           NaN        NaN    NaN  \n",
       "1136          0.19           NaN        NaN    NaN  \n",
       "1324          0.02           NaN        NaN    NaN  \n",
       "...            ...           ...        ...    ...  \n",
       "16426         0.00           NaN        NaN    NaN  \n",
       "16506         0.00           NaN        NaN    NaN  \n",
       "16616         0.00           NaN        NaN    NaN  \n",
       "16656         0.00           NaN        NaN    NaN  \n",
       "16685         0.00           NaN        NaN    NaN  \n",
       "\n",
       "[147 rows x 11 columns]"
      ]
     },
     "execution_count": 7,
     "metadata": {},
     "output_type": "execute_result"
    }
   ],
   "source": [
    "data[data['Name'].str.contains('sales', na=False)]"
   ]
  },
  {
   "cell_type": "code",
   "execution_count": 8,
   "id": "602fb629",
   "metadata": {},
   "outputs": [
    {
     "data": {
      "text/plain": [
       "2008.0    1427\n",
       "2009.0    1426\n",
       "2010.0    1255\n",
       "2007.0    1197\n",
       "2011.0    1136\n",
       "2006.0    1006\n",
       "2005.0     939\n",
       "2002.0     829\n",
       "2003.0     775\n",
       "2004.0     762\n",
       "2012.0     653\n",
       "2015.0     606\n",
       "2014.0     581\n",
       "2013.0     544\n",
       "2016.0     502\n",
       "2001.0     482\n",
       "1998.0     379\n",
       "2000.0     350\n",
       "1999.0     338\n",
       "1997.0     289\n",
       "1996.0     263\n",
       "1995.0     219\n",
       "1994.0     121\n",
       "1993.0      62\n",
       "1981.0      46\n",
       "1992.0      43\n",
       "1991.0      41\n",
       "1982.0      36\n",
       "1986.0      21\n",
       "1989.0      17\n",
       "1983.0      17\n",
       "1990.0      16\n",
       "1987.0      16\n",
       "1988.0      15\n",
       "1985.0      14\n",
       "1984.0      14\n",
       "1980.0       9\n",
       "Name: Year_of_Release, dtype: int64"
      ]
     },
     "execution_count": 8,
     "metadata": {},
     "output_type": "execute_result"
    }
   ],
   "source": [
    "data['Year_of_Release'].value_counts()"
   ]
  },
  {
   "cell_type": "code",
   "execution_count": 9,
   "id": "e49c7fe0",
   "metadata": {},
   "outputs": [
    {
     "data": {
      "text/plain": [
       "PS2     2161\n",
       "DS      2151\n",
       "PS3     1331\n",
       "Wii     1320\n",
       "X360    1262\n",
       "PSP     1209\n",
       "PS      1197\n",
       "PC       974\n",
       "XB       824\n",
       "GBA      822\n",
       "GC       556\n",
       "3DS      520\n",
       "PSV      430\n",
       "PS4      392\n",
       "N64      319\n",
       "XOne     247\n",
       "SNES     239\n",
       "SAT      173\n",
       "WiiU     147\n",
       "2600     133\n",
       "NES       98\n",
       "GB        98\n",
       "DC        52\n",
       "GEN       29\n",
       "NG        12\n",
       "SCD        6\n",
       "WS         6\n",
       "3DO        3\n",
       "TG16       2\n",
       "GG         1\n",
       "PCFX       1\n",
       "Name: Platform, dtype: int64"
      ]
     },
     "execution_count": 9,
     "metadata": {},
     "output_type": "execute_result"
    }
   ],
   "source": [
    "data['Platform'].value_counts()"
   ]
  },
  {
   "cell_type": "code",
   "execution_count": 10,
   "id": "9a570b8c",
   "metadata": {},
   "outputs": [
    {
     "data": {
      "text/plain": [
       "Action          3369\n",
       "Sports          2348\n",
       "Misc            1750\n",
       "Role-Playing    1498\n",
       "Shooter         1323\n",
       "Adventure       1303\n",
       "Racing          1249\n",
       "Platform         888\n",
       "Simulation       873\n",
       "Fighting         849\n",
       "Strategy         683\n",
       "Puzzle           580\n",
       "Name: Genre, dtype: int64"
      ]
     },
     "execution_count": 10,
     "metadata": {},
     "output_type": "execute_result"
    }
   ],
   "source": [
    "data['Genre'].value_counts()"
   ]
  },
  {
   "cell_type": "code",
   "execution_count": 11,
   "id": "6a0fa5c8",
   "metadata": {},
   "outputs": [
    {
     "data": {
      "text/plain": [
       "E       3990\n",
       "T       2961\n",
       "M       1563\n",
       "E10+    1420\n",
       "EC         8\n",
       "K-A        3\n",
       "RP         3\n",
       "AO         1\n",
       "Name: Rating, dtype: int64"
      ]
     },
     "execution_count": 11,
     "metadata": {},
     "output_type": "execute_result"
    }
   ],
   "source": [
    "data['Rating'].value_counts()"
   ]
  },
  {
   "cell_type": "code",
   "execution_count": 12,
   "id": "0377e425",
   "metadata": {},
   "outputs": [
    {
     "data": {
      "text/plain": [
       "tbd    2424\n",
       "7.8     324\n",
       "8       290\n",
       "8.2     282\n",
       "8.3     254\n",
       "       ... \n",
       "1.1       2\n",
       "1.9       2\n",
       "9.6       2\n",
       "0         1\n",
       "9.7       1\n",
       "Name: User_Score, Length: 96, dtype: int64"
      ]
     },
     "execution_count": 12,
     "metadata": {},
     "output_type": "execute_result"
    }
   ],
   "source": [
    "data['User_Score'].value_counts()"
   ]
  },
  {
   "cell_type": "code",
   "execution_count": 13,
   "id": "4de6ef42",
   "metadata": {},
   "outputs": [
    {
     "data": {
      "text/plain": [
       "70.0    256\n",
       "71.0    254\n",
       "75.0    245\n",
       "78.0    240\n",
       "73.0    238\n",
       "       ... \n",
       "20.0      3\n",
       "21.0      1\n",
       "17.0      1\n",
       "22.0      1\n",
       "13.0      1\n",
       "Name: Critic_Score, Length: 82, dtype: int64"
      ]
     },
     "execution_count": 13,
     "metadata": {},
     "output_type": "execute_result"
    }
   ],
   "source": [
    "data['Critic_Score'].value_counts()"
   ]
  },
  {
   "cell_type": "code",
   "execution_count": 14,
   "id": "e70293d2",
   "metadata": {},
   "outputs": [
    {
     "data": {
      "text/plain": [
       "0"
      ]
     },
     "execution_count": 14,
     "metadata": {},
     "output_type": "execute_result"
    }
   ],
   "source": [
    "data.duplicated().sum()"
   ]
  },
  {
   "cell_type": "markdown",
   "id": "94291cee",
   "metadata": {},
   "source": [
    "### Conclusion\n",
    "- `User_Score` column has **object** type. Change to **float**\n",
    "- There are missing values in `Name`, `Year_of_Release`, `Genre`, `Critic_Score`, `User_Score Rating` columns. Columns with scores can't be filled with any value 'cause such values are unique for each game\n",
    "- `Name` column has names of games with word (... **sales**). There are **147** rows with such names and all they are dedicated to earliest years \n",
    "- `User_Score` column has **tbd** value, which means to be determined. This usually means that player hasn't played enough games to have any rating. Replace this value with **NaN**\n",
    "- Dataframe contains no explicit duplicates. Implicit duplicates may be in `Name` column, but we will check it later\n",
    "- Fill in missing values with **no_rating** value in `Raiting` column \n",
    "- Change columns' names to lower case"
   ]
  },
  {
   "cell_type": "markdown",
   "id": "9eb9e18d",
   "metadata": {},
   "source": [
    "## Data preprocessing"
   ]
  },
  {
   "cell_type": "code",
   "execution_count": 15,
   "id": "c430f5e0",
   "metadata": {},
   "outputs": [
    {
     "data": {
      "text/html": [
       "<div>\n",
       "<style scoped>\n",
       "    .dataframe tbody tr th:only-of-type {\n",
       "        vertical-align: middle;\n",
       "    }\n",
       "\n",
       "    .dataframe tbody tr th {\n",
       "        vertical-align: top;\n",
       "    }\n",
       "\n",
       "    .dataframe thead th {\n",
       "        text-align: right;\n",
       "    }\n",
       "</style>\n",
       "<table border=\"1\" class=\"dataframe\">\n",
       "  <thead>\n",
       "    <tr style=\"text-align: right;\">\n",
       "      <th></th>\n",
       "      <th>Name</th>\n",
       "      <th>Platform</th>\n",
       "      <th>Year_of_Release</th>\n",
       "      <th>Genre</th>\n",
       "      <th>NA_sales</th>\n",
       "      <th>EU_sales</th>\n",
       "      <th>JP_sales</th>\n",
       "      <th>Other_sales</th>\n",
       "      <th>Critic_Score</th>\n",
       "      <th>User_Score</th>\n",
       "      <th>Rating</th>\n",
       "    </tr>\n",
       "  </thead>\n",
       "  <tbody>\n",
       "    <tr>\n",
       "      <th>659</th>\n",
       "      <td>NaN</td>\n",
       "      <td>GEN</td>\n",
       "      <td>1993.0</td>\n",
       "      <td>NaN</td>\n",
       "      <td>1.78</td>\n",
       "      <td>0.53</td>\n",
       "      <td>0.00</td>\n",
       "      <td>0.08</td>\n",
       "      <td>NaN</td>\n",
       "      <td>NaN</td>\n",
       "      <td>NaN</td>\n",
       "    </tr>\n",
       "    <tr>\n",
       "      <th>14244</th>\n",
       "      <td>NaN</td>\n",
       "      <td>GEN</td>\n",
       "      <td>1993.0</td>\n",
       "      <td>NaN</td>\n",
       "      <td>0.00</td>\n",
       "      <td>0.00</td>\n",
       "      <td>0.03</td>\n",
       "      <td>0.00</td>\n",
       "      <td>NaN</td>\n",
       "      <td>NaN</td>\n",
       "      <td>NaN</td>\n",
       "    </tr>\n",
       "  </tbody>\n",
       "</table>\n",
       "</div>"
      ],
      "text/plain": [
       "      Name Platform  Year_of_Release Genre  NA_sales  EU_sales  JP_sales  \\\n",
       "659    NaN      GEN           1993.0   NaN      1.78      0.53      0.00   \n",
       "14244  NaN      GEN           1993.0   NaN      0.00      0.00      0.03   \n",
       "\n",
       "       Other_sales  Critic_Score User_Score Rating  \n",
       "659           0.08           NaN        NaN    NaN  \n",
       "14244         0.00           NaN        NaN    NaN  "
      ]
     },
     "execution_count": 15,
     "metadata": {},
     "output_type": "execute_result"
    }
   ],
   "source": [
    "data.loc[data['Name'].isna()]"
   ]
  },
  {
   "cell_type": "markdown",
   "id": "fa1b72c8",
   "metadata": {},
   "source": [
    "Missing values are in same rows in `Name` and `Genre` columns. Drop them"
   ]
  },
  {
   "cell_type": "code",
   "execution_count": 16,
   "id": "aa5d1969",
   "metadata": {},
   "outputs": [],
   "source": [
    "data = data.loc[data['Name'].isna() == False]\n",
    "data = data.loc[data['Genre'].isna() == False]"
   ]
  },
  {
   "cell_type": "code",
   "execution_count": 17,
   "id": "6e6b594c",
   "metadata": {},
   "outputs": [
    {
     "data": {
      "text/html": [
       "<div>\n",
       "<style scoped>\n",
       "    .dataframe tbody tr th:only-of-type {\n",
       "        vertical-align: middle;\n",
       "    }\n",
       "\n",
       "    .dataframe tbody tr th {\n",
       "        vertical-align: top;\n",
       "    }\n",
       "\n",
       "    .dataframe thead th {\n",
       "        text-align: right;\n",
       "    }\n",
       "</style>\n",
       "<table border=\"1\" class=\"dataframe\">\n",
       "  <thead>\n",
       "    <tr style=\"text-align: right;\">\n",
       "      <th></th>\n",
       "      <th>Name</th>\n",
       "      <th>Platform</th>\n",
       "      <th>Year_of_Release</th>\n",
       "      <th>Genre</th>\n",
       "      <th>NA_sales</th>\n",
       "      <th>EU_sales</th>\n",
       "      <th>JP_sales</th>\n",
       "      <th>Other_sales</th>\n",
       "      <th>Critic_Score</th>\n",
       "      <th>User_Score</th>\n",
       "      <th>Rating</th>\n",
       "    </tr>\n",
       "  </thead>\n",
       "  <tbody>\n",
       "    <tr>\n",
       "      <th>183</th>\n",
       "      <td>Madden NFL 2004</td>\n",
       "      <td>PS2</td>\n",
       "      <td>NaN</td>\n",
       "      <td>Sports</td>\n",
       "      <td>4.26</td>\n",
       "      <td>0.26</td>\n",
       "      <td>0.01</td>\n",
       "      <td>0.71</td>\n",
       "      <td>94.0</td>\n",
       "      <td>8.5</td>\n",
       "      <td>E</td>\n",
       "    </tr>\n",
       "    <tr>\n",
       "      <th>377</th>\n",
       "      <td>FIFA Soccer 2004</td>\n",
       "      <td>PS2</td>\n",
       "      <td>NaN</td>\n",
       "      <td>Sports</td>\n",
       "      <td>0.59</td>\n",
       "      <td>2.36</td>\n",
       "      <td>0.04</td>\n",
       "      <td>0.51</td>\n",
       "      <td>84.0</td>\n",
       "      <td>6.4</td>\n",
       "      <td>E</td>\n",
       "    </tr>\n",
       "    <tr>\n",
       "      <th>456</th>\n",
       "      <td>LEGO Batman: The Videogame</td>\n",
       "      <td>Wii</td>\n",
       "      <td>NaN</td>\n",
       "      <td>Action</td>\n",
       "      <td>1.80</td>\n",
       "      <td>0.97</td>\n",
       "      <td>0.00</td>\n",
       "      <td>0.29</td>\n",
       "      <td>74.0</td>\n",
       "      <td>7.9</td>\n",
       "      <td>E10+</td>\n",
       "    </tr>\n",
       "    <tr>\n",
       "      <th>475</th>\n",
       "      <td>wwe Smackdown vs. Raw 2006</td>\n",
       "      <td>PS2</td>\n",
       "      <td>NaN</td>\n",
       "      <td>Fighting</td>\n",
       "      <td>1.57</td>\n",
       "      <td>1.02</td>\n",
       "      <td>0.00</td>\n",
       "      <td>0.41</td>\n",
       "      <td>NaN</td>\n",
       "      <td>NaN</td>\n",
       "      <td>NaN</td>\n",
       "    </tr>\n",
       "    <tr>\n",
       "      <th>609</th>\n",
       "      <td>Space Invaders</td>\n",
       "      <td>2600</td>\n",
       "      <td>NaN</td>\n",
       "      <td>Shooter</td>\n",
       "      <td>2.36</td>\n",
       "      <td>0.14</td>\n",
       "      <td>0.00</td>\n",
       "      <td>0.03</td>\n",
       "      <td>NaN</td>\n",
       "      <td>NaN</td>\n",
       "      <td>NaN</td>\n",
       "    </tr>\n",
       "    <tr>\n",
       "      <th>...</th>\n",
       "      <td>...</td>\n",
       "      <td>...</td>\n",
       "      <td>...</td>\n",
       "      <td>...</td>\n",
       "      <td>...</td>\n",
       "      <td>...</td>\n",
       "      <td>...</td>\n",
       "      <td>...</td>\n",
       "      <td>...</td>\n",
       "      <td>...</td>\n",
       "      <td>...</td>\n",
       "    </tr>\n",
       "    <tr>\n",
       "      <th>16373</th>\n",
       "      <td>PDC World Championship Darts 2008</td>\n",
       "      <td>PSP</td>\n",
       "      <td>NaN</td>\n",
       "      <td>Sports</td>\n",
       "      <td>0.01</td>\n",
       "      <td>0.00</td>\n",
       "      <td>0.00</td>\n",
       "      <td>0.00</td>\n",
       "      <td>43.0</td>\n",
       "      <td>tbd</td>\n",
       "      <td>E10+</td>\n",
       "    </tr>\n",
       "    <tr>\n",
       "      <th>16405</th>\n",
       "      <td>Freaky Flyers</td>\n",
       "      <td>GC</td>\n",
       "      <td>NaN</td>\n",
       "      <td>Racing</td>\n",
       "      <td>0.01</td>\n",
       "      <td>0.00</td>\n",
       "      <td>0.00</td>\n",
       "      <td>0.00</td>\n",
       "      <td>69.0</td>\n",
       "      <td>6.5</td>\n",
       "      <td>T</td>\n",
       "    </tr>\n",
       "    <tr>\n",
       "      <th>16448</th>\n",
       "      <td>Inversion</td>\n",
       "      <td>PC</td>\n",
       "      <td>NaN</td>\n",
       "      <td>Shooter</td>\n",
       "      <td>0.01</td>\n",
       "      <td>0.00</td>\n",
       "      <td>0.00</td>\n",
       "      <td>0.00</td>\n",
       "      <td>59.0</td>\n",
       "      <td>6.7</td>\n",
       "      <td>M</td>\n",
       "    </tr>\n",
       "    <tr>\n",
       "      <th>16458</th>\n",
       "      <td>Hakuouki: Shinsengumi Kitan</td>\n",
       "      <td>PS3</td>\n",
       "      <td>NaN</td>\n",
       "      <td>Adventure</td>\n",
       "      <td>0.01</td>\n",
       "      <td>0.00</td>\n",
       "      <td>0.00</td>\n",
       "      <td>0.00</td>\n",
       "      <td>NaN</td>\n",
       "      <td>NaN</td>\n",
       "      <td>NaN</td>\n",
       "    </tr>\n",
       "    <tr>\n",
       "      <th>16522</th>\n",
       "      <td>Virtua Quest</td>\n",
       "      <td>GC</td>\n",
       "      <td>NaN</td>\n",
       "      <td>Role-Playing</td>\n",
       "      <td>0.01</td>\n",
       "      <td>0.00</td>\n",
       "      <td>0.00</td>\n",
       "      <td>0.00</td>\n",
       "      <td>55.0</td>\n",
       "      <td>5.5</td>\n",
       "      <td>T</td>\n",
       "    </tr>\n",
       "  </tbody>\n",
       "</table>\n",
       "<p>269 rows × 11 columns</p>\n",
       "</div>"
      ],
      "text/plain": [
       "                                    Name Platform  Year_of_Release  \\\n",
       "183                      Madden NFL 2004      PS2              NaN   \n",
       "377                     FIFA Soccer 2004      PS2              NaN   \n",
       "456           LEGO Batman: The Videogame      Wii              NaN   \n",
       "475           wwe Smackdown vs. Raw 2006      PS2              NaN   \n",
       "609                       Space Invaders     2600              NaN   \n",
       "...                                  ...      ...              ...   \n",
       "16373  PDC World Championship Darts 2008      PSP              NaN   \n",
       "16405                      Freaky Flyers       GC              NaN   \n",
       "16448                          Inversion       PC              NaN   \n",
       "16458        Hakuouki: Shinsengumi Kitan      PS3              NaN   \n",
       "16522                       Virtua Quest       GC              NaN   \n",
       "\n",
       "              Genre  NA_sales  EU_sales  JP_sales  Other_sales  Critic_Score  \\\n",
       "183          Sports      4.26      0.26      0.01         0.71          94.0   \n",
       "377          Sports      0.59      2.36      0.04         0.51          84.0   \n",
       "456          Action      1.80      0.97      0.00         0.29          74.0   \n",
       "475        Fighting      1.57      1.02      0.00         0.41           NaN   \n",
       "609         Shooter      2.36      0.14      0.00         0.03           NaN   \n",
       "...             ...       ...       ...       ...          ...           ...   \n",
       "16373        Sports      0.01      0.00      0.00         0.00          43.0   \n",
       "16405        Racing      0.01      0.00      0.00         0.00          69.0   \n",
       "16448       Shooter      0.01      0.00      0.00         0.00          59.0   \n",
       "16458     Adventure      0.01      0.00      0.00         0.00           NaN   \n",
       "16522  Role-Playing      0.01      0.00      0.00         0.00          55.0   \n",
       "\n",
       "      User_Score Rating  \n",
       "183          8.5      E  \n",
       "377          6.4      E  \n",
       "456          7.9   E10+  \n",
       "475          NaN    NaN  \n",
       "609          NaN    NaN  \n",
       "...          ...    ...  \n",
       "16373        tbd   E10+  \n",
       "16405        6.5      T  \n",
       "16448        6.7      M  \n",
       "16458        NaN    NaN  \n",
       "16522        5.5      T  \n",
       "\n",
       "[269 rows x 11 columns]"
      ]
     },
     "execution_count": 17,
     "metadata": {},
     "output_type": "execute_result"
    }
   ],
   "source": [
    "data.loc[data['Year_of_Release'].isna()]"
   ]
  },
  {
   "cell_type": "code",
   "execution_count": 18,
   "id": "a518b246",
   "metadata": {},
   "outputs": [
    {
     "name": "stdout",
     "output_type": "stream",
     "text": [
      "Share of missing values: 1.61%\n"
     ]
    }
   ],
   "source": [
    "print('Share of missing values: {:.2%}'.format(len(data.loc[data['Year_of_Release'].isna()]) / len(data)))"
   ]
  },
  {
   "cell_type": "markdown",
   "id": "efc1b867",
   "metadata": {},
   "source": [
    "Share of missing values is equal to **1.61%** in `Year_of_Release` column. Drop them 'cause they won't affect on results. Also change type of column to **int**"
   ]
  },
  {
   "cell_type": "code",
   "execution_count": 19,
   "id": "31931950",
   "metadata": {},
   "outputs": [],
   "source": [
    "data = data.loc[data['Year_of_Release'].isna() == False]\n",
    "data['Year_of_Release'] = data['Year_of_Release'].astype(int)"
   ]
  },
  {
   "cell_type": "markdown",
   "id": "20154453",
   "metadata": {},
   "source": [
    "Change **tbd** to NaN, type to `float` "
   ]
  },
  {
   "cell_type": "code",
   "execution_count": 20,
   "id": "f7ab9411",
   "metadata": {},
   "outputs": [
    {
     "data": {
      "text/plain": [
       "7.8    322\n",
       "8.0    285\n",
       "8.2    276\n",
       "8.3    252\n",
       "7.5    249\n",
       "      ... \n",
       "1.5      2\n",
       "0.3      2\n",
       "1.1      2\n",
       "0.0      1\n",
       "9.7      1\n",
       "Name: User_Score, Length: 95, dtype: int64"
      ]
     },
     "execution_count": 20,
     "metadata": {},
     "output_type": "execute_result"
    }
   ],
   "source": [
    "data.loc[data['User_Score'] == 'tbd', 'User_Score'] = 'NaN'\n",
    "data['User_Score'] = data['User_Score'].astype(float)\n",
    "data['User_Score'].value_counts()"
   ]
  },
  {
   "cell_type": "markdown",
   "id": "ad75b335",
   "metadata": {},
   "source": [
    "Fill in missing values with **no_rating** value in `Raiting` column"
   ]
  },
  {
   "cell_type": "code",
   "execution_count": 21,
   "id": "a8e458ea",
   "metadata": {},
   "outputs": [],
   "source": [
    "data['Rating'] = data['Rating'].fillna('no_rating')"
   ]
  },
  {
   "cell_type": "markdown",
   "id": "9c270ae0",
   "metadata": {},
   "source": [
    "Change columns' names to lower case"
   ]
  },
  {
   "cell_type": "code",
   "execution_count": 22,
   "id": "6e22f2b0",
   "metadata": {},
   "outputs": [],
   "source": [
    "data.columns = data.columns.str.lower()"
   ]
  },
  {
   "cell_type": "markdown",
   "id": "acb50a69",
   "metadata": {},
   "source": [
    "Сalculate total sales for all regions"
   ]
  },
  {
   "cell_type": "code",
   "execution_count": 23,
   "id": "e6e30d1f",
   "metadata": {},
   "outputs": [
    {
     "data": {
      "text/html": [
       "<div>\n",
       "<style scoped>\n",
       "    .dataframe tbody tr th:only-of-type {\n",
       "        vertical-align: middle;\n",
       "    }\n",
       "\n",
       "    .dataframe tbody tr th {\n",
       "        vertical-align: top;\n",
       "    }\n",
       "\n",
       "    .dataframe thead th {\n",
       "        text-align: right;\n",
       "    }\n",
       "</style>\n",
       "<table border=\"1\" class=\"dataframe\">\n",
       "  <thead>\n",
       "    <tr style=\"text-align: right;\">\n",
       "      <th></th>\n",
       "      <th>name</th>\n",
       "      <th>platform</th>\n",
       "      <th>year_of_release</th>\n",
       "      <th>genre</th>\n",
       "      <th>na_sales</th>\n",
       "      <th>eu_sales</th>\n",
       "      <th>jp_sales</th>\n",
       "      <th>other_sales</th>\n",
       "      <th>critic_score</th>\n",
       "      <th>user_score</th>\n",
       "      <th>rating</th>\n",
       "      <th>total_sales</th>\n",
       "    </tr>\n",
       "  </thead>\n",
       "  <tbody>\n",
       "    <tr>\n",
       "      <th>0</th>\n",
       "      <td>Wii Sports</td>\n",
       "      <td>Wii</td>\n",
       "      <td>2006</td>\n",
       "      <td>Sports</td>\n",
       "      <td>41.36</td>\n",
       "      <td>28.96</td>\n",
       "      <td>3.77</td>\n",
       "      <td>8.45</td>\n",
       "      <td>76.0</td>\n",
       "      <td>8.0</td>\n",
       "      <td>E</td>\n",
       "      <td>82.54</td>\n",
       "    </tr>\n",
       "    <tr>\n",
       "      <th>1</th>\n",
       "      <td>Super Mario Bros.</td>\n",
       "      <td>NES</td>\n",
       "      <td>1985</td>\n",
       "      <td>Platform</td>\n",
       "      <td>29.08</td>\n",
       "      <td>3.58</td>\n",
       "      <td>6.81</td>\n",
       "      <td>0.77</td>\n",
       "      <td>NaN</td>\n",
       "      <td>NaN</td>\n",
       "      <td>no_rating</td>\n",
       "      <td>40.24</td>\n",
       "    </tr>\n",
       "    <tr>\n",
       "      <th>2</th>\n",
       "      <td>Mario Kart Wii</td>\n",
       "      <td>Wii</td>\n",
       "      <td>2008</td>\n",
       "      <td>Racing</td>\n",
       "      <td>15.68</td>\n",
       "      <td>12.76</td>\n",
       "      <td>3.79</td>\n",
       "      <td>3.29</td>\n",
       "      <td>82.0</td>\n",
       "      <td>8.3</td>\n",
       "      <td>E</td>\n",
       "      <td>35.52</td>\n",
       "    </tr>\n",
       "    <tr>\n",
       "      <th>3</th>\n",
       "      <td>Wii Sports Resort</td>\n",
       "      <td>Wii</td>\n",
       "      <td>2009</td>\n",
       "      <td>Sports</td>\n",
       "      <td>15.61</td>\n",
       "      <td>10.93</td>\n",
       "      <td>3.28</td>\n",
       "      <td>2.95</td>\n",
       "      <td>80.0</td>\n",
       "      <td>8.0</td>\n",
       "      <td>E</td>\n",
       "      <td>32.77</td>\n",
       "    </tr>\n",
       "    <tr>\n",
       "      <th>4</th>\n",
       "      <td>Pokemon Red/Pokemon Blue</td>\n",
       "      <td>GB</td>\n",
       "      <td>1996</td>\n",
       "      <td>Role-Playing</td>\n",
       "      <td>11.27</td>\n",
       "      <td>8.89</td>\n",
       "      <td>10.22</td>\n",
       "      <td>1.00</td>\n",
       "      <td>NaN</td>\n",
       "      <td>NaN</td>\n",
       "      <td>no_rating</td>\n",
       "      <td>31.38</td>\n",
       "    </tr>\n",
       "  </tbody>\n",
       "</table>\n",
       "</div>"
      ],
      "text/plain": [
       "                       name platform  year_of_release         genre  na_sales  \\\n",
       "0                Wii Sports      Wii             2006        Sports     41.36   \n",
       "1         Super Mario Bros.      NES             1985      Platform     29.08   \n",
       "2            Mario Kart Wii      Wii             2008        Racing     15.68   \n",
       "3         Wii Sports Resort      Wii             2009        Sports     15.61   \n",
       "4  Pokemon Red/Pokemon Blue       GB             1996  Role-Playing     11.27   \n",
       "\n",
       "   eu_sales  jp_sales  other_sales  critic_score  user_score     rating  \\\n",
       "0     28.96      3.77         8.45          76.0         8.0          E   \n",
       "1      3.58      6.81         0.77           NaN         NaN  no_rating   \n",
       "2     12.76      3.79         3.29          82.0         8.3          E   \n",
       "3     10.93      3.28         2.95          80.0         8.0          E   \n",
       "4      8.89     10.22         1.00           NaN         NaN  no_rating   \n",
       "\n",
       "   total_sales  \n",
       "0        82.54  \n",
       "1        40.24  \n",
       "2        35.52  \n",
       "3        32.77  \n",
       "4        31.38  "
      ]
     },
     "execution_count": 23,
     "metadata": {},
     "output_type": "execute_result"
    }
   ],
   "source": [
    "data['total_sales'] = data['na_sales'] + data['eu_sales'] + data['jp_sales'] + data['other_sales']\n",
    "data.head()"
   ]
  },
  {
   "cell_type": "markdown",
   "id": "e20b40c8",
   "metadata": {},
   "source": [
    "Check data after preprocessing"
   ]
  },
  {
   "cell_type": "code",
   "execution_count": 24,
   "id": "0b3ea37e",
   "metadata": {},
   "outputs": [
    {
     "name": "stdout",
     "output_type": "stream",
     "text": [
      "<class 'pandas.core.frame.DataFrame'>\n",
      "Int64Index: 16444 entries, 0 to 16714\n",
      "Data columns (total 12 columns):\n",
      " #   Column           Non-Null Count  Dtype  \n",
      "---  ------           --------------  -----  \n",
      " 0   name             16444 non-null  object \n",
      " 1   platform         16444 non-null  object \n",
      " 2   year_of_release  16444 non-null  int32  \n",
      " 3   genre            16444 non-null  object \n",
      " 4   na_sales         16444 non-null  float64\n",
      " 5   eu_sales         16444 non-null  float64\n",
      " 6   jp_sales         16444 non-null  float64\n",
      " 7   other_sales      16444 non-null  float64\n",
      " 8   critic_score     7983 non-null   float64\n",
      " 9   user_score       7463 non-null   float64\n",
      " 10  rating           16444 non-null  object \n",
      " 11  total_sales      16444 non-null  float64\n",
      "dtypes: float64(7), int32(1), object(4)\n",
      "memory usage: 1.6+ MB\n"
     ]
    }
   ],
   "source": [
    "data.info()"
   ]
  },
  {
   "cell_type": "markdown",
   "id": "66b8cc02",
   "metadata": {},
   "source": [
    "### Conclusion\n",
    "- Changed type of `Name`, `Year_of_Release` columns\n",
    "- Filled in missing values in `Name`, `Year_of_Release`, `Genre`, `Raiting`\n",
    "- Changed **tbd** value to **NaN** in `User_Score`. Led data type to **float**.\n",
    "- Changed columns' names to lower case\n",
    "- Сalculated total sales for all regions"
   ]
  },
  {
   "cell_type": "markdown",
   "id": "e5c3ddbc",
   "metadata": {},
   "source": [
    "## Data analysis"
   ]
  },
  {
   "cell_type": "markdown",
   "id": "9de359d2",
   "metadata": {},
   "source": [
    "Quantity of released games by year"
   ]
  },
  {
   "cell_type": "code",
   "execution_count": 25,
   "id": "3937b3e0",
   "metadata": {},
   "outputs": [
    {
     "data": {
      "text/html": [
       "<div>\n",
       "<style scoped>\n",
       "    .dataframe tbody tr th:only-of-type {\n",
       "        vertical-align: middle;\n",
       "    }\n",
       "\n",
       "    .dataframe tbody tr th {\n",
       "        vertical-align: top;\n",
       "    }\n",
       "\n",
       "    .dataframe thead th {\n",
       "        text-align: right;\n",
       "    }\n",
       "</style>\n",
       "<table border=\"1\" class=\"dataframe\">\n",
       "  <thead>\n",
       "    <tr style=\"text-align: right;\">\n",
       "      <th></th>\n",
       "      <th>0</th>\n",
       "      <th>1</th>\n",
       "      <th>2</th>\n",
       "      <th>3</th>\n",
       "      <th>4</th>\n",
       "      <th>5</th>\n",
       "      <th>6</th>\n",
       "      <th>7</th>\n",
       "      <th>8</th>\n",
       "      <th>9</th>\n",
       "      <th>10</th>\n",
       "      <th>11</th>\n",
       "      <th>12</th>\n",
       "      <th>13</th>\n",
       "      <th>14</th>\n",
       "      <th>15</th>\n",
       "      <th>16</th>\n",
       "      <th>17</th>\n",
       "      <th>18</th>\n",
       "      <th>19</th>\n",
       "      <th>20</th>\n",
       "      <th>21</th>\n",
       "      <th>22</th>\n",
       "      <th>23</th>\n",
       "      <th>24</th>\n",
       "      <th>25</th>\n",
       "      <th>26</th>\n",
       "      <th>27</th>\n",
       "      <th>28</th>\n",
       "      <th>29</th>\n",
       "      <th>30</th>\n",
       "      <th>31</th>\n",
       "      <th>32</th>\n",
       "      <th>33</th>\n",
       "      <th>34</th>\n",
       "      <th>35</th>\n",
       "      <th>36</th>\n",
       "    </tr>\n",
       "  </thead>\n",
       "  <tbody>\n",
       "    <tr>\n",
       "      <th>year_of_release</th>\n",
       "      <td>2016</td>\n",
       "      <td>2015</td>\n",
       "      <td>2014</td>\n",
       "      <td>2013</td>\n",
       "      <td>2012</td>\n",
       "      <td>2011</td>\n",
       "      <td>2010</td>\n",
       "      <td>2009</td>\n",
       "      <td>2008</td>\n",
       "      <td>2007</td>\n",
       "      <td>2006</td>\n",
       "      <td>2005</td>\n",
       "      <td>2004</td>\n",
       "      <td>2003</td>\n",
       "      <td>2002</td>\n",
       "      <td>2001</td>\n",
       "      <td>2000</td>\n",
       "      <td>1999</td>\n",
       "      <td>1998</td>\n",
       "      <td>1997</td>\n",
       "      <td>1996</td>\n",
       "      <td>1995</td>\n",
       "      <td>1994</td>\n",
       "      <td>1993</td>\n",
       "      <td>1992</td>\n",
       "      <td>1991</td>\n",
       "      <td>1990</td>\n",
       "      <td>1989</td>\n",
       "      <td>1988</td>\n",
       "      <td>1987</td>\n",
       "      <td>1986</td>\n",
       "      <td>1985</td>\n",
       "      <td>1984</td>\n",
       "      <td>1983</td>\n",
       "      <td>1982</td>\n",
       "      <td>1981</td>\n",
       "      <td>1980</td>\n",
       "    </tr>\n",
       "    <tr>\n",
       "      <th>count</th>\n",
       "      <td>502</td>\n",
       "      <td>606</td>\n",
       "      <td>581</td>\n",
       "      <td>544</td>\n",
       "      <td>653</td>\n",
       "      <td>1136</td>\n",
       "      <td>1255</td>\n",
       "      <td>1426</td>\n",
       "      <td>1427</td>\n",
       "      <td>1197</td>\n",
       "      <td>1006</td>\n",
       "      <td>939</td>\n",
       "      <td>762</td>\n",
       "      <td>775</td>\n",
       "      <td>829</td>\n",
       "      <td>482</td>\n",
       "      <td>350</td>\n",
       "      <td>338</td>\n",
       "      <td>379</td>\n",
       "      <td>289</td>\n",
       "      <td>263</td>\n",
       "      <td>219</td>\n",
       "      <td>121</td>\n",
       "      <td>60</td>\n",
       "      <td>43</td>\n",
       "      <td>41</td>\n",
       "      <td>16</td>\n",
       "      <td>17</td>\n",
       "      <td>15</td>\n",
       "      <td>16</td>\n",
       "      <td>21</td>\n",
       "      <td>14</td>\n",
       "      <td>14</td>\n",
       "      <td>17</td>\n",
       "      <td>36</td>\n",
       "      <td>46</td>\n",
       "      <td>9</td>\n",
       "    </tr>\n",
       "  </tbody>\n",
       "</table>\n",
       "</div>"
      ],
      "text/plain": [
       "                   0     1     2     3     4     5     6     7     8     9   \\\n",
       "year_of_release  2016  2015  2014  2013  2012  2011  2010  2009  2008  2007   \n",
       "count             502   606   581   544   653  1136  1255  1426  1427  1197   \n",
       "\n",
       "                   10    11    12    13    14    15    16    17    18    19  \\\n",
       "year_of_release  2006  2005  2004  2003  2002  2001  2000  1999  1998  1997   \n",
       "count            1006   939   762   775   829   482   350   338   379   289   \n",
       "\n",
       "                   20    21    22    23    24    25    26    27    28    29  \\\n",
       "year_of_release  1996  1995  1994  1993  1992  1991  1990  1989  1988  1987   \n",
       "count             263   219   121    60    43    41    16    17    15    16   \n",
       "\n",
       "                   30    31    32    33    34    35    36  \n",
       "year_of_release  1986  1985  1984  1983  1982  1981  1980  \n",
       "count              21    14    14    17    36    46     9  "
      ]
     },
     "metadata": {},
     "output_type": "display_data"
    },
    {
     "data": {
      "image/png": "[encoded data removed]",
      "text/plain": [
       "<Figure size 1080x540 with 1 Axes>"
      ]
     },
     "metadata": {
      "needs_background": "light"
     },
     "output_type": "display_data"
    }
   ],
   "source": [
    "games_by_year = (\n",
    "    data.pivot_table(index='year_of_release', \n",
    "                     values='name', \n",
    "                     aggfunc='count')\n",
    "                                     .rename(columns={'name': 'count'})\n",
    "                                     .sort_values(by='year_of_release', \n",
    "                                                  ascending=False)\n",
    "                                     .reset_index()\n",
    "                                     .transpose()\n",
    "                )\n",
    "display(games_by_year)\n",
    "\n",
    "plt.figure(figsize=(12,6), dpi = 90)\n",
    "sns.set_style(\"darkgrid\")\n",
    "sns.barplot(x='year_of_release', \n",
    "            y='count',  \n",
    "            data = games_by_year.transpose(), \n",
    "            palette = 'pastel')\n",
    "plt.xticks(rotation=90)\n",
    "plt.show()"
   ]
  },
  {
   "cell_type": "markdown",
   "id": "9a1c8753",
   "metadata": {},
   "source": [
    "**500-600** games were released annually from **2012** to **2016** . In **2011** were released almost **twice as much**"
   ]
  },
  {
   "cell_type": "markdown",
   "id": "af7956ed",
   "metadata": {},
   "source": [
    "Total sales by year"
   ]
  },
  {
   "cell_type": "code",
   "execution_count": 26,
   "id": "97ca90e3",
   "metadata": {
    "scrolled": false
   },
   "outputs": [
    {
     "data": {
      "text/html": [
       "<div>\n",
       "<style scoped>\n",
       "    .dataframe tbody tr th:only-of-type {\n",
       "        vertical-align: middle;\n",
       "    }\n",
       "\n",
       "    .dataframe tbody tr th {\n",
       "        vertical-align: top;\n",
       "    }\n",
       "\n",
       "    .dataframe thead th {\n",
       "        text-align: right;\n",
       "    }\n",
       "</style>\n",
       "<table border=\"1\" class=\"dataframe\">\n",
       "  <thead>\n",
       "    <tr style=\"text-align: right;\">\n",
       "      <th></th>\n",
       "      <th>0</th>\n",
       "      <th>1</th>\n",
       "      <th>2</th>\n",
       "      <th>3</th>\n",
       "      <th>4</th>\n",
       "      <th>5</th>\n",
       "      <th>6</th>\n",
       "      <th>7</th>\n",
       "      <th>8</th>\n",
       "      <th>9</th>\n",
       "      <th>10</th>\n",
       "      <th>11</th>\n",
       "      <th>12</th>\n",
       "      <th>13</th>\n",
       "      <th>14</th>\n",
       "      <th>15</th>\n",
       "      <th>16</th>\n",
       "      <th>17</th>\n",
       "      <th>18</th>\n",
       "      <th>19</th>\n",
       "      <th>20</th>\n",
       "      <th>21</th>\n",
       "      <th>22</th>\n",
       "      <th>23</th>\n",
       "      <th>24</th>\n",
       "      <th>25</th>\n",
       "      <th>26</th>\n",
       "      <th>27</th>\n",
       "      <th>28</th>\n",
       "      <th>29</th>\n",
       "      <th>30</th>\n",
       "      <th>31</th>\n",
       "      <th>32</th>\n",
       "      <th>33</th>\n",
       "      <th>34</th>\n",
       "      <th>35</th>\n",
       "      <th>36</th>\n",
       "    </tr>\n",
       "  </thead>\n",
       "  <tbody>\n",
       "    <tr>\n",
       "      <th>year_of_release</th>\n",
       "      <td>2016</td>\n",
       "      <td>2015</td>\n",
       "      <td>2014</td>\n",
       "      <td>2013</td>\n",
       "      <td>2012</td>\n",
       "      <td>2011</td>\n",
       "      <td>2010</td>\n",
       "      <td>2009</td>\n",
       "      <td>2008</td>\n",
       "      <td>2007</td>\n",
       "      <td>2006</td>\n",
       "      <td>2005</td>\n",
       "      <td>2004</td>\n",
       "      <td>2003</td>\n",
       "      <td>2002</td>\n",
       "      <td>2001</td>\n",
       "      <td>2000</td>\n",
       "      <td>1999</td>\n",
       "      <td>1998</td>\n",
       "      <td>1997</td>\n",
       "      <td>1996</td>\n",
       "      <td>1995</td>\n",
       "      <td>1994</td>\n",
       "      <td>1993</td>\n",
       "      <td>1992</td>\n",
       "      <td>1991</td>\n",
       "      <td>1990</td>\n",
       "      <td>1989</td>\n",
       "      <td>1988</td>\n",
       "      <td>1987</td>\n",
       "      <td>1986</td>\n",
       "      <td>1985</td>\n",
       "      <td>1984</td>\n",
       "      <td>1983</td>\n",
       "      <td>1982</td>\n",
       "      <td>1981</td>\n",
       "      <td>1980</td>\n",
       "    </tr>\n",
       "    <tr>\n",
       "      <th>total_sales</th>\n",
       "      <td>130</td>\n",
       "      <td>268</td>\n",
       "      <td>332</td>\n",
       "      <td>361</td>\n",
       "      <td>356</td>\n",
       "      <td>508</td>\n",
       "      <td>590</td>\n",
       "      <td>659</td>\n",
       "      <td>672</td>\n",
       "      <td>605</td>\n",
       "      <td>518</td>\n",
       "      <td>458</td>\n",
       "      <td>419</td>\n",
       "      <td>358</td>\n",
       "      <td>395</td>\n",
       "      <td>331</td>\n",
       "      <td>202</td>\n",
       "      <td>251</td>\n",
       "      <td>256</td>\n",
       "      <td>201</td>\n",
       "      <td>199</td>\n",
       "      <td>88</td>\n",
       "      <td>79</td>\n",
       "      <td>46</td>\n",
       "      <td>76</td>\n",
       "      <td>32</td>\n",
       "      <td>49</td>\n",
       "      <td>73</td>\n",
       "      <td>47</td>\n",
       "      <td>22</td>\n",
       "      <td>37</td>\n",
       "      <td>54</td>\n",
       "      <td>50</td>\n",
       "      <td>17</td>\n",
       "      <td>29</td>\n",
       "      <td>36</td>\n",
       "      <td>11</td>\n",
       "    </tr>\n",
       "  </tbody>\n",
       "</table>\n",
       "</div>"
      ],
      "text/plain": [
       "                   0     1     2     3     4     5     6     7     8     9   \\\n",
       "year_of_release  2016  2015  2014  2013  2012  2011  2010  2009  2008  2007   \n",
       "total_sales       130   268   332   361   356   508   590   659   672   605   \n",
       "\n",
       "                   10    11    12    13    14    15    16    17    18    19  \\\n",
       "year_of_release  2006  2005  2004  2003  2002  2001  2000  1999  1998  1997   \n",
       "total_sales       518   458   419   358   395   331   202   251   256   201   \n",
       "\n",
       "                   20    21    22    23    24    25    26    27    28    29  \\\n",
       "year_of_release  1996  1995  1994  1993  1992  1991  1990  1989  1988  1987   \n",
       "total_sales       199    88    79    46    76    32    49    73    47    22   \n",
       "\n",
       "                   30    31    32    33    34    35    36  \n",
       "year_of_release  1986  1985  1984  1983  1982  1981  1980  \n",
       "total_sales        37    54    50    17    29    36    11  "
      ]
     },
     "metadata": {},
     "output_type": "display_data"
    },
    {
     "data": {
      "image/png": "[encoded data removed]",
      "text/plain": [
       "<Figure size 1080x540 with 1 Axes>"
      ]
     },
     "metadata": {},
     "output_type": "display_data"
    }
   ],
   "source": [
    "sales_by_year = (\n",
    "    data.pivot_table(index='year_of_release', \n",
    "                     values='total_sales', \n",
    "                     aggfunc='sum')\n",
    "                                   .sort_values(by='year_of_release', \n",
    "                                                ascending=False)\n",
    "                                   .reset_index()\n",
    "                                   .transpose()\n",
    "                )\n",
    "sales_by_year = round(sales_by_year, 0).astype(int)\n",
    "display(sales_by_year)\n",
    "\n",
    "plt.figure(figsize=(12,6), dpi = 90)\n",
    "sns.set_style(\"darkgrid\")\n",
    "sns.barplot(x='year_of_release', \n",
    "            y='total_sales',  \n",
    "            data = sales_by_year.transpose(), \n",
    "            palette = 'pastel')\n",
    "plt.xticks(rotation=90)\n",
    "plt.show()"
   ]
  },
  {
   "cell_type": "markdown",
   "id": "0e6e0d21",
   "metadata": {},
   "source": [
    "Since **2012** we see marked decline in total revenue compared to **2011**(up to **2005** approximately same revenue)"
   ]
  },
  {
   "cell_type": "markdown",
   "id": "ae406122",
   "metadata": {},
   "source": [
    "Total sales by platforms"
   ]
  },
  {
   "cell_type": "code",
   "execution_count": 27,
   "id": "6dab6a9b",
   "metadata": {},
   "outputs": [
    {
     "data": {
      "text/html": [
       "<div>\n",
       "<style scoped>\n",
       "    .dataframe tbody tr th:only-of-type {\n",
       "        vertical-align: middle;\n",
       "    }\n",
       "\n",
       "    .dataframe tbody tr th {\n",
       "        vertical-align: top;\n",
       "    }\n",
       "\n",
       "    .dataframe thead th {\n",
       "        text-align: right;\n",
       "    }\n",
       "</style>\n",
       "<table border=\"1\" class=\"dataframe\">\n",
       "  <thead>\n",
       "    <tr style=\"text-align: right;\">\n",
       "      <th></th>\n",
       "      <th>0</th>\n",
       "      <th>1</th>\n",
       "      <th>2</th>\n",
       "      <th>3</th>\n",
       "      <th>4</th>\n",
       "      <th>5</th>\n",
       "      <th>6</th>\n",
       "      <th>7</th>\n",
       "      <th>8</th>\n",
       "      <th>9</th>\n",
       "      <th>10</th>\n",
       "      <th>11</th>\n",
       "      <th>12</th>\n",
       "      <th>13</th>\n",
       "      <th>14</th>\n",
       "      <th>15</th>\n",
       "      <th>16</th>\n",
       "      <th>17</th>\n",
       "      <th>18</th>\n",
       "      <th>19</th>\n",
       "      <th>20</th>\n",
       "      <th>21</th>\n",
       "      <th>22</th>\n",
       "      <th>23</th>\n",
       "      <th>24</th>\n",
       "      <th>25</th>\n",
       "      <th>26</th>\n",
       "      <th>27</th>\n",
       "      <th>28</th>\n",
       "      <th>29</th>\n",
       "      <th>30</th>\n",
       "    </tr>\n",
       "  </thead>\n",
       "  <tbody>\n",
       "    <tr>\n",
       "      <th>platform</th>\n",
       "      <td>PS2</td>\n",
       "      <td>X360</td>\n",
       "      <td>PS3</td>\n",
       "      <td>Wii</td>\n",
       "      <td>DS</td>\n",
       "      <td>PS</td>\n",
       "      <td>PS4</td>\n",
       "      <td>GBA</td>\n",
       "      <td>PSP</td>\n",
       "      <td>3DS</td>\n",
       "      <td>PC</td>\n",
       "      <td>GB</td>\n",
       "      <td>XB</td>\n",
       "      <td>NES</td>\n",
       "      <td>N64</td>\n",
       "      <td>SNES</td>\n",
       "      <td>GC</td>\n",
       "      <td>XOne</td>\n",
       "      <td>2600</td>\n",
       "      <td>WiiU</td>\n",
       "      <td>PSV</td>\n",
       "      <td>SAT</td>\n",
       "      <td>GEN</td>\n",
       "      <td>DC</td>\n",
       "      <td>SCD</td>\n",
       "      <td>NG</td>\n",
       "      <td>WS</td>\n",
       "      <td>TG16</td>\n",
       "      <td>3DO</td>\n",
       "      <td>GG</td>\n",
       "      <td>PCFX</td>\n",
       "    </tr>\n",
       "    <tr>\n",
       "      <th>total_sales</th>\n",
       "      <td>1233.56</td>\n",
       "      <td>961.24</td>\n",
       "      <td>931.34</td>\n",
       "      <td>891.18</td>\n",
       "      <td>802.78</td>\n",
       "      <td>727.58</td>\n",
       "      <td>314.14</td>\n",
       "      <td>312.88</td>\n",
       "      <td>289.53</td>\n",
       "      <td>257.81</td>\n",
       "      <td>255.76</td>\n",
       "      <td>254.43</td>\n",
       "      <td>251.57</td>\n",
       "      <td>251.05</td>\n",
       "      <td>218.01</td>\n",
       "      <td>200.04</td>\n",
       "      <td>196.73</td>\n",
       "      <td>159.32</td>\n",
       "      <td>86.48</td>\n",
       "      <td>82.19</td>\n",
       "      <td>53.81</td>\n",
       "      <td>33.59</td>\n",
       "      <td>28.35</td>\n",
       "      <td>15.95</td>\n",
       "      <td>1.86</td>\n",
       "      <td>1.44</td>\n",
       "      <td>1.42</td>\n",
       "      <td>0.16</td>\n",
       "      <td>0.1</td>\n",
       "      <td>0.04</td>\n",
       "      <td>0.03</td>\n",
       "    </tr>\n",
       "  </tbody>\n",
       "</table>\n",
       "</div>"
      ],
      "text/plain": [
       "                  0       1       2       3       4       5       6       7   \\\n",
       "platform         PS2    X360     PS3     Wii      DS      PS     PS4     GBA   \n",
       "total_sales  1233.56  961.24  931.34  891.18  802.78  727.58  314.14  312.88   \n",
       "\n",
       "                 8       9       10      11      12      13      14      15  \\\n",
       "platform        PSP     3DS      PC      GB      XB     NES     N64    SNES   \n",
       "total_sales  289.53  257.81  255.76  254.43  251.57  251.05  218.01  200.04   \n",
       "\n",
       "                 16      17     18     19     20     21     22     23    24  \\\n",
       "platform         GC    XOne   2600   WiiU    PSV    SAT    GEN     DC   SCD   \n",
       "total_sales  196.73  159.32  86.48  82.19  53.81  33.59  28.35  15.95  1.86   \n",
       "\n",
       "               25    26    27   28    29    30  \n",
       "platform       NG    WS  TG16  3DO    GG  PCFX  \n",
       "total_sales  1.44  1.42  0.16  0.1  0.04  0.03  "
      ]
     },
     "execution_count": 27,
     "metadata": {},
     "output_type": "execute_result"
    }
   ],
   "source": [
    "sales_by_plat = (\n",
    "    data.pivot_table(index='platform', \n",
    "                     values='total_sales', \n",
    "                     aggfunc='sum')\n",
    "                                   .sort_values(by='total_sales', \n",
    "                                                ascending=False)\n",
    "                                   .reset_index()\n",
    "                )\n",
    "sales_by_plat.transpose()"
   ]
  },
  {
   "cell_type": "code",
   "execution_count": 28,
   "id": "f4ebf38d",
   "metadata": {
    "scrolled": false
   },
   "outputs": [
    {
     "data": {
      "image/png": "[encoded data removed]",
      "text/plain": [
       "<Figure size 1080x540 with 1 Axes>"
      ]
     },
     "metadata": {},
     "output_type": "display_data"
    },
    {
     "data": {
      "image/png": "[encoded data removed]",
      "text/plain": [
       "<Figure size 1080x540 with 1 Axes>"
      ]
     },
     "metadata": {},
     "output_type": "display_data"
    },
    {
     "data": {
      "image/png": "[encoded data removed]",
      "text/plain": [
       "<Figure size 1080x540 with 1 Axes>"
      ]
     },
     "metadata": {},
     "output_type": "display_data"
    },
    {
     "data": {
      "image/png": "[encoded data removed]",
      "text/plain": [
       "<Figure size 1080x540 with 1 Axes>"
      ]
     },
     "metadata": {},
     "output_type": "display_data"
    },
    {
     "data": {
      "image/png": "[encoded data removed]",
      "text/plain": [
       "<Figure size 1080x540 with 1 Axes>"
      ]
     },
     "metadata": {},
     "output_type": "display_data"
    },
    {
     "data": {
      "image/png": "[encoded data removed]",
      "text/plain": [
       "<Figure size 1080x540 with 1 Axes>"
      ]
     },
     "metadata": {},
     "output_type": "display_data"
    }
   ],
   "source": [
    "top_sales_by_plat = sales_by_plat.query('total_sales > 700')\n",
    "top_sales_by_year = (\n",
    "    data[data['platform']\n",
    "         .isin(top_sales_by_plat['platform'])]\n",
    "         .pivot_table(index=['year_of_release', 'platform'], \n",
    "                      values='total_sales', \n",
    "                      aggfunc='sum')\n",
    "         .reset_index()\n",
    "                    )\n",
    "\n",
    "plat_palette = {'DS':'YlOrBr', \n",
    "                'PS':'Blues', \n",
    "                'PS2':'Blues', \n",
    "                'PS3':'Blues', \n",
    "                'Wii':'dark:salmon_r', \n",
    "                'X360':'dark:#5A9_r'}\n",
    "\n",
    "for name, group_data in top_sales_by_year.groupby('platform'):\n",
    "    plt.figure(figsize=(12,6), dpi = 90)\n",
    "    sns.set_style(\"darkgrid\")\n",
    "    sns.barplot(x = 'year_of_release', \n",
    "                y = 'total_sales',\n",
    "                data = group_data,\n",
    "                palette = plat_palette[name]).set(title=name)\n",
    "    plt.xlabel('Year')\n",
    "    plt.ylabel('Sum, million')\n",
    "    plt.xticks(rotation=90)\n",
    "    plt.show()"
   ]
  },
  {
   "cell_type": "markdown",
   "id": "b3b7704a",
   "metadata": {},
   "source": [
    "We analyzed data by platform with total sales over **700** million, as difference between **PS** and **PS4** in sales is more than **twice as much**. Based on distribution, life span of each platform is around **10** years. New platform begins to replace old one in **5** years in terms of revenue"
   ]
  },
  {
   "cell_type": "markdown",
   "id": "7ad344f6",
   "metadata": {},
   "source": [
    "Set current period since **2012** based on data above"
   ]
  },
  {
   "cell_type": "code",
   "execution_count": 29,
   "id": "d0d3d9de",
   "metadata": {},
   "outputs": [],
   "source": [
    "actual_data = data.loc[data['year_of_release'] > 2011]"
   ]
  },
  {
   "cell_type": "markdown",
   "id": "71a6a243",
   "metadata": {},
   "source": [
    "Check if there are still names of games with word (... sales)."
   ]
  },
  {
   "cell_type": "code",
   "execution_count": 30,
   "id": "eed98cc8",
   "metadata": {},
   "outputs": [
    {
     "data": {
      "text/html": [
       "<div>\n",
       "<style scoped>\n",
       "    .dataframe tbody tr th:only-of-type {\n",
       "        vertical-align: middle;\n",
       "    }\n",
       "\n",
       "    .dataframe tbody tr th {\n",
       "        vertical-align: top;\n",
       "    }\n",
       "\n",
       "    .dataframe thead th {\n",
       "        text-align: right;\n",
       "    }\n",
       "</style>\n",
       "<table border=\"1\" class=\"dataframe\">\n",
       "  <thead>\n",
       "    <tr style=\"text-align: right;\">\n",
       "      <th></th>\n",
       "      <th>name</th>\n",
       "      <th>platform</th>\n",
       "      <th>year_of_release</th>\n",
       "      <th>genre</th>\n",
       "      <th>na_sales</th>\n",
       "      <th>eu_sales</th>\n",
       "      <th>jp_sales</th>\n",
       "      <th>other_sales</th>\n",
       "      <th>critic_score</th>\n",
       "      <th>user_score</th>\n",
       "      <th>rating</th>\n",
       "      <th>total_sales</th>\n",
       "    </tr>\n",
       "  </thead>\n",
       "  <tbody>\n",
       "  </tbody>\n",
       "</table>\n",
       "</div>"
      ],
      "text/plain": [
       "Empty DataFrame\n",
       "Columns: [name, platform, year_of_release, genre, na_sales, eu_sales, jp_sales, other_sales, critic_score, user_score, rating, total_sales]\n",
       "Index: []"
      ]
     },
     "execution_count": 30,
     "metadata": {},
     "output_type": "execute_result"
    }
   ],
   "source": [
    "actual_data[actual_data['name'].str.contains('sales', na=False)]"
   ]
  },
  {
   "cell_type": "markdown",
   "id": "18897edc",
   "metadata": {},
   "source": [
    "Look at platforms with top total sales"
   ]
  },
  {
   "cell_type": "code",
   "execution_count": 31,
   "id": "6d065a5f",
   "metadata": {},
   "outputs": [
    {
     "data": {
      "text/html": [
       "<div>\n",
       "<style scoped>\n",
       "    .dataframe tbody tr th:only-of-type {\n",
       "        vertical-align: middle;\n",
       "    }\n",
       "\n",
       "    .dataframe tbody tr th {\n",
       "        vertical-align: top;\n",
       "    }\n",
       "\n",
       "    .dataframe thead th {\n",
       "        text-align: right;\n",
       "    }\n",
       "</style>\n",
       "<table border=\"1\" class=\"dataframe\">\n",
       "  <thead>\n",
       "    <tr style=\"text-align: right;\">\n",
       "      <th></th>\n",
       "      <th>platform</th>\n",
       "      <th>total_sales</th>\n",
       "    </tr>\n",
       "  </thead>\n",
       "  <tbody>\n",
       "    <tr>\n",
       "      <th>4</th>\n",
       "      <td>PS4</td>\n",
       "      <td>314.14</td>\n",
       "    </tr>\n",
       "    <tr>\n",
       "      <th>3</th>\n",
       "      <td>PS3</td>\n",
       "      <td>288.79</td>\n",
       "    </tr>\n",
       "    <tr>\n",
       "      <th>9</th>\n",
       "      <td>X360</td>\n",
       "      <td>236.54</td>\n",
       "    </tr>\n",
       "    <tr>\n",
       "      <th>0</th>\n",
       "      <td>3DS</td>\n",
       "      <td>194.61</td>\n",
       "    </tr>\n",
       "    <tr>\n",
       "      <th>10</th>\n",
       "      <td>XOne</td>\n",
       "      <td>159.32</td>\n",
       "    </tr>\n",
       "    <tr>\n",
       "      <th>8</th>\n",
       "      <td>WiiU</td>\n",
       "      <td>82.19</td>\n",
       "    </tr>\n",
       "    <tr>\n",
       "      <th>2</th>\n",
       "      <td>PC</td>\n",
       "      <td>62.65</td>\n",
       "    </tr>\n",
       "    <tr>\n",
       "      <th>6</th>\n",
       "      <td>PSV</td>\n",
       "      <td>49.18</td>\n",
       "    </tr>\n",
       "    <tr>\n",
       "      <th>7</th>\n",
       "      <td>Wii</td>\n",
       "      <td>35.37</td>\n",
       "    </tr>\n",
       "    <tr>\n",
       "      <th>1</th>\n",
       "      <td>DS</td>\n",
       "      <td>12.55</td>\n",
       "    </tr>\n",
       "    <tr>\n",
       "      <th>5</th>\n",
       "      <td>PSP</td>\n",
       "      <td>11.19</td>\n",
       "    </tr>\n",
       "  </tbody>\n",
       "</table>\n",
       "</div>"
      ],
      "text/plain": [
       "   platform  total_sales\n",
       "4       PS4       314.14\n",
       "3       PS3       288.79\n",
       "9      X360       236.54\n",
       "0       3DS       194.61\n",
       "10     XOne       159.32\n",
       "8      WiiU        82.19\n",
       "2        PC        62.65\n",
       "6       PSV        49.18\n",
       "7       Wii        35.37\n",
       "1        DS        12.55\n",
       "5       PSP        11.19"
      ]
     },
     "execution_count": 31,
     "metadata": {},
     "output_type": "execute_result"
    }
   ],
   "source": [
    "sales_by_plat = (\n",
    "    actual_data.pivot_table(index='platform', \n",
    "                            values='total_sales', \n",
    "                            aggfunc='sum')\n",
    "    .reset_index()\n",
    "    .sort_values(by='total_sales', \n",
    "                 ascending=False)\n",
    "                )\n",
    "sales_by_plat"
   ]
  },
  {
   "cell_type": "markdown",
   "id": "fdfa6820",
   "metadata": {},
   "source": [
    "Filter platforms with total_sales over **100** million"
   ]
  },
  {
   "cell_type": "code",
   "execution_count": 32,
   "id": "0bd018d0",
   "metadata": {},
   "outputs": [
    {
     "data": {
      "image/png": "[encoded data removed]",
      "text/plain": [
       "<Figure size 720x360 with 1 Axes>"
      ]
     },
     "metadata": {},
     "output_type": "display_data"
    },
    {
     "data": {
      "image/png": "[encoded data removed]",
      "text/plain": [
       "<Figure size 720x360 with 1 Axes>"
      ]
     },
     "metadata": {},
     "output_type": "display_data"
    },
    {
     "data": {
      "image/png": "[encoded data removed]",
      "text/plain": [
       "<Figure size 720x360 with 1 Axes>"
      ]
     },
     "metadata": {},
     "output_type": "display_data"
    },
    {
     "data": {
      "image/png": "[encoded data removed]",
      "text/plain": [
       "<Figure size 720x360 with 1 Axes>"
      ]
     },
     "metadata": {},
     "output_type": "display_data"
    },
    {
     "data": {
      "image/png": "[encoded data removed]",
      "text/plain": [
       "<Figure size 720x360 with 1 Axes>"
      ]
     },
     "metadata": {},
     "output_type": "display_data"
    }
   ],
   "source": [
    "top_sales_by_plat = sales_by_plat.query('total_sales > 100')\n",
    "top_sales_by_year = (\n",
    "    actual_data[actual_data['platform']\n",
    "        .isin(top_sales_by_plat['platform'])]\n",
    "        .pivot_table(index=['year_of_release', 'platform'], \n",
    "                     values='total_sales', \n",
    "                     aggfunc='sum')\n",
    "        .reset_index()\n",
    "                    )\n",
    "\n",
    "plat_palette = {'3DS':'YlOrBr', \n",
    "                'PS3':'Blues', \n",
    "                'PS4':'Blues', \n",
    "                'X360':'dark:#5A9_r', \n",
    "                'XOne':'dark:#5A9_r'}\n",
    "\n",
    "for name, group_data in top_sales_by_year.groupby('platform'):\n",
    "    plt.figure(figsize=(8,4), dpi = 90)\n",
    "    sns.set_style(\"darkgrid\")\n",
    "    sns.barplot(x = 'year_of_release', \n",
    "                y = 'total_sales',\n",
    "                data = group_data,\n",
    "                palette = plat_palette[name]).set(title=name)\n",
    "    plt.xlabel('Year')\n",
    "    plt.ylabel('Sum, million')\n",
    "    plt.xticks(rotation=90)\n",
    "    plt.show()"
   ]
  },
  {
   "cell_type": "markdown",
   "id": "1fb45297",
   "metadata": {},
   "source": [
    "- Platforms of `Play Station` (**PS3, PS4**) family help each other. When **PS3** revenue slumped seriously in **2014**, **PS4** revenue increased. Play Station showed steady revenue growth above **100** million from **2012** to **2015**. Revenue of **2016** year is about **70** million(data for this year is incomplete)\n",
    "- `XBox` family (X360, Xone) also help each other. Although they have negative trend. In **2014** **XOne** showed just over **50** million revenue, and **X360** in **2013** over **80** million. Obviously, **XBox** does not so well in terms of global sales.\n",
    "- Japanese `Nintendo 3DS` also shows downward trend in revenues."
   ]
  },
  {
   "cell_type": "markdown",
   "id": "6280ab66",
   "metadata": {},
   "source": [
    "Plot boxplot for global sales by platform"
   ]
  },
  {
   "cell_type": "code",
   "execution_count": 33,
   "id": "fcfe9498",
   "metadata": {},
   "outputs": [
    {
     "data": {
      "image/png": "[encoded data removed]",
      "text/plain": [
       "<Figure size 1080x540 with 1 Axes>"
      ]
     },
     "metadata": {},
     "output_type": "display_data"
    }
   ],
   "source": [
    "p_order = (\n",
    "    actual_data[actual_data['platform']\n",
    "        .isin(['PS4', 'PS3', 'X360', 'XOne', '3DS'])]\n",
    "        .groupby(by=['platform'])['total_sales']\n",
    "        .sum()\n",
    "        .sort_values(ascending=False)\n",
    "        .index\n",
    "          )\n",
    "plt.figure(figsize=(12,6), dpi = 90)\n",
    "sns.set_style(\"darkgrid\")\n",
    "sns.boxplot(y='platform', \n",
    "            x='total_sales', \n",
    "            data=actual_data, \n",
    "            order=p_order, \n",
    "            palette = 'pastel')\n",
    "plt.xlim([0, 10])\n",
    "plt.xlabel('Sum of total sales, million')\n",
    "plt.ylabel('Platform');"
   ]
  },
  {
   "cell_type": "markdown",
   "id": "99880a0f",
   "metadata": {},
   "source": [
    "Although **PS4** and **PS3** lead in terms of total game sales revenue, their boxplots have large number of outliers. **XBox** family has fewer outliers. **Nintendo 3DS** also has outliers. Within normal range, median of total revenue of **X360** is higher than others. Right whisker too"
   ]
  },
  {
   "cell_type": "code",
   "execution_count": 34,
   "id": "7c5e5a40",
   "metadata": {},
   "outputs": [
    {
     "data": {
      "text/html": [
       "<div>\n",
       "<style scoped>\n",
       "    .dataframe tbody tr th:only-of-type {\n",
       "        vertical-align: middle;\n",
       "    }\n",
       "\n",
       "    .dataframe tbody tr th {\n",
       "        vertical-align: top;\n",
       "    }\n",
       "\n",
       "    .dataframe thead th {\n",
       "        text-align: right;\n",
       "    }\n",
       "</style>\n",
       "<table border=\"1\" class=\"dataframe\">\n",
       "  <thead>\n",
       "    <tr style=\"text-align: right;\">\n",
       "      <th></th>\n",
       "      <th>name</th>\n",
       "      <th>platform</th>\n",
       "      <th>total_sales</th>\n",
       "    </tr>\n",
       "  </thead>\n",
       "  <tbody>\n",
       "    <tr>\n",
       "      <th>615</th>\n",
       "      <td>Grand Theft Auto V</td>\n",
       "      <td>PS3</td>\n",
       "      <td>21.05</td>\n",
       "    </tr>\n",
       "    <tr>\n",
       "      <th>617</th>\n",
       "      <td>Grand Theft Auto V</td>\n",
       "      <td>X360</td>\n",
       "      <td>16.27</td>\n",
       "    </tr>\n",
       "    <tr>\n",
       "      <th>206</th>\n",
       "      <td>Call of Duty: Black Ops 3</td>\n",
       "      <td>PS4</td>\n",
       "      <td>14.63</td>\n",
       "    </tr>\n",
       "    <tr>\n",
       "      <th>1155</th>\n",
       "      <td>Pokemon X/Pokemon Y</td>\n",
       "      <td>3DS</td>\n",
       "      <td>14.60</td>\n",
       "    </tr>\n",
       "    <tr>\n",
       "      <th>209</th>\n",
       "      <td>Call of Duty: Black Ops II</td>\n",
       "      <td>PS3</td>\n",
       "      <td>13.79</td>\n",
       "    </tr>\n",
       "    <tr>\n",
       "      <th>210</th>\n",
       "      <td>Call of Duty: Black Ops II</td>\n",
       "      <td>X360</td>\n",
       "      <td>13.68</td>\n",
       "    </tr>\n",
       "    <tr>\n",
       "      <th>616</th>\n",
       "      <td>Grand Theft Auto V</td>\n",
       "      <td>PS4</td>\n",
       "      <td>12.62</td>\n",
       "    </tr>\n",
       "    <tr>\n",
       "      <th>1151</th>\n",
       "      <td>Pokemon Omega Ruby/Pokemon Alpha Sapphire</td>\n",
       "      <td>3DS</td>\n",
       "      <td>11.68</td>\n",
       "    </tr>\n",
       "    <tr>\n",
       "      <th>213</th>\n",
       "      <td>Call of Duty: Ghosts</td>\n",
       "      <td>X360</td>\n",
       "      <td>10.24</td>\n",
       "    </tr>\n",
       "    <tr>\n",
       "      <th>1070</th>\n",
       "      <td>New Super Mario Bros. 2</td>\n",
       "      <td>3DS</td>\n",
       "      <td>9.90</td>\n",
       "    </tr>\n",
       "  </tbody>\n",
       "</table>\n",
       "</div>"
      ],
      "text/plain": [
       "                                           name platform  total_sales\n",
       "615                          Grand Theft Auto V      PS3        21.05\n",
       "617                          Grand Theft Auto V     X360        16.27\n",
       "206                   Call of Duty: Black Ops 3      PS4        14.63\n",
       "1155                        Pokemon X/Pokemon Y      3DS        14.60\n",
       "209                  Call of Duty: Black Ops II      PS3        13.79\n",
       "210                  Call of Duty: Black Ops II     X360        13.68\n",
       "616                          Grand Theft Auto V      PS4        12.62\n",
       "1151  Pokemon Omega Ruby/Pokemon Alpha Sapphire      3DS        11.68\n",
       "213                        Call of Duty: Ghosts     X360        10.24\n",
       "1070                    New Super Mario Bros. 2      3DS         9.90"
      ]
     },
     "execution_count": 34,
     "metadata": {},
     "output_type": "execute_result"
    }
   ],
   "source": [
    "(\n",
    " actual_data[actual_data['platform']\n",
    "     .isin(['PS4', 'PS3', 'X360', 'XOne', '3DS'])]\n",
    "     .pivot_table(index=['name', 'platform'], \n",
    "                  values='total_sales', \n",
    "                  aggfunc='sum')\n",
    "     .reset_index()\n",
    "     .sort_values(by='total_sales', \n",
    "                  ascending=False)\n",
    "     .head(10)\n",
    ")"
   ]
  },
  {
   "cell_type": "markdown",
   "id": "fab8aadf",
   "metadata": {},
   "source": [
    "We see that top of same games are sold better on **PS** platform. Higher number of outliers on boxplot also indicates higher popularity of `Play Station'.  "
   ]
  },
  {
   "cell_type": "markdown",
   "id": "c5dd3366",
   "metadata": {},
   "source": [
    "Check affection of user and critic scores on sales of **PS4** platform"
   ]
  },
  {
   "cell_type": "code",
   "execution_count": 35,
   "id": "e45d17b3",
   "metadata": {},
   "outputs": [
    {
     "data": {
      "image/png": "[encoded data removed]",
      "text/plain": [
       "<Figure size 864x288 with 4 Axes>"
      ]
     },
     "metadata": {},
     "output_type": "display_data"
    }
   ],
   "source": [
    "PS4 = actual_data.loc[actual_data['platform'] == 'PS4']\n",
    "sns.set_style(\"darkgrid\")\n",
    "sns.pairplot(PS4[['total_sales', 'critic_score', 'user_score']], \n",
    "             x_vars=['total_sales', 'critic_score', 'user_score'],\n",
    "             y_vars='total_sales', \n",
    "             height=4);"
   ]
  },
  {
   "cell_type": "code",
   "execution_count": 36,
   "id": "88135047",
   "metadata": {},
   "outputs": [
    {
     "data": {
      "image/png": "[encoded data removed]",
      "text/plain": [
       "<Figure size 700x700 with 1 Axes>"
      ]
     },
     "metadata": {},
     "output_type": "display_data"
    }
   ],
   "source": [
    "plt.figure(figsize=(10,10), dpi = 70)\n",
    "sns.heatmap(\n",
    "    PS4[['total_sales', 'critic_score', 'user_score']]\n",
    "    .corr(), \n",
    "    annot = True, \n",
    "    cmap= 'coolwarm', \n",
    "    cbar=False, \n",
    "    square=True);"
   ]
  },
  {
   "cell_type": "markdown",
   "id": "4b680e6c",
   "metadata": {},
   "source": [
    "User scores doesn't affect on sales. Critic scores has small affection on sales.\n",
    "Check other platforms"
   ]
  },
  {
   "cell_type": "code",
   "execution_count": 37,
   "id": "3edbf8b5",
   "metadata": {},
   "outputs": [
    {
     "data": {
      "image/png": "[encoded data removed]",
      "text/plain": [
       "<Figure size 864x288 with 4 Axes>"
      ]
     },
     "metadata": {},
     "output_type": "display_data"
    }
   ],
   "source": [
    "others_p = (\n",
    "    actual_data.loc[actual_data['platform']\n",
    "               .isin(['PS3', 'X360', 'XOne', '3DS'])]\n",
    "           )\n",
    "sns.set_style(\"darkgrid\")\n",
    "sns.pairplot(others_p[['total_sales', 'critic_score', 'user_score']], \n",
    "             x_vars=['total_sales', 'critic_score', 'user_score'],\n",
    "             y_vars='total_sales', \n",
    "             height=4);"
   ]
  },
  {
   "cell_type": "code",
   "execution_count": 38,
   "id": "95042c16",
   "metadata": {},
   "outputs": [
    {
     "data": {
      "text/plain": [
       "<AxesSubplot:>"
      ]
     },
     "execution_count": 38,
     "metadata": {},
     "output_type": "execute_result"
    },
    {
     "data": {
      "image/png": "[encoded data removed]",
      "text/plain": [
       "<Figure size 700x700 with 1 Axes>"
      ]
     },
     "metadata": {},
     "output_type": "display_data"
    }
   ],
   "source": [
    "plt.figure(figsize=(10,10), dpi = 70)\n",
    "sns.heatmap(\n",
    "    others_p[['total_sales', 'critic_score', 'user_score']]\n",
    "    .corr(), \n",
    "    annot = True, \n",
    "    cmap= 'coolwarm', \n",
    "    cbar=False, \n",
    "    square=True)"
   ]
  },
  {
   "cell_type": "markdown",
   "id": "aa6ad4fd",
   "metadata": {},
   "source": [
    "Same affection"
   ]
  },
  {
   "cell_type": "markdown",
   "id": "b670bfe0",
   "metadata": {},
   "source": [
    "General distribution of sales by genre"
   ]
  },
  {
   "cell_type": "code",
   "execution_count": 39,
   "id": "8997e3a1",
   "metadata": {},
   "outputs": [
    {
     "data": {
      "text/html": [
       "<div>\n",
       "<style scoped>\n",
       "    .dataframe tbody tr th:only-of-type {\n",
       "        vertical-align: middle;\n",
       "    }\n",
       "\n",
       "    .dataframe tbody tr th {\n",
       "        vertical-align: top;\n",
       "    }\n",
       "\n",
       "    .dataframe thead th {\n",
       "        text-align: right;\n",
       "    }\n",
       "</style>\n",
       "<table border=\"1\" class=\"dataframe\">\n",
       "  <thead>\n",
       "    <tr style=\"text-align: right;\">\n",
       "      <th></th>\n",
       "      <th>genre</th>\n",
       "      <th>total_sales</th>\n",
       "    </tr>\n",
       "  </thead>\n",
       "  <tbody>\n",
       "    <tr>\n",
       "      <th>0</th>\n",
       "      <td>Action</td>\n",
       "      <td>441.12</td>\n",
       "    </tr>\n",
       "    <tr>\n",
       "      <th>8</th>\n",
       "      <td>Shooter</td>\n",
       "      <td>304.73</td>\n",
       "    </tr>\n",
       "    <tr>\n",
       "      <th>7</th>\n",
       "      <td>Role-Playing</td>\n",
       "      <td>192.80</td>\n",
       "    </tr>\n",
       "    <tr>\n",
       "      <th>10</th>\n",
       "      <td>Sports</td>\n",
       "      <td>181.07</td>\n",
       "    </tr>\n",
       "    <tr>\n",
       "      <th>3</th>\n",
       "      <td>Misc</td>\n",
       "      <td>85.04</td>\n",
       "    </tr>\n",
       "    <tr>\n",
       "      <th>4</th>\n",
       "      <td>Platform</td>\n",
       "      <td>61.00</td>\n",
       "    </tr>\n",
       "    <tr>\n",
       "      <th>6</th>\n",
       "      <td>Racing</td>\n",
       "      <td>53.50</td>\n",
       "    </tr>\n",
       "    <tr>\n",
       "      <th>2</th>\n",
       "      <td>Fighting</td>\n",
       "      <td>44.49</td>\n",
       "    </tr>\n",
       "    <tr>\n",
       "      <th>9</th>\n",
       "      <td>Simulation</td>\n",
       "      <td>35.12</td>\n",
       "    </tr>\n",
       "    <tr>\n",
       "      <th>1</th>\n",
       "      <td>Adventure</td>\n",
       "      <td>29.43</td>\n",
       "    </tr>\n",
       "    <tr>\n",
       "      <th>11</th>\n",
       "      <td>Strategy</td>\n",
       "      <td>13.34</td>\n",
       "    </tr>\n",
       "    <tr>\n",
       "      <th>5</th>\n",
       "      <td>Puzzle</td>\n",
       "      <td>4.89</td>\n",
       "    </tr>\n",
       "  </tbody>\n",
       "</table>\n",
       "</div>"
      ],
      "text/plain": [
       "           genre  total_sales\n",
       "0         Action       441.12\n",
       "8        Shooter       304.73\n",
       "7   Role-Playing       192.80\n",
       "10        Sports       181.07\n",
       "3           Misc        85.04\n",
       "4       Platform        61.00\n",
       "6         Racing        53.50\n",
       "2       Fighting        44.49\n",
       "9     Simulation        35.12\n",
       "1      Adventure        29.43\n",
       "11      Strategy        13.34\n",
       "5         Puzzle         4.89"
      ]
     },
     "execution_count": 39,
     "metadata": {},
     "output_type": "execute_result"
    }
   ],
   "source": [
    "(\n",
    " actual_data\n",
    "     .pivot_table(index='genre', \n",
    "                  values='total_sales', \n",
    "                  aggfunc='sum')\n",
    "     .reset_index()\n",
    "     .sort_values(by='total_sales', \n",
    "                  ascending=False)\n",
    ")"
   ]
  },
  {
   "cell_type": "markdown",
   "id": "753d0bb0",
   "metadata": {},
   "source": [
    "**Top-4** genres: \n",
    "- Action\n",
    "- Shooter \n",
    "- Role-Playing\n",
    "- Sports"
   ]
  },
  {
   "cell_type": "code",
   "execution_count": 40,
   "id": "1c6efaab",
   "metadata": {},
   "outputs": [
    {
     "data": {
      "image/png": "[encoded data removed]",
      "text/plain": [
       "<Figure size 1080x1080 with 1 Axes>"
      ]
     },
     "metadata": {},
     "output_type": "display_data"
    }
   ],
   "source": [
    "g_order = (\n",
    "    actual_data\n",
    "        .groupby(by=['genre'])['total_sales']\n",
    "        .sum()\n",
    "        .sort_values(ascending=False)\n",
    "        .index\n",
    "          )\n",
    "plt.figure(figsize=(12,12), dpi = 90)\n",
    "sns.set_style(\"darkgrid\")\n",
    "sns.boxplot(y='genre', \n",
    "            x='total_sales', \n",
    "            data=actual_data, \n",
    "            order=g_order, \n",
    "            palette = 'pastel')\n",
    "plt.xlim([0, 10])\n",
    "plt.xlabel('Sum of total sales, million')\n",
    "plt.ylabel('Genre');"
   ]
  },
  {
   "cell_type": "markdown",
   "id": "f3b024fd",
   "metadata": {},
   "source": [
    "According to boxplot, `Action`, as most popular genre, has largest amount of outliers. `Shooter`, `Platform` and `Fighting` are subgenres of `Action`. Large amount of outliers could be explained by creating various games. **4** games make **5** million of revenue in `Action` genre. But median is highest in `Shooter` boxplot and its right whisker is on line of **3,5** million, which is higher than others medians"
   ]
  },
  {
   "cell_type": "markdown",
   "id": "41d9ef6d",
   "metadata": {},
   "source": [
    "### Conclusion\n",
    "\n",
    "- Current period is defined from **2012** to **2016** year\n",
    "- Life span of each platform is around **10** years. New platform begins to replace old one in **5** years in terms of revenue\n",
    "- Sales peak occurs in **4th** or **5th** year of platform generation\n",
    "- Bestsellers are games for `Play Station`, `XBox` и `3DS`\n",
    "- Total revenue of `Play Station` is higher than of `XBox`\n",
    "- Most popular game both in `PS` and `XBox` is **Grand Theft Auto V**. **21.05** and **16.27** million of revenue respectively\n",
    "- User scores doesn't affect on sales. Critic scores has small affection on sales\n",
    "- Most popular genre is `Action`\n",
    "- `Play Station` family has **positive** revenue growth trend since **2012**. `XBox` and `Nintendo 3DS` have **negative** trend"
   ]
  },
  {
   "cell_type": "markdown",
   "id": "880e6421",
   "metadata": {},
   "source": [
    "## Сreate user profile for each region\n",
    "\n",
    "- Define for user of each region (NA, EU, JP):\n",
    "  - **Top five** platforms\n",
    "  - **Top five** genres\n",
    "  - If rating **ESRB** affect on sales in particular region"
   ]
  },
  {
   "cell_type": "code",
   "execution_count": 41,
   "id": "ce78fc99",
   "metadata": {},
   "outputs": [],
   "source": [
    "def popularity(index, xlabel):\n",
    "    columns = ['na_sales', 'eu_sales', 'jp_sales']\n",
    "    for column in columns:\n",
    "        data = (actual_data\n",
    "        .pivot_table(index=index, values=column, aggfunc='sum')\n",
    "        .reset_index()\n",
    "        .sort_values(by=column, ascending=False)\n",
    "        )\n",
    "        data['ratio'] = (data[column] / data[column].sum()).round(2)\n",
    "        display(data.head())\n",
    "        print()\n",
    "        plt.figure(figsize=(6,6), dpi = 90)\n",
    "        sns.barplot(index, 'ratio', data = data.head())\n",
    "        plt.xlabel(xlabel)\n",
    "        plt.ylabel('Share of sales')\n",
    "        plt.title(column)\n",
    "        plt.show()\n",
    "        print(65*'-')"
   ]
  },
  {
   "cell_type": "markdown",
   "id": "bab8a5d3",
   "metadata": {},
   "source": [
    "Most popular platforms"
   ]
  },
  {
   "cell_type": "code",
   "execution_count": 42,
   "id": "2b65e263",
   "metadata": {
    "scrolled": false
   },
   "outputs": [
    {
     "data": {
      "text/html": [
       "<div>\n",
       "<style scoped>\n",
       "    .dataframe tbody tr th:only-of-type {\n",
       "        vertical-align: middle;\n",
       "    }\n",
       "\n",
       "    .dataframe tbody tr th {\n",
       "        vertical-align: top;\n",
       "    }\n",
       "\n",
       "    .dataframe thead th {\n",
       "        text-align: right;\n",
       "    }\n",
       "</style>\n",
       "<table border=\"1\" class=\"dataframe\">\n",
       "  <thead>\n",
       "    <tr style=\"text-align: right;\">\n",
       "      <th></th>\n",
       "      <th>platform</th>\n",
       "      <th>na_sales</th>\n",
       "      <th>ratio</th>\n",
       "    </tr>\n",
       "  </thead>\n",
       "  <tbody>\n",
       "    <tr>\n",
       "      <th>9</th>\n",
       "      <td>X360</td>\n",
       "      <td>140.05</td>\n",
       "      <td>0.24</td>\n",
       "    </tr>\n",
       "    <tr>\n",
       "      <th>4</th>\n",
       "      <td>PS4</td>\n",
       "      <td>108.74</td>\n",
       "      <td>0.18</td>\n",
       "    </tr>\n",
       "    <tr>\n",
       "      <th>3</th>\n",
       "      <td>PS3</td>\n",
       "      <td>103.38</td>\n",
       "      <td>0.17</td>\n",
       "    </tr>\n",
       "    <tr>\n",
       "      <th>10</th>\n",
       "      <td>XOne</td>\n",
       "      <td>93.12</td>\n",
       "      <td>0.16</td>\n",
       "    </tr>\n",
       "    <tr>\n",
       "      <th>0</th>\n",
       "      <td>3DS</td>\n",
       "      <td>55.31</td>\n",
       "      <td>0.09</td>\n",
       "    </tr>\n",
       "  </tbody>\n",
       "</table>\n",
       "</div>"
      ],
      "text/plain": [
       "   platform  na_sales  ratio\n",
       "9      X360    140.05   0.24\n",
       "4       PS4    108.74   0.18\n",
       "3       PS3    103.38   0.17\n",
       "10     XOne     93.12   0.16\n",
       "0       3DS     55.31   0.09"
      ]
     },
     "metadata": {},
     "output_type": "display_data"
    },
    {
     "name": "stdout",
     "output_type": "stream",
     "text": [
      "\n"
     ]
    },
    {
     "data": {
      "image/png": "[encoded data removed]",
      "text/plain": [
       "<Figure size 540x540 with 1 Axes>"
      ]
     },
     "metadata": {},
     "output_type": "display_data"
    },
    {
     "name": "stdout",
     "output_type": "stream",
     "text": [
      "-----------------------------------------------------------------\n"
     ]
    },
    {
     "data": {
      "text/html": [
       "<div>\n",
       "<style scoped>\n",
       "    .dataframe tbody tr th:only-of-type {\n",
       "        vertical-align: middle;\n",
       "    }\n",
       "\n",
       "    .dataframe tbody tr th {\n",
       "        vertical-align: top;\n",
       "    }\n",
       "\n",
       "    .dataframe thead th {\n",
       "        text-align: right;\n",
       "    }\n",
       "</style>\n",
       "<table border=\"1\" class=\"dataframe\">\n",
       "  <thead>\n",
       "    <tr style=\"text-align: right;\">\n",
       "      <th></th>\n",
       "      <th>platform</th>\n",
       "      <th>eu_sales</th>\n",
       "      <th>ratio</th>\n",
       "    </tr>\n",
       "  </thead>\n",
       "  <tbody>\n",
       "    <tr>\n",
       "      <th>4</th>\n",
       "      <td>PS4</td>\n",
       "      <td>141.09</td>\n",
       "      <td>0.28</td>\n",
       "    </tr>\n",
       "    <tr>\n",
       "      <th>3</th>\n",
       "      <td>PS3</td>\n",
       "      <td>106.86</td>\n",
       "      <td>0.21</td>\n",
       "    </tr>\n",
       "    <tr>\n",
       "      <th>9</th>\n",
       "      <td>X360</td>\n",
       "      <td>74.52</td>\n",
       "      <td>0.15</td>\n",
       "    </tr>\n",
       "    <tr>\n",
       "      <th>10</th>\n",
       "      <td>XOne</td>\n",
       "      <td>51.59</td>\n",
       "      <td>0.10</td>\n",
       "    </tr>\n",
       "    <tr>\n",
       "      <th>0</th>\n",
       "      <td>3DS</td>\n",
       "      <td>42.64</td>\n",
       "      <td>0.08</td>\n",
       "    </tr>\n",
       "  </tbody>\n",
       "</table>\n",
       "</div>"
      ],
      "text/plain": [
       "   platform  eu_sales  ratio\n",
       "4       PS4    141.09   0.28\n",
       "3       PS3    106.86   0.21\n",
       "9      X360     74.52   0.15\n",
       "10     XOne     51.59   0.10\n",
       "0       3DS     42.64   0.08"
      ]
     },
     "metadata": {},
     "output_type": "display_data"
    },
    {
     "name": "stdout",
     "output_type": "stream",
     "text": [
      "\n"
     ]
    },
    {
     "data": {
      "image/png": "[encoded data removed]",
      "text/plain": [
       "<Figure size 540x540 with 1 Axes>"
      ]
     },
     "metadata": {},
     "output_type": "display_data"
    },
    {
     "name": "stdout",
     "output_type": "stream",
     "text": [
      "-----------------------------------------------------------------\n"
     ]
    },
    {
     "data": {
      "text/html": [
       "<div>\n",
       "<style scoped>\n",
       "    .dataframe tbody tr th:only-of-type {\n",
       "        vertical-align: middle;\n",
       "    }\n",
       "\n",
       "    .dataframe tbody tr th {\n",
       "        vertical-align: top;\n",
       "    }\n",
       "\n",
       "    .dataframe thead th {\n",
       "        text-align: right;\n",
       "    }\n",
       "</style>\n",
       "<table border=\"1\" class=\"dataframe\">\n",
       "  <thead>\n",
       "    <tr style=\"text-align: right;\">\n",
       "      <th></th>\n",
       "      <th>platform</th>\n",
       "      <th>jp_sales</th>\n",
       "      <th>ratio</th>\n",
       "    </tr>\n",
       "  </thead>\n",
       "  <tbody>\n",
       "    <tr>\n",
       "      <th>0</th>\n",
       "      <td>3DS</td>\n",
       "      <td>87.79</td>\n",
       "      <td>0.46</td>\n",
       "    </tr>\n",
       "    <tr>\n",
       "      <th>3</th>\n",
       "      <td>PS3</td>\n",
       "      <td>35.29</td>\n",
       "      <td>0.18</td>\n",
       "    </tr>\n",
       "    <tr>\n",
       "      <th>6</th>\n",
       "      <td>PSV</td>\n",
       "      <td>21.04</td>\n",
       "      <td>0.11</td>\n",
       "    </tr>\n",
       "    <tr>\n",
       "      <th>4</th>\n",
       "      <td>PS4</td>\n",
       "      <td>15.96</td>\n",
       "      <td>0.08</td>\n",
       "    </tr>\n",
       "    <tr>\n",
       "      <th>8</th>\n",
       "      <td>WiiU</td>\n",
       "      <td>13.01</td>\n",
       "      <td>0.07</td>\n",
       "    </tr>\n",
       "  </tbody>\n",
       "</table>\n",
       "</div>"
      ],
      "text/plain": [
       "  platform  jp_sales  ratio\n",
       "0      3DS     87.79   0.46\n",
       "3      PS3     35.29   0.18\n",
       "6      PSV     21.04   0.11\n",
       "4      PS4     15.96   0.08\n",
       "8     WiiU     13.01   0.07"
      ]
     },
     "metadata": {},
     "output_type": "display_data"
    },
    {
     "name": "stdout",
     "output_type": "stream",
     "text": [
      "\n"
     ]
    },
    {
     "data": {
      "image/png": "[encoded data removed]",
      "text/plain": [
       "<Figure size 540x540 with 1 Axes>"
      ]
     },
     "metadata": {},
     "output_type": "display_data"
    },
    {
     "name": "stdout",
     "output_type": "stream",
     "text": [
      "-----------------------------------------------------------------\n"
     ]
    }
   ],
   "source": [
    "popularity('platform', 'Platform')"
   ]
  },
  {
   "cell_type": "markdown",
   "id": "ccd7e0de",
   "metadata": {},
   "source": [
    "- In North America **X360** leads with **24%** share of total revenues. Second place is for **PS4** with share of **18%**\n",
    "- In Europe leader is **PS4** with share of **28%**. Second place is for **PS3** with share of **21%**\n",
    "- In Japan **3DS** is leader with share of **46%**. **PS3** is on second place with share of **18%**"
   ]
  },
  {
   "cell_type": "markdown",
   "id": "c4e5152d",
   "metadata": {},
   "source": [
    "Most popular genres"
   ]
  },
  {
   "cell_type": "code",
   "execution_count": 43,
   "id": "da14898a",
   "metadata": {
    "scrolled": false
   },
   "outputs": [
    {
     "data": {
      "text/html": [
       "<div>\n",
       "<style scoped>\n",
       "    .dataframe tbody tr th:only-of-type {\n",
       "        vertical-align: middle;\n",
       "    }\n",
       "\n",
       "    .dataframe tbody tr th {\n",
       "        vertical-align: top;\n",
       "    }\n",
       "\n",
       "    .dataframe thead th {\n",
       "        text-align: right;\n",
       "    }\n",
       "</style>\n",
       "<table border=\"1\" class=\"dataframe\">\n",
       "  <thead>\n",
       "    <tr style=\"text-align: right;\">\n",
       "      <th></th>\n",
       "      <th>genre</th>\n",
       "      <th>na_sales</th>\n",
       "      <th>ratio</th>\n",
       "    </tr>\n",
       "  </thead>\n",
       "  <tbody>\n",
       "    <tr>\n",
       "      <th>0</th>\n",
       "      <td>Action</td>\n",
       "      <td>177.84</td>\n",
       "      <td>0.30</td>\n",
       "    </tr>\n",
       "    <tr>\n",
       "      <th>8</th>\n",
       "      <td>Shooter</td>\n",
       "      <td>144.77</td>\n",
       "      <td>0.24</td>\n",
       "    </tr>\n",
       "    <tr>\n",
       "      <th>10</th>\n",
       "      <td>Sports</td>\n",
       "      <td>81.53</td>\n",
       "      <td>0.14</td>\n",
       "    </tr>\n",
       "    <tr>\n",
       "      <th>7</th>\n",
       "      <td>Role-Playing</td>\n",
       "      <td>64.00</td>\n",
       "      <td>0.11</td>\n",
       "    </tr>\n",
       "    <tr>\n",
       "      <th>3</th>\n",
       "      <td>Misc</td>\n",
       "      <td>38.19</td>\n",
       "      <td>0.06</td>\n",
       "    </tr>\n",
       "  </tbody>\n",
       "</table>\n",
       "</div>"
      ],
      "text/plain": [
       "           genre  na_sales  ratio\n",
       "0         Action    177.84   0.30\n",
       "8        Shooter    144.77   0.24\n",
       "10        Sports     81.53   0.14\n",
       "7   Role-Playing     64.00   0.11\n",
       "3           Misc     38.19   0.06"
      ]
     },
     "metadata": {},
     "output_type": "display_data"
    },
    {
     "name": "stdout",
     "output_type": "stream",
     "text": [
      "\n"
     ]
    },
    {
     "data": {
      "image/png": "[encoded data removed]",
      "text/plain": [
       "<Figure size 540x540 with 1 Axes>"
      ]
     },
     "metadata": {},
     "output_type": "display_data"
    },
    {
     "name": "stdout",
     "output_type": "stream",
     "text": [
      "-----------------------------------------------------------------\n"
     ]
    },
    {
     "data": {
      "text/html": [
       "<div>\n",
       "<style scoped>\n",
       "    .dataframe tbody tr th:only-of-type {\n",
       "        vertical-align: middle;\n",
       "    }\n",
       "\n",
       "    .dataframe tbody tr th {\n",
       "        vertical-align: top;\n",
       "    }\n",
       "\n",
       "    .dataframe thead th {\n",
       "        text-align: right;\n",
       "    }\n",
       "</style>\n",
       "<table border=\"1\" class=\"dataframe\">\n",
       "  <thead>\n",
       "    <tr style=\"text-align: right;\">\n",
       "      <th></th>\n",
       "      <th>genre</th>\n",
       "      <th>eu_sales</th>\n",
       "      <th>ratio</th>\n",
       "    </tr>\n",
       "  </thead>\n",
       "  <tbody>\n",
       "    <tr>\n",
       "      <th>0</th>\n",
       "      <td>Action</td>\n",
       "      <td>159.34</td>\n",
       "      <td>0.31</td>\n",
       "    </tr>\n",
       "    <tr>\n",
       "      <th>8</th>\n",
       "      <td>Shooter</td>\n",
       "      <td>113.47</td>\n",
       "      <td>0.22</td>\n",
       "    </tr>\n",
       "    <tr>\n",
       "      <th>10</th>\n",
       "      <td>Sports</td>\n",
       "      <td>69.09</td>\n",
       "      <td>0.14</td>\n",
       "    </tr>\n",
       "    <tr>\n",
       "      <th>7</th>\n",
       "      <td>Role-Playing</td>\n",
       "      <td>48.53</td>\n",
       "      <td>0.10</td>\n",
       "    </tr>\n",
       "    <tr>\n",
       "      <th>6</th>\n",
       "      <td>Racing</td>\n",
       "      <td>27.29</td>\n",
       "      <td>0.05</td>\n",
       "    </tr>\n",
       "  </tbody>\n",
       "</table>\n",
       "</div>"
      ],
      "text/plain": [
       "           genre  eu_sales  ratio\n",
       "0         Action    159.34   0.31\n",
       "8        Shooter    113.47   0.22\n",
       "10        Sports     69.09   0.14\n",
       "7   Role-Playing     48.53   0.10\n",
       "6         Racing     27.29   0.05"
      ]
     },
     "metadata": {},
     "output_type": "display_data"
    },
    {
     "name": "stdout",
     "output_type": "stream",
     "text": [
      "\n"
     ]
    },
    {
     "data": {
      "image/png": "[encoded data removed]",
      "text/plain": [
       "<Figure size 540x540 with 1 Axes>"
      ]
     },
     "metadata": {},
     "output_type": "display_data"
    },
    {
     "name": "stdout",
     "output_type": "stream",
     "text": [
      "-----------------------------------------------------------------\n"
     ]
    },
    {
     "data": {
      "text/html": [
       "<div>\n",
       "<style scoped>\n",
       "    .dataframe tbody tr th:only-of-type {\n",
       "        vertical-align: middle;\n",
       "    }\n",
       "\n",
       "    .dataframe tbody tr th {\n",
       "        vertical-align: top;\n",
       "    }\n",
       "\n",
       "    .dataframe thead th {\n",
       "        text-align: right;\n",
       "    }\n",
       "</style>\n",
       "<table border=\"1\" class=\"dataframe\">\n",
       "  <thead>\n",
       "    <tr style=\"text-align: right;\">\n",
       "      <th></th>\n",
       "      <th>genre</th>\n",
       "      <th>jp_sales</th>\n",
       "      <th>ratio</th>\n",
       "    </tr>\n",
       "  </thead>\n",
       "  <tbody>\n",
       "    <tr>\n",
       "      <th>7</th>\n",
       "      <td>Role-Playing</td>\n",
       "      <td>65.44</td>\n",
       "      <td>0.34</td>\n",
       "    </tr>\n",
       "    <tr>\n",
       "      <th>0</th>\n",
       "      <td>Action</td>\n",
       "      <td>52.80</td>\n",
       "      <td>0.27</td>\n",
       "    </tr>\n",
       "    <tr>\n",
       "      <th>3</th>\n",
       "      <td>Misc</td>\n",
       "      <td>12.86</td>\n",
       "      <td>0.07</td>\n",
       "    </tr>\n",
       "    <tr>\n",
       "      <th>9</th>\n",
       "      <td>Simulation</td>\n",
       "      <td>10.41</td>\n",
       "      <td>0.05</td>\n",
       "    </tr>\n",
       "    <tr>\n",
       "      <th>2</th>\n",
       "      <td>Fighting</td>\n",
       "      <td>9.44</td>\n",
       "      <td>0.05</td>\n",
       "    </tr>\n",
       "  </tbody>\n",
       "</table>\n",
       "</div>"
      ],
      "text/plain": [
       "          genre  jp_sales  ratio\n",
       "7  Role-Playing     65.44   0.34\n",
       "0        Action     52.80   0.27\n",
       "3          Misc     12.86   0.07\n",
       "9    Simulation     10.41   0.05\n",
       "2      Fighting      9.44   0.05"
      ]
     },
     "metadata": {},
     "output_type": "display_data"
    },
    {
     "name": "stdout",
     "output_type": "stream",
     "text": [
      "\n"
     ]
    },
    {
     "data": {
      "image/png": "[encoded data removed]",
      "text/plain": [
       "<Figure size 540x540 with 1 Axes>"
      ]
     },
     "metadata": {},
     "output_type": "display_data"
    },
    {
     "name": "stdout",
     "output_type": "stream",
     "text": [
      "-----------------------------------------------------------------\n"
     ]
    }
   ],
   "source": [
    "popularity('genre', 'Genre')"
   ]
  },
  {
   "cell_type": "markdown",
   "id": "2c0cedeb",
   "metadata": {},
   "source": [
    "- In North America and Europe `Action` and `Shooter` lead. `Sports` is on third place\n",
    "- In Japan `Role-Playing` leads. `Sports` is on second place. Third place is for `Misc`\n",
    "- Such difference in regions may be due to mentality and traditions. For example, Japanese prefers beautiful outfits since ancient times. Hence tendency to make cosplays on players from the `Role-Playing` genre"
   ]
  },
  {
   "cell_type": "markdown",
   "id": "c82b57d3",
   "metadata": {},
   "source": [
    "Check if rating **ESRB** affect on sales in particular region"
   ]
  },
  {
   "cell_type": "code",
   "execution_count": 44,
   "id": "231f533e",
   "metadata": {},
   "outputs": [
    {
     "data": {
      "text/plain": [
       "no_rating    1275\n",
       "M             498\n",
       "T             412\n",
       "E             395\n",
       "E10+          306\n",
       "Name: rating, dtype: int64"
      ]
     },
     "execution_count": 44,
     "metadata": {},
     "output_type": "execute_result"
    }
   ],
   "source": [
    "actual_data['rating'].value_counts()"
   ]
  },
  {
   "cell_type": "markdown",
   "id": "d6764b8f",
   "metadata": {},
   "source": [
    "Ratings:\n",
    "- `T («Teen»)` — games with this rating contain content that is suitable for ages **13** and over      \n",
    "- `M («Mature»)` — games with this rating contain content that is suitable for ages **17** and over     \n",
    "- `E («Everyone»)` — games with this rating contain content that is suitable for **all** ages \n",
    "- `E10+ («Everyone 10 and older»)` — games with this rating contain content that is suitable for ages **10** and over\n",
    "- `no_rating` - games **without** any rating"
   ]
  },
  {
   "cell_type": "code",
   "execution_count": 45,
   "id": "d16471b6",
   "metadata": {
    "scrolled": false
   },
   "outputs": [
    {
     "data": {
      "text/html": [
       "<div>\n",
       "<style scoped>\n",
       "    .dataframe tbody tr th:only-of-type {\n",
       "        vertical-align: middle;\n",
       "    }\n",
       "\n",
       "    .dataframe tbody tr th {\n",
       "        vertical-align: top;\n",
       "    }\n",
       "\n",
       "    .dataframe thead th {\n",
       "        text-align: right;\n",
       "    }\n",
       "</style>\n",
       "<table border=\"1\" class=\"dataframe\">\n",
       "  <thead>\n",
       "    <tr style=\"text-align: right;\">\n",
       "      <th></th>\n",
       "      <th>rating</th>\n",
       "      <th>na_sales</th>\n",
       "      <th>ratio</th>\n",
       "    </tr>\n",
       "  </thead>\n",
       "  <tbody>\n",
       "    <tr>\n",
       "      <th>2</th>\n",
       "      <td>M</td>\n",
       "      <td>231.57</td>\n",
       "      <td>0.39</td>\n",
       "    </tr>\n",
       "    <tr>\n",
       "      <th>0</th>\n",
       "      <td>E</td>\n",
       "      <td>114.37</td>\n",
       "      <td>0.19</td>\n",
       "    </tr>\n",
       "    <tr>\n",
       "      <th>4</th>\n",
       "      <td>no_rating</td>\n",
       "      <td>103.31</td>\n",
       "      <td>0.17</td>\n",
       "    </tr>\n",
       "    <tr>\n",
       "      <th>1</th>\n",
       "      <td>E10+</td>\n",
       "      <td>75.70</td>\n",
       "      <td>0.13</td>\n",
       "    </tr>\n",
       "    <tr>\n",
       "      <th>3</th>\n",
       "      <td>T</td>\n",
       "      <td>66.02</td>\n",
       "      <td>0.11</td>\n",
       "    </tr>\n",
       "  </tbody>\n",
       "</table>\n",
       "</div>"
      ],
      "text/plain": [
       "      rating  na_sales  ratio\n",
       "2          M    231.57   0.39\n",
       "0          E    114.37   0.19\n",
       "4  no_rating    103.31   0.17\n",
       "1       E10+     75.70   0.13\n",
       "3          T     66.02   0.11"
      ]
     },
     "metadata": {},
     "output_type": "display_data"
    },
    {
     "name": "stdout",
     "output_type": "stream",
     "text": [
      "\n"
     ]
    },
    {
     "data": {
      "image/png": "[encoded data removed]",
      "text/plain": [
       "<Figure size 540x540 with 1 Axes>"
      ]
     },
     "metadata": {},
     "output_type": "display_data"
    },
    {
     "name": "stdout",
     "output_type": "stream",
     "text": [
      "-----------------------------------------------------------------\n"
     ]
    },
    {
     "data": {
      "text/html": [
       "<div>\n",
       "<style scoped>\n",
       "    .dataframe tbody tr th:only-of-type {\n",
       "        vertical-align: middle;\n",
       "    }\n",
       "\n",
       "    .dataframe tbody tr th {\n",
       "        vertical-align: top;\n",
       "    }\n",
       "\n",
       "    .dataframe thead th {\n",
       "        text-align: right;\n",
       "    }\n",
       "</style>\n",
       "<table border=\"1\" class=\"dataframe\">\n",
       "  <thead>\n",
       "    <tr style=\"text-align: right;\">\n",
       "      <th></th>\n",
       "      <th>rating</th>\n",
       "      <th>eu_sales</th>\n",
       "      <th>ratio</th>\n",
       "    </tr>\n",
       "  </thead>\n",
       "  <tbody>\n",
       "    <tr>\n",
       "      <th>2</th>\n",
       "      <td>M</td>\n",
       "      <td>193.96</td>\n",
       "      <td>0.38</td>\n",
       "    </tr>\n",
       "    <tr>\n",
       "      <th>0</th>\n",
       "      <td>E</td>\n",
       "      <td>113.03</td>\n",
       "      <td>0.22</td>\n",
       "    </tr>\n",
       "    <tr>\n",
       "      <th>4</th>\n",
       "      <td>no_rating</td>\n",
       "      <td>91.50</td>\n",
       "      <td>0.18</td>\n",
       "    </tr>\n",
       "    <tr>\n",
       "      <th>1</th>\n",
       "      <td>E10+</td>\n",
       "      <td>55.37</td>\n",
       "      <td>0.11</td>\n",
       "    </tr>\n",
       "    <tr>\n",
       "      <th>3</th>\n",
       "      <td>T</td>\n",
       "      <td>52.96</td>\n",
       "      <td>0.10</td>\n",
       "    </tr>\n",
       "  </tbody>\n",
       "</table>\n",
       "</div>"
      ],
      "text/plain": [
       "      rating  eu_sales  ratio\n",
       "2          M    193.96   0.38\n",
       "0          E    113.03   0.22\n",
       "4  no_rating     91.50   0.18\n",
       "1       E10+     55.37   0.11\n",
       "3          T     52.96   0.10"
      ]
     },
     "metadata": {},
     "output_type": "display_data"
    },
    {
     "name": "stdout",
     "output_type": "stream",
     "text": [
      "\n"
     ]
    },
    {
     "data": {
      "image/png": "[encoded data removed]",
      "text/plain": [
       "<Figure size 540x540 with 1 Axes>"
      ]
     },
     "metadata": {},
     "output_type": "display_data"
    },
    {
     "name": "stdout",
     "output_type": "stream",
     "text": [
      "-----------------------------------------------------------------\n"
     ]
    },
    {
     "data": {
      "text/html": [
       "<div>\n",
       "<style scoped>\n",
       "    .dataframe tbody tr th:only-of-type {\n",
       "        vertical-align: middle;\n",
       "    }\n",
       "\n",
       "    .dataframe tbody tr th {\n",
       "        vertical-align: top;\n",
       "    }\n",
       "\n",
       "    .dataframe thead th {\n",
       "        text-align: right;\n",
       "    }\n",
       "</style>\n",
       "<table border=\"1\" class=\"dataframe\">\n",
       "  <thead>\n",
       "    <tr style=\"text-align: right;\">\n",
       "      <th></th>\n",
       "      <th>rating</th>\n",
       "      <th>jp_sales</th>\n",
       "      <th>ratio</th>\n",
       "    </tr>\n",
       "  </thead>\n",
       "  <tbody>\n",
       "    <tr>\n",
       "      <th>4</th>\n",
       "      <td>no_rating</td>\n",
       "      <td>108.84</td>\n",
       "      <td>0.57</td>\n",
       "    </tr>\n",
       "    <tr>\n",
       "      <th>0</th>\n",
       "      <td>E</td>\n",
       "      <td>28.33</td>\n",
       "      <td>0.15</td>\n",
       "    </tr>\n",
       "    <tr>\n",
       "      <th>3</th>\n",
       "      <td>T</td>\n",
       "      <td>26.02</td>\n",
       "      <td>0.14</td>\n",
       "    </tr>\n",
       "    <tr>\n",
       "      <th>2</th>\n",
       "      <td>M</td>\n",
       "      <td>21.20</td>\n",
       "      <td>0.11</td>\n",
       "    </tr>\n",
       "    <tr>\n",
       "      <th>1</th>\n",
       "      <td>E10+</td>\n",
       "      <td>8.19</td>\n",
       "      <td>0.04</td>\n",
       "    </tr>\n",
       "  </tbody>\n",
       "</table>\n",
       "</div>"
      ],
      "text/plain": [
       "      rating  jp_sales  ratio\n",
       "4  no_rating    108.84   0.57\n",
       "0          E     28.33   0.15\n",
       "3          T     26.02   0.14\n",
       "2          M     21.20   0.11\n",
       "1       E10+      8.19   0.04"
      ]
     },
     "metadata": {},
     "output_type": "display_data"
    },
    {
     "name": "stdout",
     "output_type": "stream",
     "text": [
      "\n"
     ]
    },
    {
     "data": {
      "image/png": "[encoded data removed]",
      "text/plain": [
       "<Figure size 540x540 with 1 Axes>"
      ]
     },
     "metadata": {},
     "output_type": "display_data"
    },
    {
     "name": "stdout",
     "output_type": "stream",
     "text": [
      "-----------------------------------------------------------------\n"
     ]
    }
   ],
   "source": [
    "popularity('rating', 'Rating')"
   ]
  },
  {
   "cell_type": "markdown",
   "id": "6201e120",
   "metadata": {},
   "source": [
    "- In North America and Europe `Mature` and `Everyone` lead\n",
    "- In Japan games without rating leads by collosal margin. Gap from games rated `Everyone` is almost **5** times\n",
    "- **ESRB** rating really affects on sales in particular region"
   ]
  },
  {
   "cell_type": "markdown",
   "id": "59e2d9c6",
   "metadata": {},
   "source": [
    "### Conclusion\n",
    "\n",
    "- In North America **X360** platform leads with **24%** share of total revenues. Second place is for **PS4** with share of **18%**\n",
    "- In Europe leader is **PS4** with share of **28%**. Second place is for **PS3** with share of **21%**\n",
    "- In Japan **3DS** platform is leader with share of **46%**. **PS3** is on second place with share of **18%**\n",
    "- In North America and Europe `Action` and `Shooter` genres lead. `Sports` is on third place\n",
    "- In Japan `Role-Playing`  genre leads. `Sports` is on second place. Third place is for `Misc`\n",
    "- Such difference in regions may be due to mentality and traditions. For example, Japanese prefers beautiful outfits since ancient times. Hence tendency to make cosplays on players from the `Role-Playing` genre\n",
    "- In North America and Europe `Mature` and `Everyone` rating lead\n",
    "- In Japan games **without rating** leads by collosal margin. Gap from games rated `Everyone` is almost **5** times\n",
    "- **ESRB** rating really affects on sales in particular region"
   ]
  },
  {
   "cell_type": "markdown",
   "id": "7bf853e9",
   "metadata": {},
   "source": [
    "## Check hypotheses"
   ]
  },
  {
   "cell_type": "markdown",
   "id": "78f88133",
   "metadata": {},
   "source": [
    "### Average user scores of Xbox One and PC platforms are equal\n"
   ]
  },
  {
   "cell_type": "markdown",
   "id": "26dd0a60",
   "metadata": {},
   "source": [
    "Mean, standard deviation and variance"
   ]
  },
  {
   "cell_type": "code",
   "execution_count": 46,
   "id": "bac96ff1",
   "metadata": {},
   "outputs": [
    {
     "data": {
      "text/html": [
       "<div>\n",
       "<style scoped>\n",
       "    .dataframe tbody tr th:only-of-type {\n",
       "        vertical-align: middle;\n",
       "    }\n",
       "\n",
       "    .dataframe tbody tr th {\n",
       "        vertical-align: top;\n",
       "    }\n",
       "\n",
       "    .dataframe thead tr th {\n",
       "        text-align: left;\n",
       "    }\n",
       "\n",
       "    .dataframe thead tr:last-of-type th {\n",
       "        text-align: right;\n",
       "    }\n",
       "</style>\n",
       "<table border=\"1\" class=\"dataframe\">\n",
       "  <thead>\n",
       "    <tr>\n",
       "      <th></th>\n",
       "      <th>mean</th>\n",
       "      <th>std</th>\n",
       "      <th>var</th>\n",
       "    </tr>\n",
       "    <tr>\n",
       "      <th></th>\n",
       "      <th>user_score</th>\n",
       "      <th>user_score</th>\n",
       "      <th>user_score</th>\n",
       "    </tr>\n",
       "    <tr>\n",
       "      <th>platform</th>\n",
       "      <th></th>\n",
       "      <th></th>\n",
       "      <th></th>\n",
       "    </tr>\n",
       "  </thead>\n",
       "  <tbody>\n",
       "    <tr>\n",
       "      <th>PC</th>\n",
       "      <td>6.43</td>\n",
       "      <td>1.66</td>\n",
       "      <td>2.77</td>\n",
       "    </tr>\n",
       "    <tr>\n",
       "      <th>XOne</th>\n",
       "      <td>6.52</td>\n",
       "      <td>1.38</td>\n",
       "      <td>1.91</td>\n",
       "    </tr>\n",
       "  </tbody>\n",
       "</table>\n",
       "</div>"
      ],
      "text/plain": [
       "               mean        std        var\n",
       "         user_score user_score user_score\n",
       "platform                                 \n",
       "PC             6.43       1.66       2.77\n",
       "XOne           6.52       1.38       1.91"
      ]
     },
     "execution_count": 46,
     "metadata": {},
     "output_type": "execute_result"
    }
   ],
   "source": [
    "(\n",
    "    actual_data[actual_data['platform'].isin(['XOne', 'PC'])]\n",
    "         .pivot_table(index = 'platform', \n",
    "                      values = ['user_score'], \n",
    "                      aggfunc = ['mean', 'std', 'var'])\n",
    "         .round(2)\n",
    ")"
   ]
  },
  {
   "cell_type": "markdown",
   "id": "c3e3b94c",
   "metadata": {},
   "source": [
    "Formulate null and alternative hypotheses"
   ]
  },
  {
   "cell_type": "markdown",
   "id": "945890e2",
   "metadata": {},
   "source": [
    "- `Null hypothesis`: average user scores of **Xbox One** and **PC** games are equal\n",
    "- `Alternative hypothesis`: average user scores of **Xbox One** and **PC** games are not equal"
   ]
  },
  {
   "cell_type": "code",
   "execution_count": 47,
   "id": "15611ab6",
   "metadata": {},
   "outputs": [],
   "source": [
    "xone = actual_data.loc[actual_data['platform'] == 'XOne']\n",
    "xone = xone.loc[xone['user_score'].isna() == False]\n",
    "pc = actual_data.loc[actual_data['platform'] == 'PC']\n",
    "pc = pc.loc[pc['user_score'].isna() == False]"
   ]
  },
  {
   "cell_type": "markdown",
   "id": "138fd7e5",
   "metadata": {},
   "source": [
    "Since variances of samples are significantly different, to check hypothesis of equality of samples mean we use **scipy.stats.ttest_ind** with parameter **equal_var = False**"
   ]
  },
  {
   "cell_type": "code",
   "execution_count": 48,
   "id": "d85d5fca",
   "metadata": {},
   "outputs": [
    {
     "name": "stdout",
     "output_type": "stream",
     "text": [
      "p-value: 0.5489537965134912\n",
      "Failed to reject null hypothesis\n"
     ]
    }
   ],
   "source": [
    "alpha = .05\n",
    "\n",
    "results = st.ttest_ind(xone['user_score'], \n",
    "                       pc['user_score'], \n",
    "                       equal_var = False)\n",
    "\n",
    "print('p-value:', results.pvalue)\n",
    "\n",
    "if results.pvalue < alpha:\n",
    "    print(\"Reject null hypothesis\")\n",
    "else:\n",
    "    print(\"Failed to reject null hypothesis\")"
   ]
  },
  {
   "cell_type": "markdown",
   "id": "db9893e0",
   "metadata": {},
   "source": [
    "**p-value** demonstrates that even though average user scores are not equal, probability of getting such or greater difference randomly is equal to **54,9%**. This probability shows that there is no significant difference between average user scores of two platforms"
   ]
  },
  {
   "cell_type": "markdown",
   "id": "e2a19e96",
   "metadata": {},
   "source": [
    "**Conclusion:** failed to reject null hypothesis. Average user scores of **Xbox One** and **PC** platforms are **equal**"
   ]
  },
  {
   "cell_type": "markdown",
   "id": "09228da8",
   "metadata": {},
   "source": [
    "### Average user scores for Action and Sports genres are different"
   ]
  },
  {
   "cell_type": "markdown",
   "id": "a5f2f9ae",
   "metadata": {},
   "source": [
    "Mean, standard deviation and variance"
   ]
  },
  {
   "cell_type": "code",
   "execution_count": 49,
   "id": "a84e2e36",
   "metadata": {
    "scrolled": true
   },
   "outputs": [
    {
     "data": {
      "text/html": [
       "<div>\n",
       "<style scoped>\n",
       "    .dataframe tbody tr th:only-of-type {\n",
       "        vertical-align: middle;\n",
       "    }\n",
       "\n",
       "    .dataframe tbody tr th {\n",
       "        vertical-align: top;\n",
       "    }\n",
       "\n",
       "    .dataframe thead tr th {\n",
       "        text-align: left;\n",
       "    }\n",
       "\n",
       "    .dataframe thead tr:last-of-type th {\n",
       "        text-align: right;\n",
       "    }\n",
       "</style>\n",
       "<table border=\"1\" class=\"dataframe\">\n",
       "  <thead>\n",
       "    <tr>\n",
       "      <th></th>\n",
       "      <th>mean</th>\n",
       "      <th>std</th>\n",
       "      <th>var</th>\n",
       "    </tr>\n",
       "    <tr>\n",
       "      <th></th>\n",
       "      <th>user_score</th>\n",
       "      <th>user_score</th>\n",
       "      <th>user_score</th>\n",
       "    </tr>\n",
       "    <tr>\n",
       "      <th>genre</th>\n",
       "      <th></th>\n",
       "      <th></th>\n",
       "      <th></th>\n",
       "    </tr>\n",
       "  </thead>\n",
       "  <tbody>\n",
       "    <tr>\n",
       "      <th>Action</th>\n",
       "      <td>6.83</td>\n",
       "      <td>1.37</td>\n",
       "      <td>1.89</td>\n",
       "    </tr>\n",
       "    <tr>\n",
       "      <th>Sports</th>\n",
       "      <td>5.46</td>\n",
       "      <td>1.74</td>\n",
       "      <td>3.02</td>\n",
       "    </tr>\n",
       "  </tbody>\n",
       "</table>\n",
       "</div>"
      ],
      "text/plain": [
       "             mean        std        var\n",
       "       user_score user_score user_score\n",
       "genre                                  \n",
       "Action       6.83       1.37       1.89\n",
       "Sports       5.46       1.74       3.02"
      ]
     },
     "execution_count": 49,
     "metadata": {},
     "output_type": "execute_result"
    }
   ],
   "source": [
    "(\n",
    "    actual_data[actual_data['genre'].isin(['Action', 'Sports'])]\n",
    "         .pivot_table(index = 'genre', \n",
    "                      values = ['user_score'], \n",
    "                      aggfunc = ['mean', 'std', 'var'])\n",
    "         .round(2)\n",
    ")"
   ]
  },
  {
   "cell_type": "markdown",
   "id": "7a0ce893",
   "metadata": {},
   "source": [
    "Formulate null and alternative hypotheses"
   ]
  },
  {
   "cell_type": "markdown",
   "id": "ad9226ae",
   "metadata": {},
   "source": [
    "- `Null hypothesis`: average user scores of `Action` and `Sports` genres are equal\n",
    "- `Alternative hypothesis`: average user scores of `Action` and `Sports` genres are not equal"
   ]
  },
  {
   "cell_type": "markdown",
   "id": "425446d1",
   "metadata": {},
   "source": [
    "Since variances of samples are significantly different, to check hypothesis of equality of samples mean we use **scipy.stats.ttest_ind** with parameter **equal_var = False**"
   ]
  },
  {
   "cell_type": "code",
   "execution_count": 50,
   "id": "b0e03feb",
   "metadata": {},
   "outputs": [],
   "source": [
    "action = actual_data.loc[actual_data['genre'] == 'Action']\n",
    "action = action.loc[action['user_score'].isna() == False]\n",
    "sports = actual_data.loc[actual_data['genre'] == 'Sports']\n",
    "sports = sports.loc[sports['user_score'].isna() == False]"
   ]
  },
  {
   "cell_type": "code",
   "execution_count": 51,
   "id": "8a8ed34a",
   "metadata": {},
   "outputs": [
    {
     "name": "stdout",
     "output_type": "stream",
     "text": [
      "p-value: 4.24307776572644e-20\n",
      "Reject null hypothesis\n"
     ]
    }
   ],
   "source": [
    "alpha = .05\n",
    "\n",
    "results = st.ttest_ind(action['user_score'], \n",
    "                       sports['user_score'], \n",
    "                       equal_var = False)\n",
    "\n",
    "print('p-value:', results.pvalue)\n",
    "\n",
    "if results.pvalue < alpha:\n",
    "    print(\"Reject null hypothesis\")\n",
    "else:\n",
    "    print(\"Failed to reject null hypothesis\")"
   ]
  },
  {
   "cell_type": "markdown",
   "id": "af852fb0",
   "metadata": {},
   "source": [
    "**p-value** demonstrates that even though average user scores are not equal, probability of getting such or greater difference randomly is negligible. This probability shows that there is significant difference between average user scores of two genres"
   ]
  },
  {
   "cell_type": "markdown",
   "id": "f4be9396",
   "metadata": {},
   "source": [
    "**Conclusion:** null hypothesis has been rejected. Average user scores of `Action` and `Sports` genres are **not equal**"
   ]
  },
  {
   "cell_type": "markdown",
   "id": "8d3278e3",
   "metadata": {},
   "source": [
    "## General conclusion"
   ]
  },
  {
   "cell_type": "markdown",
   "id": "d240485b",
   "metadata": {},
   "source": [
    "- Current period is defined from `2012` to `2016` year\n",
    "- Life span of each platform is around 10 years. New platform begins to replace old one in **5** years in terms of revenue\n",
    "- Sales peak occurs in **4th** or **5th** year of platform generation\n",
    "- Bestsellers are games for `Play Station`, `XBox` и `3DS`\n",
    "- Total revenue of `Play Station` is higher than of `XBox`. **602,93** million against **395,86** million respectively\n",
    "- Most popular game both in `PS` and `XBox` is `Grand Theft Auto V`. **21,05** and **16,27** million of revenue respectively\n",
    "- User scores don't affect on sales. Critic scores have small affection on sales\n",
    "- Most popular genre is `Action`, which has subgenres `Shooter`, `Platform` and `Fighting` \n",
    "- `Play Station` family has positive revenue growth trend since **2012**. `XBox` and `Nintendo 3DS` have negative trend\n",
    "- In North America `X360` platform leads with **24%** share of total revenues. Second place is for `PS4` with share of **18%**\n",
    "- In Europe leader is `PS4` with share of **28%**. Second place is for `PS3` with share of **21%**\n",
    "- In Japan `3DS` platform is leader with share of **46%**. `PS3` is on second place with share of **18%**\n",
    "- In North America and Europe `Action` and `Shooter` genres lead. `Sports` is on third place\n",
    "- In Japan `Role-Playing`  genre leads. `Sports` is on second place. Third place is for `Misc` \n",
    "- ESRB rating really affects on sales in particular region:\n",
    "  - In North America and Europe `Mature` and `Everyone` lead\n",
    "  - In Japan games without rating leads. Then goes `Everyone` rating.\n",
    "- Average user scores of `Xbox One` and `PC` platforms are **equal**\n",
    "- Average user scores of `Action` and `Sports` genres are **not equal**"
   ]
  },
  {
   "cell_type": "markdown",
   "id": "398fc271",
   "metadata": {},
   "source": [
    "## Campaign plan for 2017"
   ]
  },
  {
   "cell_type": "markdown",
   "id": "1fa7e4b4",
   "metadata": {},
   "source": [
    "Since online store works in European region, best way for **2017** is to focus on games for platforms `Sony Playstation` in genres `Action`, `Shooter`, `Sports`. Rating of games should be chosen `Mature` and `Everyone`"
   ]
  }
 ],
 "metadata": {
  "ExecuteTimeLog": [
   {
    "duration": 87,
    "start_time": "2022-05-07T08:19:30.618Z"
   },
   {
    "duration": 1937,
    "start_time": "2022-05-07T08:19:30.709Z"
   },
   {
    "duration": 20,
    "start_time": "2022-05-07T08:19:32.648Z"
   },
   {
    "duration": 13,
    "start_time": "2022-05-07T08:19:32.671Z"
   },
   {
    "duration": 66,
    "start_time": "2022-05-07T08:19:32.686Z"
   },
   {
    "duration": 8,
    "start_time": "2022-05-07T08:19:32.754Z"
   },
   {
    "duration": 63,
    "start_time": "2022-05-07T08:19:32.764Z"
   },
   {
    "duration": 10,
    "start_time": "2022-05-07T08:19:32.829Z"
   },
   {
    "duration": 18,
    "start_time": "2022-05-07T08:19:32.841Z"
   },
   {
    "duration": 42,
    "start_time": "2022-05-07T08:19:32.862Z"
   },
   {
    "duration": 15,
    "start_time": "2022-05-07T08:19:32.906Z"
   },
   {
    "duration": 17,
    "start_time": "2022-05-07T08:19:32.923Z"
   },
   {
    "duration": 18,
    "start_time": "2022-05-07T08:19:32.942Z"
   },
   {
    "duration": 25,
    "start_time": "2022-05-07T08:19:32.962Z"
   },
   {
    "duration": 36,
    "start_time": "2022-05-07T08:19:32.989Z"
   },
   {
    "duration": 28,
    "start_time": "2022-05-07T08:19:33.027Z"
   },
   {
    "duration": 34,
    "start_time": "2022-05-07T08:19:33.057Z"
   },
   {
    "duration": 17,
    "start_time": "2022-05-07T08:19:33.093Z"
   },
   {
    "duration": 8,
    "start_time": "2022-05-07T08:19:33.125Z"
   },
   {
    "duration": 29,
    "start_time": "2022-05-07T08:19:33.136Z"
   },
   {
    "duration": 6,
    "start_time": "2022-05-07T08:19:33.167Z"
   },
   {
    "duration": 34,
    "start_time": "2022-05-07T08:19:33.175Z"
   },
   {
    "duration": 21,
    "start_time": "2022-05-07T08:19:33.224Z"
   },
   {
    "duration": 24,
    "start_time": "2022-05-07T08:19:33.248Z"
   },
   {
    "duration": 52,
    "start_time": "2022-05-07T08:19:33.274Z"
   },
   {
    "duration": 27,
    "start_time": "2022-05-07T08:19:33.328Z"
   },
   {
    "duration": 1640,
    "start_time": "2022-05-07T08:19:33.357Z"
   },
   {
    "duration": 6,
    "start_time": "2022-05-07T08:19:35.003Z"
   },
   {
    "duration": 29,
    "start_time": "2022-05-07T08:19:35.011Z"
   },
   {
    "duration": 24,
    "start_time": "2022-05-07T08:19:35.043Z"
   },
   {
    "duration": 1083,
    "start_time": "2022-05-07T08:19:35.069Z"
   },
   {
    "duration": 565,
    "start_time": "2022-05-07T08:19:36.154Z"
   },
   {
    "duration": 36,
    "start_time": "2022-05-07T08:19:36.722Z"
   },
   {
    "duration": 1226,
    "start_time": "2022-05-07T08:19:36.760Z"
   },
   {
    "duration": 394,
    "start_time": "2022-05-07T08:19:37.989Z"
   },
   {
    "duration": 1138,
    "start_time": "2022-05-07T08:19:38.386Z"
   },
   {
    "duration": 364,
    "start_time": "2022-05-07T08:19:39.526Z"
   },
   {
    "duration": 34,
    "start_time": "2022-05-07T08:19:39.892Z"
   },
   {
    "duration": 799,
    "start_time": "2022-05-07T08:19:39.928Z"
   },
   {
    "duration": 7,
    "start_time": "2022-05-07T08:19:40.729Z"
   },
   {
    "duration": 798,
    "start_time": "2022-05-07T08:19:40.738Z"
   },
   {
    "duration": 857,
    "start_time": "2022-05-07T08:19:41.538Z"
   },
   {
    "duration": 10,
    "start_time": "2022-05-07T08:19:42.398Z"
   },
   {
    "duration": 767,
    "start_time": "2022-05-07T08:19:42.425Z"
   },
   {
    "duration": 59,
    "start_time": "2022-05-07T08:19:43.195Z"
   },
   {
    "duration": 11,
    "start_time": "2022-05-07T08:19:43.256Z"
   },
   {
    "duration": 18,
    "start_time": "2022-05-07T08:19:43.270Z"
   },
   {
    "duration": 79,
    "start_time": "2022-05-07T08:19:43.291Z"
   },
   {
    "duration": 14,
    "start_time": "2022-05-07T08:19:43.373Z"
   },
   {
    "duration": 115,
    "start_time": "2022-05-07T08:19:43.389Z"
   },
   {
    "duration": 82,
    "start_time": "2022-05-07T15:11:56.476Z"
   },
   {
    "duration": 110,
    "start_time": "2022-05-07T15:12:12.353Z"
   },
   {
    "duration": 1733,
    "start_time": "2022-05-07T15:12:12.465Z"
   },
   {
    "duration": 16,
    "start_time": "2022-05-07T15:12:14.200Z"
   },
   {
    "duration": 16,
    "start_time": "2022-05-07T15:12:14.219Z"
   },
   {
    "duration": 33,
    "start_time": "2022-05-07T15:12:14.237Z"
   },
   {
    "duration": 7,
    "start_time": "2022-05-07T15:12:14.271Z"
   },
   {
    "duration": 45,
    "start_time": "2022-05-07T15:12:14.279Z"
   },
   {
    "duration": 7,
    "start_time": "2022-05-07T15:12:14.326Z"
   },
   {
    "duration": 15,
    "start_time": "2022-05-07T15:12:14.335Z"
   },
   {
    "duration": 15,
    "start_time": "2022-05-07T15:12:14.353Z"
   },
   {
    "duration": 10,
    "start_time": "2022-05-07T15:12:14.370Z"
   },
   {
    "duration": 16,
    "start_time": "2022-05-07T15:12:14.382Z"
   },
   {
    "duration": 23,
    "start_time": "2022-05-07T15:12:14.401Z"
   },
   {
    "duration": 20,
    "start_time": "2022-05-07T15:12:14.426Z"
   },
   {
    "duration": 20,
    "start_time": "2022-05-07T15:12:14.448Z"
   },
   {
    "duration": 25,
    "start_time": "2022-05-07T15:12:14.470Z"
   },
   {
    "duration": 42,
    "start_time": "2022-05-07T15:12:14.498Z"
   },
   {
    "duration": 5,
    "start_time": "2022-05-07T15:12:14.542Z"
   },
   {
    "duration": 25,
    "start_time": "2022-05-07T15:12:14.548Z"
   },
   {
    "duration": 20,
    "start_time": "2022-05-07T15:12:14.575Z"
   },
   {
    "duration": 8,
    "start_time": "2022-05-07T15:12:14.596Z"
   },
   {
    "duration": 25,
    "start_time": "2022-05-07T15:12:14.606Z"
   },
   {
    "duration": 22,
    "start_time": "2022-05-07T15:12:14.633Z"
   },
   {
    "duration": 28,
    "start_time": "2022-05-07T15:12:14.657Z"
   },
   {
    "duration": 27,
    "start_time": "2022-05-07T15:12:14.687Z"
   },
   {
    "duration": 31,
    "start_time": "2022-05-07T15:12:14.716Z"
   },
   {
    "duration": 1051,
    "start_time": "2022-05-07T15:12:14.748Z"
   },
   {
    "duration": 6,
    "start_time": "2022-05-07T15:12:15.804Z"
   },
   {
    "duration": 21,
    "start_time": "2022-05-07T15:12:15.811Z"
   },
   {
    "duration": 24,
    "start_time": "2022-05-07T15:12:15.834Z"
   },
   {
    "duration": 667,
    "start_time": "2022-05-07T15:12:15.860Z"
   },
   {
    "duration": 273,
    "start_time": "2022-05-07T15:12:16.529Z"
   },
   {
    "duration": 35,
    "start_time": "2022-05-07T15:12:16.805Z"
   },
   {
    "duration": 821,
    "start_time": "2022-05-07T15:12:16.842Z"
   },
   {
    "duration": 310,
    "start_time": "2022-05-07T15:12:17.665Z"
   },
   {
    "duration": 724,
    "start_time": "2022-05-07T15:12:17.977Z"
   },
   {
    "duration": 301,
    "start_time": "2022-05-07T15:12:18.703Z"
   },
   {
    "duration": 28,
    "start_time": "2022-05-07T15:12:19.006Z"
   },
   {
    "duration": 470,
    "start_time": "2022-05-07T15:12:19.036Z"
   },
   {
    "duration": 5,
    "start_time": "2022-05-07T15:12:19.508Z"
   },
   {
    "duration": 517,
    "start_time": "2022-05-07T15:12:19.522Z"
   },
   {
    "duration": 529,
    "start_time": "2022-05-07T15:12:20.041Z"
   },
   {
    "duration": 7,
    "start_time": "2022-05-07T15:12:20.572Z"
   },
   {
    "duration": 493,
    "start_time": "2022-05-07T15:12:20.581Z"
   },
   {
    "duration": 48,
    "start_time": "2022-05-07T15:12:21.076Z"
   },
   {
    "duration": 8,
    "start_time": "2022-05-07T15:12:21.125Z"
   },
   {
    "duration": 11,
    "start_time": "2022-05-07T15:12:21.135Z"
   },
   {
    "duration": 31,
    "start_time": "2022-05-07T15:12:21.148Z"
   },
   {
    "duration": 9,
    "start_time": "2022-05-07T15:12:21.180Z"
   },
   {
    "duration": 34,
    "start_time": "2022-05-07T15:12:21.190Z"
   },
   {
    "duration": 62,
    "start_time": "2022-05-09T09:47:36.798Z"
   },
   {
    "duration": 1456,
    "start_time": "2022-05-09T09:47:36.862Z"
   },
   {
    "duration": 13,
    "start_time": "2022-05-09T09:47:38.320Z"
   },
   {
    "duration": 9,
    "start_time": "2022-05-09T09:47:38.335Z"
   },
   {
    "duration": 43,
    "start_time": "2022-05-09T09:47:38.345Z"
   },
   {
    "duration": 14,
    "start_time": "2022-05-09T09:47:38.389Z"
   },
   {
    "duration": 25,
    "start_time": "2022-05-09T09:47:38.404Z"
   },
   {
    "duration": 6,
    "start_time": "2022-05-09T09:47:38.431Z"
   },
   {
    "duration": 9,
    "start_time": "2022-05-09T09:47:38.438Z"
   },
   {
    "duration": 35,
    "start_time": "2022-05-09T09:47:38.449Z"
   },
   {
    "duration": 25,
    "start_time": "2022-05-09T09:47:38.486Z"
   },
   {
    "duration": 11,
    "start_time": "2022-05-09T09:47:38.513Z"
   },
   {
    "duration": 9,
    "start_time": "2022-05-09T09:47:38.525Z"
   },
   {
    "duration": 17,
    "start_time": "2022-05-09T09:47:38.535Z"
   },
   {
    "duration": 14,
    "start_time": "2022-05-09T09:47:38.553Z"
   },
   {
    "duration": 23,
    "start_time": "2022-05-09T09:47:38.568Z"
   },
   {
    "duration": 28,
    "start_time": "2022-05-09T09:47:38.595Z"
   },
   {
    "duration": 8,
    "start_time": "2022-05-09T09:47:38.625Z"
   },
   {
    "duration": 8,
    "start_time": "2022-05-09T09:47:38.635Z"
   },
   {
    "duration": 10,
    "start_time": "2022-05-09T09:47:38.645Z"
   },
   {
    "duration": 6,
    "start_time": "2022-05-09T09:47:38.657Z"
   },
   {
    "duration": 9,
    "start_time": "2022-05-09T09:47:38.679Z"
   },
   {
    "duration": 28,
    "start_time": "2022-05-09T09:47:38.690Z"
   },
   {
    "duration": 13,
    "start_time": "2022-05-09T09:47:38.720Z"
   },
   {
    "duration": 14,
    "start_time": "2022-05-09T09:47:38.735Z"
   },
   {
    "duration": 14,
    "start_time": "2022-05-09T09:47:38.751Z"
   },
   {
    "duration": 28,
    "start_time": "2022-05-09T09:47:38.776Z"
   },
   {
    "duration": 1106,
    "start_time": "2022-05-09T09:47:38.808Z"
   },
   {
    "duration": 4,
    "start_time": "2022-05-09T09:47:39.916Z"
   },
   {
    "duration": 15,
    "start_time": "2022-05-09T09:47:39.922Z"
   },
   {
    "duration": 22,
    "start_time": "2022-05-09T09:47:39.939Z"
   },
   {
    "duration": 722,
    "start_time": "2022-05-09T09:47:39.963Z"
   },
   {
    "duration": 275,
    "start_time": "2022-05-09T09:47:40.687Z"
   },
   {
    "duration": 39,
    "start_time": "2022-05-09T09:47:40.964Z"
   },
   {
    "duration": 860,
    "start_time": "2022-05-09T09:47:41.005Z"
   },
   {
    "duration": 307,
    "start_time": "2022-05-09T09:47:41.867Z"
   },
   {
    "duration": 710,
    "start_time": "2022-05-09T09:47:42.177Z"
   },
   {
    "duration": 240,
    "start_time": "2022-05-09T09:47:42.891Z"
   },
   {
    "duration": 16,
    "start_time": "2022-05-09T09:47:43.132Z"
   },
   {
    "duration": 454,
    "start_time": "2022-05-09T09:47:43.149Z"
   },
   {
    "duration": 5,
    "start_time": "2022-05-09T09:47:43.605Z"
   },
   {
    "duration": 514,
    "start_time": "2022-05-09T09:47:43.611Z"
   },
   {
    "duration": 523,
    "start_time": "2022-05-09T09:47:44.127Z"
   },
   {
    "duration": 6,
    "start_time": "2022-05-09T09:47:44.652Z"
   },
   {
    "duration": 481,
    "start_time": "2022-05-09T09:47:44.659Z"
   },
   {
    "duration": 47,
    "start_time": "2022-05-09T09:47:45.142Z"
   },
   {
    "duration": 8,
    "start_time": "2022-05-09T09:47:45.193Z"
   },
   {
    "duration": 9,
    "start_time": "2022-05-09T09:47:45.203Z"
   },
   {
    "duration": 33,
    "start_time": "2022-05-09T09:47:45.214Z"
   },
   {
    "duration": 9,
    "start_time": "2022-05-09T09:47:45.249Z"
   },
   {
    "duration": 20,
    "start_time": "2022-05-09T09:47:45.260Z"
   },
   {
    "duration": 86,
    "start_time": "2022-05-09T09:49:25.135Z"
   },
   {
    "duration": 1327,
    "start_time": "2022-05-09T09:49:25.222Z"
   },
   {
    "duration": 16,
    "start_time": "2022-05-09T09:49:26.550Z"
   },
   {
    "duration": 52,
    "start_time": "2022-05-09T09:49:26.568Z"
   },
   {
    "duration": 33,
    "start_time": "2022-05-09T09:49:26.622Z"
   },
   {
    "duration": 5,
    "start_time": "2022-05-09T09:49:26.657Z"
   },
   {
    "duration": 80,
    "start_time": "2022-05-09T09:49:26.664Z"
   },
   {
    "duration": 19,
    "start_time": "2022-05-09T09:49:26.746Z"
   },
   {
    "duration": 43,
    "start_time": "2022-05-09T09:49:26.767Z"
   },
   {
    "duration": 47,
    "start_time": "2022-05-09T09:49:26.813Z"
   },
   {
    "duration": 54,
    "start_time": "2022-05-09T09:49:26.862Z"
   },
   {
    "duration": 17,
    "start_time": "2022-05-09T09:49:26.918Z"
   },
   {
    "duration": 9,
    "start_time": "2022-05-09T09:49:26.937Z"
   },
   {
    "duration": 24,
    "start_time": "2022-05-09T09:49:26.947Z"
   },
   {
    "duration": 47,
    "start_time": "2022-05-09T09:49:26.973Z"
   },
   {
    "duration": 13,
    "start_time": "2022-05-09T09:49:27.022Z"
   },
   {
    "duration": 21,
    "start_time": "2022-05-09T09:49:27.037Z"
   },
   {
    "duration": 6,
    "start_time": "2022-05-09T09:49:27.059Z"
   },
   {
    "duration": 40,
    "start_time": "2022-05-09T09:49:27.067Z"
   },
   {
    "duration": 41,
    "start_time": "2022-05-09T09:49:27.108Z"
   },
   {
    "duration": 7,
    "start_time": "2022-05-09T09:49:27.151Z"
   },
   {
    "duration": 28,
    "start_time": "2022-05-09T09:49:27.159Z"
   },
   {
    "duration": 36,
    "start_time": "2022-05-09T09:49:27.189Z"
   },
   {
    "duration": 14,
    "start_time": "2022-05-09T09:49:27.227Z"
   },
   {
    "duration": 22,
    "start_time": "2022-05-09T09:49:27.243Z"
   },
   {
    "duration": 28,
    "start_time": "2022-05-09T09:49:27.267Z"
   },
   {
    "duration": 28,
    "start_time": "2022-05-09T09:49:27.297Z"
   },
   {
    "duration": 1340,
    "start_time": "2022-05-09T09:49:27.328Z"
   },
   {
    "duration": 13,
    "start_time": "2022-05-09T09:49:28.669Z"
   },
   {
    "duration": 31,
    "start_time": "2022-05-09T09:49:28.687Z"
   },
   {
    "duration": 20,
    "start_time": "2022-05-09T09:49:28.720Z"
   },
   {
    "duration": 717,
    "start_time": "2022-05-09T09:49:28.742Z"
   },
   {
    "duration": 301,
    "start_time": "2022-05-09T09:49:29.462Z"
   },
   {
    "duration": 41,
    "start_time": "2022-05-09T09:49:29.765Z"
   },
   {
    "duration": 895,
    "start_time": "2022-05-09T09:49:29.808Z"
   },
   {
    "duration": 242,
    "start_time": "2022-05-09T09:49:30.705Z"
   },
   {
    "duration": 767,
    "start_time": "2022-05-09T09:49:30.949Z"
   },
   {
    "duration": 251,
    "start_time": "2022-05-09T09:49:31.718Z"
   },
   {
    "duration": 26,
    "start_time": "2022-05-09T09:49:31.975Z"
   },
   {
    "duration": 480,
    "start_time": "2022-05-09T09:49:32.003Z"
   },
   {
    "duration": 5,
    "start_time": "2022-05-09T09:49:32.485Z"
   },
   {
    "duration": 519,
    "start_time": "2022-05-09T09:49:32.491Z"
   },
   {
    "duration": 581,
    "start_time": "2022-05-09T09:49:33.012Z"
   },
   {
    "duration": 16,
    "start_time": "2022-05-09T09:49:33.595Z"
   },
   {
    "duration": 536,
    "start_time": "2022-05-09T09:49:33.613Z"
   },
   {
    "duration": 35,
    "start_time": "2022-05-09T09:49:34.151Z"
   },
   {
    "duration": 28,
    "start_time": "2022-05-09T09:49:34.188Z"
   },
   {
    "duration": 7,
    "start_time": "2022-05-09T09:49:34.218Z"
   },
   {
    "duration": 30,
    "start_time": "2022-05-09T09:49:34.226Z"
   },
   {
    "duration": 7,
    "start_time": "2022-05-09T09:49:34.257Z"
   },
   {
    "duration": 17,
    "start_time": "2022-05-09T09:49:34.265Z"
   },
   {
    "duration": 64,
    "start_time": "2022-05-09T10:30:17.202Z"
   },
   {
    "duration": 1262,
    "start_time": "2022-05-09T10:30:17.268Z"
   },
   {
    "duration": 14,
    "start_time": "2022-05-09T10:30:18.532Z"
   },
   {
    "duration": 9,
    "start_time": "2022-05-09T10:30:18.549Z"
   },
   {
    "duration": 33,
    "start_time": "2022-05-09T10:30:18.560Z"
   },
   {
    "duration": 5,
    "start_time": "2022-05-09T10:30:18.595Z"
   },
   {
    "duration": 27,
    "start_time": "2022-05-09T10:30:18.602Z"
   },
   {
    "duration": 7,
    "start_time": "2022-05-09T10:30:18.630Z"
   },
   {
    "duration": 35,
    "start_time": "2022-05-09T10:30:18.639Z"
   },
   {
    "duration": 6,
    "start_time": "2022-05-09T10:30:18.678Z"
   },
   {
    "duration": 7,
    "start_time": "2022-05-09T10:30:18.686Z"
   },
   {
    "duration": 9,
    "start_time": "2022-05-09T10:30:18.694Z"
   },
   {
    "duration": 7,
    "start_time": "2022-05-09T10:30:18.705Z"
   },
   {
    "duration": 17,
    "start_time": "2022-05-09T10:30:18.713Z"
   },
   {
    "duration": 12,
    "start_time": "2022-05-09T10:30:18.732Z"
   },
   {
    "duration": 10,
    "start_time": "2022-05-09T10:30:18.774Z"
   },
   {
    "duration": 22,
    "start_time": "2022-05-09T10:30:18.785Z"
   },
   {
    "duration": 4,
    "start_time": "2022-05-09T10:30:18.808Z"
   },
   {
    "duration": 8,
    "start_time": "2022-05-09T10:30:18.814Z"
   },
   {
    "duration": 10,
    "start_time": "2022-05-09T10:30:18.824Z"
   },
   {
    "duration": 39,
    "start_time": "2022-05-09T10:30:18.836Z"
   },
   {
    "duration": 5,
    "start_time": "2022-05-09T10:30:18.877Z"
   },
   {
    "duration": 18,
    "start_time": "2022-05-09T10:30:18.883Z"
   },
   {
    "duration": 13,
    "start_time": "2022-05-09T10:30:18.902Z"
   },
   {
    "duration": 396,
    "start_time": "2022-05-09T10:30:18.916Z"
   },
   {
    "duration": 360,
    "start_time": "2022-05-09T10:30:19.314Z"
   },
   {
    "duration": 21,
    "start_time": "2022-05-09T10:30:19.676Z"
   },
   {
    "duration": 995,
    "start_time": "2022-05-09T10:30:19.701Z"
   },
   {
    "duration": 5,
    "start_time": "2022-05-09T10:30:20.697Z"
   },
   {
    "duration": 14,
    "start_time": "2022-05-09T10:30:20.704Z"
   },
   {
    "duration": 17,
    "start_time": "2022-05-09T10:30:20.720Z"
   },
   {
    "duration": 704,
    "start_time": "2022-05-09T10:30:20.738Z"
   },
   {
    "duration": 240,
    "start_time": "2022-05-09T10:30:21.444Z"
   },
   {
    "duration": 21,
    "start_time": "2022-05-09T10:30:21.685Z"
   },
   {
    "duration": 678,
    "start_time": "2022-05-09T10:30:21.707Z"
   },
   {
    "duration": 239,
    "start_time": "2022-05-09T10:30:22.387Z"
   },
   {
    "duration": 863,
    "start_time": "2022-05-09T10:30:22.628Z"
   },
   {
    "duration": 289,
    "start_time": "2022-05-09T10:30:23.493Z"
   },
   {
    "duration": 17,
    "start_time": "2022-05-09T10:30:23.784Z"
   },
   {
    "duration": 371,
    "start_time": "2022-05-09T10:30:23.803Z"
   },
   {
    "duration": 4,
    "start_time": "2022-05-09T10:30:24.176Z"
   },
   {
    "duration": 481,
    "start_time": "2022-05-09T10:30:24.182Z"
   },
   {
    "duration": 503,
    "start_time": "2022-05-09T10:30:24.673Z"
   },
   {
    "duration": 6,
    "start_time": "2022-05-09T10:30:25.178Z"
   },
   {
    "duration": 492,
    "start_time": "2022-05-09T10:30:25.186Z"
   },
   {
    "duration": 29,
    "start_time": "2022-05-09T10:30:25.679Z"
   },
   {
    "duration": 7,
    "start_time": "2022-05-09T10:30:25.709Z"
   },
   {
    "duration": 7,
    "start_time": "2022-05-09T10:30:25.718Z"
   },
   {
    "duration": 53,
    "start_time": "2022-05-09T10:30:25.726Z"
   },
   {
    "duration": 9,
    "start_time": "2022-05-09T10:30:25.781Z"
   },
   {
    "duration": 7,
    "start_time": "2022-05-09T10:30:25.792Z"
   },
   {
    "duration": 252,
    "start_time": "2022-05-09T10:38:06.436Z"
   },
   {
    "duration": 161,
    "start_time": "2022-05-09T10:38:19.483Z"
   },
   {
    "duration": 162,
    "start_time": "2022-05-09T10:38:24.621Z"
   },
   {
    "duration": 503,
    "start_time": "2022-05-09T10:38:30.240Z"
   },
   {
    "duration": 167,
    "start_time": "2022-05-09T10:38:48.381Z"
   },
   {
    "duration": 166,
    "start_time": "2022-05-09T10:38:56.759Z"
   },
   {
    "duration": 176,
    "start_time": "2022-05-09T10:39:02.594Z"
   },
   {
    "duration": 409,
    "start_time": "2022-05-09T10:39:07.898Z"
   },
   {
    "duration": 168,
    "start_time": "2022-05-09T10:39:31.131Z"
   },
   {
    "duration": 395,
    "start_time": "2022-05-09T10:39:37.054Z"
   },
   {
    "duration": 448,
    "start_time": "2022-05-09T10:39:48.231Z"
   },
   {
    "duration": 418,
    "start_time": "2022-05-09T10:40:21.023Z"
   },
   {
    "duration": 71,
    "start_time": "2022-05-09T10:40:34.738Z"
   },
   {
    "duration": 1231,
    "start_time": "2022-05-09T10:40:34.811Z"
   },
   {
    "duration": 14,
    "start_time": "2022-05-09T10:40:36.044Z"
   },
   {
    "duration": 8,
    "start_time": "2022-05-09T10:40:36.060Z"
   },
   {
    "duration": 59,
    "start_time": "2022-05-09T10:40:36.070Z"
   },
   {
    "duration": 6,
    "start_time": "2022-05-09T10:40:36.131Z"
   },
   {
    "duration": 32,
    "start_time": "2022-05-09T10:40:36.138Z"
   },
   {
    "duration": 25,
    "start_time": "2022-05-09T10:40:36.172Z"
   },
   {
    "duration": 18,
    "start_time": "2022-05-09T10:40:36.199Z"
   },
   {
    "duration": 8,
    "start_time": "2022-05-09T10:40:36.219Z"
   },
   {
    "duration": 9,
    "start_time": "2022-05-09T10:40:36.228Z"
   },
   {
    "duration": 11,
    "start_time": "2022-05-09T10:40:36.239Z"
   },
   {
    "duration": 10,
    "start_time": "2022-05-09T10:40:36.252Z"
   },
   {
    "duration": 27,
    "start_time": "2022-05-09T10:40:36.263Z"
   },
   {
    "duration": 18,
    "start_time": "2022-05-09T10:40:36.292Z"
   },
   {
    "duration": 17,
    "start_time": "2022-05-09T10:40:36.312Z"
   },
   {
    "duration": 22,
    "start_time": "2022-05-09T10:40:36.331Z"
   },
   {
    "duration": 9,
    "start_time": "2022-05-09T10:40:36.354Z"
   },
   {
    "duration": 16,
    "start_time": "2022-05-09T10:40:36.378Z"
   },
   {
    "duration": 13,
    "start_time": "2022-05-09T10:40:36.396Z"
   },
   {
    "duration": 7,
    "start_time": "2022-05-09T10:40:36.411Z"
   },
   {
    "duration": 10,
    "start_time": "2022-05-09T10:40:36.420Z"
   },
   {
    "duration": 20,
    "start_time": "2022-05-09T10:40:36.431Z"
   },
   {
    "duration": 32,
    "start_time": "2022-05-09T10:40:36.453Z"
   },
   {
    "duration": 357,
    "start_time": "2022-05-09T10:40:36.487Z"
   },
   {
    "duration": 352,
    "start_time": "2022-05-09T10:40:36.846Z"
   },
   {
    "duration": 17,
    "start_time": "2022-05-09T10:40:37.200Z"
   },
   {
    "duration": 1002,
    "start_time": "2022-05-09T10:40:37.221Z"
   },
   {
    "duration": 5,
    "start_time": "2022-05-09T10:40:38.225Z"
   },
   {
    "duration": 14,
    "start_time": "2022-05-09T10:40:38.231Z"
   },
   {
    "duration": 29,
    "start_time": "2022-05-09T10:40:38.246Z"
   },
   {
    "duration": 706,
    "start_time": "2022-05-09T10:40:38.277Z"
   },
   {
    "duration": 255,
    "start_time": "2022-05-09T10:40:38.985Z"
   },
   {
    "duration": 19,
    "start_time": "2022-05-09T10:40:39.242Z"
   },
   {
    "duration": 716,
    "start_time": "2022-05-09T10:40:39.263Z"
   },
   {
    "duration": 258,
    "start_time": "2022-05-09T10:40:39.981Z"
   },
   {
    "duration": 807,
    "start_time": "2022-05-09T10:40:40.241Z"
   },
   {
    "duration": 284,
    "start_time": "2022-05-09T10:40:41.050Z"
   },
   {
    "duration": 17,
    "start_time": "2022-05-09T10:40:41.336Z"
   },
   {
    "duration": 352,
    "start_time": "2022-05-09T10:40:41.354Z"
   },
   {
    "duration": 4,
    "start_time": "2022-05-09T10:40:41.708Z"
   },
   {
    "duration": 478,
    "start_time": "2022-05-09T10:40:41.714Z"
   },
   {
    "duration": 508,
    "start_time": "2022-05-09T10:40:42.194Z"
   },
   {
    "duration": 5,
    "start_time": "2022-05-09T10:40:42.704Z"
   },
   {
    "duration": 508,
    "start_time": "2022-05-09T10:40:42.711Z"
   },
   {
    "duration": 29,
    "start_time": "2022-05-09T10:40:43.221Z"
   },
   {
    "duration": 24,
    "start_time": "2022-05-09T10:40:43.251Z"
   },
   {
    "duration": 7,
    "start_time": "2022-05-09T10:40:43.285Z"
   },
   {
    "duration": 33,
    "start_time": "2022-05-09T10:40:43.294Z"
   },
   {
    "duration": 8,
    "start_time": "2022-05-09T10:40:43.328Z"
   },
   {
    "duration": 6,
    "start_time": "2022-05-09T10:40:43.338Z"
   },
   {
    "duration": 69,
    "start_time": "2022-05-10T07:42:22.676Z"
   },
   {
    "duration": 1253,
    "start_time": "2022-05-10T07:42:22.747Z"
   },
   {
    "duration": 14,
    "start_time": "2022-05-10T07:42:24.002Z"
   },
   {
    "duration": 10,
    "start_time": "2022-05-10T07:42:24.019Z"
   },
   {
    "duration": 42,
    "start_time": "2022-05-10T07:42:24.031Z"
   },
   {
    "duration": 7,
    "start_time": "2022-05-10T07:42:24.075Z"
   },
   {
    "duration": 30,
    "start_time": "2022-05-10T07:42:24.083Z"
   },
   {
    "duration": 9,
    "start_time": "2022-05-10T07:42:24.114Z"
   },
   {
    "duration": 12,
    "start_time": "2022-05-10T07:42:24.125Z"
   },
   {
    "duration": 10,
    "start_time": "2022-05-10T07:42:24.140Z"
   },
   {
    "duration": 9,
    "start_time": "2022-05-10T07:42:24.174Z"
   },
   {
    "duration": 10,
    "start_time": "2022-05-10T07:42:24.184Z"
   },
   {
    "duration": 9,
    "start_time": "2022-05-10T07:42:24.195Z"
   },
   {
    "duration": 16,
    "start_time": "2022-05-10T07:42:24.206Z"
   },
   {
    "duration": 14,
    "start_time": "2022-05-10T07:42:24.224Z"
   },
   {
    "duration": 43,
    "start_time": "2022-05-10T07:42:24.239Z"
   },
   {
    "duration": 24,
    "start_time": "2022-05-10T07:42:24.283Z"
   },
   {
    "duration": 8,
    "start_time": "2022-05-10T07:42:24.309Z"
   },
   {
    "duration": 10,
    "start_time": "2022-05-10T07:42:24.319Z"
   },
   {
    "duration": 12,
    "start_time": "2022-05-10T07:42:24.331Z"
   },
   {
    "duration": 4,
    "start_time": "2022-05-10T07:42:24.344Z"
   },
   {
    "duration": 23,
    "start_time": "2022-05-10T07:42:24.350Z"
   },
   {
    "duration": 20,
    "start_time": "2022-05-10T07:42:24.375Z"
   },
   {
    "duration": 12,
    "start_time": "2022-05-10T07:42:24.397Z"
   },
   {
    "duration": 357,
    "start_time": "2022-05-10T07:42:24.411Z"
   },
   {
    "duration": 338,
    "start_time": "2022-05-10T07:42:24.769Z"
   },
   {
    "duration": 18,
    "start_time": "2022-05-10T07:42:25.109Z"
   },
   {
    "duration": 991,
    "start_time": "2022-05-10T07:42:25.130Z"
   },
   {
    "duration": 6,
    "start_time": "2022-05-10T07:42:26.122Z"
   },
   {
    "duration": 16,
    "start_time": "2022-05-10T07:42:26.129Z"
   },
   {
    "duration": 32,
    "start_time": "2022-05-10T07:42:26.147Z"
   },
   {
    "duration": 730,
    "start_time": "2022-05-10T07:42:26.181Z"
   },
   {
    "duration": 265,
    "start_time": "2022-05-10T07:42:26.912Z"
   },
   {
    "duration": 20,
    "start_time": "2022-05-10T07:42:27.179Z"
   },
   {
    "duration": 798,
    "start_time": "2022-05-10T07:42:27.200Z"
   },
   {
    "duration": 248,
    "start_time": "2022-05-10T07:42:27.999Z"
   },
   {
    "duration": 801,
    "start_time": "2022-05-10T07:42:28.249Z"
   },
   {
    "duration": 278,
    "start_time": "2022-05-10T07:42:29.052Z"
   },
   {
    "duration": 17,
    "start_time": "2022-05-10T07:42:29.332Z"
   },
   {
    "duration": 373,
    "start_time": "2022-05-10T07:42:29.351Z"
   },
   {
    "duration": 5,
    "start_time": "2022-05-10T07:42:29.726Z"
   },
   {
    "duration": 511,
    "start_time": "2022-05-10T07:42:29.732Z"
   },
   {
    "duration": 517,
    "start_time": "2022-05-10T07:42:30.245Z"
   },
   {
    "duration": 15,
    "start_time": "2022-05-10T07:42:30.764Z"
   },
   {
    "duration": 483,
    "start_time": "2022-05-10T07:42:30.780Z"
   },
   {
    "duration": 27,
    "start_time": "2022-05-10T07:42:31.272Z"
   },
   {
    "duration": 7,
    "start_time": "2022-05-10T07:42:31.300Z"
   },
   {
    "duration": 8,
    "start_time": "2022-05-10T07:42:31.308Z"
   },
   {
    "duration": 32,
    "start_time": "2022-05-10T07:42:31.318Z"
   },
   {
    "duration": 26,
    "start_time": "2022-05-10T07:42:31.352Z"
   },
   {
    "duration": 6,
    "start_time": "2022-05-10T07:42:31.380Z"
   },
   {
    "duration": 94,
    "start_time": "2022-05-10T09:43:41.580Z"
   },
   {
    "duration": 1494,
    "start_time": "2022-05-10T09:43:41.676Z"
   },
   {
    "duration": 16,
    "start_time": "2022-05-10T09:43:43.171Z"
   },
   {
    "duration": 10,
    "start_time": "2022-05-10T09:43:43.189Z"
   },
   {
    "duration": 50,
    "start_time": "2022-05-10T09:43:43.200Z"
   },
   {
    "duration": 7,
    "start_time": "2022-05-10T09:43:43.252Z"
   },
   {
    "duration": 30,
    "start_time": "2022-05-10T09:43:43.261Z"
   },
   {
    "duration": 8,
    "start_time": "2022-05-10T09:43:43.293Z"
   },
   {
    "duration": 38,
    "start_time": "2022-05-10T09:43:43.303Z"
   },
   {
    "duration": 8,
    "start_time": "2022-05-10T09:43:43.345Z"
   },
   {
    "duration": 9,
    "start_time": "2022-05-10T09:43:43.355Z"
   },
   {
    "duration": 11,
    "start_time": "2022-05-10T09:43:43.365Z"
   },
   {
    "duration": 10,
    "start_time": "2022-05-10T09:43:43.378Z"
   },
   {
    "duration": 45,
    "start_time": "2022-05-10T09:43:43.390Z"
   },
   {
    "duration": 14,
    "start_time": "2022-05-10T09:43:43.437Z"
   },
   {
    "duration": 14,
    "start_time": "2022-05-10T09:43:43.453Z"
   },
   {
    "duration": 26,
    "start_time": "2022-05-10T09:43:43.469Z"
   },
   {
    "duration": 5,
    "start_time": "2022-05-10T09:43:43.497Z"
   },
   {
    "duration": 7,
    "start_time": "2022-05-10T09:43:43.533Z"
   },
   {
    "duration": 13,
    "start_time": "2022-05-10T09:43:43.542Z"
   },
   {
    "duration": 5,
    "start_time": "2022-05-10T09:43:43.557Z"
   },
   {
    "duration": 6,
    "start_time": "2022-05-10T09:43:43.564Z"
   },
   {
    "duration": 19,
    "start_time": "2022-05-10T09:43:43.572Z"
   },
   {
    "duration": 47,
    "start_time": "2022-05-10T09:43:43.593Z"
   },
   {
    "duration": 405,
    "start_time": "2022-05-10T09:43:43.642Z"
   },
   {
    "duration": 384,
    "start_time": "2022-05-10T09:43:44.048Z"
   },
   {
    "duration": 19,
    "start_time": "2022-05-10T09:43:44.434Z"
   },
   {
    "duration": 1107,
    "start_time": "2022-05-10T09:43:44.457Z"
   },
   {
    "duration": 4,
    "start_time": "2022-05-10T09:43:45.566Z"
   },
   {
    "duration": 17,
    "start_time": "2022-05-10T09:43:45.573Z"
   },
   {
    "duration": 23,
    "start_time": "2022-05-10T09:43:45.592Z"
   },
   {
    "duration": 769,
    "start_time": "2022-05-10T09:43:45.617Z"
   },
   {
    "duration": 274,
    "start_time": "2022-05-10T09:43:46.388Z"
   },
   {
    "duration": 22,
    "start_time": "2022-05-10T09:43:46.664Z"
   },
   {
    "duration": 771,
    "start_time": "2022-05-10T09:43:46.687Z"
   },
   {
    "duration": 299,
    "start_time": "2022-05-10T09:43:47.459Z"
   },
   {
    "duration": 851,
    "start_time": "2022-05-10T09:43:47.760Z"
   },
   {
    "duration": 281,
    "start_time": "2022-05-10T09:43:48.613Z"
   },
   {
    "duration": 18,
    "start_time": "2022-05-10T09:43:48.895Z"
   },
   {
    "duration": 375,
    "start_time": "2022-05-10T09:43:48.914Z"
   },
   {
    "duration": 5,
    "start_time": "2022-05-10T09:43:49.291Z"
   },
   {
    "duration": 535,
    "start_time": "2022-05-10T09:43:49.298Z"
   },
   {
    "duration": 566,
    "start_time": "2022-05-10T09:43:49.835Z"
   },
   {
    "duration": 7,
    "start_time": "2022-05-10T09:43:50.403Z"
   },
   {
    "duration": 549,
    "start_time": "2022-05-10T09:43:50.411Z"
   },
   {
    "duration": 31,
    "start_time": "2022-05-10T09:43:50.962Z"
   },
   {
    "duration": 7,
    "start_time": "2022-05-10T09:43:50.994Z"
   },
   {
    "duration": 8,
    "start_time": "2022-05-10T09:43:51.003Z"
   },
   {
    "duration": 31,
    "start_time": "2022-05-10T09:43:51.033Z"
   },
   {
    "duration": 7,
    "start_time": "2022-05-10T09:43:51.066Z"
   },
   {
    "duration": 6,
    "start_time": "2022-05-10T09:43:51.075Z"
   }
  ],
  "kernelspec": {
   "display_name": "Python 3 (ipykernel)",
   "language": "python",
   "name": "python3"
  },
  "language_info": {
   "codemirror_mode": {
    "name": "ipython",
    "version": 3
   },
   "file_extension": ".py",
   "mimetype": "text/x-python",
   "name": "python",
   "nbconvert_exporter": "python",
   "pygments_lexer": "ipython3",
   "version": "3.9.13"
  },
  "toc": {
   "base_numbering": 1,
   "nav_menu": {
    "height": "67px",
    "width": "160px"
   },
   "number_sections": true,
   "sideBar": true,
   "skip_h1_title": true,
   "title_cell": "Table of contents",
   "title_sidebar": "Contents",
   "toc_cell": true,
   "toc_position": {
    "height": "942px",
    "left": "4px",
    "top": "113.125px",
    "width": "462.986px"
   },
   "toc_section_display": true,
   "toc_window_display": false
  }
 },
 "nbformat": 4,
 "nbformat_minor": 5
}
