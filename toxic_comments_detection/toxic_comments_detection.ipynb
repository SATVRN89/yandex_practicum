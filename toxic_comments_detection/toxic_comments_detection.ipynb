{
 "cells": [
  {
   "cell_type": "markdown",
   "metadata": {
    "toc": true
   },
   "source": [
    "<h1>Table of Contents<span class=\"tocSkip\"></span></h1>\n",
    "<div class=\"toc\"><ul class=\"toc-item\"><li><ul class=\"toc-item\"><li><span><a href=\"#Work-plan\" data-toc-modified-id=\"Work-plan-0.1\"><span class=\"toc-item-num\">0.1&nbsp;&nbsp;</span>Work plan</a></span></li><li><span><a href=\"#Data-description\" data-toc-modified-id=\"Data-description-0.2\"><span class=\"toc-item-num\">0.2&nbsp;&nbsp;</span>Data description</a></span></li></ul></li><li><span><a href=\"#Load-and-preprocessing\" data-toc-modified-id=\"Load-and-preprocessing-1\"><span class=\"toc-item-num\">1&nbsp;&nbsp;</span>Load and preprocessing</a></span></li><li><span><a href=\"#Build-models\" data-toc-modified-id=\"Build-models-2\"><span class=\"toc-item-num\">2&nbsp;&nbsp;</span>Build models</a></span></li><li><span><a href=\"#Best-model-testing\" data-toc-modified-id=\"Best-model-testing-3\"><span class=\"toc-item-num\">3&nbsp;&nbsp;</span>Best model testing</a></span></li><li><span><a href=\"#Conclusion\" data-toc-modified-id=\"Conclusion-4\"><span class=\"toc-item-num\">4&nbsp;&nbsp;</span>Conclusion</a></span></li></ul></div>"
   ]
  },
  {
   "cell_type": "markdown",
   "metadata": {},
   "source": [
    "# Negative comments detection for «Wikishop»"
   ]
  },
  {
   "cell_type": "markdown",
   "metadata": {},
   "source": [
    "Online store \"Wikishop\" launches new service. Now users can edit and add product descriptions, just like in wiki communities. Customers offer their edits and comment on others' changes. The store needs tool that will look for toxic comments and send them for moderation.\n",
    "\n",
    "The task is to build and train model to classify comments into positive and negative. \n",
    "\n",
    "F1 metric should be higher than **0,75** \n",
    "\n",
    "### Work plan\n",
    "\n",
    "1. Load and preprocessing.\n",
    "2. Build defferent models. \n",
    "3. Make conclusion.\n",
    "\n",
    "### Data description\n",
    "\n",
    "Column *text* contains text of comment, *toxic* is target feature."
   ]
  },
  {
   "cell_type": "markdown",
   "metadata": {},
   "source": [
    "## Load and preprocessing"
   ]
  },
  {
   "cell_type": "code",
   "execution_count": 1,
   "metadata": {},
   "outputs": [],
   "source": [
    "import pandas as pd\n",
    "import numpy as np\n",
    "import warnings                   \n",
    "warnings.filterwarnings('ignore')\n",
    "\n",
    "from sklearn.linear_model import LogisticRegression\n",
    "from sklearn.ensemble import RandomForestClassifier\n",
    "from sklearn.dummy import DummyClassifier\n",
    "\n",
    "from sklearn.model_selection import GridSearchCV\n",
    "from sklearn.model_selection import train_test_split\n",
    "from sklearn.model_selection import TimeSeriesSplit\n",
    "from sklearn.pipeline import Pipeline\n",
    "\n",
    "import nltk\n",
    "from nltk.corpus import stopwords as nltk_stopwords\n",
    "from nltk.corpus import wordnet\n",
    "from nltk.stem import WordNetLemmatizer\n",
    "\n",
    "import re\n",
    "from sklearn.feature_extraction.text import TfidfVectorizer\n",
    "from sklearn.feature_extraction.text import CountVectorizer\n",
    "from sklearn.feature_extraction.text import TfidfTransformer\n",
    "\n",
    "from sklearn.metrics import f1_score\n",
    "from sklearn.metrics import classification_report"
   ]
  },
  {
   "cell_type": "code",
   "execution_count": 2,
   "metadata": {},
   "outputs": [],
   "source": [
    "data = pd.read_csv('/datasets/toxic_comments.csv')"
   ]
  },
  {
   "cell_type": "code",
   "execution_count": 3,
   "metadata": {},
   "outputs": [
    {
     "data": {
      "text/html": [
       "<div>\n",
       "<style scoped>\n",
       "    .dataframe tbody tr th:only-of-type {\n",
       "        vertical-align: middle;\n",
       "    }\n",
       "\n",
       "    .dataframe tbody tr th {\n",
       "        vertical-align: top;\n",
       "    }\n",
       "\n",
       "    .dataframe thead th {\n",
       "        text-align: right;\n",
       "    }\n",
       "</style>\n",
       "<table border=\"1\" class=\"dataframe\">\n",
       "  <thead>\n",
       "    <tr style=\"text-align: right;\">\n",
       "      <th></th>\n",
       "      <th>Unnamed: 0</th>\n",
       "      <th>text</th>\n",
       "      <th>toxic</th>\n",
       "    </tr>\n",
       "  </thead>\n",
       "  <tbody>\n",
       "    <tr>\n",
       "      <th>103318</th>\n",
       "      <td>103415</td>\n",
       "      <td>\":::He can also be classified under WP:NPOL pe...</td>\n",
       "      <td>0</td>\n",
       "    </tr>\n",
       "    <tr>\n",
       "      <th>152102</th>\n",
       "      <td>152259</td>\n",
       "      <td>\"\\n\\nThe Bravery of the Scorpion\\n\\nWhy would ...</td>\n",
       "      <td>0</td>\n",
       "    </tr>\n",
       "    <tr>\n",
       "      <th>123043</th>\n",
       "      <td>123152</td>\n",
       "      <td>On second thought, disregard the above questio...</td>\n",
       "      <td>0</td>\n",
       "    </tr>\n",
       "    <tr>\n",
       "      <th>150159</th>\n",
       "      <td>150315</td>\n",
       "      <td>\"\\n\\n Tip \\n\\nDiannaa, when you block a user a...</td>\n",
       "      <td>0</td>\n",
       "    </tr>\n",
       "    <tr>\n",
       "      <th>89424</th>\n",
       "      <td>89511</td>\n",
       "      <td>\"\\n\\n Copyright violation? NPOV? \\n\\nThe text ...</td>\n",
       "      <td>0</td>\n",
       "    </tr>\n",
       "    <tr>\n",
       "      <th>133457</th>\n",
       "      <td>133595</td>\n",
       "      <td>will u be REVERTING the pages I edited to the ...</td>\n",
       "      <td>0</td>\n",
       "    </tr>\n",
       "    <tr>\n",
       "      <th>79864</th>\n",
       "      <td>79940</td>\n",
       "      <td>Thank you for your apology. I accept it, such ...</td>\n",
       "      <td>0</td>\n",
       "    </tr>\n",
       "    <tr>\n",
       "      <th>29497</th>\n",
       "      <td>29536</td>\n",
       "      <td>This is not content dispute. It's user conduct...</td>\n",
       "      <td>0</td>\n",
       "    </tr>\n",
       "    <tr>\n",
       "      <th>104748</th>\n",
       "      <td>104845</td>\n",
       "      <td>I am dieing stop undoing my edits of the jack ...</td>\n",
       "      <td>0</td>\n",
       "    </tr>\n",
       "    <tr>\n",
       "      <th>54252</th>\n",
       "      <td>54313</td>\n",
       "      <td>When you are on the north pole, there is nowhe...</td>\n",
       "      <td>0</td>\n",
       "    </tr>\n",
       "    <tr>\n",
       "      <th>96046</th>\n",
       "      <td>96138</td>\n",
       "      <td>\"\\n I think we differ on whether a mutated blu...</td>\n",
       "      <td>0</td>\n",
       "    </tr>\n",
       "    <tr>\n",
       "      <th>145897</th>\n",
       "      <td>146053</td>\n",
       "      <td>2015 (UTC)\\n\\nThat's because The Black Panther...</td>\n",
       "      <td>0</td>\n",
       "    </tr>\n",
       "    <tr>\n",
       "      <th>89222</th>\n",
       "      <td>89305</td>\n",
       "      <td>That's ok, I know him.</td>\n",
       "      <td>0</td>\n",
       "    </tr>\n",
       "    <tr>\n",
       "      <th>118014</th>\n",
       "      <td>118114</td>\n",
       "      <td>Yes, I am removing unsourced pan-Iranian imper...</td>\n",
       "      <td>0</td>\n",
       "    </tr>\n",
       "    <tr>\n",
       "      <th>67247</th>\n",
       "      <td>67315</td>\n",
       "      <td>\"\\n\\n German mediatization \\n\\nIn the second p...</td>\n",
       "      <td>0</td>\n",
       "    </tr>\n",
       "    <tr>\n",
       "      <th>68123</th>\n",
       "      <td>68191</td>\n",
       "      <td>The band cites Trivium, Metallica, System of a...</td>\n",
       "      <td>1</td>\n",
       "    </tr>\n",
       "    <tr>\n",
       "      <th>45449</th>\n",
       "      <td>45502</td>\n",
       "      <td>With a view to seeking community consensus, I ...</td>\n",
       "      <td>0</td>\n",
       "    </tr>\n",
       "    <tr>\n",
       "      <th>16758</th>\n",
       "      <td>16775</td>\n",
       "      <td>Dan DiDio\\nPlease stop. If you continue to van...</td>\n",
       "      <td>0</td>\n",
       "    </tr>\n",
       "    <tr>\n",
       "      <th>98221</th>\n",
       "      <td>98316</td>\n",
       "      <td>\"I removed most of this entry. It was largely ...</td>\n",
       "      <td>0</td>\n",
       "    </tr>\n",
       "    <tr>\n",
       "      <th>28279</th>\n",
       "      <td>28316</td>\n",
       "      <td>\"\\nYou can do this both for the cables themsel...</td>\n",
       "      <td>0</td>\n",
       "    </tr>\n",
       "  </tbody>\n",
       "</table>\n",
       "</div>"
      ],
      "text/plain": [
       "        Unnamed: 0                                               text  toxic\n",
       "103318      103415  \":::He can also be classified under WP:NPOL pe...      0\n",
       "152102      152259  \"\\n\\nThe Bravery of the Scorpion\\n\\nWhy would ...      0\n",
       "123043      123152  On second thought, disregard the above questio...      0\n",
       "150159      150315  \"\\n\\n Tip \\n\\nDiannaa, when you block a user a...      0\n",
       "89424        89511  \"\\n\\n Copyright violation? NPOV? \\n\\nThe text ...      0\n",
       "133457      133595  will u be REVERTING the pages I edited to the ...      0\n",
       "79864        79940  Thank you for your apology. I accept it, such ...      0\n",
       "29497        29536  This is not content dispute. It's user conduct...      0\n",
       "104748      104845  I am dieing stop undoing my edits of the jack ...      0\n",
       "54252        54313  When you are on the north pole, there is nowhe...      0\n",
       "96046        96138  \"\\n I think we differ on whether a mutated blu...      0\n",
       "145897      146053  2015 (UTC)\\n\\nThat's because The Black Panther...      0\n",
       "89222        89305                             That's ok, I know him.      0\n",
       "118014      118114  Yes, I am removing unsourced pan-Iranian imper...      0\n",
       "67247        67315  \"\\n\\n German mediatization \\n\\nIn the second p...      0\n",
       "68123        68191  The band cites Trivium, Metallica, System of a...      1\n",
       "45449        45502  With a view to seeking community consensus, I ...      0\n",
       "16758        16775  Dan DiDio\\nPlease stop. If you continue to van...      0\n",
       "98221        98316  \"I removed most of this entry. It was largely ...      0\n",
       "28279        28316  \"\\nYou can do this both for the cables themsel...      0"
      ]
     },
     "execution_count": 3,
     "metadata": {},
     "output_type": "execute_result"
    }
   ],
   "source": [
    "data.sample(20)"
   ]
  },
  {
   "cell_type": "markdown",
   "metadata": {},
   "source": [
    "Too much unnecessary characters are in the data. Also there is a different case"
   ]
  },
  {
   "cell_type": "code",
   "execution_count": 4,
   "metadata": {},
   "outputs": [
    {
     "name": "stdout",
     "output_type": "stream",
     "text": [
      "<class 'pandas.core.frame.DataFrame'>\n",
      "RangeIndex: 159292 entries, 0 to 159291\n",
      "Data columns (total 3 columns):\n",
      " #   Column      Non-Null Count   Dtype \n",
      "---  ------      --------------   ----- \n",
      " 0   Unnamed: 0  159292 non-null  int64 \n",
      " 1   text        159292 non-null  object\n",
      " 2   toxic       159292 non-null  int64 \n",
      "dtypes: int64(2), object(1)\n",
      "memory usage: 3.6+ MB\n"
     ]
    }
   ],
   "source": [
    "data.info()"
   ]
  },
  {
   "cell_type": "code",
   "execution_count": 5,
   "metadata": {},
   "outputs": [
    {
     "data": {
      "text/plain": [
       "0"
      ]
     },
     "execution_count": 5,
     "metadata": {},
     "output_type": "execute_result"
    }
   ],
   "source": [
    "data.duplicated().sum()"
   ]
  },
  {
   "cell_type": "markdown",
   "metadata": {},
   "source": [
    "No missing values and duplicates"
   ]
  },
  {
   "cell_type": "markdown",
   "metadata": {},
   "source": [
    "Lemmatize"
   ]
  },
  {
   "cell_type": "code",
   "execution_count": 6,
   "metadata": {},
   "outputs": [
    {
     "name": "stderr",
     "output_type": "stream",
     "text": [
      "[nltk_data] Downloading package averaged_perceptron_tagger to\n",
      "[nltk_data]     /home/jovyan/nltk_data...\n",
      "[nltk_data]   Unzipping taggers/averaged_perceptron_tagger.zip.\n"
     ]
    },
    {
     "data": {
      "text/plain": [
       "True"
      ]
     },
     "execution_count": 6,
     "metadata": {},
     "output_type": "execute_result"
    }
   ],
   "source": [
    "nltk.download('averaged_perceptron_tagger')"
   ]
  },
  {
   "cell_type": "code",
   "execution_count": 7,
   "metadata": {},
   "outputs": [],
   "source": [
    "def get_wordnet_pos(word):\n",
    "    \"\"\"Map POS tag to first character lemmatize() accepts\"\"\"\n",
    "    tag = nltk.pos_tag([word])[0][1][0].upper()\n",
    "    tag_dict = {\"J\": wordnet.ADJ,\n",
    "                \"N\": wordnet.NOUN,\n",
    "                \"V\": wordnet.VERB,\n",
    "                \"R\": wordnet.ADV}\n",
    "    return tag_dict.get(tag, wordnet.NOUN)"
   ]
  },
  {
   "cell_type": "code",
   "execution_count": 8,
   "metadata": {},
   "outputs": [],
   "source": [
    "lemmatizer = WordNetLemmatizer()\n",
    "def lemmatize(text):\n",
    "    return ' '.join([lemmatizer.\n",
    "                     lemmatize(w, \n",
    "    get_wordnet_pos(w)) for w in nltk.word_tokenize(text)])"
   ]
  },
  {
   "cell_type": "code",
   "execution_count": 9,
   "metadata": {},
   "outputs": [],
   "source": [
    "data['lemm_text'] = data['text'].apply(lemmatize)"
   ]
  },
  {
   "cell_type": "markdown",
   "metadata": {},
   "source": [
    "Clean text"
   ]
  },
  {
   "cell_type": "code",
   "execution_count": 10,
   "metadata": {},
   "outputs": [],
   "source": [
    "def clear_text(text):\n",
    "    return \" \".join(re.sub(r'[^a-zA-Z ]', \n",
    "                           ' ', \n",
    "                           text).lower().split())"
   ]
  },
  {
   "cell_type": "code",
   "execution_count": 11,
   "metadata": {},
   "outputs": [],
   "source": [
    "data['lemm_text'] = data['lemm_text'].apply(clear_text)"
   ]
  },
  {
   "cell_type": "code",
   "execution_count": 12,
   "metadata": {
    "scrolled": true
   },
   "outputs": [
    {
     "data": {
      "text/plain": [
       "'explanation why the edits make under my username hardcore metallica fan be revert they be n t vandalism just closure on some gas after i vote at new york dolls fac and please do n t remove the template from the talk page since i m retire now'"
      ]
     },
     "execution_count": 12,
     "metadata": {},
     "output_type": "execute_result"
    }
   ],
   "source": [
    "data['lemm_text'][0]"
   ]
  },
  {
   "cell_type": "markdown",
   "metadata": {},
   "source": [
    "Data is ok"
   ]
  },
  {
   "cell_type": "markdown",
   "metadata": {},
   "source": [
    "## Build models"
   ]
  },
  {
   "cell_type": "markdown",
   "metadata": {},
   "source": [
    "Train-test split"
   ]
  },
  {
   "cell_type": "code",
   "execution_count": 13,
   "metadata": {},
   "outputs": [],
   "source": [
    "(features_train, \n",
    " features_test, \n",
    " target_train, \n",
    " target_test) = train_test_split(\n",
    "                                 data['lemm_text'], \n",
    "                                 data['toxic'], \n",
    "                                 test_size=0.25, \n",
    "                                 random_state=3101)"
   ]
  },
  {
   "cell_type": "markdown",
   "metadata": {},
   "source": [
    "Import stopwords"
   ]
  },
  {
   "cell_type": "code",
   "execution_count": 14,
   "metadata": {},
   "outputs": [
    {
     "name": "stderr",
     "output_type": "stream",
     "text": [
      "[nltk_data] Downloading package stopwords to /home/jovyan/nltk_data...\n",
      "[nltk_data]   Package stopwords is already up-to-date!\n"
     ]
    }
   ],
   "source": [
    "nltk.download('stopwords')\n",
    "stopwords = set(nltk_stopwords.words('english'))"
   ]
  },
  {
   "cell_type": "markdown",
   "metadata": {},
   "source": [
    "Count TF-IDF for train and test samples"
   ]
  },
  {
   "cell_type": "code",
   "execution_count": 15,
   "metadata": {},
   "outputs": [],
   "source": [
    "count_tf_idf = TfidfVectorizer(stop_words=stopwords)\n",
    "tf_idf_train = count_tf_idf.fit_transform(features_train)\n",
    "tf_idf_test = count_tf_idf.transform(features_test)"
   ]
  },
  {
   "cell_type": "markdown",
   "metadata": {},
   "source": [
    "Learn models"
   ]
  },
  {
   "cell_type": "code",
   "execution_count": 16,
   "metadata": {},
   "outputs": [],
   "source": [
    "pipe_lr = Pipeline(\n",
    "    [\n",
    "        ('tfidf', TfidfTransformer()),\n",
    "        ('lr', LogisticRegression(random_state=3101)),\n",
    "    ]\n",
    ")"
   ]
  },
  {
   "cell_type": "code",
   "execution_count": 17,
   "metadata": {
    "scrolled": false
   },
   "outputs": [
    {
     "name": "stdout",
     "output_type": "stream",
     "text": [
      "Best f1 is equal to 0.7589166065102113 with parameters {'lr__C': 3, 'lr__class_weight': 'balanced', 'lr__penalty': 'l2'}\n"
     ]
    }
   ],
   "source": [
    "lr_parameters = {'lr__class_weight':['balanced'], \n",
    "                 'lr__C':[0.5,1,3,5],\n",
    "                 'lr__penalty': ['l1', 'l2']}\n",
    "             \n",
    "grid_lr = GridSearchCV(pipe_lr,  \n",
    "                       lr_parameters,\n",
    "                       scoring = 'f1',\n",
    "                       verbose=False,\n",
    "                       cv=10,\n",
    "                       n_jobs=-1)\n",
    "\n",
    "grid_lr.fit(tf_idf_train, target_train)\n",
    "\n",
    "print('Best f1 is equal to', grid_lr.best_score_, \n",
    "      'with parameters', grid_lr.best_params_)"
   ]
  },
  {
   "cell_type": "code",
   "execution_count": 18,
   "metadata": {},
   "outputs": [],
   "source": [
    "pipe_rfc = Pipeline(\n",
    "    [\n",
    "        (\"tfidf\", TfidfTransformer()),\n",
    "        (\"clf\", RandomForestClassifier(random_state=3101)),\n",
    "    ]\n",
    ")"
   ]
  },
  {
   "cell_type": "code",
   "execution_count": 19,
   "metadata": {
    "scrolled": false
   },
   "outputs": [
    {
     "name": "stdout",
     "output_type": "stream",
     "text": [
      "Best f1 is equal to 0.3550176070393337 with parameters {'clf__class_weight': 'balanced', 'clf__max_depth': 7, 'clf__n_estimators': 360}\n"
     ]
    }
   ],
   "source": [
    "rfc_parameters = {'clf__class_weight':['balanced'],\n",
    "                 'clf__n_estimators': range (10, 510, 50),\n",
    "                 'clf__max_depth': range (1, 9, 3)}\n",
    "             \n",
    "grid_rfc = GridSearchCV(pipe_rfc,  \n",
    "                        rfc_parameters,\n",
    "                        scoring = 'f1',\n",
    "                        verbose=False,\n",
    "                        cv=10,\n",
    "                        n_jobs=-1)\n",
    "\n",
    "grid_rfc.fit(tf_idf_train, target_train)\n",
    "\n",
    "print('Best f1 is equal to', grid_rfc.best_score_, \n",
    "      'with parameters', grid_rfc.best_params_)"
   ]
  },
  {
   "cell_type": "markdown",
   "metadata": {},
   "source": [
    "## Best model testing"
   ]
  },
  {
   "cell_type": "markdown",
   "metadata": {},
   "source": [
    "Check best model on test sample"
   ]
  },
  {
   "cell_type": "code",
   "execution_count": 20,
   "metadata": {},
   "outputs": [
    {
     "data": {
      "text/plain": [
       "0.759665385484965"
      ]
     },
     "execution_count": 20,
     "metadata": {},
     "output_type": "execute_result"
    }
   ],
   "source": [
    "lr_pred = grid_lr.predict(tf_idf_test)\n",
    "lr = f1_score(target_test, lr_pred)\n",
    "lr"
   ]
  },
  {
   "cell_type": "code",
   "execution_count": 21,
   "metadata": {},
   "outputs": [
    {
     "data": {
      "text/plain": [
       "0.3613801452784504"
      ]
     },
     "execution_count": 21,
     "metadata": {},
     "output_type": "execute_result"
    }
   ],
   "source": [
    "rfc_pred = grid_rfc.predict(tf_idf_test)\n",
    "rfc = f1_score(target_test, rfc_pred)\n",
    "rfc"
   ]
  },
  {
   "cell_type": "code",
   "execution_count": 22,
   "metadata": {},
   "outputs": [
    {
     "name": "stdout",
     "output_type": "stream",
     "text": [
      "              precision    recall  f1-score   support\n",
      "\n",
      "           0       0.96      0.98      0.97     35035\n",
      "           1       0.83      0.70      0.76      4788\n",
      "\n",
      "    accuracy                           0.95     39823\n",
      "   macro avg       0.89      0.84      0.86     39823\n",
      "weighted avg       0.94      0.95      0.94     39823\n",
      "\n"
     ]
    }
   ],
   "source": [
    "print(classification_report(lr_pred, target_test))"
   ]
  },
  {
   "cell_type": "markdown",
   "metadata": {},
   "source": [
    "Check constant model prediction"
   ]
  },
  {
   "cell_type": "code",
   "execution_count": 23,
   "metadata": {},
   "outputs": [
    {
     "data": {
      "text/plain": [
       "0.18495476402087463"
      ]
     },
     "execution_count": 23,
     "metadata": {},
     "output_type": "execute_result"
    }
   ],
   "source": [
    "dummy_clf = DummyClassifier(strategy=\"constant\", \n",
    "                            constant=1, \n",
    "                            random_state=3101)\n",
    "dummy_clf.fit(tf_idf_train, target_train)\n",
    "predicted_dummy = dummy_clf.predict(tf_idf_test)\n",
    "dummy = f1_score(target_test, predicted_dummy)\n",
    "dummy"
   ]
  },
  {
   "cell_type": "code",
   "execution_count": 24,
   "metadata": {},
   "outputs": [
    {
     "data": {
      "text/html": [
       "<div>\n",
       "<style scoped>\n",
       "    .dataframe tbody tr th:only-of-type {\n",
       "        vertical-align: middle;\n",
       "    }\n",
       "\n",
       "    .dataframe tbody tr th {\n",
       "        vertical-align: top;\n",
       "    }\n",
       "\n",
       "    .dataframe thead th {\n",
       "        text-align: right;\n",
       "    }\n",
       "</style>\n",
       "<table border=\"1\" class=\"dataframe\">\n",
       "  <thead>\n",
       "    <tr style=\"text-align: right;\">\n",
       "      <th></th>\n",
       "      <th>f1</th>\n",
       "    </tr>\n",
       "  </thead>\n",
       "  <tbody>\n",
       "    <tr>\n",
       "      <th>LogisticRegression</th>\n",
       "      <td>0.759665</td>\n",
       "    </tr>\n",
       "    <tr>\n",
       "      <th>RandomForestClassifier</th>\n",
       "      <td>0.361380</td>\n",
       "    </tr>\n",
       "    <tr>\n",
       "      <th>DummyClassifier</th>\n",
       "      <td>0.184955</td>\n",
       "    </tr>\n",
       "  </tbody>\n",
       "</table>\n",
       "</div>"
      ],
      "text/plain": [
       "                              f1\n",
       "LogisticRegression      0.759665\n",
       "RandomForestClassifier  0.361380\n",
       "DummyClassifier         0.184955"
      ]
     },
     "execution_count": 24,
     "metadata": {},
     "output_type": "execute_result"
    }
   ],
   "source": [
    "result = pd.DataFrame([lr, rfc, dummy], \n",
    "                       columns=['f1'], \n",
    "                       index=['LogisticRegression',\n",
    "                              'RandomForestClassifier',\n",
    "                              'DummyClassifier'])\n",
    "result"
   ]
  },
  {
   "cell_type": "markdown",
   "metadata": {},
   "source": [
    "## Conclusion\n",
    "- Best model is **Logistic Regression** \n",
    "- F1 metric equal to **0.76**\n",
    "- Best model has better predictions then constant one. Validity check is done"
   ]
  },
  {
   "cell_type": "code",
   "execution_count": null,
   "metadata": {},
   "outputs": [],
   "source": []
  }
 ],
 "metadata": {
  "ExecuteTimeLog": [
   {
    "duration": 3886,
    "start_time": "2022-08-10T12:55:30.236Z"
   },
   {
    "duration": 15,
    "start_time": "2022-08-10T12:55:36.807Z"
   },
   {
    "duration": 16,
    "start_time": "2022-08-10T12:56:00.075Z"
   },
   {
    "duration": 147,
    "start_time": "2022-08-10T13:08:49.573Z"
   },
   {
    "duration": 261,
    "start_time": "2022-08-10T13:08:58.028Z"
   },
   {
    "duration": 251,
    "start_time": "2022-08-10T13:09:07.405Z"
   },
   {
    "duration": 3011,
    "start_time": "2022-08-10T14:22:48.536Z"
   },
   {
    "duration": 20,
    "start_time": "2022-08-10T14:22:51.549Z"
   },
   {
    "duration": 242,
    "start_time": "2022-08-10T14:22:51.571Z"
   },
   {
    "duration": 130,
    "start_time": "2022-08-10T14:22:51.815Z"
   },
   {
    "duration": 2602,
    "start_time": "2022-08-10T14:23:12.927Z"
   },
   {
    "duration": 53,
    "start_time": "2022-08-10T14:23:47.573Z"
   },
   {
    "duration": 3613,
    "start_time": "2022-08-10T14:23:58.955Z"
   },
   {
    "duration": 22,
    "start_time": "2022-08-10T14:24:02.570Z"
   },
   {
    "duration": 273,
    "start_time": "2022-08-10T14:24:02.594Z"
   },
   {
    "duration": 2468,
    "start_time": "2022-08-10T14:24:02.868Z"
   },
   {
    "duration": 3715,
    "start_time": "2022-08-10T14:24:44.773Z"
   },
   {
    "duration": 18,
    "start_time": "2022-08-10T14:24:48.490Z"
   },
   {
    "duration": 252,
    "start_time": "2022-08-10T14:24:48.510Z"
   },
   {
    "duration": 2527,
    "start_time": "2022-08-10T14:24:48.765Z"
   },
   {
    "duration": 3843,
    "start_time": "2022-08-10T14:26:12.644Z"
   },
   {
    "duration": 16,
    "start_time": "2022-08-10T14:26:16.489Z"
   },
   {
    "duration": 240,
    "start_time": "2022-08-10T14:26:16.507Z"
   },
   {
    "duration": 2603,
    "start_time": "2022-08-10T14:26:16.749Z"
   },
   {
    "duration": 3754,
    "start_time": "2022-08-10T14:27:42.188Z"
   },
   {
    "duration": 18,
    "start_time": "2022-08-10T14:27:45.944Z"
   },
   {
    "duration": 247,
    "start_time": "2022-08-10T14:27:45.964Z"
   },
   {
    "duration": 2480,
    "start_time": "2022-08-10T14:27:46.213Z"
   },
   {
    "duration": 4124,
    "start_time": "2022-08-10T14:28:53.572Z"
   },
   {
    "duration": 22,
    "start_time": "2022-08-10T14:28:57.698Z"
   },
   {
    "duration": 245,
    "start_time": "2022-08-10T14:28:57.722Z"
   },
   {
    "duration": 2823,
    "start_time": "2022-08-10T14:28:57.970Z"
   },
   {
    "duration": 2023,
    "start_time": "2022-08-10T14:51:37.658Z"
   },
   {
    "duration": 17,
    "start_time": "2022-08-10T14:51:39.683Z"
   },
   {
    "duration": 247,
    "start_time": "2022-08-10T14:51:39.701Z"
   },
   {
    "duration": 1672,
    "start_time": "2022-08-10T14:51:39.949Z"
   },
   {
    "duration": 127,
    "start_time": "2022-08-10T14:51:41.622Z"
   },
   {
    "duration": 2105,
    "start_time": "2022-08-10T14:52:13.449Z"
   },
   {
    "duration": 17,
    "start_time": "2022-08-10T14:52:15.556Z"
   },
   {
    "duration": 246,
    "start_time": "2022-08-10T14:52:15.575Z"
   },
   {
    "duration": 1676,
    "start_time": "2022-08-10T14:52:15.823Z"
   },
   {
    "duration": 132,
    "start_time": "2022-08-10T14:52:17.501Z"
   },
   {
    "duration": 2109,
    "start_time": "2022-08-10T14:53:38.465Z"
   },
   {
    "duration": 16,
    "start_time": "2022-08-10T14:53:40.576Z"
   },
   {
    "duration": 242,
    "start_time": "2022-08-10T14:53:40.594Z"
   },
   {
    "duration": 28,
    "start_time": "2022-08-10T14:53:40.837Z"
   },
   {
    "duration": 135,
    "start_time": "2022-08-10T14:53:40.866Z"
   },
   {
    "duration": 2224,
    "start_time": "2022-08-10T14:56:11.406Z"
   },
   {
    "duration": 19,
    "start_time": "2022-08-10T14:56:13.632Z"
   },
   {
    "duration": 273,
    "start_time": "2022-08-10T14:56:13.653Z"
   },
   {
    "duration": 1706,
    "start_time": "2022-08-10T14:56:13.927Z"
   },
   {
    "duration": 9,
    "start_time": "2022-08-10T14:56:15.635Z"
   },
   {
    "duration": 3842,
    "start_time": "2022-08-10T15:08:14.784Z"
   },
   {
    "duration": 19,
    "start_time": "2022-08-10T15:08:18.628Z"
   },
   {
    "duration": 242,
    "start_time": "2022-08-10T15:08:18.649Z"
   },
   {
    "duration": 1779,
    "start_time": "2022-08-10T15:08:18.893Z"
   },
   {
    "duration": 2,
    "start_time": "2022-08-10T15:08:20.674Z"
   },
   {
    "duration": 3907,
    "start_time": "2022-08-10T15:09:44.552Z"
   },
   {
    "duration": 18,
    "start_time": "2022-08-10T15:09:48.461Z"
   },
   {
    "duration": 240,
    "start_time": "2022-08-10T15:09:48.480Z"
   },
   {
    "duration": 1844,
    "start_time": "2022-08-10T15:09:48.722Z"
   },
   {
    "duration": 0,
    "start_time": "2022-08-10T15:09:50.567Z"
   },
   {
    "duration": 2133,
    "start_time": "2022-08-10T15:10:42.227Z"
   },
   {
    "duration": 16,
    "start_time": "2022-08-10T15:10:44.362Z"
   },
   {
    "duration": 249,
    "start_time": "2022-08-10T15:10:44.380Z"
   },
   {
    "duration": 1872,
    "start_time": "2022-08-10T15:10:44.631Z"
   },
   {
    "duration": 1,
    "start_time": "2022-08-10T15:10:46.504Z"
   },
   {
    "duration": 2175,
    "start_time": "2022-08-10T15:18:01.339Z"
   },
   {
    "duration": 18,
    "start_time": "2022-08-10T15:18:03.516Z"
   },
   {
    "duration": 246,
    "start_time": "2022-08-10T15:18:03.535Z"
   },
   {
    "duration": 3,
    "start_time": "2022-08-10T15:18:03.784Z"
   },
   {
    "duration": 136,
    "start_time": "2022-08-10T15:18:03.788Z"
   },
   {
    "duration": 2160,
    "start_time": "2022-08-10T15:18:33.442Z"
   },
   {
    "duration": 19,
    "start_time": "2022-08-10T15:18:35.604Z"
   },
   {
    "duration": 255,
    "start_time": "2022-08-10T15:18:35.624Z"
   },
   {
    "duration": 2,
    "start_time": "2022-08-10T15:18:35.881Z"
   },
   {
    "duration": 49,
    "start_time": "2022-08-10T15:18:35.885Z"
   },
   {
    "duration": 2070,
    "start_time": "2022-08-10T15:18:56.777Z"
   },
   {
    "duration": 17,
    "start_time": "2022-08-10T15:18:58.849Z"
   },
   {
    "duration": 260,
    "start_time": "2022-08-10T15:18:58.867Z"
   },
   {
    "duration": 2,
    "start_time": "2022-08-10T15:18:59.128Z"
   },
   {
    "duration": 167,
    "start_time": "2022-08-10T15:18:59.132Z"
   },
   {
    "duration": 2104,
    "start_time": "2022-08-10T15:35:32.608Z"
   },
   {
    "duration": 18,
    "start_time": "2022-08-10T15:35:34.714Z"
   },
   {
    "duration": 258,
    "start_time": "2022-08-10T15:35:34.733Z"
   },
   {
    "duration": 1712,
    "start_time": "2022-08-10T15:35:34.993Z"
   },
   {
    "duration": 47,
    "start_time": "2022-08-10T15:35:36.711Z"
   },
   {
    "duration": 2096,
    "start_time": "2022-08-10T15:35:48.349Z"
   },
   {
    "duration": 17,
    "start_time": "2022-08-10T15:35:50.447Z"
   },
   {
    "duration": 248,
    "start_time": "2022-08-10T15:35:50.465Z"
   },
   {
    "duration": 1734,
    "start_time": "2022-08-10T15:35:50.716Z"
   },
   {
    "duration": 193,
    "start_time": "2022-08-10T15:35:52.452Z"
   },
   {
    "duration": 3,
    "start_time": "2022-08-10T15:37:45.828Z"
   },
   {
    "duration": 4,
    "start_time": "2022-08-10T15:37:55.098Z"
   },
   {
    "duration": 4,
    "start_time": "2022-08-10T15:38:01.016Z"
   },
   {
    "duration": 3,
    "start_time": "2022-08-10T15:38:08.486Z"
   },
   {
    "duration": 4,
    "start_time": "2022-08-10T15:38:17.089Z"
   },
   {
    "duration": 4,
    "start_time": "2022-08-10T15:38:24.418Z"
   },
   {
    "duration": 2033,
    "start_time": "2022-08-10T15:46:36.486Z"
   },
   {
    "duration": 16,
    "start_time": "2022-08-10T15:46:38.521Z"
   },
   {
    "duration": 242,
    "start_time": "2022-08-10T15:46:38.538Z"
   },
   {
    "duration": 3,
    "start_time": "2022-08-10T15:46:38.782Z"
   },
   {
    "duration": 131,
    "start_time": "2022-08-10T15:46:38.787Z"
   },
   {
    "duration": 1964,
    "start_time": "2022-08-10T15:47:38.662Z"
   },
   {
    "duration": 19,
    "start_time": "2022-08-10T15:47:40.628Z"
   },
   {
    "duration": 252,
    "start_time": "2022-08-10T15:47:40.648Z"
   },
   {
    "duration": 9,
    "start_time": "2022-08-10T15:47:40.902Z"
   },
   {
    "duration": 120,
    "start_time": "2022-08-10T15:47:40.912Z"
   },
   {
    "duration": 2067,
    "start_time": "2022-08-10T15:48:02.013Z"
   },
   {
    "duration": 16,
    "start_time": "2022-08-10T15:48:04.082Z"
   },
   {
    "duration": 240,
    "start_time": "2022-08-10T15:48:04.100Z"
   },
   {
    "duration": 3,
    "start_time": "2022-08-10T15:48:04.341Z"
   },
   {
    "duration": 130,
    "start_time": "2022-08-10T15:48:04.345Z"
   },
   {
    "duration": 2040,
    "start_time": "2022-08-10T15:48:45.674Z"
   },
   {
    "duration": 16,
    "start_time": "2022-08-10T15:48:47.716Z"
   },
   {
    "duration": 245,
    "start_time": "2022-08-10T15:48:47.733Z"
   },
   {
    "duration": 3,
    "start_time": "2022-08-10T15:48:47.979Z"
   },
   {
    "duration": 1697,
    "start_time": "2022-08-10T15:48:47.983Z"
   },
   {
    "duration": 2063,
    "start_time": "2022-08-10T15:49:11.814Z"
   },
   {
    "duration": 16,
    "start_time": "2022-08-10T15:49:13.879Z"
   },
   {
    "duration": 248,
    "start_time": "2022-08-10T15:49:13.897Z"
   },
   {
    "duration": 2,
    "start_time": "2022-08-10T15:49:14.147Z"
   },
   {
    "duration": 2219,
    "start_time": "2022-08-10T15:49:14.151Z"
   },
   {
    "duration": 6,
    "start_time": "2022-08-10T15:49:29.801Z"
   },
   {
    "duration": 3,
    "start_time": "2022-08-10T15:49:44.758Z"
   },
   {
    "duration": 6,
    "start_time": "2022-08-10T15:50:06.323Z"
   },
   {
    "duration": 2113,
    "start_time": "2022-08-10T15:53:36.494Z"
   },
   {
    "duration": 17,
    "start_time": "2022-08-10T15:53:38.608Z"
   },
   {
    "duration": 244,
    "start_time": "2022-08-10T15:53:38.626Z"
   },
   {
    "duration": 3,
    "start_time": "2022-08-10T15:53:38.872Z"
   },
   {
    "duration": 345,
    "start_time": "2022-08-10T15:53:38.877Z"
   },
   {
    "duration": 0,
    "start_time": "2022-08-10T15:53:39.224Z"
   },
   {
    "duration": 2045,
    "start_time": "2022-08-10T15:54:06.200Z"
   },
   {
    "duration": 16,
    "start_time": "2022-08-10T15:54:08.247Z"
   },
   {
    "duration": 244,
    "start_time": "2022-08-10T15:54:08.264Z"
   },
   {
    "duration": 3,
    "start_time": "2022-08-10T15:54:08.511Z"
   },
   {
    "duration": 347,
    "start_time": "2022-08-10T15:54:08.515Z"
   },
   {
    "duration": 0,
    "start_time": "2022-08-10T15:54:08.864Z"
   },
   {
    "duration": 2026,
    "start_time": "2022-08-10T15:55:56.994Z"
   },
   {
    "duration": 16,
    "start_time": "2022-08-10T15:55:59.022Z"
   },
   {
    "duration": 251,
    "start_time": "2022-08-10T15:55:59.039Z"
   },
   {
    "duration": 65,
    "start_time": "2022-08-10T15:55:59.292Z"
   },
   {
    "duration": 0,
    "start_time": "2022-08-10T15:55:59.358Z"
   },
   {
    "duration": 0,
    "start_time": "2022-08-10T15:55:59.359Z"
   },
   {
    "duration": 2044,
    "start_time": "2022-08-10T15:56:11.050Z"
   },
   {
    "duration": 22,
    "start_time": "2022-08-10T15:56:13.096Z"
   },
   {
    "duration": 234,
    "start_time": "2022-08-10T15:56:13.119Z"
   },
   {
    "duration": 2,
    "start_time": "2022-08-10T15:56:13.355Z"
   },
   {
    "duration": 368,
    "start_time": "2022-08-10T15:56:13.359Z"
   },
   {
    "duration": 0,
    "start_time": "2022-08-10T15:56:13.728Z"
   },
   {
    "duration": 2098,
    "start_time": "2022-08-10T15:56:29.913Z"
   },
   {
    "duration": 17,
    "start_time": "2022-08-10T15:56:32.013Z"
   },
   {
    "duration": 240,
    "start_time": "2022-08-10T15:56:32.032Z"
   },
   {
    "duration": 3,
    "start_time": "2022-08-10T15:56:32.274Z"
   },
   {
    "duration": 2079,
    "start_time": "2022-08-10T15:56:32.278Z"
   },
   {
    "duration": 5,
    "start_time": "2022-08-10T15:56:34.359Z"
   },
   {
    "duration": 2119,
    "start_time": "2022-08-10T16:01:41.673Z"
   },
   {
    "duration": 21,
    "start_time": "2022-08-10T16:01:43.794Z"
   },
   {
    "duration": 235,
    "start_time": "2022-08-10T16:01:43.816Z"
   },
   {
    "duration": 3,
    "start_time": "2022-08-10T16:01:44.053Z"
   },
   {
    "duration": 1993,
    "start_time": "2022-08-10T16:01:44.057Z"
   },
   {
    "duration": 3,
    "start_time": "2022-08-10T16:01:46.051Z"
   },
   {
    "duration": 2103,
    "start_time": "2022-08-10T16:28:31.880Z"
   },
   {
    "duration": 16,
    "start_time": "2022-08-10T16:28:33.985Z"
   },
   {
    "duration": 241,
    "start_time": "2022-08-10T16:28:34.002Z"
   },
   {
    "duration": 2,
    "start_time": "2022-08-10T16:28:34.245Z"
   },
   {
    "duration": 2010,
    "start_time": "2022-08-10T16:28:34.249Z"
   },
   {
    "duration": 2,
    "start_time": "2022-08-10T16:28:36.261Z"
   },
   {
    "duration": 58438,
    "start_time": "2022-08-10T16:28:36.265Z"
   },
   {
    "duration": 2001,
    "start_time": "2022-08-10T16:35:15.732Z"
   },
   {
    "duration": 16,
    "start_time": "2022-08-10T16:35:17.735Z"
   },
   {
    "duration": 237,
    "start_time": "2022-08-10T16:35:17.752Z"
   },
   {
    "duration": 3,
    "start_time": "2022-08-10T16:35:17.990Z"
   },
   {
    "duration": 2031,
    "start_time": "2022-08-10T16:35:17.994Z"
   },
   {
    "duration": 3,
    "start_time": "2022-08-10T16:35:20.027Z"
   },
   {
    "duration": 21,
    "start_time": "2022-08-10T16:35:20.031Z"
   },
   {
    "duration": 63055,
    "start_time": "2022-08-10T16:35:20.054Z"
   },
   {
    "duration": 2004,
    "start_time": "2022-08-10T16:38:27.722Z"
   },
   {
    "duration": 16,
    "start_time": "2022-08-10T16:38:29.728Z"
   },
   {
    "duration": 248,
    "start_time": "2022-08-10T16:38:29.746Z"
   },
   {
    "duration": 2,
    "start_time": "2022-08-10T16:38:29.996Z"
   },
   {
    "duration": 2451,
    "start_time": "2022-08-10T16:38:30.000Z"
   },
   {
    "duration": 2,
    "start_time": "2022-08-10T16:38:32.453Z"
   },
   {
    "duration": 10,
    "start_time": "2022-08-10T16:38:32.457Z"
   },
   {
    "duration": 64423,
    "start_time": "2022-08-10T16:38:32.468Z"
   },
   {
    "duration": 2063,
    "start_time": "2022-08-10T16:40:53.778Z"
   },
   {
    "duration": 16,
    "start_time": "2022-08-10T16:40:55.843Z"
   },
   {
    "duration": 242,
    "start_time": "2022-08-10T16:40:55.860Z"
   },
   {
    "duration": 7,
    "start_time": "2022-08-10T16:40:56.104Z"
   },
   {
    "duration": 2464,
    "start_time": "2022-08-10T16:40:56.113Z"
   },
   {
    "duration": 3,
    "start_time": "2022-08-10T16:40:58.579Z"
   },
   {
    "duration": 61268,
    "start_time": "2022-08-10T16:40:58.583Z"
   },
   {
    "duration": 1935,
    "start_time": "2022-08-10T16:53:53.582Z"
   },
   {
    "duration": 1776,
    "start_time": "2022-08-10T16:54:22.556Z"
   },
   {
    "duration": 60610,
    "start_time": "2022-08-10T16:54:43.858Z"
   },
   {
    "duration": 3446,
    "start_time": "2022-08-10T21:00:37.667Z"
   },
   {
    "duration": 16,
    "start_time": "2022-08-10T21:00:41.115Z"
   },
   {
    "duration": 30,
    "start_time": "2022-08-10T21:00:41.133Z"
   },
   {
    "duration": 218,
    "start_time": "2022-08-10T21:00:41.165Z"
   },
   {
    "duration": 2,
    "start_time": "2022-08-10T21:00:41.385Z"
   },
   {
    "duration": 2114,
    "start_time": "2022-08-10T21:00:41.388Z"
   },
   {
    "duration": 1190,
    "start_time": "2022-08-10T21:00:43.504Z"
   },
   {
    "duration": 0,
    "start_time": "2022-08-10T21:00:44.695Z"
   },
   {
    "duration": 1757,
    "start_time": "2022-08-10T21:05:52.105Z"
   },
   {
    "duration": 43,
    "start_time": "2022-08-10T21:06:20.228Z"
   },
   {
    "duration": 15,
    "start_time": "2022-08-10T21:06:41.841Z"
   },
   {
    "duration": 17,
    "start_time": "2022-08-10T21:06:50.385Z"
   },
   {
    "duration": 10,
    "start_time": "2022-08-10T21:07:34.041Z"
   },
   {
    "duration": 1986,
    "start_time": "2022-08-10T21:15:41.600Z"
   },
   {
    "duration": 19,
    "start_time": "2022-08-10T21:15:43.588Z"
   },
   {
    "duration": 32,
    "start_time": "2022-08-10T21:15:43.608Z"
   },
   {
    "duration": 239,
    "start_time": "2022-08-10T21:15:43.642Z"
   },
   {
    "duration": 3,
    "start_time": "2022-08-10T21:15:43.882Z"
   },
   {
    "duration": 2088,
    "start_time": "2022-08-10T21:15:43.886Z"
   },
   {
    "duration": 2,
    "start_time": "2022-08-10T21:15:45.976Z"
   },
   {
    "duration": 6,
    "start_time": "2022-08-10T21:15:45.979Z"
   },
   {
    "duration": 58185,
    "start_time": "2022-08-10T21:15:45.986Z"
   },
   {
    "duration": 5,
    "start_time": "2022-08-10T21:16:44.173Z"
   },
   {
    "duration": 3,
    "start_time": "2022-08-10T21:18:08.245Z"
   },
   {
    "duration": 3,
    "start_time": "2022-08-10T21:19:32.118Z"
   },
   {
    "duration": 4,
    "start_time": "2022-08-10T21:19:47.130Z"
   },
   {
    "duration": 4,
    "start_time": "2022-08-10T21:20:05.182Z"
   },
   {
    "duration": 3,
    "start_time": "2022-08-10T21:20:44.254Z"
   },
   {
    "duration": 1946,
    "start_time": "2022-08-10T21:21:23.675Z"
   },
   {
    "duration": 17,
    "start_time": "2022-08-10T21:21:25.623Z"
   },
   {
    "duration": 35,
    "start_time": "2022-08-10T21:21:25.642Z"
   },
   {
    "duration": 235,
    "start_time": "2022-08-10T21:21:25.679Z"
   },
   {
    "duration": 3,
    "start_time": "2022-08-10T21:21:25.915Z"
   },
   {
    "duration": 2076,
    "start_time": "2022-08-10T21:21:25.919Z"
   },
   {
    "duration": 4,
    "start_time": "2022-08-10T21:21:27.999Z"
   },
   {
    "duration": 55113,
    "start_time": "2022-08-10T21:21:28.004Z"
   },
   {
    "duration": 5,
    "start_time": "2022-08-10T21:22:23.119Z"
   },
   {
    "duration": 4,
    "start_time": "2022-08-10T21:22:50.023Z"
   },
   {
    "duration": 4,
    "start_time": "2022-08-10T21:23:22.269Z"
   },
   {
    "duration": 3,
    "start_time": "2022-08-10T21:23:28.083Z"
   },
   {
    "duration": 4,
    "start_time": "2022-08-10T21:23:39.665Z"
   },
   {
    "duration": 5,
    "start_time": "2022-08-10T21:24:32.779Z"
   },
   {
    "duration": 9,
    "start_time": "2022-08-10T21:24:40.722Z"
   },
   {
    "duration": 4,
    "start_time": "2022-08-10T21:25:15.174Z"
   },
   {
    "duration": 4882,
    "start_time": "2022-08-11T14:22:15.279Z"
   },
   {
    "duration": 20,
    "start_time": "2022-08-11T14:22:20.163Z"
   },
   {
    "duration": 35,
    "start_time": "2022-08-11T14:22:20.185Z"
   },
   {
    "duration": 250,
    "start_time": "2022-08-11T14:22:20.223Z"
   },
   {
    "duration": 4,
    "start_time": "2022-08-11T14:22:20.475Z"
   },
   {
    "duration": 2734,
    "start_time": "2022-08-11T14:22:20.480Z"
   },
   {
    "duration": 3,
    "start_time": "2022-08-11T14:22:23.215Z"
   },
   {
    "duration": 69707,
    "start_time": "2022-08-11T14:22:23.220Z"
   },
   {
    "duration": 4,
    "start_time": "2022-08-11T14:23:32.929Z"
   },
   {
    "duration": 135,
    "start_time": "2022-08-11T14:23:32.936Z"
   },
   {
    "duration": 0,
    "start_time": "2022-08-11T14:23:33.073Z"
   },
   {
    "duration": 0,
    "start_time": "2022-08-11T14:23:33.075Z"
   },
   {
    "duration": 0,
    "start_time": "2022-08-11T14:23:33.077Z"
   },
   {
    "duration": 0,
    "start_time": "2022-08-11T14:23:33.078Z"
   },
   {
    "duration": 0,
    "start_time": "2022-08-11T14:23:33.092Z"
   },
   {
    "duration": 0,
    "start_time": "2022-08-11T14:23:33.094Z"
   },
   {
    "duration": 0,
    "start_time": "2022-08-11T14:23:33.095Z"
   },
   {
    "duration": 0,
    "start_time": "2022-08-11T14:23:33.096Z"
   },
   {
    "duration": 0,
    "start_time": "2022-08-11T14:23:33.097Z"
   },
   {
    "duration": 1501,
    "start_time": "2022-08-11T14:27:07.180Z"
   },
   {
    "duration": 945,
    "start_time": "2022-08-11T14:27:08.683Z"
   },
   {
    "duration": 21,
    "start_time": "2022-08-11T14:27:09.629Z"
   },
   {
    "duration": 43,
    "start_time": "2022-08-11T14:27:09.652Z"
   },
   {
    "duration": 250,
    "start_time": "2022-08-11T14:27:09.697Z"
   },
   {
    "duration": 3,
    "start_time": "2022-08-11T14:27:09.949Z"
   },
   {
    "duration": 2735,
    "start_time": "2022-08-11T14:27:09.954Z"
   },
   {
    "duration": 3,
    "start_time": "2022-08-11T14:27:12.692Z"
   },
   {
    "duration": 69072,
    "start_time": "2022-08-11T14:27:12.697Z"
   },
   {
    "duration": 5,
    "start_time": "2022-08-11T14:28:21.772Z"
   },
   {
    "duration": 57,
    "start_time": "2022-08-11T14:28:21.779Z"
   },
   {
    "duration": 2112,
    "start_time": "2022-08-11T14:28:21.839Z"
   },
   {
    "duration": 397,
    "start_time": "2022-08-11T14:28:23.953Z"
   },
   {
    "duration": 9984,
    "start_time": "2022-08-11T14:28:24.352Z"
   },
   {
    "duration": 75,
    "start_time": "2022-08-11T14:28:34.338Z"
   },
   {
    "duration": 0,
    "start_time": "2022-08-11T14:28:34.415Z"
   },
   {
    "duration": 0,
    "start_time": "2022-08-11T14:28:34.417Z"
   },
   {
    "duration": 0,
    "start_time": "2022-08-11T14:28:34.418Z"
   },
   {
    "duration": 0,
    "start_time": "2022-08-11T14:28:34.420Z"
   },
   {
    "duration": 0,
    "start_time": "2022-08-11T14:28:34.421Z"
   },
   {
    "duration": 1439,
    "start_time": "2022-08-11T14:33:20.057Z"
   },
   {
    "duration": 999,
    "start_time": "2022-08-11T14:33:21.498Z"
   },
   {
    "duration": 20,
    "start_time": "2022-08-11T14:33:22.498Z"
   },
   {
    "duration": 36,
    "start_time": "2022-08-11T14:33:22.520Z"
   },
   {
    "duration": 253,
    "start_time": "2022-08-11T14:33:22.558Z"
   },
   {
    "duration": 3,
    "start_time": "2022-08-11T14:33:22.814Z"
   },
   {
    "duration": 2659,
    "start_time": "2022-08-11T14:33:22.819Z"
   },
   {
    "duration": 12,
    "start_time": "2022-08-11T14:33:25.480Z"
   },
   {
    "duration": 69084,
    "start_time": "2022-08-11T14:33:25.494Z"
   },
   {
    "duration": 4,
    "start_time": "2022-08-11T14:34:34.581Z"
   },
   {
    "duration": 49,
    "start_time": "2022-08-11T14:34:34.592Z"
   },
   {
    "duration": 2162,
    "start_time": "2022-08-11T14:34:34.643Z"
   },
   {
    "duration": 184,
    "start_time": "2022-08-11T14:34:36.807Z"
   },
   {
    "duration": 10310,
    "start_time": "2022-08-11T14:34:36.993Z"
   },
   {
    "duration": 301706,
    "start_time": "2022-08-11T14:34:47.305Z"
   },
   {
    "duration": 0,
    "start_time": "2022-08-11T14:39:49.012Z"
   },
   {
    "duration": 0,
    "start_time": "2022-08-11T14:39:49.014Z"
   },
   {
    "duration": 0,
    "start_time": "2022-08-11T14:39:49.015Z"
   },
   {
    "duration": 0,
    "start_time": "2022-08-11T14:39:49.016Z"
   },
   {
    "duration": 0,
    "start_time": "2022-08-11T14:39:49.017Z"
   },
   {
    "duration": 1453,
    "start_time": "2022-08-11T14:40:53.812Z"
   },
   {
    "duration": 917,
    "start_time": "2022-08-11T14:40:55.267Z"
   },
   {
    "duration": 19,
    "start_time": "2022-08-11T14:40:56.186Z"
   },
   {
    "duration": 36,
    "start_time": "2022-08-11T14:40:56.206Z"
   },
   {
    "duration": 253,
    "start_time": "2022-08-11T14:40:56.245Z"
   },
   {
    "duration": 3,
    "start_time": "2022-08-11T14:40:56.500Z"
   },
   {
    "duration": 2657,
    "start_time": "2022-08-11T14:40:56.505Z"
   },
   {
    "duration": 3,
    "start_time": "2022-08-11T14:40:59.163Z"
   },
   {
    "duration": 69508,
    "start_time": "2022-08-11T14:40:59.168Z"
   },
   {
    "duration": 13,
    "start_time": "2022-08-11T14:42:08.678Z"
   },
   {
    "duration": 49,
    "start_time": "2022-08-11T14:42:08.693Z"
   },
   {
    "duration": 2175,
    "start_time": "2022-08-11T14:42:08.743Z"
   },
   {
    "duration": 242,
    "start_time": "2022-08-11T14:42:10.920Z"
   },
   {
    "duration": 10318,
    "start_time": "2022-08-11T14:42:11.165Z"
   },
   {
    "duration": 300507,
    "start_time": "2022-08-11T14:42:21.485Z"
   },
   {
    "duration": 164,
    "start_time": "2022-08-11T14:47:21.994Z"
   },
   {
    "duration": 0,
    "start_time": "2022-08-11T14:47:22.160Z"
   },
   {
    "duration": 0,
    "start_time": "2022-08-11T14:47:22.161Z"
   },
   {
    "duration": 0,
    "start_time": "2022-08-11T14:47:22.162Z"
   },
   {
    "duration": 0,
    "start_time": "2022-08-11T14:47:22.163Z"
   },
   {
    "duration": 431750,
    "start_time": "2022-08-11T14:48:08.090Z"
   },
   {
    "duration": 17,
    "start_time": "2022-08-11T14:57:34.911Z"
   },
   {
    "duration": 295,
    "start_time": "2022-08-11T14:57:37.784Z"
   },
   {
    "duration": 17,
    "start_time": "2022-08-11T14:57:40.972Z"
   },
   {
    "duration": 23,
    "start_time": "2022-08-11T14:58:25.584Z"
   },
   {
    "duration": 8,
    "start_time": "2022-08-11T14:58:28.990Z"
   },
   {
    "duration": 18,
    "start_time": "2022-08-11T15:02:47.125Z"
   },
   {
    "duration": 21,
    "start_time": "2022-08-11T15:03:16.909Z"
   },
   {
    "duration": 23,
    "start_time": "2022-08-11T15:04:06.791Z"
   },
   {
    "duration": 28,
    "start_time": "2022-08-11T15:05:06.005Z"
   },
   {
    "duration": 27,
    "start_time": "2022-08-11T15:05:24.665Z"
   },
   {
    "duration": 9,
    "start_time": "2022-08-11T15:05:29.190Z"
   },
   {
    "duration": 23,
    "start_time": "2022-08-11T15:08:41.389Z"
   },
   {
    "duration": 8,
    "start_time": "2022-08-11T15:08:44.853Z"
   },
   {
    "duration": 1462,
    "start_time": "2022-08-11T15:20:26.170Z"
   },
   {
    "duration": 928,
    "start_time": "2022-08-11T15:20:27.634Z"
   },
   {
    "duration": 20,
    "start_time": "2022-08-11T15:20:28.563Z"
   },
   {
    "duration": 35,
    "start_time": "2022-08-11T15:20:28.591Z"
   },
   {
    "duration": 253,
    "start_time": "2022-08-11T15:20:28.628Z"
   },
   {
    "duration": 2,
    "start_time": "2022-08-11T15:20:28.883Z"
   },
   {
    "duration": 97326,
    "start_time": "2022-08-11T15:20:28.891Z"
   },
   {
    "duration": 3,
    "start_time": "2022-08-11T15:22:06.219Z"
   },
   {
    "duration": 2401,
    "start_time": "2022-08-11T15:22:06.224Z"
   },
   {
    "duration": 4,
    "start_time": "2022-08-11T15:22:08.628Z"
   },
   {
    "duration": 38,
    "start_time": "2022-08-11T15:22:08.633Z"
   },
   {
    "duration": 2190,
    "start_time": "2022-08-11T15:22:08.673Z"
   },
   {
    "duration": 250,
    "start_time": "2022-08-11T15:22:10.865Z"
   },
   {
    "duration": 10139,
    "start_time": "2022-08-11T15:22:11.117Z"
   },
   {
    "duration": 297635,
    "start_time": "2022-08-11T15:22:21.258Z"
   },
   {
    "duration": 87538,
    "start_time": "2022-08-11T15:27:18.896Z"
   },
   {
    "duration": 17,
    "start_time": "2022-08-11T15:28:46.437Z"
   },
   {
    "duration": 191,
    "start_time": "2022-08-11T15:28:46.456Z"
   },
   {
    "duration": 19,
    "start_time": "2022-08-11T15:28:46.649Z"
   },
   {
    "duration": 21,
    "start_time": "2022-08-11T15:28:46.670Z"
   },
   {
    "duration": 83,
    "start_time": "2022-08-11T15:31:47.416Z"
   },
   {
    "duration": 1240,
    "start_time": "2022-08-12T12:30:21.353Z"
   },
   {
    "duration": 2208,
    "start_time": "2022-08-12T12:30:22.595Z"
   },
   {
    "duration": 17,
    "start_time": "2022-08-12T12:30:24.805Z"
   },
   {
    "duration": 38,
    "start_time": "2022-08-12T12:30:24.824Z"
   },
   {
    "duration": 224,
    "start_time": "2022-08-12T12:30:24.864Z"
   },
   {
    "duration": 2,
    "start_time": "2022-08-12T12:30:25.090Z"
   },
   {
    "duration": 3,
    "start_time": "2022-08-12T12:30:25.099Z"
   },
   {
    "duration": 116226,
    "start_time": "2022-08-12T12:30:25.103Z"
   },
   {
    "duration": 4,
    "start_time": "2022-08-12T12:32:21.331Z"
   },
   {
    "duration": 2042,
    "start_time": "2022-08-12T12:32:21.338Z"
   },
   {
    "duration": 3,
    "start_time": "2022-08-12T12:32:23.382Z"
   },
   {
    "duration": 1303,
    "start_time": "2022-08-12T12:53:41.901Z"
   },
   {
    "duration": 799,
    "start_time": "2022-08-12T12:53:43.206Z"
   },
   {
    "duration": 20,
    "start_time": "2022-08-12T12:53:44.006Z"
   },
   {
    "duration": 39,
    "start_time": "2022-08-12T12:53:44.028Z"
   },
   {
    "duration": 244,
    "start_time": "2022-08-12T12:53:44.069Z"
   },
   {
    "duration": 2,
    "start_time": "2022-08-12T12:53:44.315Z"
   },
   {
    "duration": 12,
    "start_time": "2022-08-12T12:53:44.319Z"
   },
   {
    "duration": 113469,
    "start_time": "2022-08-12T12:53:44.332Z"
   },
   {
    "duration": 3,
    "start_time": "2022-08-12T12:55:37.803Z"
   },
   {
    "duration": 1926,
    "start_time": "2022-08-12T12:55:37.810Z"
   },
   {
    "duration": 4,
    "start_time": "2022-08-12T12:55:39.737Z"
   },
   {
    "duration": 57,
    "start_time": "2022-08-12T12:55:39.743Z"
   },
   {
    "duration": 3,
    "start_time": "2022-08-12T12:55:39.801Z"
   },
   {
    "duration": 305,
    "start_time": "2022-08-12T12:55:39.805Z"
   },
   {
    "duration": 6419,
    "start_time": "2022-08-12T12:55:40.112Z"
   },
   {
    "duration": 112,
    "start_time": "2022-08-12T12:55:46.533Z"
   },
   {
    "duration": 0,
    "start_time": "2022-08-12T12:55:46.646Z"
   },
   {
    "duration": 0,
    "start_time": "2022-08-12T12:55:46.647Z"
   },
   {
    "duration": 0,
    "start_time": "2022-08-12T12:55:46.648Z"
   },
   {
    "duration": 0,
    "start_time": "2022-08-12T12:55:46.650Z"
   },
   {
    "duration": 0,
    "start_time": "2022-08-12T12:55:46.651Z"
   },
   {
    "duration": 0,
    "start_time": "2022-08-12T12:55:46.652Z"
   },
   {
    "duration": 1358,
    "start_time": "2022-08-12T12:56:30.584Z"
   },
   {
    "duration": 801,
    "start_time": "2022-08-12T12:56:31.944Z"
   },
   {
    "duration": 18,
    "start_time": "2022-08-12T12:56:32.746Z"
   },
   {
    "duration": 47,
    "start_time": "2022-08-12T12:56:32.766Z"
   },
   {
    "duration": 236,
    "start_time": "2022-08-12T12:56:32.815Z"
   },
   {
    "duration": 2,
    "start_time": "2022-08-12T12:56:33.053Z"
   },
   {
    "duration": 10,
    "start_time": "2022-08-12T12:56:33.056Z"
   },
   {
    "duration": 114033,
    "start_time": "2022-08-12T12:56:33.068Z"
   },
   {
    "duration": 3,
    "start_time": "2022-08-12T12:58:27.103Z"
   },
   {
    "duration": 1875,
    "start_time": "2022-08-12T12:58:27.108Z"
   },
   {
    "duration": 4,
    "start_time": "2022-08-12T12:58:28.986Z"
   },
   {
    "duration": 61,
    "start_time": "2022-08-12T12:58:28.992Z"
   },
   {
    "duration": 3,
    "start_time": "2022-08-12T12:58:29.055Z"
   },
   {
    "duration": 196,
    "start_time": "2022-08-12T12:58:29.061Z"
   },
   {
    "duration": 6226,
    "start_time": "2022-08-12T12:58:29.259Z"
   },
   {
    "duration": 2,
    "start_time": "2022-08-12T12:58:35.487Z"
   },
   {
    "duration": 243736,
    "start_time": "2022-08-12T12:58:35.490Z"
   },
   {
    "duration": 43656,
    "start_time": "2022-08-12T13:02:39.301Z"
   },
   {
    "duration": 16,
    "start_time": "2022-08-12T13:03:22.959Z"
   },
   {
    "duration": 185,
    "start_time": "2022-08-12T13:03:22.977Z"
   },
   {
    "duration": 17,
    "start_time": "2022-08-12T13:03:23.164Z"
   },
   {
    "duration": 22,
    "start_time": "2022-08-12T13:03:23.183Z"
   },
   {
    "duration": 1346,
    "start_time": "2022-08-13T13:36:43.411Z"
   },
   {
    "duration": 2576,
    "start_time": "2022-08-13T13:36:44.758Z"
   },
   {
    "duration": 28,
    "start_time": "2022-08-13T13:36:47.337Z"
   },
   {
    "duration": 46,
    "start_time": "2022-08-13T13:36:47.369Z"
   },
   {
    "duration": 258,
    "start_time": "2022-08-13T13:36:47.417Z"
   },
   {
    "duration": 3,
    "start_time": "2022-08-13T13:36:47.677Z"
   },
   {
    "duration": 12,
    "start_time": "2022-08-13T13:36:47.682Z"
   },
   {
    "duration": 118825,
    "start_time": "2022-08-13T13:36:47.696Z"
   },
   {
    "duration": 4,
    "start_time": "2022-08-13T13:38:46.523Z"
   },
   {
    "duration": 2015,
    "start_time": "2022-08-13T13:38:46.529Z"
   },
   {
    "duration": 4,
    "start_time": "2022-08-13T13:38:48.546Z"
   },
   {
    "duration": 29,
    "start_time": "2022-08-13T13:38:48.551Z"
   },
   {
    "duration": 2,
    "start_time": "2022-08-13T13:38:48.581Z"
   },
   {
    "duration": 313,
    "start_time": "2022-08-13T13:38:48.585Z"
   },
   {
    "duration": 6241,
    "start_time": "2022-08-13T13:38:48.899Z"
   },
   {
    "duration": 3,
    "start_time": "2022-08-13T13:38:55.142Z"
   },
   {
    "duration": 0,
    "start_time": "2022-08-13T13:38:55.147Z"
   },
   {
    "duration": 0,
    "start_time": "2022-08-13T13:38:55.148Z"
   },
   {
    "duration": 0,
    "start_time": "2022-08-13T13:38:55.149Z"
   },
   {
    "duration": 0,
    "start_time": "2022-08-13T13:38:55.150Z"
   },
   {
    "duration": 0,
    "start_time": "2022-08-13T13:38:55.151Z"
   },
   {
    "duration": 0,
    "start_time": "2022-08-13T13:38:55.152Z"
   },
   {
    "duration": 0,
    "start_time": "2022-08-13T13:38:55.153Z"
   },
   {
    "duration": 108,
    "start_time": "2022-08-13T13:40:20.125Z"
   },
   {
    "duration": 0,
    "start_time": "2022-08-13T13:40:20.235Z"
   },
   {
    "duration": 0,
    "start_time": "2022-08-13T13:40:20.236Z"
   },
   {
    "duration": 0,
    "start_time": "2022-08-13T13:40:20.237Z"
   },
   {
    "duration": 0,
    "start_time": "2022-08-13T13:40:20.238Z"
   },
   {
    "duration": 0,
    "start_time": "2022-08-13T13:40:20.239Z"
   },
   {
    "duration": 0,
    "start_time": "2022-08-13T13:40:20.240Z"
   },
   {
    "duration": 0,
    "start_time": "2022-08-13T13:40:20.241Z"
   },
   {
    "duration": 1296,
    "start_time": "2022-08-13T13:42:51.185Z"
   },
   {
    "duration": 794,
    "start_time": "2022-08-13T13:42:52.483Z"
   },
   {
    "duration": 17,
    "start_time": "2022-08-13T13:42:53.279Z"
   },
   {
    "duration": 30,
    "start_time": "2022-08-13T13:42:53.308Z"
   },
   {
    "duration": 218,
    "start_time": "2022-08-13T13:42:53.339Z"
   },
   {
    "duration": 2,
    "start_time": "2022-08-13T13:42:53.559Z"
   },
   {
    "duration": 5,
    "start_time": "2022-08-13T13:42:53.563Z"
   },
   {
    "duration": 122386,
    "start_time": "2022-08-13T13:42:53.569Z"
   },
   {
    "duration": 4,
    "start_time": "2022-08-13T13:44:55.957Z"
   },
   {
    "duration": 2046,
    "start_time": "2022-08-13T13:44:55.963Z"
   },
   {
    "duration": 4,
    "start_time": "2022-08-13T13:44:58.010Z"
   },
   {
    "duration": 35,
    "start_time": "2022-08-13T13:44:58.016Z"
   },
   {
    "duration": 2,
    "start_time": "2022-08-13T13:44:58.053Z"
   },
   {
    "duration": 150,
    "start_time": "2022-08-13T13:44:58.057Z"
   },
   {
    "duration": 6480,
    "start_time": "2022-08-13T13:44:58.208Z"
   },
   {
    "duration": 113,
    "start_time": "2022-08-13T13:45:04.690Z"
   },
   {
    "duration": 0,
    "start_time": "2022-08-13T13:45:04.808Z"
   },
   {
    "duration": 0,
    "start_time": "2022-08-13T13:45:04.809Z"
   },
   {
    "duration": 0,
    "start_time": "2022-08-13T13:45:04.810Z"
   },
   {
    "duration": 0,
    "start_time": "2022-08-13T13:45:04.811Z"
   },
   {
    "duration": 0,
    "start_time": "2022-08-13T13:45:04.812Z"
   },
   {
    "duration": 0,
    "start_time": "2022-08-13T13:45:04.813Z"
   },
   {
    "duration": 0,
    "start_time": "2022-08-13T13:45:04.814Z"
   },
   {
    "duration": 1225,
    "start_time": "2022-08-13T13:47:39.771Z"
   },
   {
    "duration": 819,
    "start_time": "2022-08-13T13:47:40.999Z"
   },
   {
    "duration": 16,
    "start_time": "2022-08-13T13:47:41.820Z"
   },
   {
    "duration": 30,
    "start_time": "2022-08-13T13:47:41.837Z"
   },
   {
    "duration": 231,
    "start_time": "2022-08-13T13:47:41.869Z"
   },
   {
    "duration": 8,
    "start_time": "2022-08-13T13:47:42.101Z"
   },
   {
    "duration": 6,
    "start_time": "2022-08-13T13:47:42.110Z"
   },
   {
    "duration": 118436,
    "start_time": "2022-08-13T13:47:42.118Z"
   },
   {
    "duration": 2,
    "start_time": "2022-08-13T13:49:40.556Z"
   },
   {
    "duration": 1960,
    "start_time": "2022-08-13T13:49:40.561Z"
   },
   {
    "duration": 3,
    "start_time": "2022-08-13T13:49:42.523Z"
   },
   {
    "duration": 28,
    "start_time": "2022-08-13T13:49:42.528Z"
   },
   {
    "duration": 2,
    "start_time": "2022-08-13T13:49:42.557Z"
   },
   {
    "duration": 121,
    "start_time": "2022-08-13T13:49:42.561Z"
   },
   {
    "duration": 6134,
    "start_time": "2022-08-13T13:49:42.683Z"
   },
   {
    "duration": 3,
    "start_time": "2022-08-13T13:49:48.818Z"
   },
   {
    "duration": 124,
    "start_time": "2022-08-13T13:49:48.822Z"
   },
   {
    "duration": 0,
    "start_time": "2022-08-13T13:49:48.947Z"
   },
   {
    "duration": 0,
    "start_time": "2022-08-13T13:49:48.949Z"
   },
   {
    "duration": 0,
    "start_time": "2022-08-13T13:49:48.949Z"
   },
   {
    "duration": 0,
    "start_time": "2022-08-13T13:49:48.950Z"
   },
   {
    "duration": 0,
    "start_time": "2022-08-13T13:49:48.951Z"
   },
   {
    "duration": 0,
    "start_time": "2022-08-13T13:49:48.952Z"
   },
   {
    "duration": 1342,
    "start_time": "2022-08-14T22:11:24.233Z"
   },
   {
    "duration": 2337,
    "start_time": "2022-08-14T22:11:25.577Z"
   },
   {
    "duration": 23,
    "start_time": "2022-08-14T22:11:27.916Z"
   },
   {
    "duration": 41,
    "start_time": "2022-08-14T22:11:27.940Z"
   },
   {
    "duration": 234,
    "start_time": "2022-08-14T22:11:27.983Z"
   },
   {
    "duration": 3,
    "start_time": "2022-08-14T22:11:28.219Z"
   },
   {
    "duration": 6,
    "start_time": "2022-08-14T22:11:28.223Z"
   },
   {
    "duration": 121552,
    "start_time": "2022-08-14T22:11:28.231Z"
   },
   {
    "duration": 3,
    "start_time": "2022-08-14T22:13:29.785Z"
   },
   {
    "duration": 2097,
    "start_time": "2022-08-14T22:13:29.790Z"
   },
   {
    "duration": 5,
    "start_time": "2022-08-14T22:13:31.889Z"
   },
   {
    "duration": 40,
    "start_time": "2022-08-14T22:13:31.906Z"
   },
   {
    "duration": 3,
    "start_time": "2022-08-14T22:13:31.947Z"
   },
   {
    "duration": 371,
    "start_time": "2022-08-14T22:13:31.952Z"
   },
   {
    "duration": 6951,
    "start_time": "2022-08-14T22:13:32.325Z"
   },
   {
    "duration": 3,
    "start_time": "2022-08-14T22:13:39.278Z"
   },
   {
    "duration": 166,
    "start_time": "2022-08-14T22:13:39.283Z"
   },
   {
    "duration": 0,
    "start_time": "2022-08-14T22:13:39.451Z"
   },
   {
    "duration": 0,
    "start_time": "2022-08-14T22:13:39.453Z"
   },
   {
    "duration": 0,
    "start_time": "2022-08-14T22:13:39.454Z"
   },
   {
    "duration": 0,
    "start_time": "2022-08-14T22:13:39.456Z"
   },
   {
    "duration": 0,
    "start_time": "2022-08-14T22:13:39.457Z"
   },
   {
    "duration": 0,
    "start_time": "2022-08-14T22:13:39.458Z"
   },
   {
    "duration": 3,
    "start_time": "2022-08-14T22:15:25.741Z"
   },
   {
    "duration": 21,
    "start_time": "2022-08-14T22:15:30.350Z"
   },
   {
    "duration": 4,
    "start_time": "2022-08-14T22:22:32.617Z"
   },
   {
    "duration": 37,
    "start_time": "2022-08-14T22:22:34.816Z"
   },
   {
    "duration": 54,
    "start_time": "2022-08-14T22:23:13.362Z"
   },
   {
    "duration": 9,
    "start_time": "2022-08-14T22:24:29.626Z"
   },
   {
    "duration": 3,
    "start_time": "2022-08-14T22:24:41.800Z"
   },
   {
    "duration": 17,
    "start_time": "2022-08-14T22:25:04.671Z"
   },
   {
    "duration": 41,
    "start_time": "2022-08-14T22:25:19.490Z"
   },
   {
    "duration": 3,
    "start_time": "2022-08-14T22:31:24.317Z"
   },
   {
    "duration": 36,
    "start_time": "2022-08-14T22:31:27.610Z"
   },
   {
    "duration": 136,
    "start_time": "2022-08-14T22:32:09.077Z"
   },
   {
    "duration": 1435,
    "start_time": "2022-08-14T22:35:08.807Z"
   },
   {
    "duration": 945,
    "start_time": "2022-08-14T22:35:10.247Z"
   },
   {
    "duration": 33,
    "start_time": "2022-08-14T22:35:11.194Z"
   },
   {
    "duration": 54,
    "start_time": "2022-08-14T22:35:11.230Z"
   },
   {
    "duration": 269,
    "start_time": "2022-08-14T22:35:11.285Z"
   },
   {
    "duration": 3,
    "start_time": "2022-08-14T22:35:11.556Z"
   },
   {
    "duration": 6,
    "start_time": "2022-08-14T22:35:11.560Z"
   },
   {
    "duration": 122013,
    "start_time": "2022-08-14T22:35:11.568Z"
   },
   {
    "duration": 3,
    "start_time": "2022-08-14T22:37:13.583Z"
   },
   {
    "duration": 2194,
    "start_time": "2022-08-14T22:37:13.589Z"
   },
   {
    "duration": 4,
    "start_time": "2022-08-14T22:37:15.785Z"
   },
   {
    "duration": 46,
    "start_time": "2022-08-14T22:37:15.800Z"
   },
   {
    "duration": 2,
    "start_time": "2022-08-14T22:37:15.848Z"
   },
   {
    "duration": 118,
    "start_time": "2022-08-14T22:37:15.852Z"
   },
   {
    "duration": 6781,
    "start_time": "2022-08-14T22:37:15.971Z"
   },
   {
    "duration": 3,
    "start_time": "2022-08-14T22:37:22.754Z"
   },
   {
    "duration": 222,
    "start_time": "2022-08-14T22:37:22.759Z"
   },
   {
    "duration": 0,
    "start_time": "2022-08-14T22:37:22.983Z"
   },
   {
    "duration": 0,
    "start_time": "2022-08-14T22:37:22.985Z"
   },
   {
    "duration": 0,
    "start_time": "2022-08-14T22:37:22.986Z"
   },
   {
    "duration": 0,
    "start_time": "2022-08-14T22:37:22.988Z"
   },
   {
    "duration": 0,
    "start_time": "2022-08-14T22:37:22.989Z"
   },
   {
    "duration": 0,
    "start_time": "2022-08-14T22:37:22.990Z"
   },
   {
    "duration": 1273,
    "start_time": "2022-08-14T22:42:51.673Z"
   },
   {
    "duration": 802,
    "start_time": "2022-08-14T22:42:52.948Z"
   },
   {
    "duration": 17,
    "start_time": "2022-08-14T22:42:53.752Z"
   },
   {
    "duration": 48,
    "start_time": "2022-08-14T22:42:53.770Z"
   },
   {
    "duration": 249,
    "start_time": "2022-08-14T22:42:53.820Z"
   },
   {
    "duration": 3,
    "start_time": "2022-08-14T22:42:54.070Z"
   },
   {
    "duration": 4,
    "start_time": "2022-08-14T22:42:54.079Z"
   },
   {
    "duration": 120940,
    "start_time": "2022-08-14T22:42:54.084Z"
   },
   {
    "duration": 4,
    "start_time": "2022-08-14T22:44:55.026Z"
   },
   {
    "duration": 2101,
    "start_time": "2022-08-14T22:44:55.033Z"
   },
   {
    "duration": 3,
    "start_time": "2022-08-14T22:44:57.136Z"
   },
   {
    "duration": 31,
    "start_time": "2022-08-14T22:44:57.141Z"
   },
   {
    "duration": 2024,
    "start_time": "2022-08-14T22:44:57.174Z"
   },
   {
    "duration": 233,
    "start_time": "2022-08-14T22:44:59.202Z"
   },
   {
    "duration": 9215,
    "start_time": "2022-08-14T22:44:59.437Z"
   },
   {
    "duration": 3,
    "start_time": "2022-08-14T22:45:08.654Z"
   },
   {
    "duration": 212,
    "start_time": "2022-08-14T22:45:08.658Z"
   },
   {
    "duration": 0,
    "start_time": "2022-08-14T22:45:08.872Z"
   },
   {
    "duration": 0,
    "start_time": "2022-08-14T22:45:08.874Z"
   },
   {
    "duration": 1,
    "start_time": "2022-08-14T22:45:08.875Z"
   },
   {
    "duration": 0,
    "start_time": "2022-08-14T22:45:08.877Z"
   },
   {
    "duration": 0,
    "start_time": "2022-08-14T22:45:08.878Z"
   },
   {
    "duration": 0,
    "start_time": "2022-08-14T22:45:08.879Z"
   },
   {
    "duration": 103,
    "start_time": "2022-08-14T22:52:55.415Z"
   },
   {
    "duration": 99,
    "start_time": "2022-08-14T22:53:04.677Z"
   },
   {
    "duration": 107,
    "start_time": "2022-08-14T22:53:13.287Z"
   },
   {
    "duration": 5,
    "start_time": "2022-08-14T22:54:08.703Z"
   },
   {
    "duration": 288676,
    "start_time": "2022-08-14T22:54:11.729Z"
   },
   {
    "duration": 3,
    "start_time": "2022-08-14T22:59:37.939Z"
   },
   {
    "duration": 79821,
    "start_time": "2022-08-14T22:59:40.279Z"
   },
   {
    "duration": 52,
    "start_time": "2022-08-14T23:01:00.108Z"
   },
   {
    "duration": 185,
    "start_time": "2022-08-14T23:01:00.161Z"
   },
   {
    "duration": 16,
    "start_time": "2022-08-14T23:01:00.348Z"
   },
   {
    "duration": 20,
    "start_time": "2022-08-14T23:01:00.365Z"
   },
   {
    "duration": 1586,
    "start_time": "2022-08-16T10:30:57.486Z"
   },
   {
    "duration": 1071,
    "start_time": "2022-08-16T10:30:59.074Z"
   },
   {
    "duration": 18,
    "start_time": "2022-08-16T10:31:00.147Z"
   },
   {
    "duration": 44,
    "start_time": "2022-08-16T10:31:00.166Z"
   },
   {
    "duration": 240,
    "start_time": "2022-08-16T10:31:00.211Z"
   },
   {
    "duration": 2,
    "start_time": "2022-08-16T10:31:00.453Z"
   },
   {
    "duration": 23,
    "start_time": "2022-08-16T10:31:00.457Z"
   },
   {
    "duration": 11,
    "start_time": "2022-08-16T10:31:00.482Z"
   },
   {
    "duration": 534,
    "start_time": "2022-08-16T10:31:00.495Z"
   },
   {
    "duration": 0,
    "start_time": "2022-08-16T10:31:01.031Z"
   },
   {
    "duration": 0,
    "start_time": "2022-08-16T10:31:01.032Z"
   },
   {
    "duration": 0,
    "start_time": "2022-08-16T10:31:01.033Z"
   },
   {
    "duration": 0,
    "start_time": "2022-08-16T10:31:01.035Z"
   },
   {
    "duration": 0,
    "start_time": "2022-08-16T10:31:01.036Z"
   },
   {
    "duration": 0,
    "start_time": "2022-08-16T10:31:01.037Z"
   },
   {
    "duration": 1,
    "start_time": "2022-08-16T10:31:01.037Z"
   },
   {
    "duration": 0,
    "start_time": "2022-08-16T10:31:01.039Z"
   },
   {
    "duration": 0,
    "start_time": "2022-08-16T10:31:01.041Z"
   },
   {
    "duration": 0,
    "start_time": "2022-08-16T10:31:01.042Z"
   },
   {
    "duration": 0,
    "start_time": "2022-08-16T10:31:01.044Z"
   },
   {
    "duration": 0,
    "start_time": "2022-08-16T10:31:01.046Z"
   },
   {
    "duration": 0,
    "start_time": "2022-08-16T10:31:01.047Z"
   },
   {
    "duration": 0,
    "start_time": "2022-08-16T10:31:01.048Z"
   },
   {
    "duration": 0,
    "start_time": "2022-08-16T10:31:01.050Z"
   },
   {
    "duration": 4,
    "start_time": "2022-08-16T10:34:48.224Z"
   },
   {
    "duration": 306,
    "start_time": "2022-08-16T10:34:52.218Z"
   },
   {
    "duration": 1269,
    "start_time": "2022-08-16T10:35:48.137Z"
   },
   {
    "duration": 779,
    "start_time": "2022-08-16T10:35:49.408Z"
   },
   {
    "duration": 20,
    "start_time": "2022-08-16T10:35:50.188Z"
   },
   {
    "duration": 41,
    "start_time": "2022-08-16T10:35:50.210Z"
   },
   {
    "duration": 229,
    "start_time": "2022-08-16T10:35:50.252Z"
   },
   {
    "duration": 2,
    "start_time": "2022-08-16T10:35:50.482Z"
   },
   {
    "duration": 619,
    "start_time": "2022-08-16T10:35:50.485Z"
   },
   {
    "duration": 3,
    "start_time": "2022-08-16T10:35:51.106Z"
   },
   {
    "duration": 6,
    "start_time": "2022-08-16T10:35:51.111Z"
   },
   {
    "duration": 1231123,
    "start_time": "2022-08-16T10:35:51.119Z"
   },
   {
    "duration": 2,
    "start_time": "2022-08-16T10:56:22.244Z"
   },
   {
    "duration": 1943,
    "start_time": "2022-08-16T10:56:22.248Z"
   },
   {
    "duration": 12,
    "start_time": "2022-08-16T10:56:24.193Z"
   },
   {
    "duration": 38,
    "start_time": "2022-08-16T10:56:24.214Z"
   },
   {
    "duration": 3,
    "start_time": "2022-08-16T10:56:24.253Z"
   },
   {
    "duration": 12,
    "start_time": "2022-08-16T10:56:24.257Z"
   },
   {
    "duration": 6714,
    "start_time": "2022-08-16T10:56:24.270Z"
   },
   {
    "duration": 4,
    "start_time": "2022-08-16T10:56:30.986Z"
   },
   {
    "duration": 293316,
    "start_time": "2022-08-16T10:56:30.991Z"
   },
   {
    "duration": 7,
    "start_time": "2022-08-16T11:01:24.309Z"
   },
   {
    "duration": 85540,
    "start_time": "2022-08-16T11:01:24.318Z"
   },
   {
    "duration": 72,
    "start_time": "2022-08-16T11:02:49.860Z"
   },
   {
    "duration": 237,
    "start_time": "2022-08-16T11:02:49.934Z"
   },
   {
    "duration": 14,
    "start_time": "2022-08-16T11:02:50.173Z"
   },
   {
    "duration": 14,
    "start_time": "2022-08-16T11:02:50.189Z"
   },
   {
    "duration": 4,
    "start_time": "2022-08-16T11:10:59.986Z"
   },
   {
    "duration": 47,
    "start_time": "2022-08-16T11:11:21.145Z"
   },
   {
    "duration": 1287,
    "start_time": "2022-10-28T15:51:07.869Z"
   },
   {
    "duration": 4338,
    "start_time": "2022-10-28T15:51:09.158Z"
   },
   {
    "duration": 17,
    "start_time": "2022-10-28T15:51:13.498Z"
   },
   {
    "duration": 34,
    "start_time": "2022-10-28T15:51:13.517Z"
   },
   {
    "duration": 227,
    "start_time": "2022-10-28T15:51:13.553Z"
   },
   {
    "duration": 2,
    "start_time": "2022-10-28T15:51:13.781Z"
   },
   {
    "duration": 719,
    "start_time": "2022-10-28T15:51:13.785Z"
   },
   {
    "duration": 4,
    "start_time": "2022-10-28T15:51:14.505Z"
   },
   {
    "duration": 23,
    "start_time": "2022-10-28T15:51:14.510Z"
   },
   {
    "duration": 1165291,
    "start_time": "2022-10-28T15:51:14.535Z"
   },
   {
    "duration": 3,
    "start_time": "2022-10-28T16:10:39.827Z"
   },
   {
    "duration": 1979,
    "start_time": "2022-10-28T16:10:39.832Z"
   },
   {
    "duration": 4,
    "start_time": "2022-10-28T16:10:41.813Z"
   },
   {
    "duration": 29,
    "start_time": "2022-10-28T16:10:41.819Z"
   },
   {
    "duration": 2,
    "start_time": "2022-10-28T16:10:41.850Z"
   },
   {
    "duration": 11,
    "start_time": "2022-10-28T16:10:41.854Z"
   },
   {
    "duration": 6076,
    "start_time": "2022-10-28T16:10:41.867Z"
   },
   {
    "duration": 4,
    "start_time": "2022-10-28T16:10:47.944Z"
   },
   {
    "duration": 222356,
    "start_time": "2022-10-28T16:10:47.950Z"
   },
   {
    "duration": 4,
    "start_time": "2022-10-28T16:14:30.308Z"
   },
   {
    "duration": 78317,
    "start_time": "2022-10-28T16:14:30.314Z"
   },
   {
    "duration": 44,
    "start_time": "2022-10-28T16:15:48.633Z"
   },
   {
    "duration": 193,
    "start_time": "2022-10-28T16:15:48.679Z"
   },
   {
    "duration": 15,
    "start_time": "2022-10-28T16:15:48.874Z"
   },
   {
    "duration": 19,
    "start_time": "2022-10-28T16:15:48.890Z"
   },
   {
    "duration": 18,
    "start_time": "2022-10-28T16:17:23.125Z"
   },
   {
    "duration": 4,
    "start_time": "2022-10-28T16:25:42.644Z"
   },
   {
    "duration": 110,
    "start_time": "2022-10-28T16:26:00.968Z"
   },
   {
    "duration": 4,
    "start_time": "2022-10-28T16:26:35.306Z"
   },
   {
    "duration": 14,
    "start_time": "2022-10-28T16:33:47.058Z"
   },
   {
    "duration": 20,
    "start_time": "2022-10-28T16:34:05.763Z"
   },
   {
    "duration": 16,
    "start_time": "2022-10-28T16:34:12.604Z"
   },
   {
    "duration": 13,
    "start_time": "2022-10-28T16:41:23.888Z"
   },
   {
    "duration": 10,
    "start_time": "2022-10-28T16:41:38.952Z"
   },
   {
    "duration": 11,
    "start_time": "2022-10-28T16:44:25.755Z"
   },
   {
    "duration": 15,
    "start_time": "2022-10-28T16:44:34.168Z"
   },
   {
    "duration": 16,
    "start_time": "2022-10-28T16:47:34.620Z"
   },
   {
    "duration": 15,
    "start_time": "2022-10-28T16:48:41.926Z"
   },
   {
    "duration": 15,
    "start_time": "2022-10-28T16:48:44.891Z"
   },
   {
    "duration": 7,
    "start_time": "2022-10-28T16:55:45.791Z"
   },
   {
    "duration": 1257,
    "start_time": "2022-10-28T16:56:09.011Z"
   },
   {
    "duration": 1110,
    "start_time": "2022-10-28T16:56:10.269Z"
   },
   {
    "duration": 16,
    "start_time": "2022-10-28T16:56:11.380Z"
   },
   {
    "duration": 31,
    "start_time": "2022-10-28T16:56:11.398Z"
   },
   {
    "duration": 259,
    "start_time": "2022-10-28T16:56:11.431Z"
   },
   {
    "duration": 2,
    "start_time": "2022-10-28T16:56:11.692Z"
   },
   {
    "duration": 193,
    "start_time": "2022-10-28T16:56:11.696Z"
   },
   {
    "duration": 4,
    "start_time": "2022-10-28T16:56:11.891Z"
   },
   {
    "duration": 5,
    "start_time": "2022-10-28T16:56:11.897Z"
   },
   {
    "duration": 1115859,
    "start_time": "2022-10-28T16:56:11.905Z"
   },
   {
    "duration": 3,
    "start_time": "2022-10-28T17:14:47.766Z"
   },
   {
    "duration": 1845,
    "start_time": "2022-10-28T17:14:47.770Z"
   },
   {
    "duration": 3,
    "start_time": "2022-10-28T17:14:49.617Z"
   },
   {
    "duration": 46,
    "start_time": "2022-10-28T17:14:49.621Z"
   },
   {
    "duration": 2,
    "start_time": "2022-10-28T17:14:49.668Z"
   },
   {
    "duration": 28,
    "start_time": "2022-10-28T17:14:49.672Z"
   },
   {
    "duration": 5861,
    "start_time": "2022-10-28T17:14:49.701Z"
   },
   {
    "duration": 3,
    "start_time": "2022-10-28T17:14:55.564Z"
   },
   {
    "duration": 225146,
    "start_time": "2022-10-28T17:14:55.568Z"
   },
   {
    "duration": 3,
    "start_time": "2022-10-28T17:18:40.715Z"
   },
   {
    "duration": 75816,
    "start_time": "2022-10-28T17:18:40.720Z"
   },
   {
    "duration": 43,
    "start_time": "2022-10-28T17:19:56.537Z"
   },
   {
    "duration": 179,
    "start_time": "2022-10-28T17:19:56.581Z"
   },
   {
    "duration": 15,
    "start_time": "2022-10-28T17:19:56.761Z"
   },
   {
    "duration": 7,
    "start_time": "2022-10-28T17:19:56.778Z"
   },
   {
    "duration": 5,
    "start_time": "2022-10-28T17:19:56.805Z"
   },
   {
    "duration": 1268,
    "start_time": "2022-10-28T18:01:23.049Z"
   },
   {
    "duration": 856,
    "start_time": "2022-10-28T18:01:24.319Z"
   },
   {
    "duration": 18,
    "start_time": "2022-10-28T18:01:25.176Z"
   },
   {
    "duration": 36,
    "start_time": "2022-10-28T18:01:25.197Z"
   },
   {
    "duration": 230,
    "start_time": "2022-10-28T18:01:25.235Z"
   },
   {
    "duration": 3,
    "start_time": "2022-10-28T18:01:25.467Z"
   },
   {
    "duration": 198,
    "start_time": "2022-10-28T18:01:25.471Z"
   },
   {
    "duration": 4,
    "start_time": "2022-10-28T18:01:25.671Z"
   },
   {
    "duration": 10,
    "start_time": "2022-10-28T18:01:25.677Z"
   },
   {
    "duration": 442756,
    "start_time": "2022-10-28T18:01:25.690Z"
   },
   {
    "duration": 0,
    "start_time": "2022-10-28T18:08:48.448Z"
   },
   {
    "duration": 0,
    "start_time": "2022-10-28T18:08:48.449Z"
   },
   {
    "duration": 0,
    "start_time": "2022-10-28T18:08:48.450Z"
   },
   {
    "duration": 0,
    "start_time": "2022-10-28T18:08:48.451Z"
   },
   {
    "duration": 0,
    "start_time": "2022-10-28T18:08:48.452Z"
   },
   {
    "duration": 0,
    "start_time": "2022-10-28T18:08:48.454Z"
   },
   {
    "duration": 0,
    "start_time": "2022-10-28T18:08:48.455Z"
   },
   {
    "duration": 0,
    "start_time": "2022-10-28T18:08:48.457Z"
   },
   {
    "duration": 0,
    "start_time": "2022-10-28T18:08:48.458Z"
   },
   {
    "duration": 0,
    "start_time": "2022-10-28T18:08:48.459Z"
   },
   {
    "duration": 0,
    "start_time": "2022-10-28T18:08:48.461Z"
   },
   {
    "duration": 0,
    "start_time": "2022-10-28T18:08:48.462Z"
   },
   {
    "duration": 0,
    "start_time": "2022-10-28T18:08:48.463Z"
   },
   {
    "duration": 0,
    "start_time": "2022-10-28T18:08:48.463Z"
   },
   {
    "duration": 0,
    "start_time": "2022-10-28T18:08:48.465Z"
   },
   {
    "duration": 1276,
    "start_time": "2022-10-28T18:10:30.193Z"
   },
   {
    "duration": 793,
    "start_time": "2022-10-28T18:10:31.471Z"
   },
   {
    "duration": 19,
    "start_time": "2022-10-28T18:10:32.267Z"
   },
   {
    "duration": 43,
    "start_time": "2022-10-28T18:10:32.288Z"
   },
   {
    "duration": 230,
    "start_time": "2022-10-28T18:10:32.333Z"
   },
   {
    "duration": 2,
    "start_time": "2022-10-28T18:10:32.564Z"
   },
   {
    "duration": 159,
    "start_time": "2022-10-28T18:10:32.567Z"
   },
   {
    "duration": 4,
    "start_time": "2022-10-28T18:10:32.727Z"
   },
   {
    "duration": 6,
    "start_time": "2022-10-28T18:10:32.732Z"
   },
   {
    "duration": 1151381,
    "start_time": "2022-10-28T18:10:32.740Z"
   },
   {
    "duration": 2,
    "start_time": "2022-10-28T18:29:44.123Z"
   },
   {
    "duration": 1931,
    "start_time": "2022-10-28T18:29:44.127Z"
   },
   {
    "duration": 3,
    "start_time": "2022-10-28T18:29:46.060Z"
   },
   {
    "duration": 29,
    "start_time": "2022-10-28T18:29:46.065Z"
   },
   {
    "duration": 19,
    "start_time": "2022-10-28T18:29:46.096Z"
   },
   {
    "duration": 12,
    "start_time": "2022-10-28T18:29:46.116Z"
   },
   {
    "duration": 6250,
    "start_time": "2022-10-28T18:29:46.130Z"
   },
   {
    "duration": 3,
    "start_time": "2022-10-28T18:29:52.382Z"
   },
   {
    "duration": 133,
    "start_time": "2022-10-28T18:29:52.387Z"
   },
   {
    "duration": 0,
    "start_time": "2022-10-28T18:29:52.522Z"
   },
   {
    "duration": 0,
    "start_time": "2022-10-28T18:29:52.523Z"
   },
   {
    "duration": 0,
    "start_time": "2022-10-28T18:29:52.524Z"
   },
   {
    "duration": 0,
    "start_time": "2022-10-28T18:29:52.525Z"
   },
   {
    "duration": 0,
    "start_time": "2022-10-28T18:29:52.526Z"
   },
   {
    "duration": 0,
    "start_time": "2022-10-28T18:29:52.527Z"
   },
   {
    "duration": 0,
    "start_time": "2022-10-28T18:29:52.527Z"
   },
   {
    "duration": 5,
    "start_time": "2022-10-28T18:34:47.832Z"
   },
   {
    "duration": 1222,
    "start_time": "2022-10-28T19:20:25.356Z"
   },
   {
    "duration": 814,
    "start_time": "2022-10-28T19:20:26.580Z"
   },
   {
    "duration": 34,
    "start_time": "2022-10-28T19:20:27.397Z"
   },
   {
    "duration": 48,
    "start_time": "2022-10-28T19:20:27.433Z"
   },
   {
    "duration": 257,
    "start_time": "2022-10-28T19:20:27.483Z"
   },
   {
    "duration": 2,
    "start_time": "2022-10-28T19:20:27.742Z"
   },
   {
    "duration": 236,
    "start_time": "2022-10-28T19:20:27.745Z"
   },
   {
    "duration": 4,
    "start_time": "2022-10-28T19:20:27.983Z"
   },
   {
    "duration": 7,
    "start_time": "2022-10-28T19:20:27.989Z"
   },
   {
    "duration": 1304,
    "start_time": "2022-10-28T19:21:09.823Z"
   },
   {
    "duration": 852,
    "start_time": "2022-10-28T19:21:11.129Z"
   },
   {
    "duration": 24,
    "start_time": "2022-10-28T19:21:11.983Z"
   },
   {
    "duration": 32,
    "start_time": "2022-10-28T19:21:12.018Z"
   },
   {
    "duration": 240,
    "start_time": "2022-10-28T19:21:12.052Z"
   },
   {
    "duration": 2,
    "start_time": "2022-10-28T19:21:12.294Z"
   },
   {
    "duration": 239,
    "start_time": "2022-10-28T19:21:12.311Z"
   },
   {
    "duration": 4,
    "start_time": "2022-10-28T19:21:12.552Z"
   },
   {
    "duration": 6,
    "start_time": "2022-10-28T19:21:12.557Z"
   },
   {
    "duration": 1201685,
    "start_time": "2022-10-28T19:21:12.566Z"
   },
   {
    "duration": 2,
    "start_time": "2022-10-28T19:41:14.253Z"
   },
   {
    "duration": 1904,
    "start_time": "2022-10-28T19:41:14.257Z"
   },
   {
    "duration": 4,
    "start_time": "2022-10-28T19:41:16.163Z"
   },
   {
    "duration": 37,
    "start_time": "2022-10-28T19:41:16.169Z"
   },
   {
    "duration": 9,
    "start_time": "2022-10-28T19:41:16.209Z"
   },
   {
    "duration": 10,
    "start_time": "2022-10-28T19:41:16.221Z"
   },
   {
    "duration": 6530,
    "start_time": "2022-10-28T19:41:16.232Z"
   },
   {
    "duration": 3,
    "start_time": "2022-10-28T19:41:22.764Z"
   },
   {
    "duration": 37644,
    "start_time": "2022-10-28T19:41:22.768Z"
   },
   {
    "duration": 0,
    "start_time": "2022-10-28T19:42:00.415Z"
   },
   {
    "duration": 0,
    "start_time": "2022-10-28T19:42:00.415Z"
   },
   {
    "duration": 0,
    "start_time": "2022-10-28T19:42:00.418Z"
   },
   {
    "duration": 0,
    "start_time": "2022-10-28T19:42:00.419Z"
   },
   {
    "duration": 0,
    "start_time": "2022-10-28T19:42:00.420Z"
   },
   {
    "duration": 0,
    "start_time": "2022-10-28T19:42:00.420Z"
   },
   {
    "duration": 0,
    "start_time": "2022-10-28T19:42:00.422Z"
   },
   {
    "duration": 1235,
    "start_time": "2022-10-28T19:42:32.983Z"
   },
   {
    "duration": 798,
    "start_time": "2022-10-28T19:42:34.222Z"
   },
   {
    "duration": 17,
    "start_time": "2022-10-28T19:42:35.021Z"
   },
   {
    "duration": 32,
    "start_time": "2022-10-28T19:42:35.041Z"
   },
   {
    "duration": 241,
    "start_time": "2022-10-28T19:42:35.075Z"
   },
   {
    "duration": 165,
    "start_time": "2022-10-28T19:42:35.318Z"
   },
   {
    "duration": 4,
    "start_time": "2022-10-28T19:42:35.484Z"
   },
   {
    "duration": 6,
    "start_time": "2022-10-28T19:42:35.489Z"
   },
   {
    "duration": 1191470,
    "start_time": "2022-10-28T19:42:35.496Z"
   },
   {
    "duration": 2,
    "start_time": "2022-10-28T20:02:26.970Z"
   },
   {
    "duration": 1980,
    "start_time": "2022-10-28T20:02:26.974Z"
   },
   {
    "duration": 4,
    "start_time": "2022-10-28T20:02:28.956Z"
   },
   {
    "duration": 27,
    "start_time": "2022-10-28T20:02:28.961Z"
   },
   {
    "duration": 29,
    "start_time": "2022-10-28T20:02:28.989Z"
   },
   {
    "duration": 6400,
    "start_time": "2022-10-28T20:02:29.020Z"
   },
   {
    "duration": 3,
    "start_time": "2022-10-28T20:02:35.423Z"
   },
   {
    "duration": 1240082,
    "start_time": "2022-10-28T20:02:35.427Z"
   },
   {
    "duration": 4,
    "start_time": "2022-10-28T20:23:15.511Z"
   },
   {
    "duration": 161186,
    "start_time": "2022-10-28T20:23:15.517Z"
   },
   {
    "duration": 44,
    "start_time": "2022-10-28T20:25:56.705Z"
   },
   {
    "duration": 166,
    "start_time": "2022-10-28T20:25:56.751Z"
   },
   {
    "duration": 33,
    "start_time": "2022-10-28T20:25:56.919Z"
   },
   {
    "duration": 15,
    "start_time": "2022-10-28T20:25:56.953Z"
   },
   {
    "duration": 7,
    "start_time": "2022-10-28T20:25:56.969Z"
   },
   {
    "duration": 33,
    "start_time": "2022-10-28T20:43:40.108Z"
   },
   {
    "duration": 1376,
    "start_time": "2022-10-29T07:36:08.878Z"
   },
   {
    "duration": 2465,
    "start_time": "2022-10-29T07:36:10.256Z"
   },
   {
    "duration": 25,
    "start_time": "2022-10-29T07:36:12.723Z"
   },
   {
    "duration": 37,
    "start_time": "2022-10-29T07:36:12.753Z"
   },
   {
    "duration": 255,
    "start_time": "2022-10-29T07:36:12.791Z"
   },
   {
    "duration": 510,
    "start_time": "2022-10-29T07:36:13.048Z"
   },
   {
    "duration": 5,
    "start_time": "2022-10-29T07:36:13.561Z"
   },
   {
    "duration": 8,
    "start_time": "2022-10-29T07:36:13.568Z"
   },
   {
    "duration": 1305891,
    "start_time": "2022-10-29T07:36:13.578Z"
   },
   {
    "duration": 4,
    "start_time": "2022-10-29T07:57:59.472Z"
   },
   {
    "duration": 2074,
    "start_time": "2022-10-29T07:57:59.478Z"
   },
   {
    "duration": 6,
    "start_time": "2022-10-29T07:58:01.554Z"
   },
   {
    "duration": 102,
    "start_time": "2022-10-29T07:58:01.562Z"
   },
   {
    "duration": 40,
    "start_time": "2022-10-29T07:58:01.666Z"
   },
   {
    "duration": 6955,
    "start_time": "2022-10-29T07:58:01.709Z"
   },
   {
    "duration": 3,
    "start_time": "2022-10-29T07:58:08.666Z"
   },
   {
    "duration": 1356489,
    "start_time": "2022-10-29T07:58:08.671Z"
   },
   {
    "duration": 92,
    "start_time": "2022-10-29T08:20:45.163Z"
   },
   {
    "duration": 6219930,
    "start_time": "2022-10-29T08:20:45.257Z"
   },
   {
    "duration": 71,
    "start_time": "2022-10-29T10:04:25.189Z"
   },
   {
    "duration": 2136,
    "start_time": "2022-10-29T10:04:25.262Z"
   },
   {
    "duration": 56,
    "start_time": "2022-10-29T10:04:27.399Z"
   },
   {
    "duration": 19,
    "start_time": "2022-10-29T10:04:27.457Z"
   },
   {
    "duration": 8,
    "start_time": "2022-10-29T10:04:27.477Z"
   }
  ],
  "kernelspec": {
   "display_name": "Python 3 (ipykernel)",
   "language": "python",
   "name": "python3"
  },
  "language_info": {
   "codemirror_mode": {
    "name": "ipython",
    "version": 3
   },
   "file_extension": ".py",
   "mimetype": "text/x-python",
   "name": "python",
   "nbconvert_exporter": "python",
   "pygments_lexer": "ipython3",
   "version": "3.9.13"
  },
  "toc": {
   "base_numbering": 1,
   "nav_menu": {},
   "number_sections": true,
   "sideBar": true,
   "skip_h1_title": true,
   "title_cell": "Table of Contents",
   "title_sidebar": "Contents",
   "toc_cell": true,
   "toc_position": {
    "height": "calc(100% - 180px)",
    "left": "10px",
    "top": "150px",
    "width": "302.391px"
   },
   "toc_section_display": true,
   "toc_window_display": true
  }
 },
 "nbformat": 4,
 "nbformat_minor": 2
}
