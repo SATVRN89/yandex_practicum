{
 "cells": [
  {
   "cell_type": "markdown",
   "metadata": {},
   "source": [
    "# Car price prediction"
   ]
  },
  {
   "cell_type": "markdown",
   "metadata": {},
   "source": [
    "### Project description\n",
    "\n",
    "Used car sales service is developing app to attract new customers. In this app one can quickly find out market price of cars. Service want model to be built to predict cost of cars.\n",
    "\n",
    "Service is interested in:\n",
    "\n",
    "- quality of prediction;\n",
    "- speed of prediction;\n",
    "- time required for training\n",
    "\n",
    "Key metric **RMSE** should have value under **2500**"
   ]
  },
  {
   "cell_type": "markdown",
   "metadata": {},
   "source": [
    "### Work plan\n",
    "\n",
    "- Load data\n",
    "- Data preprocessing\n",
    "- Models learning. One of model should be **LGBMRegressor**\n",
    "- Learning and prediction time analysis, model quality check\n",
    "- Conclusion"
   ]
  },
  {
   "cell_type": "markdown",
   "metadata": {},
   "source": [
    "## Load data"
   ]
  },
  {
   "cell_type": "code",
   "execution_count": 1,
   "metadata": {},
   "outputs": [],
   "source": [
    "import pandas as pd\n",
    "import numpy as np\n",
    "import seaborn as sns\n",
    "import matplotlib.pyplot as plt\n",
    "\n",
    "import time\n",
    "import warnings                   \n",
    "warnings.filterwarnings('ignore')\n",
    "\n",
    "from sklearn.preprocessing import OrdinalEncoder, StandardScaler\n",
    "\n",
    "from sklearn.metrics import mean_squared_error\n",
    "from sklearn.metrics import make_scorer\n",
    "\n",
    "from sklearn.linear_model import LinearRegression\n",
    "from sklearn.tree import DecisionTreeRegressor\n",
    "from sklearn.dummy import DummyRegressor\n",
    "from lightgbm import LGBMRegressor\n",
    "\n",
    "from sklearn.model_selection import GridSearchCV\n",
    "from sklearn.model_selection import train_test_split\n",
    "\n",
    "STATE = np.random.RandomState(3101)\n",
    "\n",
    "data = pd.read_csv('/datasets/autos.csv')"
   ]
  },
  {
   "cell_type": "markdown",
   "metadata": {},
   "source": [
    "## Data preprocessing"
   ]
  },
  {
   "cell_type": "code",
   "execution_count": 2,
   "metadata": {},
   "outputs": [
    {
     "data": {
      "text/html": [
       "<div>\n",
       "<style scoped>\n",
       "    .dataframe tbody tr th:only-of-type {\n",
       "        vertical-align: middle;\n",
       "    }\n",
       "\n",
       "    .dataframe tbody tr th {\n",
       "        vertical-align: top;\n",
       "    }\n",
       "\n",
       "    .dataframe thead th {\n",
       "        text-align: right;\n",
       "    }\n",
       "</style>\n",
       "<table border=\"1\" class=\"dataframe\">\n",
       "  <thead>\n",
       "    <tr style=\"text-align: right;\">\n",
       "      <th></th>\n",
       "      <th>DateCrawled</th>\n",
       "      <th>Price</th>\n",
       "      <th>VehicleType</th>\n",
       "      <th>RegistrationYear</th>\n",
       "      <th>Gearbox</th>\n",
       "      <th>Power</th>\n",
       "      <th>Model</th>\n",
       "      <th>Kilometer</th>\n",
       "      <th>RegistrationMonth</th>\n",
       "      <th>FuelType</th>\n",
       "      <th>Brand</th>\n",
       "      <th>Repaired</th>\n",
       "      <th>DateCreated</th>\n",
       "      <th>NumberOfPictures</th>\n",
       "      <th>PostalCode</th>\n",
       "      <th>LastSeen</th>\n",
       "    </tr>\n",
       "  </thead>\n",
       "  <tbody>\n",
       "    <tr>\n",
       "      <th>4091</th>\n",
       "      <td>2016-03-08 08:54:11</td>\n",
       "      <td>1800</td>\n",
       "      <td>NaN</td>\n",
       "      <td>2017</td>\n",
       "      <td>manual</td>\n",
       "      <td>115</td>\n",
       "      <td>cooper</td>\n",
       "      <td>150000</td>\n",
       "      <td>1</td>\n",
       "      <td>NaN</td>\n",
       "      <td>mini</td>\n",
       "      <td>NaN</td>\n",
       "      <td>2016-03-08 00:00:00</td>\n",
       "      <td>0</td>\n",
       "      <td>66450</td>\n",
       "      <td>2016-03-08 08:54:11</td>\n",
       "    </tr>\n",
       "    <tr>\n",
       "      <th>226609</th>\n",
       "      <td>2016-04-03 11:58:35</td>\n",
       "      <td>4500</td>\n",
       "      <td>bus</td>\n",
       "      <td>2004</td>\n",
       "      <td>manual</td>\n",
       "      <td>116</td>\n",
       "      <td>touran</td>\n",
       "      <td>150000</td>\n",
       "      <td>4</td>\n",
       "      <td>petrol</td>\n",
       "      <td>volkswagen</td>\n",
       "      <td>no</td>\n",
       "      <td>2016-04-03 00:00:00</td>\n",
       "      <td>0</td>\n",
       "      <td>85599</td>\n",
       "      <td>2016-04-07 13:16:58</td>\n",
       "    </tr>\n",
       "    <tr>\n",
       "      <th>135200</th>\n",
       "      <td>2016-03-22 22:36:18</td>\n",
       "      <td>100</td>\n",
       "      <td>sedan</td>\n",
       "      <td>1994</td>\n",
       "      <td>manual</td>\n",
       "      <td>0</td>\n",
       "      <td>NaN</td>\n",
       "      <td>5000</td>\n",
       "      <td>0</td>\n",
       "      <td>petrol</td>\n",
       "      <td>opel</td>\n",
       "      <td>NaN</td>\n",
       "      <td>2016-03-22 00:00:00</td>\n",
       "      <td>0</td>\n",
       "      <td>3130</td>\n",
       "      <td>2016-03-25 22:47:00</td>\n",
       "    </tr>\n",
       "    <tr>\n",
       "      <th>96412</th>\n",
       "      <td>2016-04-05 11:50:00</td>\n",
       "      <td>6500</td>\n",
       "      <td>sedan</td>\n",
       "      <td>2001</td>\n",
       "      <td>manual</td>\n",
       "      <td>179</td>\n",
       "      <td>a4</td>\n",
       "      <td>150000</td>\n",
       "      <td>11</td>\n",
       "      <td>gasoline</td>\n",
       "      <td>audi</td>\n",
       "      <td>no</td>\n",
       "      <td>2016-04-05 00:00:00</td>\n",
       "      <td>0</td>\n",
       "      <td>53498</td>\n",
       "      <td>2016-04-05 11:50:00</td>\n",
       "    </tr>\n",
       "    <tr>\n",
       "      <th>192618</th>\n",
       "      <td>2016-03-12 19:52:11</td>\n",
       "      <td>12500</td>\n",
       "      <td>wagon</td>\n",
       "      <td>2009</td>\n",
       "      <td>manual</td>\n",
       "      <td>177</td>\n",
       "      <td>5er</td>\n",
       "      <td>150000</td>\n",
       "      <td>1</td>\n",
       "      <td>gasoline</td>\n",
       "      <td>bmw</td>\n",
       "      <td>yes</td>\n",
       "      <td>2016-03-12 00:00:00</td>\n",
       "      <td>0</td>\n",
       "      <td>87435</td>\n",
       "      <td>2016-04-05 12:21:09</td>\n",
       "    </tr>\n",
       "  </tbody>\n",
       "</table>\n",
       "</div>"
      ],
      "text/plain": [
       "                DateCrawled  Price VehicleType  RegistrationYear Gearbox  \\\n",
       "4091    2016-03-08 08:54:11   1800         NaN              2017  manual   \n",
       "226609  2016-04-03 11:58:35   4500         bus              2004  manual   \n",
       "135200  2016-03-22 22:36:18    100       sedan              1994  manual   \n",
       "96412   2016-04-05 11:50:00   6500       sedan              2001  manual   \n",
       "192618  2016-03-12 19:52:11  12500       wagon              2009  manual   \n",
       "\n",
       "        Power   Model  Kilometer  RegistrationMonth  FuelType       Brand  \\\n",
       "4091      115  cooper     150000                  1       NaN        mini   \n",
       "226609    116  touran     150000                  4    petrol  volkswagen   \n",
       "135200      0     NaN       5000                  0    petrol        opel   \n",
       "96412     179      a4     150000                 11  gasoline        audi   \n",
       "192618    177     5er     150000                  1  gasoline         bmw   \n",
       "\n",
       "       Repaired          DateCreated  NumberOfPictures  PostalCode  \\\n",
       "4091        NaN  2016-03-08 00:00:00                 0       66450   \n",
       "226609       no  2016-04-03 00:00:00                 0       85599   \n",
       "135200      NaN  2016-03-22 00:00:00                 0        3130   \n",
       "96412        no  2016-04-05 00:00:00                 0       53498   \n",
       "192618      yes  2016-03-12 00:00:00                 0       87435   \n",
       "\n",
       "                   LastSeen  \n",
       "4091    2016-03-08 08:54:11  \n",
       "226609  2016-04-07 13:16:58  \n",
       "135200  2016-03-25 22:47:00  \n",
       "96412   2016-04-05 11:50:00  \n",
       "192618  2016-04-05 12:21:09  "
      ]
     },
     "execution_count": 2,
     "metadata": {},
     "output_type": "execute_result"
    }
   ],
   "source": [
    "data.sample(5)"
   ]
  },
  {
   "cell_type": "code",
   "execution_count": 3,
   "metadata": {},
   "outputs": [
    {
     "name": "stdout",
     "output_type": "stream",
     "text": [
      "<class 'pandas.core.frame.DataFrame'>\n",
      "RangeIndex: 354369 entries, 0 to 354368\n",
      "Data columns (total 16 columns):\n",
      " #   Column             Non-Null Count   Dtype \n",
      "---  ------             --------------   ----- \n",
      " 0   DateCrawled        354369 non-null  object\n",
      " 1   Price              354369 non-null  int64 \n",
      " 2   VehicleType        316879 non-null  object\n",
      " 3   RegistrationYear   354369 non-null  int64 \n",
      " 4   Gearbox            334536 non-null  object\n",
      " 5   Power              354369 non-null  int64 \n",
      " 6   Model              334664 non-null  object\n",
      " 7   Kilometer          354369 non-null  int64 \n",
      " 8   RegistrationMonth  354369 non-null  int64 \n",
      " 9   FuelType           321474 non-null  object\n",
      " 10  Brand              354369 non-null  object\n",
      " 11  Repaired           283215 non-null  object\n",
      " 12  DateCreated        354369 non-null  object\n",
      " 13  NumberOfPictures   354369 non-null  int64 \n",
      " 14  PostalCode         354369 non-null  int64 \n",
      " 15  LastSeen           354369 non-null  object\n",
      "dtypes: int64(7), object(9)\n",
      "memory usage: 43.3+ MB\n"
     ]
    }
   ],
   "source": [
    "data.info()"
   ]
  },
  {
   "cell_type": "code",
   "execution_count": 4,
   "metadata": {},
   "outputs": [
    {
     "data": {
      "text/plain": [
       "DateCrawled              0\n",
       "Price                    0\n",
       "VehicleType          37490\n",
       "RegistrationYear         0\n",
       "Gearbox              19833\n",
       "Power                    0\n",
       "Model                19705\n",
       "Kilometer                0\n",
       "RegistrationMonth        0\n",
       "FuelType             32895\n",
       "Brand                    0\n",
       "Repaired             71154\n",
       "DateCreated              0\n",
       "NumberOfPictures         0\n",
       "PostalCode               0\n",
       "LastSeen                 0\n",
       "dtype: int64"
      ]
     },
     "execution_count": 4,
     "metadata": {},
     "output_type": "execute_result"
    }
   ],
   "source": [
    "data.isna().sum()"
   ]
  },
  {
   "cell_type": "code",
   "execution_count": 5,
   "metadata": {},
   "outputs": [
    {
     "data": {
      "text/html": [
       "<div>\n",
       "<style scoped>\n",
       "    .dataframe tbody tr th:only-of-type {\n",
       "        vertical-align: middle;\n",
       "    }\n",
       "\n",
       "    .dataframe tbody tr th {\n",
       "        vertical-align: top;\n",
       "    }\n",
       "\n",
       "    .dataframe thead th {\n",
       "        text-align: right;\n",
       "    }\n",
       "</style>\n",
       "<table border=\"1\" class=\"dataframe\">\n",
       "  <thead>\n",
       "    <tr style=\"text-align: right;\">\n",
       "      <th></th>\n",
       "      <th>Price</th>\n",
       "      <th>RegistrationYear</th>\n",
       "      <th>Power</th>\n",
       "      <th>Kilometer</th>\n",
       "      <th>RegistrationMonth</th>\n",
       "      <th>NumberOfPictures</th>\n",
       "      <th>PostalCode</th>\n",
       "    </tr>\n",
       "  </thead>\n",
       "  <tbody>\n",
       "    <tr>\n",
       "      <th>count</th>\n",
       "      <td>354369.000000</td>\n",
       "      <td>354369.000000</td>\n",
       "      <td>354369.000000</td>\n",
       "      <td>354369.000000</td>\n",
       "      <td>354369.000000</td>\n",
       "      <td>354369.0</td>\n",
       "      <td>354369.000000</td>\n",
       "    </tr>\n",
       "    <tr>\n",
       "      <th>mean</th>\n",
       "      <td>4416.656776</td>\n",
       "      <td>2004.234448</td>\n",
       "      <td>110.094337</td>\n",
       "      <td>128211.172535</td>\n",
       "      <td>5.714645</td>\n",
       "      <td>0.0</td>\n",
       "      <td>50508.689087</td>\n",
       "    </tr>\n",
       "    <tr>\n",
       "      <th>std</th>\n",
       "      <td>4514.158514</td>\n",
       "      <td>90.227958</td>\n",
       "      <td>189.850405</td>\n",
       "      <td>37905.341530</td>\n",
       "      <td>3.726421</td>\n",
       "      <td>0.0</td>\n",
       "      <td>25783.096248</td>\n",
       "    </tr>\n",
       "    <tr>\n",
       "      <th>min</th>\n",
       "      <td>0.000000</td>\n",
       "      <td>1000.000000</td>\n",
       "      <td>0.000000</td>\n",
       "      <td>5000.000000</td>\n",
       "      <td>0.000000</td>\n",
       "      <td>0.0</td>\n",
       "      <td>1067.000000</td>\n",
       "    </tr>\n",
       "    <tr>\n",
       "      <th>25%</th>\n",
       "      <td>1050.000000</td>\n",
       "      <td>1999.000000</td>\n",
       "      <td>69.000000</td>\n",
       "      <td>125000.000000</td>\n",
       "      <td>3.000000</td>\n",
       "      <td>0.0</td>\n",
       "      <td>30165.000000</td>\n",
       "    </tr>\n",
       "    <tr>\n",
       "      <th>50%</th>\n",
       "      <td>2700.000000</td>\n",
       "      <td>2003.000000</td>\n",
       "      <td>105.000000</td>\n",
       "      <td>150000.000000</td>\n",
       "      <td>6.000000</td>\n",
       "      <td>0.0</td>\n",
       "      <td>49413.000000</td>\n",
       "    </tr>\n",
       "    <tr>\n",
       "      <th>75%</th>\n",
       "      <td>6400.000000</td>\n",
       "      <td>2008.000000</td>\n",
       "      <td>143.000000</td>\n",
       "      <td>150000.000000</td>\n",
       "      <td>9.000000</td>\n",
       "      <td>0.0</td>\n",
       "      <td>71083.000000</td>\n",
       "    </tr>\n",
       "    <tr>\n",
       "      <th>max</th>\n",
       "      <td>20000.000000</td>\n",
       "      <td>9999.000000</td>\n",
       "      <td>20000.000000</td>\n",
       "      <td>150000.000000</td>\n",
       "      <td>12.000000</td>\n",
       "      <td>0.0</td>\n",
       "      <td>99998.000000</td>\n",
       "    </tr>\n",
       "  </tbody>\n",
       "</table>\n",
       "</div>"
      ],
      "text/plain": [
       "               Price  RegistrationYear          Power      Kilometer  \\\n",
       "count  354369.000000     354369.000000  354369.000000  354369.000000   \n",
       "mean     4416.656776       2004.234448     110.094337  128211.172535   \n",
       "std      4514.158514         90.227958     189.850405   37905.341530   \n",
       "min         0.000000       1000.000000       0.000000    5000.000000   \n",
       "25%      1050.000000       1999.000000      69.000000  125000.000000   \n",
       "50%      2700.000000       2003.000000     105.000000  150000.000000   \n",
       "75%      6400.000000       2008.000000     143.000000  150000.000000   \n",
       "max     20000.000000       9999.000000   20000.000000  150000.000000   \n",
       "\n",
       "       RegistrationMonth  NumberOfPictures     PostalCode  \n",
       "count      354369.000000          354369.0  354369.000000  \n",
       "mean            5.714645               0.0   50508.689087  \n",
       "std             3.726421               0.0   25783.096248  \n",
       "min             0.000000               0.0    1067.000000  \n",
       "25%             3.000000               0.0   30165.000000  \n",
       "50%             6.000000               0.0   49413.000000  \n",
       "75%             9.000000               0.0   71083.000000  \n",
       "max            12.000000               0.0   99998.000000  "
      ]
     },
     "execution_count": 5,
     "metadata": {},
     "output_type": "execute_result"
    }
   ],
   "source": [
    "data.describe()"
   ]
  },
  {
   "cell_type": "markdown",
   "metadata": {},
   "source": [
    "#### interim output\n",
    "- There are missing values in 5 features\n",
    "- `Price`, `RegistrationYear`, `Power` features have abnormal values\n",
    "- `NumberOfPictures` feature contains only zeros. Absolutely useless\n",
    "- `RegistrationMonth` feature contains zero month. Seems to be data-filling error"
   ]
  },
  {
   "cell_type": "markdown",
   "metadata": {},
   "source": [
    "Check duplicates"
   ]
  },
  {
   "cell_type": "code",
   "execution_count": 6,
   "metadata": {},
   "outputs": [
    {
     "data": {
      "text/plain": [
       "4"
      ]
     },
     "execution_count": 6,
     "metadata": {},
     "output_type": "execute_result"
    }
   ],
   "source": [
    "data.duplicated().sum()"
   ]
  },
  {
   "cell_type": "markdown",
   "metadata": {},
   "source": [
    "Drop them"
   ]
  },
  {
   "cell_type": "code",
   "execution_count": 7,
   "metadata": {},
   "outputs": [],
   "source": [
    "data = data.drop_duplicates()"
   ]
  },
  {
   "cell_type": "markdown",
   "metadata": {},
   "source": [
    "Check abnormal values"
   ]
  },
  {
   "cell_type": "code",
   "execution_count": 8,
   "metadata": {},
   "outputs": [],
   "source": [
    "def plot(column, l, m, ylabel, bins):\n",
    "    plt.figure(figsize=(6,6), dpi = 90)\n",
    "    sns.set_style(\"darkgrid\")\n",
    "    sns.boxplot(data=column, palette = 'pastel')\n",
    "    plt.ylim([l, m])\n",
    "    plt.ylabel(ylabel)\n",
    "    plt.show()\n",
    "    \n",
    "    column.hist(bins=bins, \n",
    "                figsize=(10,6)).set_xlim((l,m))\n",
    "    plt.xlabel(ylabel)\n",
    "    plt.ylabel('Quantity')"
   ]
  },
  {
   "cell_type": "code",
   "execution_count": 9,
   "metadata": {},
   "outputs": [
    {
     "data": {
      "image/png": "[encoded data removed]",
      "text/plain": [
       "<Figure size 540x540 with 1 Axes>"
      ]
     },
     "metadata": {
      "needs_background": "light"
     },
     "output_type": "display_data"
    },
    {
     "data": {
      "image/png": "[encoded data removed]",
      "text/plain": [
       "<Figure size 720x432 with 1 Axes>"
      ]
     },
     "metadata": {},
     "output_type": "display_data"
    }
   ],
   "source": [
    "plot(data['Power'], 0, 700, 'horsepower km/h', 1100)"
   ]
  },
  {
   "cell_type": "markdown",
   "metadata": {},
   "source": [
    "As boxplot shows in `Power` feature outliers start from about **255**. Looking at distribution there is large number of values gathered near **0**. But in my memory cars with power **500-600** hp are not rare, so we will remove emissions from **630** hp. Cars with **0**hp are unlikely to go anywhere. So we will delete **0** values too"
   ]
  },
  {
   "cell_type": "code",
   "execution_count": 10,
   "metadata": {},
   "outputs": [
    {
     "data": {
      "image/png": "[encoded data removed]",
      "text/plain": [
       "<Figure size 540x540 with 1 Axes>"
      ]
     },
     "metadata": {},
     "output_type": "display_data"
    },
    {
     "data": {
      "image/png": "[encoded data removed]",
      "text/plain": [
       "<Figure size 720x432 with 1 Axes>"
      ]
     },
     "metadata": {},
     "output_type": "display_data"
    }
   ],
   "source": [
    "plot(data['RegistrationYear'], 1900, 2020, 'year', 5000)"
   ]
  },
  {
   "cell_type": "markdown",
   "metadata": {},
   "source": [
    "In this case, we see that on boxplot there are abnormal values up to **1985**. Distribution shows some spike around **2019-2020**. But according to terms of project, we are in **2016**. So we can't sell cars produced later than **2016**. On distribution chart there is a small number of values near **1960**. Such oldtimers are often sold quite expensive. Let's limit bottom year to **1960** and top year to **2016**."
   ]
  },
  {
   "cell_type": "code",
   "execution_count": 11,
   "metadata": {},
   "outputs": [
    {
     "data": {
      "image/png": "[encoded data removed]",
      "text/plain": [
       "<Figure size 540x540 with 1 Axes>"
      ]
     },
     "metadata": {},
     "output_type": "display_data"
    },
    {
     "data": {
      "image/png": "[encoded data removed]",
      "text/plain": [
       "<Figure size 720x432 with 1 Axes>"
      ]
     },
     "metadata": {},
     "output_type": "display_data"
    }
   ],
   "source": [
    "plot(data['Price'], 0, 20000, 'price', 100)"
   ]
  },
  {
   "cell_type": "markdown",
   "metadata": {},
   "source": [
    "As boxplot shows in `Price` feature outliers start from about **14700**. Probably oldtimers or powerful luxury cars. Leave them. Distribution chart shows large number of values near **0**. We will get rid of these values. The essence of business is to sell, not to present."
   ]
  },
  {
   "cell_type": "markdown",
   "metadata": {},
   "source": [
    "Clean data"
   ]
  },
  {
   "cell_type": "code",
   "execution_count": 12,
   "metadata": {},
   "outputs": [],
   "source": [
    "data = data.loc[(data['Power'] >= 25) \n",
    "                & (data['Power'] <= 630)\n",
    "                & (data['RegistrationYear'] >= 1960) \n",
    "                & (data['RegistrationYear'] <= 2016)\n",
    "                & (data['Price'] != 0)]"
   ]
  },
  {
   "cell_type": "markdown",
   "metadata": {},
   "source": [
    "Check `DateCreated` feature for usefulness. Usually cars with longer period of selling have lower price."
   ]
  },
  {
   "cell_type": "code",
   "execution_count": 13,
   "metadata": {},
   "outputs": [
    {
     "data": {
      "text/plain": [
       "1         2016-03-24 00:00:00\n",
       "2         2016-03-14 00:00:00\n",
       "3         2016-03-17 00:00:00\n",
       "4         2016-03-31 00:00:00\n",
       "5         2016-04-04 00:00:00\n",
       "                 ...         \n",
       "354361    2016-03-09 00:00:00\n",
       "354362    2016-03-19 00:00:00\n",
       "354366    2016-03-05 00:00:00\n",
       "354367    2016-03-19 00:00:00\n",
       "354368    2016-03-20 00:00:00\n",
       "Name: DateCreated, Length: 295976, dtype: object"
      ]
     },
     "execution_count": 13,
     "metadata": {},
     "output_type": "execute_result"
    }
   ],
   "source": [
    "data['DateCreated']"
   ]
  },
  {
   "cell_type": "markdown",
   "metadata": {},
   "source": [
    "Feature is useless. Could be dropped"
   ]
  },
  {
   "cell_type": "code",
   "execution_count": 14,
   "metadata": {},
   "outputs": [],
   "source": [
    "data = data.drop(['DateCrawled', 'NumberOfPictures', 'PostalCode', 'LastSeen', 'DateCreated'], axis=1)"
   ]
  },
  {
   "cell_type": "markdown",
   "metadata": {},
   "source": [
    "Let's check duplicates once more"
   ]
  },
  {
   "cell_type": "code",
   "execution_count": 15,
   "metadata": {},
   "outputs": [
    {
     "data": {
      "text/plain": [
       "23131"
      ]
     },
     "execution_count": 15,
     "metadata": {},
     "output_type": "execute_result"
    }
   ],
   "source": [
    "data.duplicated().sum()"
   ]
  },
  {
   "cell_type": "markdown",
   "metadata": {},
   "source": [
    "Too much"
   ]
  },
  {
   "cell_type": "code",
   "execution_count": 16,
   "metadata": {},
   "outputs": [
    {
     "data": {
      "text/html": [
       "<div>\n",
       "<style scoped>\n",
       "    .dataframe tbody tr th:only-of-type {\n",
       "        vertical-align: middle;\n",
       "    }\n",
       "\n",
       "    .dataframe tbody tr th {\n",
       "        vertical-align: top;\n",
       "    }\n",
       "\n",
       "    .dataframe thead th {\n",
       "        text-align: right;\n",
       "    }\n",
       "</style>\n",
       "<table border=\"1\" class=\"dataframe\">\n",
       "  <thead>\n",
       "    <tr style=\"text-align: right;\">\n",
       "      <th></th>\n",
       "      <th>Price</th>\n",
       "      <th>VehicleType</th>\n",
       "      <th>RegistrationYear</th>\n",
       "      <th>Gearbox</th>\n",
       "      <th>Power</th>\n",
       "      <th>Model</th>\n",
       "      <th>Kilometer</th>\n",
       "      <th>RegistrationMonth</th>\n",
       "      <th>FuelType</th>\n",
       "      <th>Brand</th>\n",
       "      <th>Repaired</th>\n",
       "    </tr>\n",
       "  </thead>\n",
       "  <tbody>\n",
       "    <tr>\n",
       "      <th>117536</th>\n",
       "      <td>7999</td>\n",
       "      <td>bus</td>\n",
       "      <td>2006</td>\n",
       "      <td>manual</td>\n",
       "      <td>241</td>\n",
       "      <td>zafira</td>\n",
       "      <td>150000</td>\n",
       "      <td>4</td>\n",
       "      <td>petrol</td>\n",
       "      <td>opel</td>\n",
       "      <td>no</td>\n",
       "    </tr>\n",
       "    <tr>\n",
       "      <th>120151</th>\n",
       "      <td>8555</td>\n",
       "      <td>bus</td>\n",
       "      <td>2006</td>\n",
       "      <td>manual</td>\n",
       "      <td>241</td>\n",
       "      <td>zafira</td>\n",
       "      <td>150000</td>\n",
       "      <td>9</td>\n",
       "      <td>petrol</td>\n",
       "      <td>opel</td>\n",
       "      <td>no</td>\n",
       "    </tr>\n",
       "    <tr>\n",
       "      <th>182650</th>\n",
       "      <td>3500</td>\n",
       "      <td>bus</td>\n",
       "      <td>2004</td>\n",
       "      <td>manual</td>\n",
       "      <td>200</td>\n",
       "      <td>zafira</td>\n",
       "      <td>150000</td>\n",
       "      <td>2</td>\n",
       "      <td>petrol</td>\n",
       "      <td>opel</td>\n",
       "      <td>no</td>\n",
       "    </tr>\n",
       "    <tr>\n",
       "      <th>246279</th>\n",
       "      <td>6250</td>\n",
       "      <td>bus</td>\n",
       "      <td>2005</td>\n",
       "      <td>manual</td>\n",
       "      <td>200</td>\n",
       "      <td>zafira</td>\n",
       "      <td>125000</td>\n",
       "      <td>6</td>\n",
       "      <td>petrol</td>\n",
       "      <td>opel</td>\n",
       "      <td>no</td>\n",
       "    </tr>\n",
       "    <tr>\n",
       "      <th>154271</th>\n",
       "      <td>2100</td>\n",
       "      <td>wagon</td>\n",
       "      <td>2002</td>\n",
       "      <td>manual</td>\n",
       "      <td>192</td>\n",
       "      <td>zafira</td>\n",
       "      <td>125000</td>\n",
       "      <td>5</td>\n",
       "      <td>petrol</td>\n",
       "      <td>opel</td>\n",
       "      <td>no</td>\n",
       "    </tr>\n",
       "    <tr>\n",
       "      <th>202753</th>\n",
       "      <td>2100</td>\n",
       "      <td>wagon</td>\n",
       "      <td>2002</td>\n",
       "      <td>manual</td>\n",
       "      <td>192</td>\n",
       "      <td>zafira</td>\n",
       "      <td>125000</td>\n",
       "      <td>5</td>\n",
       "      <td>petrol</td>\n",
       "      <td>opel</td>\n",
       "      <td>no</td>\n",
       "    </tr>\n",
       "    <tr>\n",
       "      <th>225546</th>\n",
       "      <td>3880</td>\n",
       "      <td>bus</td>\n",
       "      <td>2002</td>\n",
       "      <td>manual</td>\n",
       "      <td>192</td>\n",
       "      <td>zafira</td>\n",
       "      <td>150000</td>\n",
       "      <td>2</td>\n",
       "      <td>petrol</td>\n",
       "      <td>opel</td>\n",
       "      <td>no</td>\n",
       "    </tr>\n",
       "    <tr>\n",
       "      <th>26731</th>\n",
       "      <td>8800</td>\n",
       "      <td>wagon</td>\n",
       "      <td>2011</td>\n",
       "      <td>manual</td>\n",
       "      <td>165</td>\n",
       "      <td>zafira</td>\n",
       "      <td>30000</td>\n",
       "      <td>12</td>\n",
       "      <td>gasoline</td>\n",
       "      <td>opel</td>\n",
       "      <td>no</td>\n",
       "    </tr>\n",
       "    <tr>\n",
       "      <th>61014</th>\n",
       "      <td>8800</td>\n",
       "      <td>wagon</td>\n",
       "      <td>2011</td>\n",
       "      <td>manual</td>\n",
       "      <td>165</td>\n",
       "      <td>zafira</td>\n",
       "      <td>30000</td>\n",
       "      <td>12</td>\n",
       "      <td>gasoline</td>\n",
       "      <td>opel</td>\n",
       "      <td>no</td>\n",
       "    </tr>\n",
       "    <tr>\n",
       "      <th>67376</th>\n",
       "      <td>8800</td>\n",
       "      <td>wagon</td>\n",
       "      <td>2011</td>\n",
       "      <td>manual</td>\n",
       "      <td>165</td>\n",
       "      <td>zafira</td>\n",
       "      <td>30000</td>\n",
       "      <td>12</td>\n",
       "      <td>gasoline</td>\n",
       "      <td>opel</td>\n",
       "      <td>no</td>\n",
       "    </tr>\n",
       "    <tr>\n",
       "      <th>94048</th>\n",
       "      <td>8800</td>\n",
       "      <td>wagon</td>\n",
       "      <td>2011</td>\n",
       "      <td>manual</td>\n",
       "      <td>165</td>\n",
       "      <td>zafira</td>\n",
       "      <td>30000</td>\n",
       "      <td>12</td>\n",
       "      <td>gasoline</td>\n",
       "      <td>opel</td>\n",
       "      <td>no</td>\n",
       "    </tr>\n",
       "    <tr>\n",
       "      <th>104273</th>\n",
       "      <td>8800</td>\n",
       "      <td>wagon</td>\n",
       "      <td>2011</td>\n",
       "      <td>manual</td>\n",
       "      <td>165</td>\n",
       "      <td>zafira</td>\n",
       "      <td>30000</td>\n",
       "      <td>12</td>\n",
       "      <td>gasoline</td>\n",
       "      <td>opel</td>\n",
       "      <td>no</td>\n",
       "    </tr>\n",
       "    <tr>\n",
       "      <th>109309</th>\n",
       "      <td>8800</td>\n",
       "      <td>wagon</td>\n",
       "      <td>2011</td>\n",
       "      <td>manual</td>\n",
       "      <td>165</td>\n",
       "      <td>zafira</td>\n",
       "      <td>30000</td>\n",
       "      <td>12</td>\n",
       "      <td>gasoline</td>\n",
       "      <td>opel</td>\n",
       "      <td>no</td>\n",
       "    </tr>\n",
       "    <tr>\n",
       "      <th>146863</th>\n",
       "      <td>8800</td>\n",
       "      <td>wagon</td>\n",
       "      <td>2011</td>\n",
       "      <td>manual</td>\n",
       "      <td>165</td>\n",
       "      <td>zafira</td>\n",
       "      <td>30000</td>\n",
       "      <td>12</td>\n",
       "      <td>gasoline</td>\n",
       "      <td>opel</td>\n",
       "      <td>no</td>\n",
       "    </tr>\n",
       "    <tr>\n",
       "      <th>153812</th>\n",
       "      <td>8800</td>\n",
       "      <td>wagon</td>\n",
       "      <td>2011</td>\n",
       "      <td>manual</td>\n",
       "      <td>165</td>\n",
       "      <td>zafira</td>\n",
       "      <td>30000</td>\n",
       "      <td>12</td>\n",
       "      <td>gasoline</td>\n",
       "      <td>opel</td>\n",
       "      <td>no</td>\n",
       "    </tr>\n",
       "    <tr>\n",
       "      <th>158423</th>\n",
       "      <td>8800</td>\n",
       "      <td>wagon</td>\n",
       "      <td>2011</td>\n",
       "      <td>manual</td>\n",
       "      <td>165</td>\n",
       "      <td>zafira</td>\n",
       "      <td>30000</td>\n",
       "      <td>12</td>\n",
       "      <td>gasoline</td>\n",
       "      <td>opel</td>\n",
       "      <td>no</td>\n",
       "    </tr>\n",
       "    <tr>\n",
       "      <th>184885</th>\n",
       "      <td>6000</td>\n",
       "      <td>wagon</td>\n",
       "      <td>2011</td>\n",
       "      <td>manual</td>\n",
       "      <td>165</td>\n",
       "      <td>zafira</td>\n",
       "      <td>30000</td>\n",
       "      <td>12</td>\n",
       "      <td>gasoline</td>\n",
       "      <td>opel</td>\n",
       "      <td>no</td>\n",
       "    </tr>\n",
       "    <tr>\n",
       "      <th>190745</th>\n",
       "      <td>6000</td>\n",
       "      <td>wagon</td>\n",
       "      <td>2011</td>\n",
       "      <td>manual</td>\n",
       "      <td>165</td>\n",
       "      <td>zafira</td>\n",
       "      <td>30000</td>\n",
       "      <td>12</td>\n",
       "      <td>gasoline</td>\n",
       "      <td>opel</td>\n",
       "      <td>no</td>\n",
       "    </tr>\n",
       "    <tr>\n",
       "      <th>199728</th>\n",
       "      <td>8800</td>\n",
       "      <td>wagon</td>\n",
       "      <td>2011</td>\n",
       "      <td>manual</td>\n",
       "      <td>165</td>\n",
       "      <td>zafira</td>\n",
       "      <td>30000</td>\n",
       "      <td>12</td>\n",
       "      <td>gasoline</td>\n",
       "      <td>opel</td>\n",
       "      <td>no</td>\n",
       "    </tr>\n",
       "    <tr>\n",
       "      <th>221560</th>\n",
       "      <td>8800</td>\n",
       "      <td>wagon</td>\n",
       "      <td>2011</td>\n",
       "      <td>manual</td>\n",
       "      <td>165</td>\n",
       "      <td>zafira</td>\n",
       "      <td>30000</td>\n",
       "      <td>12</td>\n",
       "      <td>gasoline</td>\n",
       "      <td>opel</td>\n",
       "      <td>no</td>\n",
       "    </tr>\n",
       "  </tbody>\n",
       "</table>\n",
       "</div>"
      ],
      "text/plain": [
       "        Price VehicleType  RegistrationYear Gearbox  Power   Model  Kilometer  \\\n",
       "117536   7999         bus              2006  manual    241  zafira     150000   \n",
       "120151   8555         bus              2006  manual    241  zafira     150000   \n",
       "182650   3500         bus              2004  manual    200  zafira     150000   \n",
       "246279   6250         bus              2005  manual    200  zafira     125000   \n",
       "154271   2100       wagon              2002  manual    192  zafira     125000   \n",
       "202753   2100       wagon              2002  manual    192  zafira     125000   \n",
       "225546   3880         bus              2002  manual    192  zafira     150000   \n",
       "26731    8800       wagon              2011  manual    165  zafira      30000   \n",
       "61014    8800       wagon              2011  manual    165  zafira      30000   \n",
       "67376    8800       wagon              2011  manual    165  zafira      30000   \n",
       "94048    8800       wagon              2011  manual    165  zafira      30000   \n",
       "104273   8800       wagon              2011  manual    165  zafira      30000   \n",
       "109309   8800       wagon              2011  manual    165  zafira      30000   \n",
       "146863   8800       wagon              2011  manual    165  zafira      30000   \n",
       "153812   8800       wagon              2011  manual    165  zafira      30000   \n",
       "158423   8800       wagon              2011  manual    165  zafira      30000   \n",
       "184885   6000       wagon              2011  manual    165  zafira      30000   \n",
       "190745   6000       wagon              2011  manual    165  zafira      30000   \n",
       "199728   8800       wagon              2011  manual    165  zafira      30000   \n",
       "221560   8800       wagon              2011  manual    165  zafira      30000   \n",
       "\n",
       "        RegistrationMonth  FuelType Brand Repaired  \n",
       "117536                  4    petrol  opel       no  \n",
       "120151                  9    petrol  opel       no  \n",
       "182650                  2    petrol  opel       no  \n",
       "246279                  6    petrol  opel       no  \n",
       "154271                  5    petrol  opel       no  \n",
       "202753                  5    petrol  opel       no  \n",
       "225546                  2    petrol  opel       no  \n",
       "26731                  12  gasoline  opel       no  \n",
       "61014                  12  gasoline  opel       no  \n",
       "67376                  12  gasoline  opel       no  \n",
       "94048                  12  gasoline  opel       no  \n",
       "104273                 12  gasoline  opel       no  \n",
       "109309                 12  gasoline  opel       no  \n",
       "146863                 12  gasoline  opel       no  \n",
       "153812                 12  gasoline  opel       no  \n",
       "158423                 12  gasoline  opel       no  \n",
       "184885                 12  gasoline  opel       no  \n",
       "190745                 12  gasoline  opel       no  \n",
       "199728                 12  gasoline  opel       no  \n",
       "221560                 12  gasoline  opel       no  "
      ]
     },
     "execution_count": 16,
     "metadata": {},
     "output_type": "execute_result"
    }
   ],
   "source": [
    "data.loc[data.duplicated()].sort_values(by=['Model', 'Power'], ascending=False).head(20)"
   ]
  },
  {
   "cell_type": "markdown",
   "metadata": {},
   "source": [
    "Drop them"
   ]
  },
  {
   "cell_type": "code",
   "execution_count": 17,
   "metadata": {},
   "outputs": [],
   "source": [
    "data = data.drop_duplicates()"
   ]
  },
  {
   "cell_type": "markdown",
   "metadata": {},
   "source": [
    "Missing values"
   ]
  },
  {
   "cell_type": "code",
   "execution_count": 18,
   "metadata": {},
   "outputs": [
    {
     "data": {
      "text/plain": [
       "Price                    0\n",
       "VehicleType          10680\n",
       "RegistrationYear         0\n",
       "Gearbox               5173\n",
       "Power                    0\n",
       "Model                10524\n",
       "Kilometer                0\n",
       "RegistrationMonth        0\n",
       "FuelType             15140\n",
       "Brand                    0\n",
       "Repaired             40599\n",
       "dtype: int64"
      ]
     },
     "execution_count": 18,
     "metadata": {},
     "output_type": "execute_result"
    }
   ],
   "source": [
    "data.isna().sum()"
   ]
  },
  {
   "cell_type": "code",
   "execution_count": 19,
   "metadata": {},
   "outputs": [
    {
     "data": {
      "text/plain": [
       "sedan          76063\n",
       "small          64137\n",
       "wagon          54264\n",
       "bus            24372\n",
       "convertible    17361\n",
       "coupe          13652\n",
       "suv             9988\n",
       "other           2328\n",
       "Name: VehicleType, dtype: int64"
      ]
     },
     "execution_count": 19,
     "metadata": {},
     "output_type": "execute_result"
    }
   ],
   "source": [
    "data['VehicleType'].value_counts()"
   ]
  },
  {
   "cell_type": "code",
   "execution_count": 20,
   "metadata": {},
   "outputs": [
    {
     "data": {
      "text/plain": [
       "manual    213717\n",
       "auto       53955\n",
       "Name: Gearbox, dtype: int64"
      ]
     },
     "execution_count": 20,
     "metadata": {},
     "output_type": "execute_result"
    }
   ],
   "source": [
    "data['Gearbox'].value_counts()"
   ]
  },
  {
   "cell_type": "code",
   "execution_count": 21,
   "metadata": {},
   "outputs": [
    {
     "data": {
      "text/plain": [
       "golf                  22472\n",
       "other                 19248\n",
       "3er                   15890\n",
       "polo                   9748\n",
       "corsa                  9128\n",
       "                      ...  \n",
       "serie_2                   5\n",
       "kalina                    4\n",
       "serie_3                   3\n",
       "rangerover                2\n",
       "range_rover_evoque        1\n",
       "Name: Model, Length: 249, dtype: int64"
      ]
     },
     "execution_count": 21,
     "metadata": {},
     "output_type": "execute_result"
    }
   ],
   "source": [
    "data['Model'].value_counts()"
   ]
  },
  {
   "cell_type": "code",
   "execution_count": 22,
   "metadata": {},
   "outputs": [
    {
     "data": {
      "text/plain": [
       "petrol      172642\n",
       "gasoline     79964\n",
       "lpg           4338\n",
       "cng            448\n",
       "hybrid         197\n",
       "other           78\n",
       "electric        38\n",
       "Name: FuelType, dtype: int64"
      ]
     },
     "execution_count": 22,
     "metadata": {},
     "output_type": "execute_result"
    }
   ],
   "source": [
    "data['FuelType'].value_counts()"
   ]
  },
  {
   "cell_type": "code",
   "execution_count": 23,
   "metadata": {},
   "outputs": [
    {
     "data": {
      "text/plain": [
       "no     204734\n",
       "yes     27512\n",
       "Name: Repaired, dtype: int64"
      ]
     },
     "execution_count": 23,
     "metadata": {},
     "output_type": "execute_result"
    }
   ],
   "source": [
    "data['Repaired'].value_counts()"
   ]
  },
  {
   "cell_type": "code",
   "execution_count": 24,
   "metadata": {},
   "outputs": [
    {
     "data": {
      "text/html": [
       "<div>\n",
       "<style scoped>\n",
       "    .dataframe tbody tr th:only-of-type {\n",
       "        vertical-align: middle;\n",
       "    }\n",
       "\n",
       "    .dataframe tbody tr th {\n",
       "        vertical-align: top;\n",
       "    }\n",
       "\n",
       "    .dataframe thead th {\n",
       "        text-align: right;\n",
       "    }\n",
       "</style>\n",
       "<table border=\"1\" class=\"dataframe\">\n",
       "  <thead>\n",
       "    <tr style=\"text-align: right;\">\n",
       "      <th></th>\n",
       "      <th>Price</th>\n",
       "      <th>VehicleType</th>\n",
       "      <th>RegistrationYear</th>\n",
       "      <th>Gearbox</th>\n",
       "      <th>Power</th>\n",
       "      <th>Model</th>\n",
       "      <th>Kilometer</th>\n",
       "      <th>RegistrationMonth</th>\n",
       "      <th>FuelType</th>\n",
       "      <th>Brand</th>\n",
       "      <th>Repaired</th>\n",
       "    </tr>\n",
       "  </thead>\n",
       "  <tbody>\n",
       "    <tr>\n",
       "      <th>35</th>\n",
       "      <td>350</td>\n",
       "      <td>NaN</td>\n",
       "      <td>2016</td>\n",
       "      <td>manual</td>\n",
       "      <td>75</td>\n",
       "      <td>golf</td>\n",
       "      <td>150000</td>\n",
       "      <td>4</td>\n",
       "      <td>petrol</td>\n",
       "      <td>volkswagen</td>\n",
       "      <td>no</td>\n",
       "    </tr>\n",
       "    <tr>\n",
       "      <th>77</th>\n",
       "      <td>800</td>\n",
       "      <td>NaN</td>\n",
       "      <td>2000</td>\n",
       "      <td>manual</td>\n",
       "      <td>90</td>\n",
       "      <td>golf</td>\n",
       "      <td>150000</td>\n",
       "      <td>2</td>\n",
       "      <td>gasoline</td>\n",
       "      <td>volkswagen</td>\n",
       "      <td>NaN</td>\n",
       "    </tr>\n",
       "    <tr>\n",
       "      <th>233</th>\n",
       "      <td>3750</td>\n",
       "      <td>NaN</td>\n",
       "      <td>2005</td>\n",
       "      <td>NaN</td>\n",
       "      <td>75</td>\n",
       "      <td>golf</td>\n",
       "      <td>150000</td>\n",
       "      <td>0</td>\n",
       "      <td>NaN</td>\n",
       "      <td>volkswagen</td>\n",
       "      <td>NaN</td>\n",
       "    </tr>\n",
       "    <tr>\n",
       "      <th>408</th>\n",
       "      <td>1</td>\n",
       "      <td>NaN</td>\n",
       "      <td>2000</td>\n",
       "      <td>NaN</td>\n",
       "      <td>75</td>\n",
       "      <td>golf</td>\n",
       "      <td>90000</td>\n",
       "      <td>3</td>\n",
       "      <td>petrol</td>\n",
       "      <td>volkswagen</td>\n",
       "      <td>NaN</td>\n",
       "    </tr>\n",
       "    <tr>\n",
       "      <th>541</th>\n",
       "      <td>4550</td>\n",
       "      <td>NaN</td>\n",
       "      <td>2016</td>\n",
       "      <td>manual</td>\n",
       "      <td>101</td>\n",
       "      <td>golf</td>\n",
       "      <td>150000</td>\n",
       "      <td>8</td>\n",
       "      <td>gasoline</td>\n",
       "      <td>volkswagen</td>\n",
       "      <td>no</td>\n",
       "    </tr>\n",
       "    <tr>\n",
       "      <th>...</th>\n",
       "      <td>...</td>\n",
       "      <td>...</td>\n",
       "      <td>...</td>\n",
       "      <td>...</td>\n",
       "      <td>...</td>\n",
       "      <td>...</td>\n",
       "      <td>...</td>\n",
       "      <td>...</td>\n",
       "      <td>...</td>\n",
       "      <td>...</td>\n",
       "      <td>...</td>\n",
       "    </tr>\n",
       "    <tr>\n",
       "      <th>353015</th>\n",
       "      <td>30</td>\n",
       "      <td>NaN</td>\n",
       "      <td>2016</td>\n",
       "      <td>manual</td>\n",
       "      <td>75</td>\n",
       "      <td>golf</td>\n",
       "      <td>150000</td>\n",
       "      <td>10</td>\n",
       "      <td>petrol</td>\n",
       "      <td>volkswagen</td>\n",
       "      <td>yes</td>\n",
       "    </tr>\n",
       "    <tr>\n",
       "      <th>353103</th>\n",
       "      <td>499</td>\n",
       "      <td>NaN</td>\n",
       "      <td>1995</td>\n",
       "      <td>auto</td>\n",
       "      <td>69</td>\n",
       "      <td>golf</td>\n",
       "      <td>150000</td>\n",
       "      <td>0</td>\n",
       "      <td>petrol</td>\n",
       "      <td>volkswagen</td>\n",
       "      <td>NaN</td>\n",
       "    </tr>\n",
       "    <tr>\n",
       "      <th>353474</th>\n",
       "      <td>3999</td>\n",
       "      <td>NaN</td>\n",
       "      <td>2007</td>\n",
       "      <td>manual</td>\n",
       "      <td>75</td>\n",
       "      <td>golf</td>\n",
       "      <td>100000</td>\n",
       "      <td>5</td>\n",
       "      <td>petrol</td>\n",
       "      <td>volkswagen</td>\n",
       "      <td>no</td>\n",
       "    </tr>\n",
       "    <tr>\n",
       "      <th>354068</th>\n",
       "      <td>3700</td>\n",
       "      <td>NaN</td>\n",
       "      <td>2016</td>\n",
       "      <td>manual</td>\n",
       "      <td>90</td>\n",
       "      <td>golf</td>\n",
       "      <td>150000</td>\n",
       "      <td>4</td>\n",
       "      <td>gasoline</td>\n",
       "      <td>volkswagen</td>\n",
       "      <td>NaN</td>\n",
       "    </tr>\n",
       "    <tr>\n",
       "      <th>354107</th>\n",
       "      <td>395</td>\n",
       "      <td>NaN</td>\n",
       "      <td>2016</td>\n",
       "      <td>manual</td>\n",
       "      <td>60</td>\n",
       "      <td>golf</td>\n",
       "      <td>150000</td>\n",
       "      <td>12</td>\n",
       "      <td>petrol</td>\n",
       "      <td>volkswagen</td>\n",
       "      <td>NaN</td>\n",
       "    </tr>\n",
       "  </tbody>\n",
       "</table>\n",
       "<p>1461 rows × 11 columns</p>\n",
       "</div>"
      ],
      "text/plain": [
       "        Price VehicleType  RegistrationYear Gearbox  Power Model  Kilometer  \\\n",
       "35        350         NaN              2016  manual     75  golf     150000   \n",
       "77        800         NaN              2000  manual     90  golf     150000   \n",
       "233      3750         NaN              2005     NaN     75  golf     150000   \n",
       "408         1         NaN              2000     NaN     75  golf      90000   \n",
       "541      4550         NaN              2016  manual    101  golf     150000   \n",
       "...       ...         ...               ...     ...    ...   ...        ...   \n",
       "353015     30         NaN              2016  manual     75  golf     150000   \n",
       "353103    499         NaN              1995    auto     69  golf     150000   \n",
       "353474   3999         NaN              2007  manual     75  golf     100000   \n",
       "354068   3700         NaN              2016  manual     90  golf     150000   \n",
       "354107    395         NaN              2016  manual     60  golf     150000   \n",
       "\n",
       "        RegistrationMonth  FuelType       Brand Repaired  \n",
       "35                      4    petrol  volkswagen       no  \n",
       "77                      2  gasoline  volkswagen      NaN  \n",
       "233                     0       NaN  volkswagen      NaN  \n",
       "408                     3    petrol  volkswagen      NaN  \n",
       "541                     8  gasoline  volkswagen       no  \n",
       "...                   ...       ...         ...      ...  \n",
       "353015                 10    petrol  volkswagen      yes  \n",
       "353103                  0    petrol  volkswagen      NaN  \n",
       "353474                  5    petrol  volkswagen       no  \n",
       "354068                  4  gasoline  volkswagen      NaN  \n",
       "354107                 12    petrol  volkswagen      NaN  \n",
       "\n",
       "[1461 rows x 11 columns]"
      ]
     },
     "execution_count": 24,
     "metadata": {},
     "output_type": "execute_result"
    }
   ],
   "source": [
    "data.loc[(data['Model'] == 'golf') & data['VehicleType'].isna()]"
   ]
  },
  {
   "cell_type": "markdown",
   "metadata": {},
   "source": [
    "#### interim output\n",
    "- All features with missing values are categorical\n",
    "- In `VehicleType` feature we fill missing values with **unknown**\n",
    "- In `Gearbox` feature we fill missing values with **other**\n",
    "- Missing values in `Model`, `Repaired` features we fill with **unknown**\n",
    "- `FuelType` feature contains two values with same meaning **gasoline** и **petrol**. We use **petrol** for both of them. Missimg values we fill with **diesel**. Seems to be good idea, but to be honest we can fill with **unknown** or **other**, doesn't matter"
   ]
  },
  {
   "cell_type": "code",
   "execution_count": 25,
   "metadata": {
    "scrolled": true
   },
   "outputs": [
    {
     "data": {
      "text/html": [
       "<div>\n",
       "<style scoped>\n",
       "    .dataframe tbody tr th:only-of-type {\n",
       "        vertical-align: middle;\n",
       "    }\n",
       "\n",
       "    .dataframe tbody tr th {\n",
       "        vertical-align: top;\n",
       "    }\n",
       "\n",
       "    .dataframe thead th {\n",
       "        text-align: right;\n",
       "    }\n",
       "</style>\n",
       "<table border=\"1\" class=\"dataframe\">\n",
       "  <thead>\n",
       "    <tr style=\"text-align: right;\">\n",
       "      <th></th>\n",
       "      <th>Price</th>\n",
       "      <th>VehicleType</th>\n",
       "      <th>RegistrationYear</th>\n",
       "      <th>Gearbox</th>\n",
       "      <th>Power</th>\n",
       "      <th>Model</th>\n",
       "      <th>Kilometer</th>\n",
       "      <th>RegistrationMonth</th>\n",
       "      <th>FuelType</th>\n",
       "      <th>Brand</th>\n",
       "      <th>Repaired</th>\n",
       "    </tr>\n",
       "  </thead>\n",
       "  <tbody>\n",
       "    <tr>\n",
       "      <th>346501</th>\n",
       "      <td>150</td>\n",
       "      <td>other</td>\n",
       "      <td>1994</td>\n",
       "      <td>manual</td>\n",
       "      <td>60</td>\n",
       "      <td>combo</td>\n",
       "      <td>150000</td>\n",
       "      <td>4</td>\n",
       "      <td>petrol</td>\n",
       "      <td>opel</td>\n",
       "      <td>no</td>\n",
       "    </tr>\n",
       "    <tr>\n",
       "      <th>42491</th>\n",
       "      <td>1250</td>\n",
       "      <td>sedan</td>\n",
       "      <td>1998</td>\n",
       "      <td>manual</td>\n",
       "      <td>125</td>\n",
       "      <td>a4</td>\n",
       "      <td>150000</td>\n",
       "      <td>11</td>\n",
       "      <td>petrol</td>\n",
       "      <td>audi</td>\n",
       "      <td>no</td>\n",
       "    </tr>\n",
       "    <tr>\n",
       "      <th>296106</th>\n",
       "      <td>4500</td>\n",
       "      <td>small</td>\n",
       "      <td>2005</td>\n",
       "      <td>manual</td>\n",
       "      <td>75</td>\n",
       "      <td>golf</td>\n",
       "      <td>150000</td>\n",
       "      <td>3</td>\n",
       "      <td>petrol</td>\n",
       "      <td>volkswagen</td>\n",
       "      <td>no</td>\n",
       "    </tr>\n",
       "    <tr>\n",
       "      <th>50487</th>\n",
       "      <td>7000</td>\n",
       "      <td>sedan</td>\n",
       "      <td>1990</td>\n",
       "      <td>manual</td>\n",
       "      <td>129</td>\n",
       "      <td>3er</td>\n",
       "      <td>150000</td>\n",
       "      <td>10</td>\n",
       "      <td>petrol</td>\n",
       "      <td>bmw</td>\n",
       "      <td>no</td>\n",
       "    </tr>\n",
       "    <tr>\n",
       "      <th>133438</th>\n",
       "      <td>250</td>\n",
       "      <td>sedan</td>\n",
       "      <td>1989</td>\n",
       "      <td>manual</td>\n",
       "      <td>70</td>\n",
       "      <td>80</td>\n",
       "      <td>150000</td>\n",
       "      <td>9</td>\n",
       "      <td>petrol</td>\n",
       "      <td>audi</td>\n",
       "      <td>no</td>\n",
       "    </tr>\n",
       "  </tbody>\n",
       "</table>\n",
       "</div>"
      ],
      "text/plain": [
       "        Price VehicleType  RegistrationYear Gearbox  Power  Model  Kilometer  \\\n",
       "346501    150       other              1994  manual     60  combo     150000   \n",
       "42491    1250       sedan              1998  manual    125     a4     150000   \n",
       "296106   4500       small              2005  manual     75   golf     150000   \n",
       "50487    7000       sedan              1990  manual    129    3er     150000   \n",
       "133438    250       sedan              1989  manual     70     80     150000   \n",
       "\n",
       "        RegistrationMonth FuelType       Brand Repaired  \n",
       "346501                  4   petrol        opel       no  \n",
       "42491                  11   petrol        audi       no  \n",
       "296106                  3   petrol  volkswagen       no  \n",
       "50487                  10   petrol         bmw       no  \n",
       "133438                  9   petrol        audi       no  "
      ]
     },
     "execution_count": 25,
     "metadata": {},
     "output_type": "execute_result"
    }
   ],
   "source": [
    "data['Gearbox'] = data['Gearbox'].fillna('other')\n",
    "\n",
    "data['VehicleType'] = data['VehicleType'].fillna('unknown')\n",
    "data['Model'] = data['Model'].fillna('unknown')\n",
    "data['FuelType'] = data['FuelType'].fillna('diesel')\n",
    "data['FuelType'] = data['FuelType'].replace('gasoline', 'petrol')\n",
    "data['Repaired'] = data['Repaired'].fillna('unknown')\n",
    "\n",
    "data.sample(5)"
   ]
  },
  {
   "cell_type": "code",
   "execution_count": 26,
   "metadata": {},
   "outputs": [
    {
     "data": {
      "text/plain": [
       "Price                0\n",
       "VehicleType          0\n",
       "RegistrationYear     0\n",
       "Gearbox              0\n",
       "Power                0\n",
       "Model                0\n",
       "Kilometer            0\n",
       "RegistrationMonth    0\n",
       "FuelType             0\n",
       "Brand                0\n",
       "Repaired             0\n",
       "dtype: int64"
      ]
     },
     "execution_count": 26,
     "metadata": {},
     "output_type": "execute_result"
    }
   ],
   "source": [
    "data.isna().sum()"
   ]
  },
  {
   "cell_type": "markdown",
   "metadata": {},
   "source": [
    "Data is ok"
   ]
  },
  {
   "cell_type": "markdown",
   "metadata": {},
   "source": [
    "## Models learning"
   ]
  },
  {
   "cell_type": "markdown",
   "metadata": {},
   "source": [
    "Encode categorical features"
   ]
  },
  {
   "cell_type": "code",
   "execution_count": 27,
   "metadata": {},
   "outputs": [],
   "source": [
    "enc = OrdinalEncoder()\n",
    "enc.fit(data[['VehicleType', 'Gearbox', 'Model', 'FuelType', 'Brand', 'Repaired']])\n",
    "(data[['VehicleType', \n",
    "       'Gearbox', \n",
    "       'Model', \n",
    "       'FuelType', \n",
    "       'Brand', \n",
    "       'Repaired']]) = enc.transform(\n",
    "                                        data[['VehicleType', \n",
    "                                              'Gearbox', \n",
    "                                              'Model', \n",
    "                                              'FuelType', \n",
    "                                              'Brand', \n",
    "                                              'Repaired']])"
   ]
  },
  {
   "cell_type": "markdown",
   "metadata": {},
   "source": [
    "Train test split"
   ]
  },
  {
   "cell_type": "code",
   "execution_count": 28,
   "metadata": {},
   "outputs": [
    {
     "name": "stdout",
     "output_type": "stream",
     "text": [
      "Train sample share: 75.0%\n",
      "Test sample share: 25.0%\n"
     ]
    }
   ],
   "source": [
    "features_train, features_test, target_train, target_test = train_test_split(\n",
    "    data.drop('Price', axis=1), data.Price, test_size=0.25, random_state=STATE)\n",
    "\n",
    "print(f'Train sample share: {features_train.shape[0] / len(data):.1%}')\n",
    "print(f'Test sample share: {features_test.shape[0] / len(data):.1%}')"
   ]
  },
  {
   "cell_type": "markdown",
   "metadata": {},
   "source": [
    "Scale features"
   ]
  },
  {
   "cell_type": "code",
   "execution_count": 29,
   "metadata": {},
   "outputs": [],
   "source": [
    "numeric = ['VehicleType', 'RegistrationYear', \n",
    "           'Gearbox', 'Power', 'Model', 'Kilometer', \n",
    "           'RegistrationMonth', 'FuelType', 'Brand', \n",
    "                                       'Repaired']\n",
    "\n",
    "scaler = StandardScaler()\n",
    "scaler.fit(features_train[numeric])\n",
    "features_train[numeric] = scaler.transform(features_train[numeric])\n",
    "features_test[numeric] = scaler.transform(features_test[numeric])"
   ]
  },
  {
   "cell_type": "markdown",
   "metadata": {},
   "source": [
    "Write functions for learning and predicting"
   ]
  },
  {
   "cell_type": "code",
   "execution_count": 30,
   "metadata": {},
   "outputs": [],
   "source": [
    "def rmse(target, predicted):\n",
    "    return mean_squared_error(target, predicted) ** 0.5"
   ]
  },
  {
   "cell_type": "code",
   "execution_count": 31,
   "metadata": {},
   "outputs": [],
   "source": [
    "rmse_score = make_scorer(rmse, greater_is_better=False)"
   ]
  },
  {
   "cell_type": "code",
   "execution_count": 32,
   "metadata": {},
   "outputs": [],
   "source": [
    "def models(model, parametrs, features_train, target_train, features_test, target_test):\n",
    "    grid = GridSearchCV(model, parametrs, cv=5, n_jobs=-1, scoring=rmse_score)\n",
    "    initial_time = time.time()\n",
    "    grid.fit(features_train, target_train)\n",
    "    fit_time = time.time() - initial_time\n",
    "    initial_time = time.time()\n",
    "    predict = grid.predict(features_test)\n",
    "    predict_time = time.time() - initial_time\n",
    "    return round(fit_time, 2), round(predict_time, 2), round(rmse(target_test, predict))"
   ]
  },
  {
   "cell_type": "code",
   "execution_count": 33,
   "metadata": {},
   "outputs": [],
   "source": [
    "def models_2(model, features_train, target_train, features_test, target_test):\n",
    "    initial_time = time.time()\n",
    "    model.fit(features_train, target_train)\n",
    "    fit_time = time.time() - initial_time\n",
    "    initial_time = time.time()\n",
    "    predict = model.predict(features_test)\n",
    "    predict_time = time.time() - initial_time\n",
    "    return round(fit_time, 2), round(predict_time, 2), round(rmse(target_test, predict))"
   ]
  },
  {
   "cell_type": "markdown",
   "metadata": {},
   "source": [
    "## Models analysis"
   ]
  },
  {
   "cell_type": "markdown",
   "metadata": {},
   "source": [
    "LightGBM"
   ]
  },
  {
   "cell_type": "code",
   "execution_count": 34,
   "metadata": {},
   "outputs": [
    {
     "data": {
      "text/plain": [
       "(158.18, 0.62, 1726)"
      ]
     },
     "execution_count": 34,
     "metadata": {},
     "output_type": "execute_result"
    }
   ],
   "source": [
    "lgbm_parametrs = {'n_estimators': [50,100], \n",
    "                  'max_depth': [5,10], \n",
    "                  'num_leaves': [10,20], \n",
    "                  'learning_rate': [0.1]}\n",
    "lgbm_model = LGBMRegressor(random_state=STATE)\n",
    "lgbm = models(lgbm_model, \n",
    "              lgbm_parametrs, \n",
    "              features_train, target_train, features_test, target_test)\n",
    "lgbm"
   ]
  },
  {
   "cell_type": "markdown",
   "metadata": {},
   "source": [
    "Decision Tree"
   ]
  },
  {
   "cell_type": "code",
   "execution_count": 35,
   "metadata": {},
   "outputs": [
    {
     "data": {
      "text/plain": [
       "(61.05, 0.04, 2024)"
      ]
     },
     "execution_count": 35,
     "metadata": {},
     "output_type": "execute_result"
    }
   ],
   "source": [
    "dtr_parametrs = {'max_depth' : range (1,10)}\n",
    "dtr_model = DecisionTreeRegressor(random_state=STATE)\n",
    "dtr = models(dtr_model, \n",
    "             dtr_parametrs, \n",
    "             features_train, target_train, features_test, target_test)\n",
    "dtr"
   ]
  },
  {
   "cell_type": "markdown",
   "metadata": {},
   "source": [
    "Linear Regression"
   ]
  },
  {
   "cell_type": "code",
   "execution_count": 36,
   "metadata": {},
   "outputs": [
    {
     "data": {
      "text/plain": [
       "(0.59, 0.01, 3006)"
      ]
     },
     "execution_count": 36,
     "metadata": {},
     "output_type": "execute_result"
    }
   ],
   "source": [
    "lr_model = LinearRegression()\n",
    "lr = models_2(lr_model, \n",
    "              features_train, target_train, features_test, target_test)\n",
    "lr"
   ]
  },
  {
   "cell_type": "markdown",
   "metadata": {},
   "source": [
    "Constant model"
   ]
  },
  {
   "cell_type": "code",
   "execution_count": 37,
   "metadata": {},
   "outputs": [
    {
     "data": {
      "text/plain": [
       "(0.0, 0.0, 4612)"
      ]
     },
     "execution_count": 37,
     "metadata": {},
     "output_type": "execute_result"
    }
   ],
   "source": [
    "dummy_r_model = DummyRegressor(strategy='mean')\n",
    "dummy_r = models_2(dummy_r_model, \n",
    "              features_train, target_train, features_test, target_test)\n",
    "dummy_r"
   ]
  },
  {
   "cell_type": "code",
   "execution_count": 38,
   "metadata": {
    "scrolled": false
   },
   "outputs": [],
   "source": [
    "result = pd.DataFrame([lgbm, \n",
    "                       dtr, \n",
    "                       lr, \n",
    "                       dummy_r], \n",
    "                       columns=['Learning time', \n",
    "                                'Prediction time', \n",
    "                                'RMSE'], \n",
    "                       index=['LGBMRegressor',\n",
    "                              'DecisionTreeRegressor',\n",
    "                              'LinearRegression', \n",
    "                              'DummyRegressor'])"
   ]
  },
  {
   "cell_type": "code",
   "execution_count": 39,
   "metadata": {},
   "outputs": [
    {
     "data": {
      "text/html": [
       "<div>\n",
       "<style scoped>\n",
       "    .dataframe tbody tr th:only-of-type {\n",
       "        vertical-align: middle;\n",
       "    }\n",
       "\n",
       "    .dataframe tbody tr th {\n",
       "        vertical-align: top;\n",
       "    }\n",
       "\n",
       "    .dataframe thead th {\n",
       "        text-align: right;\n",
       "    }\n",
       "</style>\n",
       "<table border=\"1\" class=\"dataframe\">\n",
       "  <thead>\n",
       "    <tr style=\"text-align: right;\">\n",
       "      <th></th>\n",
       "      <th>Learning time</th>\n",
       "      <th>Prediction time</th>\n",
       "      <th>RMSE</th>\n",
       "    </tr>\n",
       "  </thead>\n",
       "  <tbody>\n",
       "    <tr>\n",
       "      <th>LGBMRegressor</th>\n",
       "      <td>158.18</td>\n",
       "      <td>0.62</td>\n",
       "      <td>1726</td>\n",
       "    </tr>\n",
       "    <tr>\n",
       "      <th>DecisionTreeRegressor</th>\n",
       "      <td>61.05</td>\n",
       "      <td>0.04</td>\n",
       "      <td>2024</td>\n",
       "    </tr>\n",
       "    <tr>\n",
       "      <th>LinearRegression</th>\n",
       "      <td>0.59</td>\n",
       "      <td>0.01</td>\n",
       "      <td>3006</td>\n",
       "    </tr>\n",
       "    <tr>\n",
       "      <th>DummyRegressor</th>\n",
       "      <td>0.00</td>\n",
       "      <td>0.00</td>\n",
       "      <td>4612</td>\n",
       "    </tr>\n",
       "  </tbody>\n",
       "</table>\n",
       "</div>"
      ],
      "text/plain": [
       "                       Learning time  Prediction time  RMSE\n",
       "LGBMRegressor                 158.18             0.62  1726\n",
       "DecisionTreeRegressor          61.05             0.04  2024\n",
       "LinearRegression                0.59             0.01  3006\n",
       "DummyRegressor                  0.00             0.00  4612"
      ]
     },
     "execution_count": 39,
     "metadata": {},
     "output_type": "execute_result"
    }
   ],
   "source": [
    "result"
   ]
  },
  {
   "cell_type": "markdown",
   "metadata": {},
   "source": [
    "## Conclusion\n",
    "- `LGBMRegressor` has best quality, `RMSE` is equal to **1726**. Learning time is **158** seconds, prediction time is **0,6** seconds\n",
    "- `Constant model` has `RMSE` equal to **4612**\n",
    "- Validity check is done"
   ]
  },
  {
   "cell_type": "code",
   "execution_count": null,
   "metadata": {},
   "outputs": [],
   "source": []
  }
 ],
 "metadata": {
  "ExecuteTimeLog": [
   {
    "duration": 1537,
    "start_time": "2022-07-21T21:43:15.411Z"
   },
   {
    "duration": 27,
    "start_time": "2022-07-21T21:43:28.557Z"
   },
   {
    "duration": 22,
    "start_time": "2022-07-21T21:43:33.959Z"
   },
   {
    "duration": 130,
    "start_time": "2022-07-21T21:43:53.934Z"
   },
   {
    "duration": 117,
    "start_time": "2022-07-21T21:44:12.653Z"
   },
   {
    "duration": 31,
    "start_time": "2022-07-21T21:49:28.338Z"
   },
   {
    "duration": 32,
    "start_time": "2022-07-21T21:50:04.008Z"
   },
   {
    "duration": 33,
    "start_time": "2022-07-21T21:50:21.148Z"
   },
   {
    "duration": 32,
    "start_time": "2022-07-21T21:50:54.059Z"
   },
   {
    "duration": 37,
    "start_time": "2022-07-21T21:51:26.342Z"
   },
   {
    "duration": 456,
    "start_time": "2022-07-21T21:51:53.746Z"
   },
   {
    "duration": 509,
    "start_time": "2022-07-21T21:52:10.637Z"
   },
   {
    "duration": 501,
    "start_time": "2022-07-21T21:52:20.080Z"
   },
   {
    "duration": 124,
    "start_time": "2022-07-21T21:52:29.980Z"
   },
   {
    "duration": 119,
    "start_time": "2022-07-21T21:52:43.962Z"
   },
   {
    "duration": 43,
    "start_time": "2022-07-21T21:54:19.216Z"
   },
   {
    "duration": 67,
    "start_time": "2022-07-21T23:10:05.233Z"
   },
   {
    "duration": 70,
    "start_time": "2022-07-21T23:12:32.849Z"
   },
   {
    "duration": 81,
    "start_time": "2022-07-21T23:12:59.169Z"
   },
   {
    "duration": 80,
    "start_time": "2022-07-21T23:13:21.137Z"
   },
   {
    "duration": 55,
    "start_time": "2022-07-22T19:11:31.349Z"
   },
   {
    "duration": 1877,
    "start_time": "2022-07-22T19:11:37.067Z"
   },
   {
    "duration": 34,
    "start_time": "2022-07-22T19:11:38.947Z"
   },
   {
    "duration": 160,
    "start_time": "2022-07-22T19:11:38.983Z"
   },
   {
    "duration": 152,
    "start_time": "2022-07-22T19:11:39.146Z"
   },
   {
    "duration": 49,
    "start_time": "2022-07-22T19:11:39.299Z"
   },
   {
    "duration": 37,
    "start_time": "2022-07-22T19:11:39.350Z"
   },
   {
    "duration": 75,
    "start_time": "2022-07-22T19:11:39.389Z"
   },
   {
    "duration": 41,
    "start_time": "2022-07-22T19:11:39.466Z"
   },
   {
    "duration": 53,
    "start_time": "2022-07-22T19:11:39.509Z"
   },
   {
    "duration": 708,
    "start_time": "2022-07-22T19:11:39.565Z"
   },
   {
    "duration": 716,
    "start_time": "2022-07-22T19:11:40.275Z"
   },
   {
    "duration": 164,
    "start_time": "2022-07-22T19:11:40.993Z"
   },
   {
    "duration": 122,
    "start_time": "2022-07-22T19:11:41.159Z"
   },
   {
    "duration": 47,
    "start_time": "2022-07-22T19:11:41.283Z"
   },
   {
    "duration": 126,
    "start_time": "2022-07-22T19:18:04.978Z"
   },
   {
    "duration": 56,
    "start_time": "2022-07-22T19:46:33.689Z"
   },
   {
    "duration": 59,
    "start_time": "2022-07-22T19:47:31.286Z"
   },
   {
    "duration": 55,
    "start_time": "2022-07-22T19:51:09.139Z"
   },
   {
    "duration": 65,
    "start_time": "2022-07-22T19:51:29.783Z"
   },
   {
    "duration": 61,
    "start_time": "2022-07-22T19:51:39.050Z"
   },
   {
    "duration": 77,
    "start_time": "2022-07-22T19:52:04.771Z"
   },
   {
    "duration": 12,
    "start_time": "2022-07-22T20:25:03.312Z"
   },
   {
    "duration": 2458,
    "start_time": "2022-07-22T20:28:06.573Z"
   },
   {
    "duration": 29,
    "start_time": "2022-07-22T20:28:09.033Z"
   },
   {
    "duration": 167,
    "start_time": "2022-07-22T20:28:09.064Z"
   },
   {
    "duration": 143,
    "start_time": "2022-07-22T20:28:09.234Z"
   },
   {
    "duration": 136,
    "start_time": "2022-07-22T20:28:09.378Z"
   },
   {
    "duration": 42,
    "start_time": "2022-07-22T20:28:09.516Z"
   },
   {
    "duration": 42,
    "start_time": "2022-07-22T20:28:09.560Z"
   },
   {
    "duration": 43,
    "start_time": "2022-07-22T20:28:09.623Z"
   },
   {
    "duration": 64,
    "start_time": "2022-07-22T20:28:09.669Z"
   },
   {
    "duration": 43,
    "start_time": "2022-07-22T20:28:09.737Z"
   },
   {
    "duration": 14,
    "start_time": "2022-07-22T20:28:09.782Z"
   },
   {
    "duration": 625,
    "start_time": "2022-07-22T20:28:09.799Z"
   },
   {
    "duration": 654,
    "start_time": "2022-07-22T20:28:10.426Z"
   },
   {
    "duration": 146,
    "start_time": "2022-07-22T20:28:11.082Z"
   },
   {
    "duration": 106,
    "start_time": "2022-07-22T20:28:11.230Z"
   },
   {
    "duration": 34,
    "start_time": "2022-07-22T20:28:11.338Z"
   },
   {
    "duration": 74,
    "start_time": "2022-07-22T20:28:11.374Z"
   },
   {
    "duration": 119,
    "start_time": "2022-07-22T20:28:11.451Z"
   },
   {
    "duration": 2108,
    "start_time": "2022-07-22T20:28:42.628Z"
   },
   {
    "duration": 30,
    "start_time": "2022-07-22T20:28:44.738Z"
   },
   {
    "duration": 189,
    "start_time": "2022-07-22T20:28:44.770Z"
   },
   {
    "duration": 142,
    "start_time": "2022-07-22T20:28:44.962Z"
   },
   {
    "duration": 120,
    "start_time": "2022-07-22T20:28:45.107Z"
   },
   {
    "duration": 35,
    "start_time": "2022-07-22T20:28:45.229Z"
   },
   {
    "duration": 39,
    "start_time": "2022-07-22T20:28:45.266Z"
   },
   {
    "duration": 44,
    "start_time": "2022-07-22T20:28:45.323Z"
   },
   {
    "duration": 39,
    "start_time": "2022-07-22T20:28:45.369Z"
   },
   {
    "duration": 39,
    "start_time": "2022-07-22T20:28:45.411Z"
   },
   {
    "duration": 9,
    "start_time": "2022-07-22T20:28:45.452Z"
   },
   {
    "duration": 562,
    "start_time": "2022-07-22T20:28:45.463Z"
   },
   {
    "duration": 542,
    "start_time": "2022-07-22T20:28:46.027Z"
   },
   {
    "duration": 127,
    "start_time": "2022-07-22T20:28:46.571Z"
   },
   {
    "duration": 107,
    "start_time": "2022-07-22T20:28:46.699Z"
   },
   {
    "duration": 40,
    "start_time": "2022-07-22T20:28:46.808Z"
   },
   {
    "duration": 77,
    "start_time": "2022-07-22T20:28:46.850Z"
   },
   {
    "duration": 4114,
    "start_time": "2022-07-22T20:28:46.929Z"
   },
   {
    "duration": 896,
    "start_time": "2022-07-22T20:38:11.182Z"
   },
   {
    "duration": 457,
    "start_time": "2022-07-22T20:38:54.802Z"
   },
   {
    "duration": 443,
    "start_time": "2022-07-22T20:39:36.050Z"
   },
   {
    "duration": 381,
    "start_time": "2022-07-22T20:40:31.637Z"
   },
   {
    "duration": 272,
    "start_time": "2022-07-22T20:41:37.102Z"
   },
   {
    "duration": 263,
    "start_time": "2022-07-22T21:10:21.844Z"
   },
   {
    "duration": 234,
    "start_time": "2022-07-22T21:11:08.097Z"
   },
   {
    "duration": 203,
    "start_time": "2022-07-22T21:11:57.301Z"
   },
   {
    "duration": 337,
    "start_time": "2022-07-22T21:12:09.273Z"
   },
   {
    "duration": 203,
    "start_time": "2022-07-22T21:12:18.861Z"
   },
   {
    "duration": 178,
    "start_time": "2022-07-22T21:12:41.207Z"
   },
   {
    "duration": 204,
    "start_time": "2022-07-22T21:12:54.894Z"
   },
   {
    "duration": 149,
    "start_time": "2022-07-22T21:13:14.793Z"
   },
   {
    "duration": 122,
    "start_time": "2022-07-22T21:17:32.267Z"
   },
   {
    "duration": 132,
    "start_time": "2022-07-22T21:17:48.077Z"
   },
   {
    "duration": 150,
    "start_time": "2022-07-22T21:19:18.412Z"
   },
   {
    "duration": 140,
    "start_time": "2022-07-22T21:19:28.835Z"
   },
   {
    "duration": 122,
    "start_time": "2022-07-22T21:19:51.686Z"
   },
   {
    "duration": 171,
    "start_time": "2022-07-22T21:21:28.257Z"
   },
   {
    "duration": 171,
    "start_time": "2022-07-22T21:21:48.134Z"
   },
   {
    "duration": 11,
    "start_time": "2022-07-22T21:23:48.652Z"
   },
   {
    "duration": 13,
    "start_time": "2022-07-22T21:24:51.216Z"
   },
   {
    "duration": 149,
    "start_time": "2022-07-22T21:26:20.680Z"
   },
   {
    "duration": 165,
    "start_time": "2022-07-22T21:26:26.575Z"
   },
   {
    "duration": 127,
    "start_time": "2022-07-22T21:26:38.286Z"
   },
   {
    "duration": 3,
    "start_time": "2022-07-22T21:35:00.950Z"
   },
   {
    "duration": 262,
    "start_time": "2022-07-22T21:35:06.488Z"
   },
   {
    "duration": 140,
    "start_time": "2022-07-22T21:36:17.484Z"
   },
   {
    "duration": 191,
    "start_time": "2022-07-22T21:37:19.074Z"
   },
   {
    "duration": 188,
    "start_time": "2022-07-22T21:37:27.516Z"
   },
   {
    "duration": 207,
    "start_time": "2022-07-22T21:37:38.650Z"
   },
   {
    "duration": 14,
    "start_time": "2022-07-22T21:52:02.147Z"
   },
   {
    "duration": 32,
    "start_time": "2022-07-22T22:14:06.341Z"
   },
   {
    "duration": 20,
    "start_time": "2022-07-22T22:14:09.590Z"
   },
   {
    "duration": 83,
    "start_time": "2022-07-22T22:27:21.867Z"
   },
   {
    "duration": 20,
    "start_time": "2022-07-22T22:27:29.600Z"
   },
   {
    "duration": 41,
    "start_time": "2022-07-22T22:32:09.413Z"
   },
   {
    "duration": 17,
    "start_time": "2022-07-22T22:32:17.025Z"
   },
   {
    "duration": 13,
    "start_time": "2022-07-22T22:32:31.903Z"
   },
   {
    "duration": 13,
    "start_time": "2022-07-22T22:33:09.313Z"
   },
   {
    "duration": 47,
    "start_time": "2022-07-22T22:33:45.912Z"
   },
   {
    "duration": 1104,
    "start_time": "2022-07-22T22:34:27.819Z"
   },
   {
    "duration": 821,
    "start_time": "2022-07-22T22:34:44.664Z"
   },
   {
    "duration": 13,
    "start_time": "2022-07-22T22:35:31.337Z"
   },
   {
    "duration": 127,
    "start_time": "2022-07-22T22:35:40.837Z"
   },
   {
    "duration": 11,
    "start_time": "2022-07-22T22:36:01.779Z"
   },
   {
    "duration": 2073,
    "start_time": "2022-07-22T22:36:14.705Z"
   },
   {
    "duration": 23,
    "start_time": "2022-07-22T22:36:16.780Z"
   },
   {
    "duration": 171,
    "start_time": "2022-07-22T22:36:16.805Z"
   },
   {
    "duration": 138,
    "start_time": "2022-07-22T22:36:16.978Z"
   },
   {
    "duration": 98,
    "start_time": "2022-07-22T22:36:17.125Z"
   },
   {
    "duration": 38,
    "start_time": "2022-07-22T22:36:17.226Z"
   },
   {
    "duration": 32,
    "start_time": "2022-07-22T22:36:17.266Z"
   },
   {
    "duration": 59,
    "start_time": "2022-07-22T22:36:17.299Z"
   },
   {
    "duration": 34,
    "start_time": "2022-07-22T22:36:17.359Z"
   },
   {
    "duration": 54,
    "start_time": "2022-07-22T22:36:17.396Z"
   },
   {
    "duration": 7,
    "start_time": "2022-07-22T22:36:17.451Z"
   },
   {
    "duration": 506,
    "start_time": "2022-07-22T22:36:17.459Z"
   },
   {
    "duration": 547,
    "start_time": "2022-07-22T22:36:17.967Z"
   },
   {
    "duration": 138,
    "start_time": "2022-07-22T22:36:18.516Z"
   },
   {
    "duration": 106,
    "start_time": "2022-07-22T22:36:18.655Z"
   },
   {
    "duration": 31,
    "start_time": "2022-07-22T22:36:18.763Z"
   },
   {
    "duration": 74,
    "start_time": "2022-07-22T22:36:18.796Z"
   },
   {
    "duration": 3,
    "start_time": "2022-07-22T22:36:18.872Z"
   },
   {
    "duration": 169,
    "start_time": "2022-07-22T22:36:18.877Z"
   },
   {
    "duration": 143,
    "start_time": "2022-07-22T22:36:19.048Z"
   },
   {
    "duration": 175,
    "start_time": "2022-07-22T22:36:19.192Z"
   },
   {
    "duration": 55,
    "start_time": "2022-07-22T22:36:19.369Z"
   },
   {
    "duration": 15,
    "start_time": "2022-07-22T22:36:19.427Z"
   },
   {
    "duration": 94,
    "start_time": "2022-07-22T22:36:19.444Z"
   },
   {
    "duration": 12,
    "start_time": "2022-07-22T22:36:19.540Z"
   },
   {
    "duration": 20,
    "start_time": "2022-07-22T22:36:40.078Z"
   },
   {
    "duration": 6,
    "start_time": "2022-07-22T22:37:09.268Z"
   },
   {
    "duration": 2045,
    "start_time": "2022-07-22T22:37:17.424Z"
   },
   {
    "duration": 26,
    "start_time": "2022-07-22T22:37:19.471Z"
   },
   {
    "duration": 150,
    "start_time": "2022-07-22T22:37:19.499Z"
   },
   {
    "duration": 140,
    "start_time": "2022-07-22T22:37:19.651Z"
   },
   {
    "duration": 106,
    "start_time": "2022-07-22T22:37:19.793Z"
   },
   {
    "duration": 45,
    "start_time": "2022-07-22T22:37:19.901Z"
   },
   {
    "duration": 39,
    "start_time": "2022-07-22T22:37:19.948Z"
   },
   {
    "duration": 48,
    "start_time": "2022-07-22T22:37:19.989Z"
   },
   {
    "duration": 39,
    "start_time": "2022-07-22T22:37:20.039Z"
   },
   {
    "duration": 35,
    "start_time": "2022-07-22T22:37:20.081Z"
   },
   {
    "duration": 13,
    "start_time": "2022-07-22T22:37:20.123Z"
   },
   {
    "duration": 495,
    "start_time": "2022-07-22T22:37:20.138Z"
   },
   {
    "duration": 547,
    "start_time": "2022-07-22T22:37:20.635Z"
   },
   {
    "duration": 141,
    "start_time": "2022-07-22T22:37:21.184Z"
   },
   {
    "duration": 94,
    "start_time": "2022-07-22T22:37:21.328Z"
   },
   {
    "duration": 33,
    "start_time": "2022-07-22T22:37:21.424Z"
   },
   {
    "duration": 71,
    "start_time": "2022-07-22T22:37:21.458Z"
   },
   {
    "duration": 5,
    "start_time": "2022-07-22T22:37:21.531Z"
   },
   {
    "duration": 160,
    "start_time": "2022-07-22T22:37:21.538Z"
   },
   {
    "duration": 147,
    "start_time": "2022-07-22T22:37:21.700Z"
   },
   {
    "duration": 168,
    "start_time": "2022-07-22T22:37:21.849Z"
   },
   {
    "duration": 53,
    "start_time": "2022-07-22T22:37:22.023Z"
   },
   {
    "duration": 12,
    "start_time": "2022-07-22T22:37:22.078Z"
   },
   {
    "duration": 14,
    "start_time": "2022-07-22T22:37:22.092Z"
   },
   {
    "duration": 36,
    "start_time": "2022-07-22T22:37:22.108Z"
   },
   {
    "duration": 5,
    "start_time": "2022-07-22T22:38:02.285Z"
   },
   {
    "duration": 97,
    "start_time": "2022-07-22T22:38:20.963Z"
   },
   {
    "duration": 1939,
    "start_time": "2022-07-22T22:38:28.433Z"
   },
   {
    "duration": 26,
    "start_time": "2022-07-22T22:38:30.374Z"
   },
   {
    "duration": 149,
    "start_time": "2022-07-22T22:38:30.402Z"
   },
   {
    "duration": 131,
    "start_time": "2022-07-22T22:38:30.554Z"
   },
   {
    "duration": 122,
    "start_time": "2022-07-22T22:38:30.687Z"
   },
   {
    "duration": 38,
    "start_time": "2022-07-22T22:38:30.811Z"
   },
   {
    "duration": 50,
    "start_time": "2022-07-22T22:38:30.851Z"
   },
   {
    "duration": 92,
    "start_time": "2022-07-22T22:38:30.902Z"
   },
   {
    "duration": 50,
    "start_time": "2022-07-22T22:38:30.996Z"
   },
   {
    "duration": 47,
    "start_time": "2022-07-22T22:38:31.050Z"
   },
   {
    "duration": 35,
    "start_time": "2022-07-22T22:38:31.099Z"
   },
   {
    "duration": 495,
    "start_time": "2022-07-22T22:38:31.136Z"
   },
   {
    "duration": 553,
    "start_time": "2022-07-22T22:38:31.633Z"
   },
   {
    "duration": 131,
    "start_time": "2022-07-22T22:38:32.188Z"
   },
   {
    "duration": 87,
    "start_time": "2022-07-22T22:38:32.323Z"
   },
   {
    "duration": 38,
    "start_time": "2022-07-22T22:38:32.413Z"
   },
   {
    "duration": 76,
    "start_time": "2022-07-22T22:38:32.453Z"
   },
   {
    "duration": 4,
    "start_time": "2022-07-22T22:38:32.531Z"
   },
   {
    "duration": 180,
    "start_time": "2022-07-22T22:38:32.537Z"
   },
   {
    "duration": 146,
    "start_time": "2022-07-22T22:38:32.719Z"
   },
   {
    "duration": 176,
    "start_time": "2022-07-22T22:38:32.867Z"
   },
   {
    "duration": 5,
    "start_time": "2022-07-22T22:38:33.045Z"
   },
   {
    "duration": 39,
    "start_time": "2022-07-22T22:38:33.051Z"
   },
   {
    "duration": 23,
    "start_time": "2022-07-22T22:38:33.092Z"
   },
   {
    "duration": 123,
    "start_time": "2022-07-22T22:54:17.137Z"
   },
   {
    "duration": 121,
    "start_time": "2022-07-22T22:54:24.575Z"
   },
   {
    "duration": 150,
    "start_time": "2022-07-22T22:54:33.292Z"
   },
   {
    "duration": 168,
    "start_time": "2022-07-22T22:56:41.100Z"
   },
   {
    "duration": 139,
    "start_time": "2022-07-22T22:56:45.497Z"
   },
   {
    "duration": 142,
    "start_time": "2022-07-22T22:56:48.877Z"
   },
   {
    "duration": 215,
    "start_time": "2022-07-22T22:56:59.342Z"
   },
   {
    "duration": 195,
    "start_time": "2022-07-22T22:57:04.319Z"
   },
   {
    "duration": 8,
    "start_time": "2022-07-22T22:58:12.480Z"
   },
   {
    "duration": 13,
    "start_time": "2022-07-22T22:58:25.079Z"
   },
   {
    "duration": 8,
    "start_time": "2022-07-22T22:59:05.773Z"
   },
   {
    "duration": 2184,
    "start_time": "2022-07-22T23:01:22.917Z"
   },
   {
    "duration": 30,
    "start_time": "2022-07-22T23:01:25.103Z"
   },
   {
    "duration": 144,
    "start_time": "2022-07-22T23:01:25.135Z"
   },
   {
    "duration": 150,
    "start_time": "2022-07-22T23:01:25.281Z"
   },
   {
    "duration": 119,
    "start_time": "2022-07-22T23:01:25.433Z"
   },
   {
    "duration": 37,
    "start_time": "2022-07-22T23:01:25.554Z"
   },
   {
    "duration": 53,
    "start_time": "2022-07-22T23:01:25.593Z"
   },
   {
    "duration": 46,
    "start_time": "2022-07-22T23:01:25.648Z"
   },
   {
    "duration": 47,
    "start_time": "2022-07-22T23:01:25.696Z"
   },
   {
    "duration": 41,
    "start_time": "2022-07-22T23:01:25.746Z"
   },
   {
    "duration": 14,
    "start_time": "2022-07-22T23:01:25.789Z"
   },
   {
    "duration": 564,
    "start_time": "2022-07-22T23:01:25.805Z"
   },
   {
    "duration": 695,
    "start_time": "2022-07-22T23:01:26.370Z"
   },
   {
    "duration": 144,
    "start_time": "2022-07-22T23:01:27.067Z"
   },
   {
    "duration": 113,
    "start_time": "2022-07-22T23:01:27.213Z"
   },
   {
    "duration": 35,
    "start_time": "2022-07-22T23:01:27.327Z"
   },
   {
    "duration": 82,
    "start_time": "2022-07-22T23:01:27.363Z"
   },
   {
    "duration": 4,
    "start_time": "2022-07-22T23:01:27.447Z"
   },
   {
    "duration": 181,
    "start_time": "2022-07-22T23:01:27.452Z"
   },
   {
    "duration": 156,
    "start_time": "2022-07-22T23:01:27.635Z"
   },
   {
    "duration": 189,
    "start_time": "2022-07-22T23:01:27.793Z"
   },
   {
    "duration": 7,
    "start_time": "2022-07-22T23:01:27.986Z"
   },
   {
    "duration": 47,
    "start_time": "2022-07-22T23:01:27.995Z"
   },
   {
    "duration": 12,
    "start_time": "2022-07-22T23:01:28.044Z"
   },
   {
    "duration": 21,
    "start_time": "2022-07-22T23:01:28.058Z"
   },
   {
    "duration": 16,
    "start_time": "2022-07-22T23:01:28.081Z"
   },
   {
    "duration": 10,
    "start_time": "2022-07-22T23:01:28.099Z"
   },
   {
    "duration": 2085,
    "start_time": "2022-07-22T23:01:59.258Z"
   },
   {
    "duration": 28,
    "start_time": "2022-07-22T23:02:01.345Z"
   },
   {
    "duration": 159,
    "start_time": "2022-07-22T23:02:01.374Z"
   },
   {
    "duration": 138,
    "start_time": "2022-07-22T23:02:01.536Z"
   },
   {
    "duration": 112,
    "start_time": "2022-07-22T23:02:01.677Z"
   },
   {
    "duration": 46,
    "start_time": "2022-07-22T23:02:01.791Z"
   },
   {
    "duration": 77,
    "start_time": "2022-07-22T23:02:01.839Z"
   },
   {
    "duration": 56,
    "start_time": "2022-07-22T23:02:01.918Z"
   },
   {
    "duration": 56,
    "start_time": "2022-07-22T23:02:01.976Z"
   },
   {
    "duration": 78,
    "start_time": "2022-07-22T23:02:02.037Z"
   },
   {
    "duration": 53,
    "start_time": "2022-07-22T23:02:02.117Z"
   },
   {
    "duration": 536,
    "start_time": "2022-07-22T23:02:02.172Z"
   },
   {
    "duration": 601,
    "start_time": "2022-07-22T23:02:02.710Z"
   },
   {
    "duration": 130,
    "start_time": "2022-07-22T23:02:03.312Z"
   },
   {
    "duration": 104,
    "start_time": "2022-07-22T23:02:03.444Z"
   },
   {
    "duration": 37,
    "start_time": "2022-07-22T23:02:03.550Z"
   },
   {
    "duration": 71,
    "start_time": "2022-07-22T23:02:03.589Z"
   },
   {
    "duration": 3,
    "start_time": "2022-07-22T23:02:03.662Z"
   },
   {
    "duration": 167,
    "start_time": "2022-07-22T23:02:03.667Z"
   },
   {
    "duration": 176,
    "start_time": "2022-07-22T23:02:03.837Z"
   },
   {
    "duration": 174,
    "start_time": "2022-07-22T23:02:04.015Z"
   },
   {
    "duration": 5,
    "start_time": "2022-07-22T23:02:04.191Z"
   },
   {
    "duration": 48,
    "start_time": "2022-07-22T23:02:04.198Z"
   },
   {
    "duration": 16,
    "start_time": "2022-07-22T23:02:04.248Z"
   },
   {
    "duration": 31,
    "start_time": "2022-07-22T23:02:04.266Z"
   },
   {
    "duration": 21,
    "start_time": "2022-07-22T23:02:04.299Z"
   },
   {
    "duration": 18,
    "start_time": "2022-07-22T23:02:04.321Z"
   },
   {
    "duration": 5,
    "start_time": "2022-07-22T23:02:55.467Z"
   },
   {
    "duration": 12,
    "start_time": "2022-07-22T23:02:57.044Z"
   },
   {
    "duration": 7,
    "start_time": "2022-07-22T23:02:59.851Z"
   },
   {
    "duration": 2275,
    "start_time": "2022-07-22T23:03:08.412Z"
   },
   {
    "duration": 38,
    "start_time": "2022-07-22T23:03:10.689Z"
   },
   {
    "duration": 162,
    "start_time": "2022-07-22T23:03:10.729Z"
   },
   {
    "duration": 166,
    "start_time": "2022-07-22T23:03:10.894Z"
   },
   {
    "duration": 121,
    "start_time": "2022-07-22T23:03:11.062Z"
   },
   {
    "duration": 37,
    "start_time": "2022-07-22T23:03:11.186Z"
   },
   {
    "duration": 62,
    "start_time": "2022-07-22T23:03:11.226Z"
   },
   {
    "duration": 56,
    "start_time": "2022-07-22T23:03:11.290Z"
   },
   {
    "duration": 70,
    "start_time": "2022-07-22T23:03:11.348Z"
   },
   {
    "duration": 74,
    "start_time": "2022-07-22T23:03:11.421Z"
   },
   {
    "duration": 27,
    "start_time": "2022-07-22T23:03:11.497Z"
   },
   {
    "duration": 531,
    "start_time": "2022-07-22T23:03:11.526Z"
   },
   {
    "duration": 562,
    "start_time": "2022-07-22T23:03:12.058Z"
   },
   {
    "duration": 125,
    "start_time": "2022-07-22T23:03:12.622Z"
   },
   {
    "duration": 102,
    "start_time": "2022-07-22T23:03:12.749Z"
   },
   {
    "duration": 32,
    "start_time": "2022-07-22T23:03:12.852Z"
   },
   {
    "duration": 78,
    "start_time": "2022-07-22T23:03:12.886Z"
   },
   {
    "duration": 5,
    "start_time": "2022-07-22T23:03:12.966Z"
   },
   {
    "duration": 191,
    "start_time": "2022-07-22T23:03:12.972Z"
   },
   {
    "duration": 162,
    "start_time": "2022-07-22T23:03:13.165Z"
   },
   {
    "duration": 166,
    "start_time": "2022-07-22T23:03:13.328Z"
   },
   {
    "duration": 6,
    "start_time": "2022-07-22T23:03:13.496Z"
   },
   {
    "duration": 43,
    "start_time": "2022-07-22T23:03:13.503Z"
   },
   {
    "duration": 19,
    "start_time": "2022-07-22T23:03:13.548Z"
   },
   {
    "duration": 23,
    "start_time": "2022-07-22T23:03:13.569Z"
   },
   {
    "duration": 21,
    "start_time": "2022-07-22T23:03:13.595Z"
   },
   {
    "duration": 10,
    "start_time": "2022-07-22T23:03:13.618Z"
   },
   {
    "duration": 2216,
    "start_time": "2022-07-22T23:04:33.617Z"
   },
   {
    "duration": 25,
    "start_time": "2022-07-22T23:04:35.835Z"
   },
   {
    "duration": 140,
    "start_time": "2022-07-22T23:04:35.861Z"
   },
   {
    "duration": 137,
    "start_time": "2022-07-22T23:04:36.003Z"
   },
   {
    "duration": 104,
    "start_time": "2022-07-22T23:04:36.142Z"
   },
   {
    "duration": 34,
    "start_time": "2022-07-22T23:04:36.248Z"
   },
   {
    "duration": 43,
    "start_time": "2022-07-22T23:04:36.284Z"
   },
   {
    "duration": 36,
    "start_time": "2022-07-22T23:04:36.329Z"
   },
   {
    "duration": 41,
    "start_time": "2022-07-22T23:04:36.367Z"
   },
   {
    "duration": 36,
    "start_time": "2022-07-22T23:04:36.411Z"
   },
   {
    "duration": 9,
    "start_time": "2022-07-22T23:04:36.448Z"
   },
   {
    "duration": 484,
    "start_time": "2022-07-22T23:04:36.458Z"
   },
   {
    "duration": 513,
    "start_time": "2022-07-22T23:04:36.944Z"
   },
   {
    "duration": 124,
    "start_time": "2022-07-22T23:04:37.459Z"
   },
   {
    "duration": 100,
    "start_time": "2022-07-22T23:04:37.585Z"
   },
   {
    "duration": 49,
    "start_time": "2022-07-22T23:04:37.687Z"
   },
   {
    "duration": 75,
    "start_time": "2022-07-22T23:04:37.738Z"
   },
   {
    "duration": 11,
    "start_time": "2022-07-22T23:04:37.824Z"
   },
   {
    "duration": 177,
    "start_time": "2022-07-22T23:04:37.837Z"
   },
   {
    "duration": 147,
    "start_time": "2022-07-22T23:04:38.015Z"
   },
   {
    "duration": 170,
    "start_time": "2022-07-22T23:04:38.163Z"
   },
   {
    "duration": 6,
    "start_time": "2022-07-22T23:04:38.335Z"
   },
   {
    "duration": 41,
    "start_time": "2022-07-22T23:04:38.343Z"
   },
   {
    "duration": 18,
    "start_time": "2022-07-22T23:04:38.385Z"
   },
   {
    "duration": 39,
    "start_time": "2022-07-22T23:04:38.405Z"
   },
   {
    "duration": 92,
    "start_time": "2022-07-22T23:04:38.446Z"
   },
   {
    "duration": 88,
    "start_time": "2022-07-22T23:04:38.539Z"
   },
   {
    "duration": 2045,
    "start_time": "2022-07-22T23:06:00.638Z"
   },
   {
    "duration": 25,
    "start_time": "2022-07-22T23:06:02.685Z"
   },
   {
    "duration": 145,
    "start_time": "2022-07-22T23:06:02.711Z"
   },
   {
    "duration": 155,
    "start_time": "2022-07-22T23:06:02.858Z"
   },
   {
    "duration": 102,
    "start_time": "2022-07-22T23:06:03.023Z"
   },
   {
    "duration": 35,
    "start_time": "2022-07-22T23:06:03.127Z"
   },
   {
    "duration": 47,
    "start_time": "2022-07-22T23:06:03.163Z"
   },
   {
    "duration": 72,
    "start_time": "2022-07-22T23:06:03.212Z"
   },
   {
    "duration": 72,
    "start_time": "2022-07-22T23:06:03.286Z"
   },
   {
    "duration": 61,
    "start_time": "2022-07-22T23:06:03.361Z"
   },
   {
    "duration": 21,
    "start_time": "2022-07-22T23:06:03.424Z"
   },
   {
    "duration": 524,
    "start_time": "2022-07-22T23:06:03.447Z"
   },
   {
    "duration": 591,
    "start_time": "2022-07-22T23:06:03.973Z"
   },
   {
    "duration": 140,
    "start_time": "2022-07-22T23:06:04.566Z"
   },
   {
    "duration": 94,
    "start_time": "2022-07-22T23:06:04.708Z"
   },
   {
    "duration": 38,
    "start_time": "2022-07-22T23:06:04.804Z"
   },
   {
    "duration": 54,
    "start_time": "2022-07-22T23:06:04.844Z"
   },
   {
    "duration": 3,
    "start_time": "2022-07-22T23:06:04.899Z"
   },
   {
    "duration": 154,
    "start_time": "2022-07-22T23:06:04.922Z"
   },
   {
    "duration": 141,
    "start_time": "2022-07-22T23:06:05.078Z"
   },
   {
    "duration": 168,
    "start_time": "2022-07-22T23:06:05.223Z"
   },
   {
    "duration": 6,
    "start_time": "2022-07-22T23:06:05.393Z"
   },
   {
    "duration": 44,
    "start_time": "2022-07-22T23:06:05.401Z"
   },
   {
    "duration": 22,
    "start_time": "2022-07-22T23:06:05.447Z"
   },
   {
    "duration": 15,
    "start_time": "2022-07-22T23:06:05.471Z"
   },
   {
    "duration": 16,
    "start_time": "2022-07-22T23:06:05.488Z"
   },
   {
    "duration": 17,
    "start_time": "2022-07-22T23:06:05.506Z"
   },
   {
    "duration": 1101,
    "start_time": "2022-07-22T23:14:11.023Z"
   },
   {
    "duration": 2073,
    "start_time": "2022-07-22T23:14:19.440Z"
   },
   {
    "duration": 29,
    "start_time": "2022-07-22T23:14:21.516Z"
   },
   {
    "duration": 138,
    "start_time": "2022-07-22T23:14:21.547Z"
   },
   {
    "duration": 143,
    "start_time": "2022-07-22T23:14:21.687Z"
   },
   {
    "duration": 105,
    "start_time": "2022-07-22T23:14:21.832Z"
   },
   {
    "duration": 42,
    "start_time": "2022-07-22T23:14:21.938Z"
   },
   {
    "duration": 55,
    "start_time": "2022-07-22T23:14:21.982Z"
   },
   {
    "duration": 41,
    "start_time": "2022-07-22T23:14:22.038Z"
   },
   {
    "duration": 51,
    "start_time": "2022-07-22T23:14:22.081Z"
   },
   {
    "duration": 35,
    "start_time": "2022-07-22T23:14:22.134Z"
   },
   {
    "duration": 16,
    "start_time": "2022-07-22T23:14:22.171Z"
   },
   {
    "duration": 540,
    "start_time": "2022-07-22T23:14:22.190Z"
   },
   {
    "duration": 613,
    "start_time": "2022-07-22T23:14:22.731Z"
   },
   {
    "duration": 129,
    "start_time": "2022-07-22T23:14:23.346Z"
   },
   {
    "duration": 104,
    "start_time": "2022-07-22T23:14:23.477Z"
   },
   {
    "duration": 42,
    "start_time": "2022-07-22T23:14:23.582Z"
   },
   {
    "duration": 55,
    "start_time": "2022-07-22T23:14:23.625Z"
   },
   {
    "duration": 4,
    "start_time": "2022-07-22T23:14:23.682Z"
   },
   {
    "duration": 193,
    "start_time": "2022-07-22T23:14:23.688Z"
   },
   {
    "duration": 166,
    "start_time": "2022-07-22T23:14:23.882Z"
   },
   {
    "duration": 185,
    "start_time": "2022-07-22T23:14:24.049Z"
   },
   {
    "duration": 6,
    "start_time": "2022-07-22T23:14:24.236Z"
   },
   {
    "duration": 39,
    "start_time": "2022-07-22T23:14:24.244Z"
   },
   {
    "duration": 33,
    "start_time": "2022-07-22T23:14:24.285Z"
   },
   {
    "duration": 29,
    "start_time": "2022-07-22T23:14:24.320Z"
   },
   {
    "duration": 28,
    "start_time": "2022-07-22T23:14:24.350Z"
   },
   {
    "duration": 30,
    "start_time": "2022-07-22T23:14:24.381Z"
   },
   {
    "duration": 2207,
    "start_time": "2022-07-22T23:14:44.150Z"
   },
   {
    "duration": 26,
    "start_time": "2022-07-22T23:14:46.360Z"
   },
   {
    "duration": 149,
    "start_time": "2022-07-22T23:14:46.388Z"
   },
   {
    "duration": 137,
    "start_time": "2022-07-22T23:14:46.540Z"
   },
   {
    "duration": 111,
    "start_time": "2022-07-22T23:14:46.678Z"
   },
   {
    "duration": 36,
    "start_time": "2022-07-22T23:14:46.790Z"
   },
   {
    "duration": 43,
    "start_time": "2022-07-22T23:14:46.828Z"
   },
   {
    "duration": 43,
    "start_time": "2022-07-22T23:14:46.873Z"
   },
   {
    "duration": 40,
    "start_time": "2022-07-22T23:14:46.923Z"
   },
   {
    "duration": 52,
    "start_time": "2022-07-22T23:14:46.966Z"
   },
   {
    "duration": 27,
    "start_time": "2022-07-22T23:14:47.020Z"
   },
   {
    "duration": 492,
    "start_time": "2022-07-22T23:14:47.049Z"
   },
   {
    "duration": 568,
    "start_time": "2022-07-22T23:14:47.543Z"
   },
   {
    "duration": 153,
    "start_time": "2022-07-22T23:14:48.113Z"
   },
   {
    "duration": 100,
    "start_time": "2022-07-22T23:14:48.268Z"
   },
   {
    "duration": 29,
    "start_time": "2022-07-22T23:14:48.370Z"
   },
   {
    "duration": 66,
    "start_time": "2022-07-22T23:14:48.401Z"
   },
   {
    "duration": 3,
    "start_time": "2022-07-22T23:14:48.469Z"
   },
   {
    "duration": 171,
    "start_time": "2022-07-22T23:14:48.474Z"
   },
   {
    "duration": 140,
    "start_time": "2022-07-22T23:14:48.647Z"
   },
   {
    "duration": 167,
    "start_time": "2022-07-22T23:14:48.788Z"
   },
   {
    "duration": 6,
    "start_time": "2022-07-22T23:14:48.957Z"
   },
   {
    "duration": 56,
    "start_time": "2022-07-22T23:14:48.965Z"
   },
   {
    "duration": 15,
    "start_time": "2022-07-22T23:14:49.023Z"
   },
   {
    "duration": 29,
    "start_time": "2022-07-22T23:14:49.040Z"
   },
   {
    "duration": 49,
    "start_time": "2022-07-22T23:14:49.070Z"
   },
   {
    "duration": 25,
    "start_time": "2022-07-22T23:14:49.121Z"
   },
   {
    "duration": 2096,
    "start_time": "2022-07-22T23:15:29.746Z"
   },
   {
    "duration": 26,
    "start_time": "2022-07-22T23:15:31.844Z"
   },
   {
    "duration": 233,
    "start_time": "2022-07-22T23:15:31.872Z"
   },
   {
    "duration": 129,
    "start_time": "2022-07-22T23:15:32.107Z"
   },
   {
    "duration": 128,
    "start_time": "2022-07-22T23:15:32.239Z"
   },
   {
    "duration": 32,
    "start_time": "2022-07-22T23:15:32.369Z"
   },
   {
    "duration": 45,
    "start_time": "2022-07-22T23:15:32.403Z"
   },
   {
    "duration": 55,
    "start_time": "2022-07-22T23:15:32.450Z"
   },
   {
    "duration": 52,
    "start_time": "2022-07-22T23:15:32.507Z"
   },
   {
    "duration": 51,
    "start_time": "2022-07-22T23:15:32.562Z"
   },
   {
    "duration": 26,
    "start_time": "2022-07-22T23:15:32.614Z"
   },
   {
    "duration": 541,
    "start_time": "2022-07-22T23:15:32.643Z"
   },
   {
    "duration": 566,
    "start_time": "2022-07-22T23:15:33.186Z"
   },
   {
    "duration": 130,
    "start_time": "2022-07-22T23:15:33.754Z"
   },
   {
    "duration": 155,
    "start_time": "2022-07-22T23:15:33.886Z"
   },
   {
    "duration": 42,
    "start_time": "2022-07-22T23:15:34.044Z"
   },
   {
    "duration": 72,
    "start_time": "2022-07-22T23:15:34.089Z"
   },
   {
    "duration": 4,
    "start_time": "2022-07-22T23:15:34.164Z"
   },
   {
    "duration": 173,
    "start_time": "2022-07-22T23:15:34.169Z"
   },
   {
    "duration": 172,
    "start_time": "2022-07-22T23:15:34.343Z"
   },
   {
    "duration": 173,
    "start_time": "2022-07-22T23:15:34.522Z"
   },
   {
    "duration": 6,
    "start_time": "2022-07-22T23:15:34.697Z"
   },
   {
    "duration": 52,
    "start_time": "2022-07-22T23:15:34.704Z"
   },
   {
    "duration": 30,
    "start_time": "2022-07-22T23:15:34.759Z"
   },
   {
    "duration": 17,
    "start_time": "2022-07-22T23:15:34.791Z"
   },
   {
    "duration": 15,
    "start_time": "2022-07-22T23:15:34.810Z"
   },
   {
    "duration": 13,
    "start_time": "2022-07-22T23:15:34.828Z"
   },
   {
    "duration": 100,
    "start_time": "2022-07-22T23:22:39.091Z"
   },
   {
    "duration": 1991,
    "start_time": "2022-07-22T23:22:56.986Z"
   },
   {
    "duration": 25,
    "start_time": "2022-07-22T23:22:58.979Z"
   },
   {
    "duration": 151,
    "start_time": "2022-07-22T23:22:59.005Z"
   },
   {
    "duration": 120,
    "start_time": "2022-07-22T23:22:59.158Z"
   },
   {
    "duration": 102,
    "start_time": "2022-07-22T23:22:59.279Z"
   },
   {
    "duration": 41,
    "start_time": "2022-07-22T23:22:59.383Z"
   },
   {
    "duration": 36,
    "start_time": "2022-07-22T23:22:59.426Z"
   },
   {
    "duration": 48,
    "start_time": "2022-07-22T23:22:59.463Z"
   },
   {
    "duration": 36,
    "start_time": "2022-07-22T23:22:59.513Z"
   },
   {
    "duration": 36,
    "start_time": "2022-07-22T23:22:59.552Z"
   },
   {
    "duration": 13,
    "start_time": "2022-07-22T23:22:59.589Z"
   },
   {
    "duration": 490,
    "start_time": "2022-07-22T23:22:59.604Z"
   },
   {
    "duration": 536,
    "start_time": "2022-07-22T23:23:00.096Z"
   },
   {
    "duration": 121,
    "start_time": "2022-07-22T23:23:00.634Z"
   },
   {
    "duration": 134,
    "start_time": "2022-07-22T23:23:00.757Z"
   },
   {
    "duration": 53,
    "start_time": "2022-07-22T23:23:00.893Z"
   },
   {
    "duration": 57,
    "start_time": "2022-07-22T23:23:00.949Z"
   },
   {
    "duration": 3,
    "start_time": "2022-07-22T23:23:01.008Z"
   },
   {
    "duration": 174,
    "start_time": "2022-07-22T23:23:01.023Z"
   },
   {
    "duration": 137,
    "start_time": "2022-07-22T23:23:01.199Z"
   },
   {
    "duration": 171,
    "start_time": "2022-07-22T23:23:01.338Z"
   },
   {
    "duration": 12,
    "start_time": "2022-07-22T23:23:01.511Z"
   },
   {
    "duration": 73,
    "start_time": "2022-07-22T23:23:01.525Z"
   },
   {
    "duration": 50,
    "start_time": "2022-07-22T23:23:01.600Z"
   },
   {
    "duration": 114,
    "start_time": "2022-07-22T23:23:01.652Z"
   },
   {
    "duration": 0,
    "start_time": "2022-07-22T23:23:01.768Z"
   },
   {
    "duration": 0,
    "start_time": "2022-07-22T23:23:01.768Z"
   },
   {
    "duration": 0,
    "start_time": "2022-07-22T23:23:01.769Z"
   },
   {
    "duration": 56,
    "start_time": "2022-07-22T23:23:51.413Z"
   },
   {
    "duration": 101,
    "start_time": "2022-07-22T23:24:02.341Z"
   },
   {
    "duration": 73,
    "start_time": "2022-07-22T23:24:07.517Z"
   },
   {
    "duration": 57,
    "start_time": "2022-07-22T23:24:18.088Z"
   },
   {
    "duration": 14,
    "start_time": "2022-07-22T23:24:26.038Z"
   },
   {
    "duration": 7,
    "start_time": "2022-07-22T23:24:59.206Z"
   },
   {
    "duration": 47,
    "start_time": "2022-07-22T23:25:58.351Z"
   },
   {
    "duration": 7,
    "start_time": "2022-07-22T23:26:05.737Z"
   },
   {
    "duration": 7,
    "start_time": "2022-07-22T23:26:25.744Z"
   },
   {
    "duration": 2082,
    "start_time": "2022-07-22T23:31:19.961Z"
   },
   {
    "duration": 26,
    "start_time": "2022-07-22T23:31:22.045Z"
   },
   {
    "duration": 139,
    "start_time": "2022-07-22T23:31:22.072Z"
   },
   {
    "duration": 135,
    "start_time": "2022-07-22T23:31:22.213Z"
   },
   {
    "duration": 109,
    "start_time": "2022-07-22T23:31:22.349Z"
   },
   {
    "duration": 35,
    "start_time": "2022-07-22T23:31:22.460Z"
   },
   {
    "duration": 52,
    "start_time": "2022-07-22T23:31:22.497Z"
   },
   {
    "duration": 51,
    "start_time": "2022-07-22T23:31:22.550Z"
   },
   {
    "duration": 42,
    "start_time": "2022-07-22T23:31:22.602Z"
   },
   {
    "duration": 32,
    "start_time": "2022-07-22T23:31:22.647Z"
   },
   {
    "duration": 10,
    "start_time": "2022-07-22T23:31:22.681Z"
   },
   {
    "duration": 525,
    "start_time": "2022-07-22T23:31:22.693Z"
   },
   {
    "duration": 555,
    "start_time": "2022-07-22T23:31:23.221Z"
   },
   {
    "duration": 160,
    "start_time": "2022-07-22T23:31:23.778Z"
   },
   {
    "duration": 100,
    "start_time": "2022-07-22T23:31:23.940Z"
   },
   {
    "duration": 30,
    "start_time": "2022-07-22T23:31:24.042Z"
   },
   {
    "duration": 70,
    "start_time": "2022-07-22T23:31:24.073Z"
   },
   {
    "duration": 4,
    "start_time": "2022-07-22T23:31:24.145Z"
   },
   {
    "duration": 15624,
    "start_time": "2022-07-22T23:31:24.150Z"
   },
   {
    "duration": 0,
    "start_time": "2022-07-22T23:31:39.776Z"
   },
   {
    "duration": 0,
    "start_time": "2022-07-22T23:31:39.777Z"
   },
   {
    "duration": 0,
    "start_time": "2022-07-22T23:31:39.779Z"
   },
   {
    "duration": 0,
    "start_time": "2022-07-22T23:31:39.780Z"
   },
   {
    "duration": 0,
    "start_time": "2022-07-22T23:31:39.782Z"
   },
   {
    "duration": 0,
    "start_time": "2022-07-22T23:31:39.783Z"
   },
   {
    "duration": 0,
    "start_time": "2022-07-22T23:31:39.784Z"
   },
   {
    "duration": 1,
    "start_time": "2022-07-22T23:31:39.785Z"
   },
   {
    "duration": 0,
    "start_time": "2022-07-22T23:31:39.787Z"
   },
   {
    "duration": 5,
    "start_time": "2022-07-22T23:31:52.777Z"
   },
   {
    "duration": 16823,
    "start_time": "2022-07-22T23:31:59.250Z"
   },
   {
    "duration": 10,
    "start_time": "2022-07-22T23:34:11.271Z"
   },
   {
    "duration": 2094,
    "start_time": "2022-07-22T23:34:33.785Z"
   },
   {
    "duration": 27,
    "start_time": "2022-07-22T23:34:35.882Z"
   },
   {
    "duration": 157,
    "start_time": "2022-07-22T23:34:35.910Z"
   },
   {
    "duration": 128,
    "start_time": "2022-07-22T23:34:36.070Z"
   },
   {
    "duration": 117,
    "start_time": "2022-07-22T23:34:36.200Z"
   },
   {
    "duration": 56,
    "start_time": "2022-07-22T23:34:36.319Z"
   },
   {
    "duration": 54,
    "start_time": "2022-07-22T23:34:36.377Z"
   },
   {
    "duration": 42,
    "start_time": "2022-07-22T23:34:36.432Z"
   },
   {
    "duration": 63,
    "start_time": "2022-07-22T23:34:36.476Z"
   },
   {
    "duration": 63,
    "start_time": "2022-07-22T23:34:36.542Z"
   },
   {
    "duration": 43,
    "start_time": "2022-07-22T23:34:36.607Z"
   },
   {
    "duration": 530,
    "start_time": "2022-07-22T23:34:36.653Z"
   },
   {
    "duration": 534,
    "start_time": "2022-07-22T23:34:37.184Z"
   },
   {
    "duration": 136,
    "start_time": "2022-07-22T23:34:37.720Z"
   },
   {
    "duration": 109,
    "start_time": "2022-07-22T23:34:37.858Z"
   },
   {
    "duration": 33,
    "start_time": "2022-07-22T23:34:37.969Z"
   },
   {
    "duration": 66,
    "start_time": "2022-07-22T23:34:38.004Z"
   },
   {
    "duration": 4,
    "start_time": "2022-07-22T23:34:38.072Z"
   },
   {
    "duration": 1866,
    "start_time": "2022-07-22T23:34:38.079Z"
   },
   {
    "duration": 114,
    "start_time": "2022-07-22T23:34:39.947Z"
   },
   {
    "duration": 0,
    "start_time": "2022-07-22T23:34:40.063Z"
   },
   {
    "duration": 0,
    "start_time": "2022-07-22T23:34:40.065Z"
   },
   {
    "duration": 0,
    "start_time": "2022-07-22T23:34:40.066Z"
   },
   {
    "duration": 0,
    "start_time": "2022-07-22T23:34:40.067Z"
   },
   {
    "duration": 0,
    "start_time": "2022-07-22T23:34:40.068Z"
   },
   {
    "duration": 0,
    "start_time": "2022-07-22T23:34:40.069Z"
   },
   {
    "duration": 0,
    "start_time": "2022-07-22T23:34:40.070Z"
   },
   {
    "duration": 0,
    "start_time": "2022-07-22T23:34:40.072Z"
   },
   {
    "duration": 3086,
    "start_time": "2022-07-22T23:35:43.810Z"
   },
   {
    "duration": 16878,
    "start_time": "2022-07-22T23:35:54.082Z"
   },
   {
    "duration": 2385,
    "start_time": "2022-07-22T23:36:22.380Z"
   },
   {
    "duration": 5,
    "start_time": "2022-07-22T23:37:49.383Z"
   },
   {
    "duration": 4110,
    "start_time": "2022-07-22T23:37:52.156Z"
   },
   {
    "duration": 1884,
    "start_time": "2022-07-22T23:38:11.118Z"
   },
   {
    "duration": 2588,
    "start_time": "2022-07-22T23:38:19.005Z"
   },
   {
    "duration": 1783,
    "start_time": "2022-07-22T23:38:42.321Z"
   },
   {
    "duration": 1798,
    "start_time": "2022-07-22T23:39:01.412Z"
   },
   {
    "duration": 5,
    "start_time": "2022-07-22T23:41:02.698Z"
   },
   {
    "duration": 1830,
    "start_time": "2022-07-22T23:41:07.353Z"
   },
   {
    "duration": 2129,
    "start_time": "2022-07-22T23:41:22.516Z"
   },
   {
    "duration": 28,
    "start_time": "2022-07-22T23:41:24.648Z"
   },
   {
    "duration": 156,
    "start_time": "2022-07-22T23:41:24.678Z"
   },
   {
    "duration": 146,
    "start_time": "2022-07-22T23:41:24.837Z"
   },
   {
    "duration": 121,
    "start_time": "2022-07-22T23:41:24.985Z"
   },
   {
    "duration": 34,
    "start_time": "2022-07-22T23:41:25.108Z"
   },
   {
    "duration": 40,
    "start_time": "2022-07-22T23:41:25.144Z"
   },
   {
    "duration": 46,
    "start_time": "2022-07-22T23:41:25.186Z"
   },
   {
    "duration": 44,
    "start_time": "2022-07-22T23:41:25.234Z"
   },
   {
    "duration": 65,
    "start_time": "2022-07-22T23:41:25.282Z"
   },
   {
    "duration": 20,
    "start_time": "2022-07-22T23:41:25.349Z"
   },
   {
    "duration": 554,
    "start_time": "2022-07-22T23:41:25.372Z"
   },
   {
    "duration": 685,
    "start_time": "2022-07-22T23:41:25.928Z"
   },
   {
    "duration": 137,
    "start_time": "2022-07-22T23:41:26.616Z"
   },
   {
    "duration": 106,
    "start_time": "2022-07-22T23:41:26.755Z"
   },
   {
    "duration": 33,
    "start_time": "2022-07-22T23:41:26.863Z"
   },
   {
    "duration": 88,
    "start_time": "2022-07-22T23:41:26.898Z"
   },
   {
    "duration": 5,
    "start_time": "2022-07-22T23:41:26.988Z"
   },
   {
    "duration": 1756,
    "start_time": "2022-07-22T23:41:26.995Z"
   },
   {
    "duration": 115,
    "start_time": "2022-07-22T23:41:28.752Z"
   },
   {
    "duration": 0,
    "start_time": "2022-07-22T23:41:28.869Z"
   },
   {
    "duration": 0,
    "start_time": "2022-07-22T23:41:28.870Z"
   },
   {
    "duration": 0,
    "start_time": "2022-07-22T23:41:28.871Z"
   },
   {
    "duration": 0,
    "start_time": "2022-07-22T23:41:28.872Z"
   },
   {
    "duration": 0,
    "start_time": "2022-07-22T23:41:28.873Z"
   },
   {
    "duration": 0,
    "start_time": "2022-07-22T23:41:28.874Z"
   },
   {
    "duration": 0,
    "start_time": "2022-07-22T23:41:28.875Z"
   },
   {
    "duration": 0,
    "start_time": "2022-07-22T23:41:28.876Z"
   },
   {
    "duration": 5,
    "start_time": "2022-07-22T23:41:46.775Z"
   },
   {
    "duration": 1503,
    "start_time": "2022-07-22T23:41:48.248Z"
   },
   {
    "duration": 1698,
    "start_time": "2022-07-22T23:42:00.556Z"
   },
   {
    "duration": 1824,
    "start_time": "2022-07-22T23:44:25.253Z"
   },
   {
    "duration": 6,
    "start_time": "2022-07-22T23:47:00.767Z"
   },
   {
    "duration": 312,
    "start_time": "2022-07-22T23:47:02.742Z"
   },
   {
    "duration": 2126,
    "start_time": "2022-07-22T23:47:18.857Z"
   },
   {
    "duration": 26,
    "start_time": "2022-07-22T23:47:20.985Z"
   },
   {
    "duration": 143,
    "start_time": "2022-07-22T23:47:21.013Z"
   },
   {
    "duration": 149,
    "start_time": "2022-07-22T23:47:21.159Z"
   },
   {
    "duration": 118,
    "start_time": "2022-07-22T23:47:21.310Z"
   },
   {
    "duration": 34,
    "start_time": "2022-07-22T23:47:21.430Z"
   },
   {
    "duration": 39,
    "start_time": "2022-07-22T23:47:21.466Z"
   },
   {
    "duration": 40,
    "start_time": "2022-07-22T23:47:21.522Z"
   },
   {
    "duration": 79,
    "start_time": "2022-07-22T23:47:21.564Z"
   },
   {
    "duration": 36,
    "start_time": "2022-07-22T23:47:21.647Z"
   },
   {
    "duration": 13,
    "start_time": "2022-07-22T23:47:21.684Z"
   },
   {
    "duration": 532,
    "start_time": "2022-07-22T23:47:21.699Z"
   },
   {
    "duration": 591,
    "start_time": "2022-07-22T23:47:22.234Z"
   },
   {
    "duration": 144,
    "start_time": "2022-07-22T23:47:22.826Z"
   },
   {
    "duration": 104,
    "start_time": "2022-07-22T23:47:22.973Z"
   },
   {
    "duration": 49,
    "start_time": "2022-07-22T23:47:23.079Z"
   },
   {
    "duration": 60,
    "start_time": "2022-07-22T23:47:23.130Z"
   },
   {
    "duration": 5,
    "start_time": "2022-07-22T23:47:23.193Z"
   },
   {
    "duration": 325,
    "start_time": "2022-07-22T23:47:23.200Z"
   },
   {
    "duration": 0,
    "start_time": "2022-07-22T23:47:23.527Z"
   },
   {
    "duration": 0,
    "start_time": "2022-07-22T23:47:23.528Z"
   },
   {
    "duration": 0,
    "start_time": "2022-07-22T23:47:23.529Z"
   },
   {
    "duration": 0,
    "start_time": "2022-07-22T23:47:23.531Z"
   },
   {
    "duration": 0,
    "start_time": "2022-07-22T23:47:23.532Z"
   },
   {
    "duration": 0,
    "start_time": "2022-07-22T23:47:23.534Z"
   },
   {
    "duration": 0,
    "start_time": "2022-07-22T23:47:23.536Z"
   },
   {
    "duration": 0,
    "start_time": "2022-07-22T23:47:23.537Z"
   },
   {
    "duration": 0,
    "start_time": "2022-07-22T23:47:23.538Z"
   },
   {
    "duration": 7,
    "start_time": "2022-07-22T23:49:01.530Z"
   },
   {
    "duration": 1800,
    "start_time": "2022-07-22T23:49:03.628Z"
   },
   {
    "duration": 2101,
    "start_time": "2022-07-22T23:49:13.055Z"
   },
   {
    "duration": 29,
    "start_time": "2022-07-22T23:49:15.158Z"
   },
   {
    "duration": 158,
    "start_time": "2022-07-22T23:49:15.188Z"
   },
   {
    "duration": 155,
    "start_time": "2022-07-22T23:49:15.350Z"
   },
   {
    "duration": 106,
    "start_time": "2022-07-22T23:49:15.508Z"
   },
   {
    "duration": 37,
    "start_time": "2022-07-22T23:49:15.616Z"
   },
   {
    "duration": 51,
    "start_time": "2022-07-22T23:49:15.655Z"
   },
   {
    "duration": 48,
    "start_time": "2022-07-22T23:49:15.707Z"
   },
   {
    "duration": 56,
    "start_time": "2022-07-22T23:49:15.757Z"
   },
   {
    "duration": 44,
    "start_time": "2022-07-22T23:49:15.816Z"
   },
   {
    "duration": 27,
    "start_time": "2022-07-22T23:49:15.861Z"
   },
   {
    "duration": 543,
    "start_time": "2022-07-22T23:49:15.890Z"
   },
   {
    "duration": 555,
    "start_time": "2022-07-22T23:49:16.435Z"
   },
   {
    "duration": 138,
    "start_time": "2022-07-22T23:49:16.991Z"
   },
   {
    "duration": 98,
    "start_time": "2022-07-22T23:49:17.130Z"
   },
   {
    "duration": 32,
    "start_time": "2022-07-22T23:49:17.231Z"
   },
   {
    "duration": 76,
    "start_time": "2022-07-22T23:49:17.264Z"
   },
   {
    "duration": 5,
    "start_time": "2022-07-22T23:49:17.341Z"
   },
   {
    "duration": 1779,
    "start_time": "2022-07-22T23:49:17.348Z"
   },
   {
    "duration": 108,
    "start_time": "2022-07-22T23:49:19.128Z"
   },
   {
    "duration": 0,
    "start_time": "2022-07-22T23:49:19.238Z"
   },
   {
    "duration": 0,
    "start_time": "2022-07-22T23:49:19.240Z"
   },
   {
    "duration": 0,
    "start_time": "2022-07-22T23:49:19.240Z"
   },
   {
    "duration": 0,
    "start_time": "2022-07-22T23:49:19.241Z"
   },
   {
    "duration": 0,
    "start_time": "2022-07-22T23:49:19.243Z"
   },
   {
    "duration": 0,
    "start_time": "2022-07-22T23:49:19.244Z"
   },
   {
    "duration": 0,
    "start_time": "2022-07-22T23:49:19.245Z"
   },
   {
    "duration": 0,
    "start_time": "2022-07-22T23:49:19.246Z"
   },
   {
    "duration": 5,
    "start_time": "2022-07-22T23:49:33.754Z"
   },
   {
    "duration": 1751,
    "start_time": "2022-07-22T23:49:35.246Z"
   },
   {
    "duration": 4,
    "start_time": "2022-07-22T23:49:46.034Z"
   },
   {
    "duration": 1817,
    "start_time": "2022-07-22T23:49:47.999Z"
   },
   {
    "duration": 7,
    "start_time": "2022-07-22T23:50:10.834Z"
   },
   {
    "duration": 1982,
    "start_time": "2022-07-22T23:50:12.101Z"
   },
   {
    "duration": 7,
    "start_time": "2022-07-22T23:50:25.192Z"
   },
   {
    "duration": 1881,
    "start_time": "2022-07-22T23:50:26.397Z"
   },
   {
    "duration": 5,
    "start_time": "2022-07-22T23:52:06.553Z"
   },
   {
    "duration": 573,
    "start_time": "2022-07-22T23:52:08.565Z"
   },
   {
    "duration": 4,
    "start_time": "2022-07-22T23:52:37.257Z"
   },
   {
    "duration": 708,
    "start_time": "2022-07-22T23:52:38.747Z"
   },
   {
    "duration": 2020,
    "start_time": "2022-07-22T23:55:23.052Z"
   },
   {
    "duration": 25,
    "start_time": "2022-07-22T23:55:25.074Z"
   },
   {
    "duration": 139,
    "start_time": "2022-07-22T23:55:25.101Z"
   },
   {
    "duration": 146,
    "start_time": "2022-07-22T23:55:25.243Z"
   },
   {
    "duration": 120,
    "start_time": "2022-07-22T23:55:25.390Z"
   },
   {
    "duration": 42,
    "start_time": "2022-07-22T23:55:25.512Z"
   },
   {
    "duration": 53,
    "start_time": "2022-07-22T23:55:25.556Z"
   },
   {
    "duration": 50,
    "start_time": "2022-07-22T23:55:25.622Z"
   },
   {
    "duration": 52,
    "start_time": "2022-07-22T23:55:25.674Z"
   },
   {
    "duration": 36,
    "start_time": "2022-07-22T23:55:25.728Z"
   },
   {
    "duration": 13,
    "start_time": "2022-07-22T23:55:25.766Z"
   },
   {
    "duration": 543,
    "start_time": "2022-07-22T23:55:25.780Z"
   },
   {
    "duration": 569,
    "start_time": "2022-07-22T23:55:26.325Z"
   },
   {
    "duration": 137,
    "start_time": "2022-07-22T23:55:26.896Z"
   },
   {
    "duration": 121,
    "start_time": "2022-07-22T23:55:27.035Z"
   },
   {
    "duration": 35,
    "start_time": "2022-07-22T23:55:27.158Z"
   },
   {
    "duration": 92,
    "start_time": "2022-07-22T23:55:27.195Z"
   },
   {
    "duration": 5,
    "start_time": "2022-07-22T23:55:27.289Z"
   },
   {
    "duration": 115,
    "start_time": "2022-07-22T23:55:27.296Z"
   },
   {
    "duration": 0,
    "start_time": "2022-07-22T23:55:27.413Z"
   },
   {
    "duration": 0,
    "start_time": "2022-07-22T23:55:27.415Z"
   },
   {
    "duration": 0,
    "start_time": "2022-07-22T23:55:27.416Z"
   },
   {
    "duration": 0,
    "start_time": "2022-07-22T23:55:27.422Z"
   },
   {
    "duration": 0,
    "start_time": "2022-07-22T23:55:27.423Z"
   },
   {
    "duration": 0,
    "start_time": "2022-07-22T23:55:27.425Z"
   },
   {
    "duration": 0,
    "start_time": "2022-07-22T23:55:27.426Z"
   },
   {
    "duration": 0,
    "start_time": "2022-07-22T23:55:27.427Z"
   },
   {
    "duration": 0,
    "start_time": "2022-07-22T23:55:27.428Z"
   },
   {
    "duration": 1718,
    "start_time": "2022-07-22T23:55:38.564Z"
   },
   {
    "duration": 6,
    "start_time": "2022-07-22T23:56:49.847Z"
   },
   {
    "duration": 1760,
    "start_time": "2022-07-22T23:56:51.396Z"
   },
   {
    "duration": 5,
    "start_time": "2022-07-22T23:57:08.678Z"
   },
   {
    "duration": 1687,
    "start_time": "2022-07-22T23:57:11.151Z"
   },
   {
    "duration": 4,
    "start_time": "2022-07-22T23:57:26.603Z"
   },
   {
    "duration": 1769,
    "start_time": "2022-07-22T23:57:37.614Z"
   },
   {
    "duration": 4,
    "start_time": "2022-07-23T00:00:20.370Z"
   },
   {
    "duration": 612,
    "start_time": "2022-07-23T00:00:22.778Z"
   },
   {
    "duration": 6,
    "start_time": "2022-07-23T00:03:24.523Z"
   },
   {
    "duration": 380,
    "start_time": "2022-07-23T00:03:28.241Z"
   },
   {
    "duration": 5,
    "start_time": "2022-07-23T00:03:45.601Z"
   },
   {
    "duration": 146,
    "start_time": "2022-07-23T00:03:48.974Z"
   },
   {
    "duration": 4,
    "start_time": "2022-07-23T00:03:58.678Z"
   },
   {
    "duration": 602,
    "start_time": "2022-07-23T00:04:01.230Z"
   },
   {
    "duration": 11,
    "start_time": "2022-07-23T00:06:08.808Z"
   },
   {
    "duration": 4,
    "start_time": "2022-07-23T00:06:12.815Z"
   },
   {
    "duration": 463,
    "start_time": "2022-07-23T00:06:16.331Z"
   },
   {
    "duration": 5,
    "start_time": "2022-07-23T00:07:27.566Z"
   },
   {
    "duration": 311,
    "start_time": "2022-07-23T00:07:30.848Z"
   },
   {
    "duration": 4,
    "start_time": "2022-07-23T00:07:50.706Z"
   },
   {
    "duration": 464,
    "start_time": "2022-07-23T00:07:54.022Z"
   },
   {
    "duration": 1943,
    "start_time": "2022-07-23T00:08:13.569Z"
   },
   {
    "duration": 1926,
    "start_time": "2022-07-23T00:08:21.819Z"
   },
   {
    "duration": 6,
    "start_time": "2022-07-23T00:08:35.824Z"
   },
   {
    "duration": 304,
    "start_time": "2022-07-23T00:08:38.056Z"
   },
   {
    "duration": 411,
    "start_time": "2022-07-23T00:08:44.377Z"
   },
   {
    "duration": 4,
    "start_time": "2022-07-23T00:12:20.104Z"
   },
   {
    "duration": 524,
    "start_time": "2022-07-23T00:12:22.312Z"
   },
   {
    "duration": 401,
    "start_time": "2022-07-23T00:12:31.547Z"
   },
   {
    "duration": 535,
    "start_time": "2022-07-23T00:12:42.804Z"
   },
   {
    "duration": 939,
    "start_time": "2022-07-23T00:12:52.754Z"
   },
   {
    "duration": 1556,
    "start_time": "2022-07-23T00:13:03.019Z"
   },
   {
    "duration": 1348,
    "start_time": "2022-07-23T00:13:41.571Z"
   },
   {
    "duration": 1322,
    "start_time": "2022-07-23T00:14:12.515Z"
   },
   {
    "duration": 1113,
    "start_time": "2022-07-23T00:14:34.119Z"
   },
   {
    "duration": 1437,
    "start_time": "2022-07-23T00:14:42.463Z"
   },
   {
    "duration": 4,
    "start_time": "2022-07-23T00:16:00.418Z"
   },
   {
    "duration": 1516,
    "start_time": "2022-07-23T00:16:02.815Z"
   },
   {
    "duration": 1705,
    "start_time": "2022-07-23T00:16:31.879Z"
   },
   {
    "duration": 1641,
    "start_time": "2022-07-23T00:16:54.049Z"
   },
   {
    "duration": 4,
    "start_time": "2022-07-23T00:17:54.745Z"
   },
   {
    "duration": 1632,
    "start_time": "2022-07-23T00:17:56.730Z"
   },
   {
    "duration": 11,
    "start_time": "2022-07-23T00:18:05.246Z"
   },
   {
    "duration": 367,
    "start_time": "2022-07-23T00:18:16.598Z"
   },
   {
    "duration": 1076,
    "start_time": "2022-07-23T00:18:22.701Z"
   },
   {
    "duration": 2712,
    "start_time": "2022-07-23T00:18:29.202Z"
   },
   {
    "duration": 25571,
    "start_time": "2022-07-23T00:18:42.948Z"
   },
   {
    "duration": 8710,
    "start_time": "2022-07-23T00:21:57.167Z"
   },
   {
    "duration": 1001,
    "start_time": "2022-07-23T00:23:46.731Z"
   },
   {
    "duration": 2104,
    "start_time": "2022-07-23T00:29:25.348Z"
   },
   {
    "duration": 28,
    "start_time": "2022-07-23T00:29:27.455Z"
   },
   {
    "duration": 158,
    "start_time": "2022-07-23T00:29:27.485Z"
   },
   {
    "duration": 142,
    "start_time": "2022-07-23T00:29:27.646Z"
   },
   {
    "duration": 133,
    "start_time": "2022-07-23T00:29:27.790Z"
   },
   {
    "duration": 33,
    "start_time": "2022-07-23T00:29:27.925Z"
   },
   {
    "duration": 69,
    "start_time": "2022-07-23T00:29:27.960Z"
   },
   {
    "duration": 67,
    "start_time": "2022-07-23T00:29:28.031Z"
   },
   {
    "duration": 48,
    "start_time": "2022-07-23T00:29:28.100Z"
   },
   {
    "duration": 50,
    "start_time": "2022-07-23T00:29:28.151Z"
   },
   {
    "duration": 37,
    "start_time": "2022-07-23T00:29:28.203Z"
   },
   {
    "duration": 511,
    "start_time": "2022-07-23T00:29:28.242Z"
   },
   {
    "duration": 516,
    "start_time": "2022-07-23T00:29:28.755Z"
   },
   {
    "duration": 123,
    "start_time": "2022-07-23T00:29:29.272Z"
   },
   {
    "duration": 111,
    "start_time": "2022-07-23T00:29:29.397Z"
   },
   {
    "duration": 41,
    "start_time": "2022-07-23T00:29:29.509Z"
   },
   {
    "duration": 72,
    "start_time": "2022-07-23T00:29:29.552Z"
   },
   {
    "duration": 4,
    "start_time": "2022-07-23T00:29:29.626Z"
   },
   {
    "duration": 1678,
    "start_time": "2022-07-23T00:29:29.632Z"
   },
   {
    "duration": 6648,
    "start_time": "2022-07-23T00:29:31.312Z"
   },
   {
    "duration": 1100,
    "start_time": "2022-07-23T00:29:37.963Z"
   },
   {
    "duration": 76,
    "start_time": "2022-07-23T00:29:39.065Z"
   },
   {
    "duration": 6,
    "start_time": "2022-07-23T00:29:39.143Z"
   },
   {
    "duration": 23,
    "start_time": "2022-07-23T00:29:39.151Z"
   },
   {
    "duration": 88,
    "start_time": "2022-07-23T00:29:39.177Z"
   },
   {
    "duration": 78,
    "start_time": "2022-07-23T00:29:39.266Z"
   },
   {
    "duration": 60,
    "start_time": "2022-07-23T00:31:11.238Z"
   },
   {
    "duration": 8,
    "start_time": "2022-07-23T00:32:49.981Z"
   },
   {
    "duration": 22,
    "start_time": "2022-07-23T00:37:11.108Z"
   },
   {
    "duration": 27,
    "start_time": "2022-07-23T00:37:15.765Z"
   },
   {
    "duration": 29,
    "start_time": "2022-07-23T00:40:42.290Z"
   },
   {
    "duration": 5916,
    "start_time": "2022-07-23T10:24:25.109Z"
   },
   {
    "duration": 36,
    "start_time": "2022-07-23T10:24:31.029Z"
   },
   {
    "duration": 193,
    "start_time": "2022-07-23T10:24:31.067Z"
   },
   {
    "duration": 166,
    "start_time": "2022-07-23T10:24:31.263Z"
   },
   {
    "duration": 160,
    "start_time": "2022-07-23T10:24:31.432Z"
   },
   {
    "duration": 58,
    "start_time": "2022-07-23T10:24:31.594Z"
   },
   {
    "duration": 40,
    "start_time": "2022-07-23T10:24:31.654Z"
   },
   {
    "duration": 70,
    "start_time": "2022-07-23T10:24:31.696Z"
   },
   {
    "duration": 63,
    "start_time": "2022-07-23T10:24:31.769Z"
   },
   {
    "duration": 90,
    "start_time": "2022-07-23T10:24:31.836Z"
   },
   {
    "duration": 41,
    "start_time": "2022-07-23T10:24:31.928Z"
   },
   {
    "duration": 9,
    "start_time": "2022-07-23T10:24:31.971Z"
   },
   {
    "duration": 689,
    "start_time": "2022-07-23T10:24:31.982Z"
   },
   {
    "duration": 667,
    "start_time": "2022-07-23T10:24:32.673Z"
   },
   {
    "duration": 168,
    "start_time": "2022-07-23T10:24:33.345Z"
   },
   {
    "duration": 164,
    "start_time": "2022-07-23T10:24:33.516Z"
   },
   {
    "duration": 41,
    "start_time": "2022-07-23T10:24:33.682Z"
   },
   {
    "duration": 71,
    "start_time": "2022-07-23T10:24:33.725Z"
   },
   {
    "duration": 20,
    "start_time": "2022-07-23T10:24:33.798Z"
   },
   {
    "duration": 2141,
    "start_time": "2022-07-23T10:24:33.821Z"
   },
   {
    "duration": 8120,
    "start_time": "2022-07-23T10:24:35.964Z"
   },
   {
    "duration": 1096,
    "start_time": "2022-07-23T10:24:44.087Z"
   },
   {
    "duration": 82,
    "start_time": "2022-07-23T10:24:45.185Z"
   },
   {
    "duration": 7,
    "start_time": "2022-07-23T10:24:45.269Z"
   },
   {
    "duration": 38,
    "start_time": "2022-07-23T10:24:45.278Z"
   },
   {
    "duration": 49,
    "start_time": "2022-07-23T10:24:45.319Z"
   },
   {
    "duration": 47,
    "start_time": "2022-07-23T10:24:45.371Z"
   },
   {
    "duration": 134,
    "start_time": "2022-07-23T10:24:45.425Z"
   },
   {
    "duration": 155,
    "start_time": "2022-07-23T10:25:10.257Z"
   },
   {
    "duration": 121,
    "start_time": "2022-07-23T10:25:26.139Z"
   },
   {
    "duration": 19,
    "start_time": "2022-07-23T10:25:51.633Z"
   },
   {
    "duration": 25,
    "start_time": "2022-07-23T10:26:09.402Z"
   },
   {
    "duration": 21,
    "start_time": "2022-07-23T10:26:20.770Z"
   },
   {
    "duration": 23,
    "start_time": "2022-07-23T10:27:37.369Z"
   },
   {
    "duration": 34,
    "start_time": "2022-07-23T10:27:50.536Z"
   },
   {
    "duration": 146,
    "start_time": "2022-07-23T10:29:23.198Z"
   },
   {
    "duration": 25,
    "start_time": "2022-07-23T10:29:28.337Z"
   },
   {
    "duration": 84,
    "start_time": "2022-07-23T10:35:39.887Z"
   },
   {
    "duration": 5,
    "start_time": "2022-07-23T10:45:21.283Z"
   },
   {
    "duration": 3,
    "start_time": "2022-07-23T10:45:41.757Z"
   },
   {
    "duration": 30,
    "start_time": "2022-07-23T10:46:37.911Z"
   },
   {
    "duration": 372,
    "start_time": "2022-07-23T10:47:10.537Z"
   },
   {
    "duration": 47,
    "start_time": "2022-07-23T10:48:44.287Z"
   },
   {
    "duration": 56,
    "start_time": "2022-07-23T10:52:10.039Z"
   },
   {
    "duration": 3441,
    "start_time": "2022-07-23T11:27:11.799Z"
   },
   {
    "duration": 37,
    "start_time": "2022-07-23T11:27:15.245Z"
   },
   {
    "duration": 200,
    "start_time": "2022-07-23T11:27:15.284Z"
   },
   {
    "duration": 189,
    "start_time": "2022-07-23T11:27:15.487Z"
   },
   {
    "duration": 122,
    "start_time": "2022-07-23T11:27:15.678Z"
   },
   {
    "duration": 613,
    "start_time": "2022-07-23T11:27:15.802Z"
   },
   {
    "duration": 679,
    "start_time": "2022-07-23T11:27:16.418Z"
   },
   {
    "duration": 4,
    "start_time": "2022-07-23T11:27:17.099Z"
   },
   {
    "duration": 2276,
    "start_time": "2022-07-23T11:27:17.104Z"
   },
   {
    "duration": 8285,
    "start_time": "2022-07-23T11:27:19.383Z"
   },
   {
    "duration": 1090,
    "start_time": "2022-07-23T11:27:27.671Z"
   },
   {
    "duration": 89,
    "start_time": "2022-07-23T11:27:28.763Z"
   },
   {
    "duration": 7,
    "start_time": "2022-07-23T11:27:28.854Z"
   },
   {
    "duration": 23,
    "start_time": "2022-07-23T11:27:28.863Z"
   },
   {
    "duration": 34,
    "start_time": "2022-07-23T11:27:28.888Z"
   },
   {
    "duration": 119,
    "start_time": "2022-07-23T11:27:28.925Z"
   },
   {
    "duration": 37,
    "start_time": "2022-07-23T11:27:29.047Z"
   },
   {
    "duration": 54,
    "start_time": "2022-07-23T11:27:29.086Z"
   },
   {
    "duration": 40,
    "start_time": "2022-07-23T11:27:29.142Z"
   },
   {
    "duration": 81,
    "start_time": "2022-07-23T11:27:29.184Z"
   },
   {
    "duration": 55,
    "start_time": "2022-07-23T11:27:29.267Z"
   },
   {
    "duration": 43,
    "start_time": "2022-07-23T11:27:29.324Z"
   },
   {
    "duration": 58,
    "start_time": "2022-07-23T11:27:29.369Z"
   },
   {
    "duration": 159,
    "start_time": "2022-07-23T11:27:29.430Z"
   },
   {
    "duration": 104,
    "start_time": "2022-07-23T11:27:29.591Z"
   },
   {
    "duration": 2544,
    "start_time": "2022-07-23T11:39:34.110Z"
   },
   {
    "duration": 30,
    "start_time": "2022-07-23T11:39:36.657Z"
   },
   {
    "duration": 198,
    "start_time": "2022-07-23T11:39:36.689Z"
   },
   {
    "duration": 182,
    "start_time": "2022-07-23T11:39:36.890Z"
   },
   {
    "duration": 119,
    "start_time": "2022-07-23T11:39:37.074Z"
   },
   {
    "duration": 639,
    "start_time": "2022-07-23T11:39:37.195Z"
   },
   {
    "duration": 628,
    "start_time": "2022-07-23T11:39:37.836Z"
   },
   {
    "duration": 97,
    "start_time": "2022-07-23T11:39:38.466Z"
   },
   {
    "duration": 0,
    "start_time": "2022-07-23T11:39:38.567Z"
   },
   {
    "duration": 0,
    "start_time": "2022-07-23T11:39:38.568Z"
   },
   {
    "duration": 0,
    "start_time": "2022-07-23T11:39:38.570Z"
   },
   {
    "duration": 0,
    "start_time": "2022-07-23T11:39:38.571Z"
   },
   {
    "duration": 0,
    "start_time": "2022-07-23T11:39:38.573Z"
   },
   {
    "duration": 0,
    "start_time": "2022-07-23T11:39:38.574Z"
   },
   {
    "duration": 0,
    "start_time": "2022-07-23T11:39:38.576Z"
   },
   {
    "duration": 0,
    "start_time": "2022-07-23T11:39:38.577Z"
   },
   {
    "duration": 0,
    "start_time": "2022-07-23T11:39:38.578Z"
   },
   {
    "duration": 0,
    "start_time": "2022-07-23T11:39:38.579Z"
   },
   {
    "duration": 0,
    "start_time": "2022-07-23T11:39:38.580Z"
   },
   {
    "duration": 0,
    "start_time": "2022-07-23T11:39:38.581Z"
   },
   {
    "duration": 0,
    "start_time": "2022-07-23T11:39:38.582Z"
   },
   {
    "duration": 0,
    "start_time": "2022-07-23T11:39:38.583Z"
   },
   {
    "duration": 0,
    "start_time": "2022-07-23T11:39:38.584Z"
   },
   {
    "duration": 0,
    "start_time": "2022-07-23T11:39:38.585Z"
   },
   {
    "duration": 0,
    "start_time": "2022-07-23T11:39:38.587Z"
   },
   {
    "duration": 0,
    "start_time": "2022-07-23T11:39:38.590Z"
   },
   {
    "duration": 4,
    "start_time": "2022-07-23T11:40:04.471Z"
   },
   {
    "duration": 2117,
    "start_time": "2022-07-23T11:40:07.953Z"
   },
   {
    "duration": 2578,
    "start_time": "2022-07-23T11:40:19.063Z"
   },
   {
    "duration": 30,
    "start_time": "2022-07-23T11:40:21.644Z"
   },
   {
    "duration": 208,
    "start_time": "2022-07-23T11:40:21.675Z"
   },
   {
    "duration": 234,
    "start_time": "2022-07-23T11:40:21.886Z"
   },
   {
    "duration": 173,
    "start_time": "2022-07-23T11:40:22.123Z"
   },
   {
    "duration": 621,
    "start_time": "2022-07-23T11:40:22.298Z"
   },
   {
    "duration": 630,
    "start_time": "2022-07-23T11:40:22.923Z"
   },
   {
    "duration": 4,
    "start_time": "2022-07-23T11:40:23.555Z"
   },
   {
    "duration": 2124,
    "start_time": "2022-07-23T11:40:23.561Z"
   },
   {
    "duration": 8343,
    "start_time": "2022-07-23T11:40:25.688Z"
   },
   {
    "duration": 1108,
    "start_time": "2022-07-23T11:40:34.036Z"
   },
   {
    "duration": 85,
    "start_time": "2022-07-23T11:40:35.146Z"
   },
   {
    "duration": 9,
    "start_time": "2022-07-23T11:40:35.242Z"
   },
   {
    "duration": 19,
    "start_time": "2022-07-23T11:40:35.253Z"
   },
   {
    "duration": 28,
    "start_time": "2022-07-23T11:40:35.275Z"
   },
   {
    "duration": 150,
    "start_time": "2022-07-23T11:40:35.305Z"
   },
   {
    "duration": 32,
    "start_time": "2022-07-23T11:40:35.457Z"
   },
   {
    "duration": 55,
    "start_time": "2022-07-23T11:40:35.491Z"
   },
   {
    "duration": 42,
    "start_time": "2022-07-23T11:40:35.548Z"
   },
   {
    "duration": 64,
    "start_time": "2022-07-23T11:40:35.592Z"
   },
   {
    "duration": 34,
    "start_time": "2022-07-23T11:40:35.658Z"
   },
   {
    "duration": 14,
    "start_time": "2022-07-23T11:40:35.694Z"
   },
   {
    "duration": 85,
    "start_time": "2022-07-23T11:40:35.710Z"
   },
   {
    "duration": 154,
    "start_time": "2022-07-23T11:40:35.797Z"
   },
   {
    "duration": 105,
    "start_time": "2022-07-23T11:40:35.953Z"
   },
   {
    "duration": 46,
    "start_time": "2022-07-23T11:40:36.060Z"
   },
   {
    "duration": 2804,
    "start_time": "2022-07-23T12:02:42.295Z"
   },
   {
    "duration": 41,
    "start_time": "2022-07-23T12:02:45.101Z"
   },
   {
    "duration": 230,
    "start_time": "2022-07-23T12:02:45.147Z"
   },
   {
    "duration": 210,
    "start_time": "2022-07-23T12:02:45.380Z"
   },
   {
    "duration": 128,
    "start_time": "2022-07-23T12:02:45.592Z"
   },
   {
    "duration": 667,
    "start_time": "2022-07-23T12:02:45.722Z"
   },
   {
    "duration": 692,
    "start_time": "2022-07-23T12:02:46.391Z"
   },
   {
    "duration": 4,
    "start_time": "2022-07-23T12:02:47.085Z"
   },
   {
    "duration": 2275,
    "start_time": "2022-07-23T12:02:47.091Z"
   },
   {
    "duration": 8593,
    "start_time": "2022-07-23T12:02:49.371Z"
   },
   {
    "duration": 1149,
    "start_time": "2022-07-23T12:02:57.966Z"
   },
   {
    "duration": 70,
    "start_time": "2022-07-23T12:02:59.116Z"
   },
   {
    "duration": 5,
    "start_time": "2022-07-23T12:02:59.188Z"
   },
   {
    "duration": 38,
    "start_time": "2022-07-23T12:02:59.195Z"
   },
   {
    "duration": 46,
    "start_time": "2022-07-23T12:02:59.237Z"
   },
   {
    "duration": 116,
    "start_time": "2022-07-23T12:02:59.285Z"
   },
   {
    "duration": 60,
    "start_time": "2022-07-23T12:02:59.403Z"
   },
   {
    "duration": 49,
    "start_time": "2022-07-23T12:02:59.466Z"
   },
   {
    "duration": 71,
    "start_time": "2022-07-23T12:02:59.518Z"
   },
   {
    "duration": 46,
    "start_time": "2022-07-23T12:02:59.590Z"
   },
   {
    "duration": 57,
    "start_time": "2022-07-23T12:02:59.638Z"
   },
   {
    "duration": 13,
    "start_time": "2022-07-23T12:02:59.697Z"
   },
   {
    "duration": 69,
    "start_time": "2022-07-23T12:02:59.721Z"
   },
   {
    "duration": 177,
    "start_time": "2022-07-23T12:02:59.791Z"
   },
   {
    "duration": 120,
    "start_time": "2022-07-23T12:02:59.970Z"
   },
   {
    "duration": 61,
    "start_time": "2022-07-23T12:03:00.092Z"
   },
   {
    "duration": 3457,
    "start_time": "2022-07-23T12:54:25.493Z"
   },
   {
    "duration": 31,
    "start_time": "2022-07-23T12:54:28.953Z"
   },
   {
    "duration": 192,
    "start_time": "2022-07-23T12:54:28.986Z"
   },
   {
    "duration": 185,
    "start_time": "2022-07-23T12:54:29.181Z"
   },
   {
    "duration": 124,
    "start_time": "2022-07-23T12:54:29.369Z"
   },
   {
    "duration": 593,
    "start_time": "2022-07-23T12:54:29.495Z"
   },
   {
    "duration": 662,
    "start_time": "2022-07-23T12:54:30.090Z"
   },
   {
    "duration": 7,
    "start_time": "2022-07-23T12:54:30.754Z"
   },
   {
    "duration": 2396,
    "start_time": "2022-07-23T12:54:30.763Z"
   },
   {
    "duration": 8854,
    "start_time": "2022-07-23T12:54:33.163Z"
   },
   {
    "duration": 704,
    "start_time": "2022-07-23T12:54:42.019Z"
   },
   {
    "duration": 143,
    "start_time": "2022-07-23T12:54:42.725Z"
   },
   {
    "duration": 7,
    "start_time": "2022-07-23T12:54:42.870Z"
   },
   {
    "duration": 39,
    "start_time": "2022-07-23T12:54:42.880Z"
   },
   {
    "duration": 41,
    "start_time": "2022-07-23T12:54:42.921Z"
   },
   {
    "duration": 104,
    "start_time": "2022-07-23T12:54:42.964Z"
   },
   {
    "duration": 34,
    "start_time": "2022-07-23T12:54:43.070Z"
   },
   {
    "duration": 62,
    "start_time": "2022-07-23T12:54:43.110Z"
   },
   {
    "duration": 37,
    "start_time": "2022-07-23T12:54:43.174Z"
   },
   {
    "duration": 61,
    "start_time": "2022-07-23T12:54:43.217Z"
   },
   {
    "duration": 60,
    "start_time": "2022-07-23T12:54:43.281Z"
   },
   {
    "duration": 54,
    "start_time": "2022-07-23T12:54:43.345Z"
   },
   {
    "duration": 150,
    "start_time": "2022-07-23T12:54:43.402Z"
   },
   {
    "duration": 111,
    "start_time": "2022-07-23T12:54:43.553Z"
   },
   {
    "duration": 100,
    "start_time": "2022-07-23T13:06:14.954Z"
   },
   {
    "duration": 19,
    "start_time": "2022-07-23T13:06:52.841Z"
   },
   {
    "duration": 5,
    "start_time": "2022-07-23T13:07:07.902Z"
   },
   {
    "duration": 4270,
    "start_time": "2022-07-23T13:13:24.994Z"
   },
   {
    "duration": 33,
    "start_time": "2022-07-23T13:13:29.266Z"
   },
   {
    "duration": 186,
    "start_time": "2022-07-23T13:13:29.301Z"
   },
   {
    "duration": 190,
    "start_time": "2022-07-23T13:13:29.490Z"
   },
   {
    "duration": 142,
    "start_time": "2022-07-23T13:13:29.682Z"
   },
   {
    "duration": 654,
    "start_time": "2022-07-23T13:13:29.827Z"
   },
   {
    "duration": 717,
    "start_time": "2022-07-23T13:13:30.483Z"
   },
   {
    "duration": 6,
    "start_time": "2022-07-23T13:13:31.202Z"
   },
   {
    "duration": 2479,
    "start_time": "2022-07-23T13:13:31.211Z"
   },
   {
    "duration": 9587,
    "start_time": "2022-07-23T13:13:33.693Z"
   },
   {
    "duration": 616,
    "start_time": "2022-07-23T13:13:43.283Z"
   },
   {
    "duration": 81,
    "start_time": "2022-07-23T13:13:43.902Z"
   },
   {
    "duration": 7,
    "start_time": "2022-07-23T13:13:43.985Z"
   },
   {
    "duration": 33,
    "start_time": "2022-07-23T13:13:43.995Z"
   },
   {
    "duration": 43,
    "start_time": "2022-07-23T13:13:44.031Z"
   },
   {
    "duration": 116,
    "start_time": "2022-07-23T13:13:44.077Z"
   },
   {
    "duration": 55,
    "start_time": "2022-07-23T13:13:44.195Z"
   },
   {
    "duration": 41,
    "start_time": "2022-07-23T13:13:44.253Z"
   },
   {
    "duration": 65,
    "start_time": "2022-07-23T13:13:44.296Z"
   },
   {
    "duration": 88,
    "start_time": "2022-07-23T13:13:44.364Z"
   },
   {
    "duration": 54,
    "start_time": "2022-07-23T13:13:44.454Z"
   },
   {
    "duration": 92,
    "start_time": "2022-07-23T13:13:44.510Z"
   },
   {
    "duration": 162,
    "start_time": "2022-07-23T13:13:44.604Z"
   },
   {
    "duration": 107,
    "start_time": "2022-07-23T13:13:44.768Z"
   },
   {
    "duration": 116,
    "start_time": "2022-07-23T13:13:44.877Z"
   },
   {
    "duration": 217,
    "start_time": "2022-07-23T13:30:07.746Z"
   },
   {
    "duration": 4516,
    "start_time": "2022-07-23T13:39:31.946Z"
   },
   {
    "duration": 30,
    "start_time": "2022-07-23T13:39:36.464Z"
   },
   {
    "duration": 185,
    "start_time": "2022-07-23T13:39:36.496Z"
   },
   {
    "duration": 185,
    "start_time": "2022-07-23T13:39:36.684Z"
   },
   {
    "duration": 116,
    "start_time": "2022-07-23T13:39:36.871Z"
   },
   {
    "duration": 619,
    "start_time": "2022-07-23T13:39:36.989Z"
   },
   {
    "duration": 658,
    "start_time": "2022-07-23T13:39:37.614Z"
   },
   {
    "duration": 4,
    "start_time": "2022-07-23T13:39:38.274Z"
   },
   {
    "duration": 2233,
    "start_time": "2022-07-23T13:39:38.279Z"
   },
   {
    "duration": 9306,
    "start_time": "2022-07-23T13:39:40.517Z"
   },
   {
    "duration": 677,
    "start_time": "2022-07-23T13:39:49.832Z"
   },
   {
    "duration": 72,
    "start_time": "2022-07-23T13:39:50.520Z"
   },
   {
    "duration": 6,
    "start_time": "2022-07-23T13:39:50.594Z"
   },
   {
    "duration": 90,
    "start_time": "2022-07-23T13:39:50.602Z"
   },
   {
    "duration": 92,
    "start_time": "2022-07-23T13:39:50.695Z"
   },
   {
    "duration": 112,
    "start_time": "2022-07-23T13:39:50.789Z"
   },
   {
    "duration": 68,
    "start_time": "2022-07-23T13:39:50.903Z"
   },
   {
    "duration": 44,
    "start_time": "2022-07-23T13:39:50.973Z"
   },
   {
    "duration": 101,
    "start_time": "2022-07-23T13:39:51.019Z"
   },
   {
    "duration": 73,
    "start_time": "2022-07-23T13:39:51.129Z"
   },
   {
    "duration": 70,
    "start_time": "2022-07-23T13:39:51.205Z"
   },
   {
    "duration": 115,
    "start_time": "2022-07-23T13:39:51.277Z"
   },
   {
    "duration": 173,
    "start_time": "2022-07-23T13:39:51.394Z"
   },
   {
    "duration": 111,
    "start_time": "2022-07-23T13:39:51.569Z"
   },
   {
    "duration": 129,
    "start_time": "2022-07-23T13:39:51.682Z"
   },
   {
    "duration": 7,
    "start_time": "2022-07-23T13:39:51.814Z"
   },
   {
    "duration": 293,
    "start_time": "2022-07-23T13:39:51.823Z"
   },
   {
    "duration": 0,
    "start_time": "2022-07-23T13:39:52.118Z"
   },
   {
    "duration": 109,
    "start_time": "2022-07-23T13:41:57.251Z"
   },
   {
    "duration": 27,
    "start_time": "2022-07-23T13:42:18.661Z"
   },
   {
    "duration": 58,
    "start_time": "2022-07-23T13:45:01.578Z"
   },
   {
    "duration": 49,
    "start_time": "2022-07-23T14:38:44.148Z"
   },
   {
    "duration": 4831,
    "start_time": "2022-07-23T14:40:38.761Z"
   },
   {
    "duration": 36,
    "start_time": "2022-07-23T14:40:43.594Z"
   },
   {
    "duration": 181,
    "start_time": "2022-07-23T14:40:43.633Z"
   },
   {
    "duration": 178,
    "start_time": "2022-07-23T14:40:43.817Z"
   },
   {
    "duration": 132,
    "start_time": "2022-07-23T14:40:43.996Z"
   },
   {
    "duration": 570,
    "start_time": "2022-07-23T14:40:44.131Z"
   },
   {
    "duration": 658,
    "start_time": "2022-07-23T14:40:44.703Z"
   },
   {
    "duration": 4,
    "start_time": "2022-07-23T14:40:45.363Z"
   },
   {
    "duration": 2138,
    "start_time": "2022-07-23T14:40:45.369Z"
   },
   {
    "duration": 8284,
    "start_time": "2022-07-23T14:40:47.510Z"
   },
   {
    "duration": 592,
    "start_time": "2022-07-23T14:40:55.796Z"
   },
   {
    "duration": 76,
    "start_time": "2022-07-23T14:40:56.390Z"
   },
   {
    "duration": 6,
    "start_time": "2022-07-23T14:40:56.469Z"
   },
   {
    "duration": 34,
    "start_time": "2022-07-23T14:40:56.477Z"
   },
   {
    "duration": 57,
    "start_time": "2022-07-23T14:40:56.513Z"
   },
   {
    "duration": 119,
    "start_time": "2022-07-23T14:40:56.572Z"
   },
   {
    "duration": 57,
    "start_time": "2022-07-23T14:40:56.693Z"
   },
   {
    "duration": 43,
    "start_time": "2022-07-23T14:40:56.753Z"
   },
   {
    "duration": 63,
    "start_time": "2022-07-23T14:40:56.798Z"
   },
   {
    "duration": 46,
    "start_time": "2022-07-23T14:40:56.863Z"
   },
   {
    "duration": 77,
    "start_time": "2022-07-23T14:40:56.917Z"
   },
   {
    "duration": 79,
    "start_time": "2022-07-23T14:40:56.997Z"
   },
   {
    "duration": 134,
    "start_time": "2022-07-23T14:40:57.078Z"
   },
   {
    "duration": 100,
    "start_time": "2022-07-23T14:40:57.216Z"
   },
   {
    "duration": 117,
    "start_time": "2022-07-23T14:40:57.318Z"
   },
   {
    "duration": 3,
    "start_time": "2022-07-23T14:40:57.437Z"
   },
   {
    "duration": 167,
    "start_time": "2022-07-23T14:40:57.442Z"
   },
   {
    "duration": 0,
    "start_time": "2022-07-23T14:40:57.618Z"
   },
   {
    "duration": 18,
    "start_time": "2022-07-23T14:55:41.911Z"
   },
   {
    "duration": 41,
    "start_time": "2022-07-23T14:55:46.953Z"
   },
   {
    "duration": 11,
    "start_time": "2022-07-23T15:01:45.607Z"
   },
   {
    "duration": 10,
    "start_time": "2022-07-23T15:01:56.866Z"
   },
   {
    "duration": 14,
    "start_time": "2022-07-23T15:14:13.390Z"
   },
   {
    "duration": 50,
    "start_time": "2022-07-23T15:16:32.967Z"
   },
   {
    "duration": 3017,
    "start_time": "2022-07-23T15:16:48.988Z"
   },
   {
    "duration": 49,
    "start_time": "2022-07-23T15:16:52.008Z"
   },
   {
    "duration": 214,
    "start_time": "2022-07-23T15:16:52.062Z"
   },
   {
    "duration": 266,
    "start_time": "2022-07-23T15:16:52.280Z"
   },
   {
    "duration": 134,
    "start_time": "2022-07-23T15:16:52.548Z"
   },
   {
    "duration": 600,
    "start_time": "2022-07-23T15:16:52.684Z"
   },
   {
    "duration": 676,
    "start_time": "2022-07-23T15:16:53.286Z"
   },
   {
    "duration": 5,
    "start_time": "2022-07-23T15:16:53.964Z"
   },
   {
    "duration": 2211,
    "start_time": "2022-07-23T15:16:53.971Z"
   },
   {
    "duration": 8778,
    "start_time": "2022-07-23T15:16:56.186Z"
   },
   {
    "duration": 678,
    "start_time": "2022-07-23T15:17:04.967Z"
   },
   {
    "duration": 77,
    "start_time": "2022-07-23T15:17:05.648Z"
   },
   {
    "duration": 15,
    "start_time": "2022-07-23T15:17:05.728Z"
   },
   {
    "duration": 26,
    "start_time": "2022-07-23T15:17:05.749Z"
   },
   {
    "duration": 31,
    "start_time": "2022-07-23T15:17:05.777Z"
   },
   {
    "duration": 122,
    "start_time": "2022-07-23T15:17:05.812Z"
   },
   {
    "duration": 65,
    "start_time": "2022-07-23T15:17:05.936Z"
   },
   {
    "duration": 74,
    "start_time": "2022-07-23T15:17:06.003Z"
   },
   {
    "duration": 49,
    "start_time": "2022-07-23T15:17:06.079Z"
   },
   {
    "duration": 67,
    "start_time": "2022-07-23T15:17:06.130Z"
   },
   {
    "duration": 62,
    "start_time": "2022-07-23T15:17:06.199Z"
   },
   {
    "duration": 59,
    "start_time": "2022-07-23T15:17:06.263Z"
   },
   {
    "duration": 166,
    "start_time": "2022-07-23T15:17:06.324Z"
   },
   {
    "duration": 100,
    "start_time": "2022-07-23T15:17:06.492Z"
   },
   {
    "duration": 101,
    "start_time": "2022-07-23T15:17:06.595Z"
   },
   {
    "duration": 12,
    "start_time": "2022-07-23T15:17:06.699Z"
   },
   {
    "duration": 167,
    "start_time": "2022-07-23T15:17:06.714Z"
   },
   {
    "duration": 0,
    "start_time": "2022-07-23T15:17:06.883Z"
   },
   {
    "duration": 13,
    "start_time": "2022-07-23T15:17:24.991Z"
   },
   {
    "duration": 46,
    "start_time": "2022-07-23T15:17:34.779Z"
   },
   {
    "duration": 758,
    "start_time": "2022-07-23T15:19:57.841Z"
   },
   {
    "duration": 1648,
    "start_time": "2022-07-23T15:20:33.060Z"
   },
   {
    "duration": 27,
    "start_time": "2022-07-23T15:20:47.643Z"
   },
   {
    "duration": 13,
    "start_time": "2022-07-23T15:21:08.271Z"
   },
   {
    "duration": 22,
    "start_time": "2022-07-23T15:29:49.972Z"
   },
   {
    "duration": 805,
    "start_time": "2022-07-23T15:30:24.843Z"
   },
   {
    "duration": 1456,
    "start_time": "2022-07-23T15:32:58.673Z"
   },
   {
    "duration": 0,
    "start_time": "2022-07-23T15:33:00.132Z"
   },
   {
    "duration": 0,
    "start_time": "2022-07-23T15:33:00.133Z"
   },
   {
    "duration": 0,
    "start_time": "2022-07-23T15:33:00.134Z"
   },
   {
    "duration": 0,
    "start_time": "2022-07-23T15:33:00.135Z"
   },
   {
    "duration": 0,
    "start_time": "2022-07-23T15:33:00.137Z"
   },
   {
    "duration": 0,
    "start_time": "2022-07-23T15:33:00.138Z"
   },
   {
    "duration": 0,
    "start_time": "2022-07-23T15:33:00.141Z"
   },
   {
    "duration": 0,
    "start_time": "2022-07-23T15:33:00.142Z"
   },
   {
    "duration": 0,
    "start_time": "2022-07-23T15:33:00.144Z"
   },
   {
    "duration": 0,
    "start_time": "2022-07-23T15:33:00.146Z"
   },
   {
    "duration": 0,
    "start_time": "2022-07-23T15:33:00.147Z"
   },
   {
    "duration": 0,
    "start_time": "2022-07-23T15:33:00.148Z"
   },
   {
    "duration": 0,
    "start_time": "2022-07-23T15:33:00.149Z"
   },
   {
    "duration": 0,
    "start_time": "2022-07-23T15:33:00.150Z"
   },
   {
    "duration": 0,
    "start_time": "2022-07-23T15:33:00.151Z"
   },
   {
    "duration": 0,
    "start_time": "2022-07-23T15:33:00.152Z"
   },
   {
    "duration": 0,
    "start_time": "2022-07-23T15:33:00.153Z"
   },
   {
    "duration": 0,
    "start_time": "2022-07-23T15:33:00.154Z"
   },
   {
    "duration": 0,
    "start_time": "2022-07-23T15:33:00.155Z"
   },
   {
    "duration": 0,
    "start_time": "2022-07-23T15:33:00.156Z"
   },
   {
    "duration": 0,
    "start_time": "2022-07-23T15:33:00.157Z"
   },
   {
    "duration": 0,
    "start_time": "2022-07-23T15:33:00.158Z"
   },
   {
    "duration": 0,
    "start_time": "2022-07-23T15:33:00.159Z"
   },
   {
    "duration": 0,
    "start_time": "2022-07-23T15:33:00.160Z"
   },
   {
    "duration": 0,
    "start_time": "2022-07-23T15:33:00.161Z"
   },
   {
    "duration": 0,
    "start_time": "2022-07-23T15:33:00.162Z"
   },
   {
    "duration": 0,
    "start_time": "2022-07-23T15:33:00.163Z"
   },
   {
    "duration": 1914,
    "start_time": "2022-07-23T15:52:57.758Z"
   },
   {
    "duration": 3124,
    "start_time": "2022-07-23T15:58:29.948Z"
   },
   {
    "duration": 30,
    "start_time": "2022-07-23T15:58:33.075Z"
   },
   {
    "duration": 229,
    "start_time": "2022-07-23T15:58:33.107Z"
   },
   {
    "duration": 251,
    "start_time": "2022-07-23T15:58:33.344Z"
   },
   {
    "duration": 130,
    "start_time": "2022-07-23T15:58:33.597Z"
   },
   {
    "duration": 686,
    "start_time": "2022-07-23T15:58:33.729Z"
   },
   {
    "duration": 878,
    "start_time": "2022-07-23T15:58:34.417Z"
   },
   {
    "duration": 5,
    "start_time": "2022-07-23T15:58:35.298Z"
   },
   {
    "duration": 2728,
    "start_time": "2022-07-23T15:58:35.307Z"
   },
   {
    "duration": 9624,
    "start_time": "2022-07-23T15:58:38.039Z"
   },
   {
    "duration": 708,
    "start_time": "2022-07-23T15:58:47.666Z"
   },
   {
    "duration": 87,
    "start_time": "2022-07-23T15:58:48.380Z"
   },
   {
    "duration": 6,
    "start_time": "2022-07-23T15:58:48.470Z"
   },
   {
    "duration": 55,
    "start_time": "2022-07-23T15:58:48.478Z"
   },
   {
    "duration": 44,
    "start_time": "2022-07-23T15:58:48.535Z"
   },
   {
    "duration": 127,
    "start_time": "2022-07-23T15:58:48.582Z"
   },
   {
    "duration": 80,
    "start_time": "2022-07-23T15:58:48.716Z"
   },
   {
    "duration": 52,
    "start_time": "2022-07-23T15:58:48.798Z"
   },
   {
    "duration": 60,
    "start_time": "2022-07-23T15:58:48.852Z"
   },
   {
    "duration": 130,
    "start_time": "2022-07-23T15:58:48.914Z"
   },
   {
    "duration": 132,
    "start_time": "2022-07-23T15:58:49.047Z"
   },
   {
    "duration": 96,
    "start_time": "2022-07-23T15:58:49.184Z"
   },
   {
    "duration": 164,
    "start_time": "2022-07-23T15:58:49.282Z"
   },
   {
    "duration": 119,
    "start_time": "2022-07-23T15:58:49.449Z"
   },
   {
    "duration": 121,
    "start_time": "2022-07-23T15:58:49.573Z"
   },
   {
    "duration": 175,
    "start_time": "2022-07-23T15:58:49.695Z"
   },
   {
    "duration": 0,
    "start_time": "2022-07-23T15:58:49.872Z"
   },
   {
    "duration": 0,
    "start_time": "2022-07-23T15:58:49.873Z"
   },
   {
    "duration": 160,
    "start_time": "2022-07-23T15:59:38.059Z"
   },
   {
    "duration": 2573,
    "start_time": "2022-07-23T15:59:52.671Z"
   },
   {
    "duration": 84,
    "start_time": "2022-07-23T16:00:18.192Z"
   },
   {
    "duration": 35,
    "start_time": "2022-07-23T16:00:36.583Z"
   },
   {
    "duration": 58,
    "start_time": "2022-07-23T16:00:51.110Z"
   },
   {
    "duration": 3854,
    "start_time": "2022-07-23T16:07:28.603Z"
   },
   {
    "duration": 48,
    "start_time": "2022-07-23T16:07:32.461Z"
   },
   {
    "duration": 307,
    "start_time": "2022-07-23T16:07:32.511Z"
   },
   {
    "duration": 260,
    "start_time": "2022-07-23T16:07:32.820Z"
   },
   {
    "duration": 148,
    "start_time": "2022-07-23T16:07:33.082Z"
   },
   {
    "duration": 801,
    "start_time": "2022-07-23T16:07:33.232Z"
   },
   {
    "duration": 835,
    "start_time": "2022-07-23T16:07:34.036Z"
   },
   {
    "duration": 8,
    "start_time": "2022-07-23T16:07:34.879Z"
   },
   {
    "duration": 2680,
    "start_time": "2022-07-23T16:07:34.894Z"
   },
   {
    "duration": 9763,
    "start_time": "2022-07-23T16:07:37.582Z"
   },
   {
    "duration": 683,
    "start_time": "2022-07-23T16:07:47.348Z"
   },
   {
    "duration": 88,
    "start_time": "2022-07-23T16:07:48.034Z"
   },
   {
    "duration": 11,
    "start_time": "2022-07-23T16:07:48.124Z"
   },
   {
    "duration": 73,
    "start_time": "2022-07-23T16:07:48.137Z"
   },
   {
    "duration": 77,
    "start_time": "2022-07-23T16:07:48.221Z"
   },
   {
    "duration": 149,
    "start_time": "2022-07-23T16:07:48.301Z"
   },
   {
    "duration": 133,
    "start_time": "2022-07-23T16:07:48.452Z"
   },
   {
    "duration": 53,
    "start_time": "2022-07-23T16:07:48.587Z"
   },
   {
    "duration": 110,
    "start_time": "2022-07-23T16:07:48.643Z"
   },
   {
    "duration": 78,
    "start_time": "2022-07-23T16:07:48.755Z"
   },
   {
    "duration": 90,
    "start_time": "2022-07-23T16:07:48.835Z"
   },
   {
    "duration": 133,
    "start_time": "2022-07-23T16:07:48.927Z"
   },
   {
    "duration": 185,
    "start_time": "2022-07-23T16:07:49.067Z"
   },
   {
    "duration": 138,
    "start_time": "2022-07-23T16:07:49.259Z"
   },
   {
    "duration": 2184,
    "start_time": "2022-07-23T16:07:49.399Z"
   },
   {
    "duration": 102,
    "start_time": "2022-07-23T16:07:51.585Z"
   },
   {
    "duration": 215,
    "start_time": "2022-07-23T16:07:51.689Z"
   },
   {
    "duration": 0,
    "start_time": "2022-07-23T16:07:51.906Z"
   },
   {
    "duration": 459936,
    "start_time": "2022-07-23T16:08:47.994Z"
   },
   {
    "duration": 42,
    "start_time": "2022-07-23T16:18:45.834Z"
   },
   {
    "duration": 7,
    "start_time": "2022-07-23T16:19:27.296Z"
   },
   {
    "duration": 167,
    "start_time": "2022-07-23T16:21:28.445Z"
   },
   {
    "duration": 127,
    "start_time": "2022-07-23T16:21:43.229Z"
   },
   {
    "duration": 27,
    "start_time": "2022-07-23T16:29:23.609Z"
   },
   {
    "duration": 5197,
    "start_time": "2022-07-23T16:29:49.993Z"
   },
   {
    "duration": 38,
    "start_time": "2022-07-23T16:29:55.193Z"
   },
   {
    "duration": 284,
    "start_time": "2022-07-23T16:29:55.233Z"
   },
   {
    "duration": 263,
    "start_time": "2022-07-23T16:29:55.521Z"
   },
   {
    "duration": 128,
    "start_time": "2022-07-23T16:29:55.786Z"
   },
   {
    "duration": 714,
    "start_time": "2022-07-23T16:29:55.916Z"
   },
   {
    "duration": 770,
    "start_time": "2022-07-23T16:29:56.632Z"
   },
   {
    "duration": 5,
    "start_time": "2022-07-23T16:29:57.404Z"
   },
   {
    "duration": 2392,
    "start_time": "2022-07-23T16:29:57.411Z"
   },
   {
    "duration": 9961,
    "start_time": "2022-07-23T16:29:59.810Z"
   },
   {
    "duration": 657,
    "start_time": "2022-07-23T16:30:09.773Z"
   },
   {
    "duration": 79,
    "start_time": "2022-07-23T16:30:10.432Z"
   },
   {
    "duration": 15,
    "start_time": "2022-07-23T16:30:10.513Z"
   },
   {
    "duration": 50,
    "start_time": "2022-07-23T16:30:10.530Z"
   },
   {
    "duration": 27,
    "start_time": "2022-07-23T16:30:10.582Z"
   },
   {
    "duration": 127,
    "start_time": "2022-07-23T16:30:10.618Z"
   },
   {
    "duration": 53,
    "start_time": "2022-07-23T16:30:10.747Z"
   },
   {
    "duration": 60,
    "start_time": "2022-07-23T16:30:10.802Z"
   },
   {
    "duration": 55,
    "start_time": "2022-07-23T16:30:10.865Z"
   },
   {
    "duration": 86,
    "start_time": "2022-07-23T16:30:10.923Z"
   },
   {
    "duration": 64,
    "start_time": "2022-07-23T16:30:11.025Z"
   },
   {
    "duration": 95,
    "start_time": "2022-07-23T16:30:11.091Z"
   },
   {
    "duration": 172,
    "start_time": "2022-07-23T16:30:11.188Z"
   },
   {
    "duration": 114,
    "start_time": "2022-07-23T16:30:11.365Z"
   },
   {
    "duration": 1952,
    "start_time": "2022-07-23T16:30:11.481Z"
   },
   {
    "duration": 72,
    "start_time": "2022-07-23T16:30:13.436Z"
   },
   {
    "duration": 173,
    "start_time": "2022-07-23T16:30:13.511Z"
   },
   {
    "duration": 0,
    "start_time": "2022-07-23T16:30:13.686Z"
   },
   {
    "duration": 0,
    "start_time": "2022-07-23T16:30:13.688Z"
   },
   {
    "duration": 40,
    "start_time": "2022-07-23T16:32:59.706Z"
   },
   {
    "duration": 3525,
    "start_time": "2022-07-23T16:34:44.659Z"
   },
   {
    "duration": 50,
    "start_time": "2022-07-23T16:34:48.186Z"
   },
   {
    "duration": 297,
    "start_time": "2022-07-23T16:34:48.240Z"
   },
   {
    "duration": 298,
    "start_time": "2022-07-23T16:34:48.540Z"
   },
   {
    "duration": 181,
    "start_time": "2022-07-23T16:34:48.841Z"
   },
   {
    "duration": 774,
    "start_time": "2022-07-23T16:34:49.025Z"
   },
   {
    "duration": 895,
    "start_time": "2022-07-23T16:34:49.802Z"
   },
   {
    "duration": 5,
    "start_time": "2022-07-23T16:34:50.700Z"
   },
   {
    "duration": 2904,
    "start_time": "2022-07-23T16:34:50.706Z"
   },
   {
    "duration": 12203,
    "start_time": "2022-07-23T16:34:53.614Z"
   },
   {
    "duration": 809,
    "start_time": "2022-07-23T16:35:05.820Z"
   },
   {
    "duration": 82,
    "start_time": "2022-07-23T16:35:06.635Z"
   },
   {
    "duration": 12,
    "start_time": "2022-07-23T16:35:06.725Z"
   },
   {
    "duration": 44,
    "start_time": "2022-07-23T16:35:06.745Z"
   },
   {
    "duration": 32,
    "start_time": "2022-07-23T16:35:06.792Z"
   },
   {
    "duration": 163,
    "start_time": "2022-07-23T16:35:06.826Z"
   },
   {
    "duration": 85,
    "start_time": "2022-07-23T16:35:06.991Z"
   },
   {
    "duration": 72,
    "start_time": "2022-07-23T16:35:07.086Z"
   },
   {
    "duration": 44,
    "start_time": "2022-07-23T16:35:07.160Z"
   },
   {
    "duration": 83,
    "start_time": "2022-07-23T16:35:07.207Z"
   },
   {
    "duration": 58,
    "start_time": "2022-07-23T16:35:07.293Z"
   },
   {
    "duration": 78,
    "start_time": "2022-07-23T16:35:07.353Z"
   },
   {
    "duration": 200,
    "start_time": "2022-07-23T16:35:07.433Z"
   },
   {
    "duration": 113,
    "start_time": "2022-07-23T16:35:07.636Z"
   },
   {
    "duration": 2066,
    "start_time": "2022-07-23T16:35:07.751Z"
   },
   {
    "duration": 83,
    "start_time": "2022-07-23T16:35:09.819Z"
   },
   {
    "duration": 17774,
    "start_time": "2022-07-23T16:35:09.904Z"
   },
   {
    "duration": 335,
    "start_time": "2022-07-23T16:35:27.746Z"
   },
   {
    "duration": 84,
    "start_time": "2022-07-23T16:35:28.084Z"
   },
   {
    "duration": 22865,
    "start_time": "2022-07-23T16:41:48.401Z"
   },
   {
    "duration": 17300,
    "start_time": "2022-07-23T16:42:20.155Z"
   },
   {
    "duration": 3306,
    "start_time": "2022-07-23T16:45:23.407Z"
   },
   {
    "duration": 42,
    "start_time": "2022-07-23T16:45:26.716Z"
   },
   {
    "duration": 245,
    "start_time": "2022-07-23T16:45:26.760Z"
   },
   {
    "duration": 211,
    "start_time": "2022-07-23T16:45:27.009Z"
   },
   {
    "duration": 131,
    "start_time": "2022-07-23T16:45:27.222Z"
   },
   {
    "duration": 727,
    "start_time": "2022-07-23T16:45:27.354Z"
   },
   {
    "duration": 789,
    "start_time": "2022-07-23T16:45:28.083Z"
   },
   {
    "duration": 4,
    "start_time": "2022-07-23T16:45:28.874Z"
   },
   {
    "duration": 2304,
    "start_time": "2022-07-23T16:45:28.880Z"
   },
   {
    "duration": 9486,
    "start_time": "2022-07-23T16:45:31.188Z"
   },
   {
    "duration": 647,
    "start_time": "2022-07-23T16:45:40.676Z"
   },
   {
    "duration": 75,
    "start_time": "2022-07-23T16:45:41.325Z"
   },
   {
    "duration": 11,
    "start_time": "2022-07-23T16:45:41.402Z"
   },
   {
    "duration": 62,
    "start_time": "2022-07-23T16:45:41.415Z"
   },
   {
    "duration": 25,
    "start_time": "2022-07-23T16:45:41.479Z"
   },
   {
    "duration": 131,
    "start_time": "2022-07-23T16:45:41.506Z"
   },
   {
    "duration": 53,
    "start_time": "2022-07-23T16:45:41.638Z"
   },
   {
    "duration": 52,
    "start_time": "2022-07-23T16:45:41.693Z"
   },
   {
    "duration": 75,
    "start_time": "2022-07-23T16:45:41.747Z"
   },
   {
    "duration": 109,
    "start_time": "2022-07-23T16:45:41.824Z"
   },
   {
    "duration": 110,
    "start_time": "2022-07-23T16:45:41.935Z"
   },
   {
    "duration": 119,
    "start_time": "2022-07-23T16:45:42.047Z"
   },
   {
    "duration": 206,
    "start_time": "2022-07-23T16:45:42.168Z"
   },
   {
    "duration": 141,
    "start_time": "2022-07-23T16:45:42.379Z"
   },
   {
    "duration": 1804,
    "start_time": "2022-07-23T16:45:42.522Z"
   },
   {
    "duration": 79,
    "start_time": "2022-07-23T16:45:44.328Z"
   },
   {
    "duration": 152,
    "start_time": "2022-07-23T16:45:44.410Z"
   },
   {
    "duration": 17153,
    "start_time": "2022-07-23T16:45:44.566Z"
   },
   {
    "duration": 296,
    "start_time": "2022-07-23T16:46:01.723Z"
   },
   {
    "duration": 12,
    "start_time": "2022-07-23T16:46:02.022Z"
   },
   {
    "duration": 8,
    "start_time": "2022-07-23T16:46:42.047Z"
   },
   {
    "duration": 7,
    "start_time": "2022-07-23T16:47:07.935Z"
   },
   {
    "duration": 8,
    "start_time": "2022-07-23T16:47:18.046Z"
   },
   {
    "duration": 6,
    "start_time": "2022-07-23T16:47:27.772Z"
   },
   {
    "duration": 3119,
    "start_time": "2022-07-23T16:48:11.995Z"
   },
   {
    "duration": 49,
    "start_time": "2022-07-23T16:48:15.117Z"
   },
   {
    "duration": 235,
    "start_time": "2022-07-23T16:48:15.168Z"
   },
   {
    "duration": 194,
    "start_time": "2022-07-23T16:48:15.406Z"
   },
   {
    "duration": 147,
    "start_time": "2022-07-23T16:48:15.602Z"
   },
   {
    "duration": 647,
    "start_time": "2022-07-23T16:48:15.751Z"
   },
   {
    "duration": 691,
    "start_time": "2022-07-23T16:48:16.400Z"
   },
   {
    "duration": 4,
    "start_time": "2022-07-23T16:48:17.094Z"
   },
   {
    "duration": 2168,
    "start_time": "2022-07-23T16:48:17.100Z"
   },
   {
    "duration": 9438,
    "start_time": "2022-07-23T16:48:19.272Z"
   },
   {
    "duration": 640,
    "start_time": "2022-07-23T16:48:28.718Z"
   },
   {
    "duration": 71,
    "start_time": "2022-07-23T16:48:29.364Z"
   },
   {
    "duration": 10,
    "start_time": "2022-07-23T16:48:29.437Z"
   },
   {
    "duration": 57,
    "start_time": "2022-07-23T16:48:29.449Z"
   },
   {
    "duration": 79,
    "start_time": "2022-07-23T16:48:29.509Z"
   },
   {
    "duration": 148,
    "start_time": "2022-07-23T16:48:29.591Z"
   },
   {
    "duration": 63,
    "start_time": "2022-07-23T16:48:29.744Z"
   },
   {
    "duration": 109,
    "start_time": "2022-07-23T16:48:29.809Z"
   },
   {
    "duration": 87,
    "start_time": "2022-07-23T16:48:29.920Z"
   },
   {
    "duration": 74,
    "start_time": "2022-07-23T16:48:30.009Z"
   },
   {
    "duration": 59,
    "start_time": "2022-07-23T16:48:30.086Z"
   },
   {
    "duration": 94,
    "start_time": "2022-07-23T16:48:30.148Z"
   },
   {
    "duration": 226,
    "start_time": "2022-07-23T16:48:30.244Z"
   },
   {
    "duration": 119,
    "start_time": "2022-07-23T16:48:30.478Z"
   },
   {
    "duration": 1684,
    "start_time": "2022-07-23T16:48:30.599Z"
   },
   {
    "duration": 83,
    "start_time": "2022-07-23T16:48:32.286Z"
   },
   {
    "duration": 23,
    "start_time": "2022-07-23T16:48:32.370Z"
   },
   {
    "duration": 17431,
    "start_time": "2022-07-23T16:48:32.397Z"
   },
   {
    "duration": 189,
    "start_time": "2022-07-23T16:48:49.830Z"
   },
   {
    "duration": 5,
    "start_time": "2022-07-23T16:48:50.022Z"
   },
   {
    "duration": 54,
    "start_time": "2022-07-23T16:49:46.301Z"
   },
   {
    "duration": 4031,
    "start_time": "2022-07-23T17:05:48.098Z"
   },
   {
    "duration": 47,
    "start_time": "2022-07-23T17:05:52.132Z"
   },
   {
    "duration": 395,
    "start_time": "2022-07-23T17:05:52.184Z"
   },
   {
    "duration": 350,
    "start_time": "2022-07-23T17:05:52.586Z"
   },
   {
    "duration": 165,
    "start_time": "2022-07-23T17:05:52.939Z"
   },
   {
    "duration": 904,
    "start_time": "2022-07-23T17:05:53.107Z"
   },
   {
    "duration": 1009,
    "start_time": "2022-07-23T17:05:54.020Z"
   },
   {
    "duration": 8,
    "start_time": "2022-07-23T17:05:55.035Z"
   },
   {
    "duration": 2605,
    "start_time": "2022-07-23T17:05:55.044Z"
   },
   {
    "duration": 12568,
    "start_time": "2022-07-23T17:05:57.654Z"
   },
   {
    "duration": 905,
    "start_time": "2022-07-23T17:06:10.233Z"
   },
   {
    "duration": 91,
    "start_time": "2022-07-23T17:06:11.148Z"
   },
   {
    "duration": 82,
    "start_time": "2022-07-23T17:06:11.246Z"
   },
   {
    "duration": 105,
    "start_time": "2022-07-23T17:06:11.331Z"
   },
   {
    "duration": 51,
    "start_time": "2022-07-23T17:06:11.445Z"
   },
   {
    "duration": 190,
    "start_time": "2022-07-23T17:06:11.499Z"
   },
   {
    "duration": 84,
    "start_time": "2022-07-23T17:06:11.692Z"
   },
   {
    "duration": 87,
    "start_time": "2022-07-23T17:06:11.779Z"
   },
   {
    "duration": 142,
    "start_time": "2022-07-23T17:06:11.869Z"
   },
   {
    "duration": 192,
    "start_time": "2022-07-23T17:06:12.013Z"
   },
   {
    "duration": 204,
    "start_time": "2022-07-23T17:06:12.214Z"
   },
   {
    "duration": 207,
    "start_time": "2022-07-23T17:06:12.425Z"
   },
   {
    "duration": 334,
    "start_time": "2022-07-23T17:06:12.634Z"
   },
   {
    "duration": 154,
    "start_time": "2022-07-23T17:06:12.970Z"
   },
   {
    "duration": 2529,
    "start_time": "2022-07-23T17:06:13.126Z"
   },
   {
    "duration": 107,
    "start_time": "2022-07-23T17:06:15.673Z"
   },
   {
    "duration": 235,
    "start_time": "2022-07-23T17:06:15.785Z"
   },
   {
    "duration": 19064,
    "start_time": "2022-07-23T17:06:16.031Z"
   },
   {
    "duration": 137,
    "start_time": "2022-07-23T17:06:35.098Z"
   },
   {
    "duration": 687,
    "start_time": "2022-07-23T17:06:35.241Z"
   },
   {
    "duration": 137,
    "start_time": "2022-07-23T17:06:35.935Z"
   },
   {
    "duration": 145,
    "start_time": "2022-07-23T17:06:36.079Z"
   },
   {
    "duration": 145,
    "start_time": "2022-07-23T17:06:36.243Z"
   },
   {
    "duration": 352,
    "start_time": "2022-07-23T17:06:36.395Z"
   },
   {
    "duration": 0,
    "start_time": "2022-07-23T17:06:36.750Z"
   },
   {
    "duration": 4237,
    "start_time": "2022-07-23T17:07:42.965Z"
   },
   {
    "duration": 62,
    "start_time": "2022-07-23T17:07:47.207Z"
   },
   {
    "duration": 345,
    "start_time": "2022-07-23T17:07:47.271Z"
   },
   {
    "duration": 257,
    "start_time": "2022-07-23T17:07:47.619Z"
   },
   {
    "duration": 259,
    "start_time": "2022-07-23T17:07:47.878Z"
   },
   {
    "duration": 835,
    "start_time": "2022-07-23T17:07:48.139Z"
   },
   {
    "duration": 846,
    "start_time": "2022-07-23T17:07:48.981Z"
   },
   {
    "duration": 9,
    "start_time": "2022-07-23T17:07:49.845Z"
   },
   {
    "duration": 2704,
    "start_time": "2022-07-23T17:07:49.868Z"
   },
   {
    "duration": 11429,
    "start_time": "2022-07-23T17:07:52.580Z"
   },
   {
    "duration": 792,
    "start_time": "2022-07-23T17:08:04.017Z"
   },
   {
    "duration": 84,
    "start_time": "2022-07-23T17:08:04.816Z"
   },
   {
    "duration": 57,
    "start_time": "2022-07-23T17:08:04.903Z"
   },
   {
    "duration": 191,
    "start_time": "2022-07-23T17:08:04.966Z"
   },
   {
    "duration": 108,
    "start_time": "2022-07-23T17:08:05.165Z"
   },
   {
    "duration": 296,
    "start_time": "2022-07-23T17:08:05.280Z"
   },
   {
    "duration": 169,
    "start_time": "2022-07-23T17:08:05.583Z"
   },
   {
    "duration": 161,
    "start_time": "2022-07-23T17:08:05.759Z"
   },
   {
    "duration": 182,
    "start_time": "2022-07-23T17:08:05.926Z"
   },
   {
    "duration": 80,
    "start_time": "2022-07-23T17:08:06.111Z"
   },
   {
    "duration": 215,
    "start_time": "2022-07-23T17:08:06.193Z"
   },
   {
    "duration": 220,
    "start_time": "2022-07-23T17:08:06.412Z"
   },
   {
    "duration": 283,
    "start_time": "2022-07-23T17:08:06.637Z"
   },
   {
    "duration": 157,
    "start_time": "2022-07-23T17:08:06.925Z"
   },
   {
    "duration": 2113,
    "start_time": "2022-07-23T17:08:07.089Z"
   },
   {
    "duration": 107,
    "start_time": "2022-07-23T17:08:09.204Z"
   },
   {
    "duration": 232,
    "start_time": "2022-07-23T17:08:09.314Z"
   },
   {
    "duration": 21049,
    "start_time": "2022-07-23T17:08:09.551Z"
   },
   {
    "duration": 253,
    "start_time": "2022-07-23T17:08:30.615Z"
   },
   {
    "duration": 823,
    "start_time": "2022-07-23T17:08:30.881Z"
   },
   {
    "duration": 123,
    "start_time": "2022-07-23T17:08:31.710Z"
   },
   {
    "duration": 117,
    "start_time": "2022-07-23T17:08:31.840Z"
   },
   {
    "duration": 126,
    "start_time": "2022-07-23T17:08:31.976Z"
   },
   {
    "duration": 185,
    "start_time": "2022-07-23T17:08:32.111Z"
   },
   {
    "duration": 98,
    "start_time": "2022-07-23T17:08:32.300Z"
   },
   {
    "duration": 9,
    "start_time": "2022-07-23T17:09:53.361Z"
   },
   {
    "duration": 3406,
    "start_time": "2022-07-23T17:30:03.159Z"
   },
   {
    "duration": 49,
    "start_time": "2022-07-23T17:30:06.568Z"
   },
   {
    "duration": 392,
    "start_time": "2022-07-23T17:30:06.620Z"
   },
   {
    "duration": 437,
    "start_time": "2022-07-23T17:30:07.019Z"
   },
   {
    "duration": 172,
    "start_time": "2022-07-23T17:30:07.461Z"
   },
   {
    "duration": 691,
    "start_time": "2022-07-23T17:30:07.637Z"
   },
   {
    "duration": 795,
    "start_time": "2022-07-23T17:30:08.330Z"
   },
   {
    "duration": 5,
    "start_time": "2022-07-23T17:30:09.128Z"
   },
   {
    "duration": 2451,
    "start_time": "2022-07-23T17:30:09.135Z"
   },
   {
    "duration": 9795,
    "start_time": "2022-07-23T17:30:11.588Z"
   },
   {
    "duration": 800,
    "start_time": "2022-07-23T17:30:21.388Z"
   },
   {
    "duration": 82,
    "start_time": "2022-07-23T17:30:22.196Z"
   },
   {
    "duration": 31,
    "start_time": "2022-07-23T17:30:22.280Z"
   },
   {
    "duration": 136,
    "start_time": "2022-07-23T17:30:22.315Z"
   },
   {
    "duration": 88,
    "start_time": "2022-07-23T17:30:22.453Z"
   },
   {
    "duration": 179,
    "start_time": "2022-07-23T17:30:22.544Z"
   },
   {
    "duration": 90,
    "start_time": "2022-07-23T17:30:22.725Z"
   },
   {
    "duration": 107,
    "start_time": "2022-07-23T17:30:22.829Z"
   },
   {
    "duration": 109,
    "start_time": "2022-07-23T17:30:22.942Z"
   },
   {
    "duration": 52,
    "start_time": "2022-07-23T17:30:23.054Z"
   },
   {
    "duration": 88,
    "start_time": "2022-07-23T17:30:23.108Z"
   },
   {
    "duration": 88,
    "start_time": "2022-07-23T17:30:23.198Z"
   },
   {
    "duration": 169,
    "start_time": "2022-07-23T17:30:23.288Z"
   },
   {
    "duration": 125,
    "start_time": "2022-07-23T17:30:23.460Z"
   },
   {
    "duration": 2053,
    "start_time": "2022-07-23T17:30:23.588Z"
   },
   {
    "duration": 71,
    "start_time": "2022-07-23T17:30:25.644Z"
   },
   {
    "duration": 2,
    "start_time": "2022-07-23T17:30:25.718Z"
   },
   {
    "duration": 17716,
    "start_time": "2022-07-23T17:30:25.722Z"
   },
   {
    "duration": 187,
    "start_time": "2022-07-23T17:30:43.462Z"
   },
   {
    "duration": 548,
    "start_time": "2022-07-23T17:30:43.652Z"
   },
   {
    "duration": 112,
    "start_time": "2022-07-23T17:30:44.202Z"
   },
   {
    "duration": 109,
    "start_time": "2022-07-23T17:30:44.318Z"
   },
   {
    "duration": 91,
    "start_time": "2022-07-23T17:30:44.432Z"
   },
   {
    "duration": 43,
    "start_time": "2022-07-23T17:30:44.540Z"
   },
   {
    "duration": 14,
    "start_time": "2022-07-23T17:30:44.584Z"
   },
   {
    "duration": 3087,
    "start_time": "2022-07-23T17:39:18.169Z"
   },
   {
    "duration": 29,
    "start_time": "2022-07-23T17:39:21.259Z"
   },
   {
    "duration": 224,
    "start_time": "2022-07-23T17:39:21.290Z"
   },
   {
    "duration": 195,
    "start_time": "2022-07-23T17:39:21.518Z"
   },
   {
    "duration": 155,
    "start_time": "2022-07-23T17:39:21.714Z"
   },
   {
    "duration": 728,
    "start_time": "2022-07-23T17:39:21.872Z"
   },
   {
    "duration": 659,
    "start_time": "2022-07-23T17:39:22.602Z"
   },
   {
    "duration": 4,
    "start_time": "2022-07-23T17:39:23.263Z"
   },
   {
    "duration": 2229,
    "start_time": "2022-07-23T17:39:23.269Z"
   },
   {
    "duration": 8927,
    "start_time": "2022-07-23T17:39:25.501Z"
   },
   {
    "duration": 651,
    "start_time": "2022-07-23T17:39:34.431Z"
   },
   {
    "duration": 84,
    "start_time": "2022-07-23T17:39:35.083Z"
   },
   {
    "duration": 6,
    "start_time": "2022-07-23T17:39:35.169Z"
   },
   {
    "duration": 24,
    "start_time": "2022-07-23T17:39:35.177Z"
   },
   {
    "duration": 47,
    "start_time": "2022-07-23T17:39:35.203Z"
   },
   {
    "duration": 145,
    "start_time": "2022-07-23T17:39:35.253Z"
   },
   {
    "duration": 61,
    "start_time": "2022-07-23T17:39:35.399Z"
   },
   {
    "duration": 38,
    "start_time": "2022-07-23T17:39:35.463Z"
   },
   {
    "duration": 101,
    "start_time": "2022-07-23T17:39:35.504Z"
   },
   {
    "duration": 95,
    "start_time": "2022-07-23T17:39:35.607Z"
   },
   {
    "duration": 76,
    "start_time": "2022-07-23T17:39:35.705Z"
   },
   {
    "duration": 69,
    "start_time": "2022-07-23T17:39:35.783Z"
   },
   {
    "duration": 165,
    "start_time": "2022-07-23T17:39:35.854Z"
   },
   {
    "duration": 158,
    "start_time": "2022-07-23T17:39:36.021Z"
   },
   {
    "duration": 1722,
    "start_time": "2022-07-23T17:39:36.182Z"
   },
   {
    "duration": 74,
    "start_time": "2022-07-23T17:39:37.906Z"
   },
   {
    "duration": 3,
    "start_time": "2022-07-23T17:39:37.982Z"
   },
   {
    "duration": 17875,
    "start_time": "2022-07-23T17:39:37.990Z"
   },
   {
    "duration": 154,
    "start_time": "2022-07-23T17:39:55.868Z"
   },
   {
    "duration": 472,
    "start_time": "2022-07-23T17:39:56.024Z"
   },
   {
    "duration": 114,
    "start_time": "2022-07-23T17:39:56.498Z"
   },
   {
    "duration": 48,
    "start_time": "2022-07-23T17:39:56.621Z"
   },
   {
    "duration": 117,
    "start_time": "2022-07-23T17:39:56.712Z"
   },
   {
    "duration": 27,
    "start_time": "2022-07-23T17:39:56.837Z"
   },
   {
    "duration": 5,
    "start_time": "2022-07-23T17:39:56.866Z"
   },
   {
    "duration": 14,
    "start_time": "2022-07-23T17:39:56.873Z"
   },
   {
    "duration": 8,
    "start_time": "2022-07-23T17:43:56.532Z"
   },
   {
    "duration": 9,
    "start_time": "2022-07-23T17:43:59.372Z"
   },
   {
    "duration": 49,
    "start_time": "2022-07-24T07:44:48.757Z"
   },
   {
    "duration": 3113,
    "start_time": "2022-07-24T07:44:59.783Z"
   },
   {
    "duration": 25,
    "start_time": "2022-07-24T07:45:02.898Z"
   },
   {
    "duration": 162,
    "start_time": "2022-07-24T07:45:02.924Z"
   },
   {
    "duration": 128,
    "start_time": "2022-07-24T07:45:03.088Z"
   },
   {
    "duration": 104,
    "start_time": "2022-07-24T07:45:03.217Z"
   },
   {
    "duration": 450,
    "start_time": "2022-07-24T07:45:03.323Z"
   },
   {
    "duration": 544,
    "start_time": "2022-07-24T07:45:03.775Z"
   },
   {
    "duration": 4,
    "start_time": "2022-07-24T07:45:04.321Z"
   },
   {
    "duration": 2005,
    "start_time": "2022-07-24T07:45:04.327Z"
   },
   {
    "duration": 7472,
    "start_time": "2022-07-24T07:45:06.335Z"
   },
   {
    "duration": 527,
    "start_time": "2022-07-24T07:45:13.808Z"
   },
   {
    "duration": 67,
    "start_time": "2022-07-24T07:45:14.337Z"
   },
   {
    "duration": 6,
    "start_time": "2022-07-24T07:45:14.406Z"
   },
   {
    "duration": 20,
    "start_time": "2022-07-24T07:45:14.414Z"
   },
   {
    "duration": 47,
    "start_time": "2022-07-24T07:45:14.436Z"
   },
   {
    "duration": 75,
    "start_time": "2022-07-24T07:45:14.485Z"
   },
   {
    "duration": 42,
    "start_time": "2022-07-24T07:45:14.563Z"
   },
   {
    "duration": 35,
    "start_time": "2022-07-24T07:45:14.607Z"
   },
   {
    "duration": 64,
    "start_time": "2022-07-24T07:45:14.644Z"
   },
   {
    "duration": 35,
    "start_time": "2022-07-24T07:45:14.710Z"
   },
   {
    "duration": 50,
    "start_time": "2022-07-24T07:45:14.746Z"
   },
   {
    "duration": 46,
    "start_time": "2022-07-24T07:45:14.798Z"
   },
   {
    "duration": 119,
    "start_time": "2022-07-24T07:45:14.846Z"
   },
   {
    "duration": 75,
    "start_time": "2022-07-24T07:45:14.967Z"
   },
   {
    "duration": 1373,
    "start_time": "2022-07-24T07:45:15.044Z"
   },
   {
    "duration": 69,
    "start_time": "2022-07-24T07:45:16.419Z"
   },
   {
    "duration": 3,
    "start_time": "2022-07-24T07:45:16.490Z"
   },
   {
    "duration": 14184,
    "start_time": "2022-07-24T07:45:16.496Z"
   },
   {
    "duration": 188,
    "start_time": "2022-07-24T07:45:30.682Z"
   },
   {
    "duration": 373,
    "start_time": "2022-07-24T07:45:30.872Z"
   },
   {
    "duration": 47,
    "start_time": "2022-07-24T07:45:31.247Z"
   },
   {
    "duration": 21,
    "start_time": "2022-07-24T07:45:31.360Z"
   },
   {
    "duration": 189,
    "start_time": "2022-07-24T07:45:31.387Z"
   },
   {
    "duration": 23,
    "start_time": "2022-07-24T07:45:31.579Z"
   },
   {
    "duration": 13,
    "start_time": "2022-07-24T07:45:31.604Z"
   },
   {
    "duration": 32,
    "start_time": "2022-07-24T07:45:31.618Z"
   },
   {
    "duration": 4486,
    "start_time": "2022-07-24T13:24:36.656Z"
   },
   {
    "duration": 30,
    "start_time": "2022-07-24T13:24:41.144Z"
   },
   {
    "duration": 154,
    "start_time": "2022-07-24T13:24:41.175Z"
   },
   {
    "duration": 142,
    "start_time": "2022-07-24T13:24:41.332Z"
   },
   {
    "duration": 113,
    "start_time": "2022-07-24T13:24:41.476Z"
   },
   {
    "duration": 565,
    "start_time": "2022-07-24T13:24:41.591Z"
   },
   {
    "duration": 543,
    "start_time": "2022-07-24T13:24:42.157Z"
   },
   {
    "duration": 4,
    "start_time": "2022-07-24T13:24:42.702Z"
   },
   {
    "duration": 1811,
    "start_time": "2022-07-24T13:24:42.710Z"
   },
   {
    "duration": 7301,
    "start_time": "2022-07-24T13:24:44.524Z"
   },
   {
    "duration": 590,
    "start_time": "2022-07-24T13:24:51.827Z"
   },
   {
    "duration": 56,
    "start_time": "2022-07-24T13:24:52.419Z"
   },
   {
    "duration": 7,
    "start_time": "2022-07-24T13:24:52.477Z"
   },
   {
    "duration": 40,
    "start_time": "2022-07-24T13:24:52.485Z"
   },
   {
    "duration": 28,
    "start_time": "2022-07-24T13:24:52.527Z"
   },
   {
    "duration": 80,
    "start_time": "2022-07-24T13:24:52.556Z"
   },
   {
    "duration": 35,
    "start_time": "2022-07-24T13:24:52.638Z"
   },
   {
    "duration": 42,
    "start_time": "2022-07-24T13:24:52.675Z"
   },
   {
    "duration": 34,
    "start_time": "2022-07-24T13:24:52.719Z"
   },
   {
    "duration": 34,
    "start_time": "2022-07-24T13:24:52.755Z"
   },
   {
    "duration": 62,
    "start_time": "2022-07-24T13:24:52.792Z"
   },
   {
    "duration": 72,
    "start_time": "2022-07-24T13:24:52.855Z"
   },
   {
    "duration": 112,
    "start_time": "2022-07-24T13:24:52.929Z"
   },
   {
    "duration": 75,
    "start_time": "2022-07-24T13:24:53.043Z"
   },
   {
    "duration": 1193,
    "start_time": "2022-07-24T13:24:53.120Z"
   },
   {
    "duration": 47,
    "start_time": "2022-07-24T13:24:54.315Z"
   },
   {
    "duration": 2,
    "start_time": "2022-07-24T13:24:54.364Z"
   },
   {
    "duration": 16356,
    "start_time": "2022-07-24T13:24:54.370Z"
   },
   {
    "duration": 200,
    "start_time": "2022-07-24T13:25:10.810Z"
   },
   {
    "duration": 371,
    "start_time": "2022-07-24T13:25:11.012Z"
   },
   {
    "duration": 125,
    "start_time": "2022-07-24T13:25:11.385Z"
   },
   {
    "duration": 14,
    "start_time": "2022-07-24T13:25:11.512Z"
   },
   {
    "duration": 182,
    "start_time": "2022-07-24T13:25:11.530Z"
   },
   {
    "duration": 10,
    "start_time": "2022-07-24T13:25:11.714Z"
   },
   {
    "duration": 5,
    "start_time": "2022-07-24T13:25:11.726Z"
   },
   {
    "duration": 13,
    "start_time": "2022-07-24T13:25:11.733Z"
   },
   {
    "duration": 2475,
    "start_time": "2022-07-24T13:28:43.008Z"
   },
   {
    "duration": 37,
    "start_time": "2022-07-24T13:28:45.486Z"
   },
   {
    "duration": 161,
    "start_time": "2022-07-24T13:28:45.524Z"
   },
   {
    "duration": 150,
    "start_time": "2022-07-24T13:28:45.688Z"
   },
   {
    "duration": 120,
    "start_time": "2022-07-24T13:28:45.840Z"
   },
   {
    "duration": 505,
    "start_time": "2022-07-24T13:28:45.962Z"
   },
   {
    "duration": 508,
    "start_time": "2022-07-24T13:28:46.469Z"
   },
   {
    "duration": 4,
    "start_time": "2022-07-24T13:28:46.979Z"
   },
   {
    "duration": 1846,
    "start_time": "2022-07-24T13:28:46.985Z"
   },
   {
    "duration": 7310,
    "start_time": "2022-07-24T13:28:48.835Z"
   },
   {
    "duration": 557,
    "start_time": "2022-07-24T13:28:56.148Z"
   },
   {
    "duration": 56,
    "start_time": "2022-07-24T13:28:56.709Z"
   },
   {
    "duration": 7,
    "start_time": "2022-07-24T13:28:56.767Z"
   },
   {
    "duration": 42,
    "start_time": "2022-07-24T13:28:56.775Z"
   },
   {
    "duration": 25,
    "start_time": "2022-07-24T13:28:56.819Z"
   },
   {
    "duration": 83,
    "start_time": "2022-07-24T13:28:56.846Z"
   },
   {
    "duration": 114,
    "start_time": "2022-07-24T13:28:56.931Z"
   },
   {
    "duration": 63,
    "start_time": "2022-07-24T13:28:57.047Z"
   },
   {
    "duration": 40,
    "start_time": "2022-07-24T13:28:57.112Z"
   },
   {
    "duration": 62,
    "start_time": "2022-07-24T13:28:57.154Z"
   },
   {
    "duration": 66,
    "start_time": "2022-07-24T13:28:57.218Z"
   },
   {
    "duration": 51,
    "start_time": "2022-07-24T13:28:57.286Z"
   },
   {
    "duration": 120,
    "start_time": "2022-07-24T13:28:57.339Z"
   },
   {
    "duration": 84,
    "start_time": "2022-07-24T13:28:57.460Z"
   },
   {
    "duration": 135,
    "start_time": "2022-07-24T13:28:57.545Z"
   },
   {
    "duration": 0,
    "start_time": "2022-07-24T13:28:57.683Z"
   },
   {
    "duration": 0,
    "start_time": "2022-07-24T13:28:57.684Z"
   },
   {
    "duration": 0,
    "start_time": "2022-07-24T13:28:57.685Z"
   },
   {
    "duration": 1,
    "start_time": "2022-07-24T13:28:57.686Z"
   },
   {
    "duration": 0,
    "start_time": "2022-07-24T13:28:57.687Z"
   },
   {
    "duration": 0,
    "start_time": "2022-07-24T13:28:57.689Z"
   },
   {
    "duration": 0,
    "start_time": "2022-07-24T13:28:57.689Z"
   },
   {
    "duration": 0,
    "start_time": "2022-07-24T13:28:57.690Z"
   },
   {
    "duration": 0,
    "start_time": "2022-07-24T13:28:57.691Z"
   },
   {
    "duration": 0,
    "start_time": "2022-07-24T13:28:57.711Z"
   },
   {
    "duration": 0,
    "start_time": "2022-07-24T13:28:57.712Z"
   },
   {
    "duration": 2656,
    "start_time": "2022-07-24T13:40:49.223Z"
   },
   {
    "duration": 46,
    "start_time": "2022-07-24T13:40:51.882Z"
   },
   {
    "duration": 229,
    "start_time": "2022-07-24T13:40:51.930Z"
   },
   {
    "duration": 157,
    "start_time": "2022-07-24T13:40:52.163Z"
   },
   {
    "duration": 109,
    "start_time": "2022-07-24T13:40:52.322Z"
   },
   {
    "duration": 570,
    "start_time": "2022-07-24T13:40:52.434Z"
   },
   {
    "duration": 568,
    "start_time": "2022-07-24T13:40:53.006Z"
   },
   {
    "duration": 4,
    "start_time": "2022-07-24T13:40:53.576Z"
   },
   {
    "duration": 2053,
    "start_time": "2022-07-24T13:40:53.581Z"
   },
   {
    "duration": 8243,
    "start_time": "2022-07-24T13:40:55.637Z"
   },
   {
    "duration": 557,
    "start_time": "2022-07-24T13:41:03.882Z"
   },
   {
    "duration": 77,
    "start_time": "2022-07-24T13:41:04.441Z"
   },
   {
    "duration": 8,
    "start_time": "2022-07-24T13:41:04.526Z"
   },
   {
    "duration": 29,
    "start_time": "2022-07-24T13:41:04.536Z"
   },
   {
    "duration": 31,
    "start_time": "2022-07-24T13:41:04.567Z"
   },
   {
    "duration": 103,
    "start_time": "2022-07-24T13:41:04.601Z"
   },
   {
    "duration": 38,
    "start_time": "2022-07-24T13:41:04.721Z"
   },
   {
    "duration": 34,
    "start_time": "2022-07-24T13:41:04.760Z"
   },
   {
    "duration": 52,
    "start_time": "2022-07-24T13:41:04.796Z"
   },
   {
    "duration": 37,
    "start_time": "2022-07-24T13:41:04.850Z"
   },
   {
    "duration": 54,
    "start_time": "2022-07-24T13:41:04.890Z"
   },
   {
    "duration": 78,
    "start_time": "2022-07-24T13:41:04.945Z"
   },
   {
    "duration": 122,
    "start_time": "2022-07-24T13:41:05.025Z"
   },
   {
    "duration": 85,
    "start_time": "2022-07-24T13:41:05.149Z"
   },
   {
    "duration": 1032,
    "start_time": "2022-07-24T13:41:05.236Z"
   },
   {
    "duration": 85,
    "start_time": "2022-07-24T13:41:06.270Z"
   },
   {
    "duration": 2,
    "start_time": "2022-07-24T13:41:06.358Z"
   },
   {
    "duration": 19359,
    "start_time": "2022-07-24T13:41:06.364Z"
   },
   {
    "duration": 109,
    "start_time": "2022-07-24T13:41:25.725Z"
   },
   {
    "duration": 444,
    "start_time": "2022-07-24T13:41:25.838Z"
   },
   {
    "duration": 60,
    "start_time": "2022-07-24T13:41:26.284Z"
   },
   {
    "duration": 118,
    "start_time": "2022-07-24T13:41:26.412Z"
   },
   {
    "duration": 33,
    "start_time": "2022-07-24T13:41:26.609Z"
   },
   {
    "duration": 11,
    "start_time": "2022-07-24T13:41:26.644Z"
   },
   {
    "duration": 10,
    "start_time": "2022-07-24T13:41:26.657Z"
   },
   {
    "duration": 16,
    "start_time": "2022-07-24T13:41:26.669Z"
   },
   {
    "duration": 2559,
    "start_time": "2022-07-24T13:43:12.472Z"
   },
   {
    "duration": 32,
    "start_time": "2022-07-24T13:43:15.033Z"
   },
   {
    "duration": 172,
    "start_time": "2022-07-24T13:43:15.067Z"
   },
   {
    "duration": 180,
    "start_time": "2022-07-24T13:43:15.242Z"
   },
   {
    "duration": 111,
    "start_time": "2022-07-24T13:43:15.425Z"
   },
   {
    "duration": 566,
    "start_time": "2022-07-24T13:43:15.538Z"
   },
   {
    "duration": 632,
    "start_time": "2022-07-24T13:43:16.106Z"
   },
   {
    "duration": 3,
    "start_time": "2022-07-24T13:43:16.741Z"
   },
   {
    "duration": 2025,
    "start_time": "2022-07-24T13:43:16.746Z"
   },
   {
    "duration": 7554,
    "start_time": "2022-07-24T13:43:18.774Z"
   },
   {
    "duration": 542,
    "start_time": "2022-07-24T13:43:26.330Z"
   },
   {
    "duration": 68,
    "start_time": "2022-07-24T13:43:26.874Z"
   },
   {
    "duration": 6,
    "start_time": "2022-07-24T13:43:26.944Z"
   },
   {
    "duration": 35,
    "start_time": "2022-07-24T13:43:26.952Z"
   },
   {
    "duration": 35,
    "start_time": "2022-07-24T13:43:26.989Z"
   },
   {
    "duration": 89,
    "start_time": "2022-07-24T13:43:27.027Z"
   },
   {
    "duration": 38,
    "start_time": "2022-07-24T13:43:27.122Z"
   },
   {
    "duration": 33,
    "start_time": "2022-07-24T13:43:27.162Z"
   },
   {
    "duration": 46,
    "start_time": "2022-07-24T13:43:27.197Z"
   },
   {
    "duration": 36,
    "start_time": "2022-07-24T13:43:27.245Z"
   },
   {
    "duration": 55,
    "start_time": "2022-07-24T13:43:27.283Z"
   },
   {
    "duration": 48,
    "start_time": "2022-07-24T13:43:27.340Z"
   },
   {
    "duration": 140,
    "start_time": "2022-07-24T13:43:27.390Z"
   },
   {
    "duration": 92,
    "start_time": "2022-07-24T13:43:27.531Z"
   },
   {
    "duration": 537,
    "start_time": "2022-07-24T13:43:27.625Z"
   },
   {
    "duration": 87,
    "start_time": "2022-07-24T13:43:28.164Z"
   },
   {
    "duration": 2,
    "start_time": "2022-07-24T13:43:28.253Z"
   },
   {
    "duration": 228,
    "start_time": "2022-07-24T13:43:28.258Z"
   },
   {
    "duration": 189,
    "start_time": "2022-07-24T13:43:28.488Z"
   },
   {
    "duration": 129,
    "start_time": "2022-07-24T13:43:28.678Z"
   },
   {
    "duration": 17,
    "start_time": "2022-07-24T13:43:28.808Z"
   },
   {
    "duration": 0,
    "start_time": "2022-07-24T13:43:28.827Z"
   },
   {
    "duration": 0,
    "start_time": "2022-07-24T13:43:28.828Z"
   },
   {
    "duration": 0,
    "start_time": "2022-07-24T13:43:28.829Z"
   },
   {
    "duration": 0,
    "start_time": "2022-07-24T13:43:28.831Z"
   },
   {
    "duration": 0,
    "start_time": "2022-07-24T13:43:28.832Z"
   },
   {
    "duration": 448,
    "start_time": "2022-07-24T13:44:37.200Z"
   },
   {
    "duration": 92,
    "start_time": "2022-07-24T13:44:46.378Z"
   },
   {
    "duration": 108,
    "start_time": "2022-07-24T13:44:49.471Z"
   },
   {
    "duration": 161,
    "start_time": "2022-07-24T13:44:55.269Z"
   },
   {
    "duration": 2438,
    "start_time": "2022-07-24T13:45:11.541Z"
   },
   {
    "duration": 30,
    "start_time": "2022-07-24T13:45:13.982Z"
   },
   {
    "duration": 147,
    "start_time": "2022-07-24T13:45:14.014Z"
   },
   {
    "duration": 141,
    "start_time": "2022-07-24T13:45:14.163Z"
   },
   {
    "duration": 112,
    "start_time": "2022-07-24T13:45:14.305Z"
   },
   {
    "duration": 512,
    "start_time": "2022-07-24T13:45:14.419Z"
   },
   {
    "duration": 561,
    "start_time": "2022-07-24T13:45:14.933Z"
   },
   {
    "duration": 4,
    "start_time": "2022-07-24T13:45:15.496Z"
   },
   {
    "duration": 1864,
    "start_time": "2022-07-24T13:45:15.510Z"
   },
   {
    "duration": 7307,
    "start_time": "2022-07-24T13:45:17.376Z"
   },
   {
    "duration": 510,
    "start_time": "2022-07-24T13:45:24.685Z"
   },
   {
    "duration": 86,
    "start_time": "2022-07-24T13:45:25.197Z"
   },
   {
    "duration": 11,
    "start_time": "2022-07-24T13:45:25.286Z"
   },
   {
    "duration": 37,
    "start_time": "2022-07-24T13:45:25.299Z"
   },
   {
    "duration": 32,
    "start_time": "2022-07-24T13:45:25.338Z"
   },
   {
    "duration": 76,
    "start_time": "2022-07-24T13:45:25.373Z"
   },
   {
    "duration": 32,
    "start_time": "2022-07-24T13:45:25.451Z"
   },
   {
    "duration": 97,
    "start_time": "2022-07-24T13:45:25.484Z"
   },
   {
    "duration": 38,
    "start_time": "2022-07-24T13:45:25.583Z"
   },
   {
    "duration": 42,
    "start_time": "2022-07-24T13:45:25.623Z"
   },
   {
    "duration": 36,
    "start_time": "2022-07-24T13:45:25.667Z"
   },
   {
    "duration": 52,
    "start_time": "2022-07-24T13:45:25.709Z"
   },
   {
    "duration": 116,
    "start_time": "2022-07-24T13:45:25.762Z"
   },
   {
    "duration": 84,
    "start_time": "2022-07-24T13:45:25.880Z"
   },
   {
    "duration": 492,
    "start_time": "2022-07-24T13:45:25.966Z"
   },
   {
    "duration": 92,
    "start_time": "2022-07-24T13:45:26.459Z"
   },
   {
    "duration": 2,
    "start_time": "2022-07-24T13:45:26.553Z"
   },
   {
    "duration": 209,
    "start_time": "2022-07-24T13:45:26.558Z"
   },
   {
    "duration": 205,
    "start_time": "2022-07-24T13:45:26.769Z"
   },
   {
    "duration": 122,
    "start_time": "2022-07-24T13:45:26.976Z"
   },
   {
    "duration": 14,
    "start_time": "2022-07-24T13:45:27.100Z"
   },
   {
    "duration": 0,
    "start_time": "2022-07-24T13:45:27.115Z"
   },
   {
    "duration": 0,
    "start_time": "2022-07-24T13:45:27.117Z"
   },
   {
    "duration": 0,
    "start_time": "2022-07-24T13:45:27.118Z"
   },
   {
    "duration": 0,
    "start_time": "2022-07-24T13:45:27.119Z"
   },
   {
    "duration": 0,
    "start_time": "2022-07-24T13:45:27.120Z"
   },
   {
    "duration": 2513,
    "start_time": "2022-07-24T13:47:13.897Z"
   },
   {
    "duration": 30,
    "start_time": "2022-07-24T13:47:16.412Z"
   },
   {
    "duration": 155,
    "start_time": "2022-07-24T13:47:16.443Z"
   },
   {
    "duration": 137,
    "start_time": "2022-07-24T13:47:16.600Z"
   },
   {
    "duration": 110,
    "start_time": "2022-07-24T13:47:16.739Z"
   },
   {
    "duration": 504,
    "start_time": "2022-07-24T13:47:16.851Z"
   },
   {
    "duration": 542,
    "start_time": "2022-07-24T13:47:17.357Z"
   },
   {
    "duration": 4,
    "start_time": "2022-07-24T13:47:17.900Z"
   },
   {
    "duration": 1791,
    "start_time": "2022-07-24T13:47:17.905Z"
   },
   {
    "duration": 7092,
    "start_time": "2022-07-24T13:47:19.699Z"
   },
   {
    "duration": 497,
    "start_time": "2022-07-24T13:47:26.793Z"
   },
   {
    "duration": 66,
    "start_time": "2022-07-24T13:47:27.292Z"
   },
   {
    "duration": 6,
    "start_time": "2022-07-24T13:47:27.360Z"
   },
   {
    "duration": 40,
    "start_time": "2022-07-24T13:47:27.367Z"
   },
   {
    "duration": 23,
    "start_time": "2022-07-24T13:47:27.409Z"
   },
   {
    "duration": 83,
    "start_time": "2022-07-24T13:47:27.434Z"
   },
   {
    "duration": 44,
    "start_time": "2022-07-24T13:47:27.519Z"
   },
   {
    "duration": 46,
    "start_time": "2022-07-24T13:47:27.565Z"
   },
   {
    "duration": 44,
    "start_time": "2022-07-24T13:47:27.614Z"
   },
   {
    "duration": 34,
    "start_time": "2022-07-24T13:47:27.659Z"
   },
   {
    "duration": 31,
    "start_time": "2022-07-24T13:47:27.710Z"
   },
   {
    "duration": 77,
    "start_time": "2022-07-24T13:47:27.743Z"
   },
   {
    "duration": 126,
    "start_time": "2022-07-24T13:47:27.823Z"
   },
   {
    "duration": 88,
    "start_time": "2022-07-24T13:47:27.951Z"
   },
   {
    "duration": 577,
    "start_time": "2022-07-24T13:47:28.042Z"
   },
   {
    "duration": 89,
    "start_time": "2022-07-24T13:47:28.621Z"
   },
   {
    "duration": 2,
    "start_time": "2022-07-24T13:47:28.712Z"
   },
   {
    "duration": 208,
    "start_time": "2022-07-24T13:47:28.718Z"
   },
   {
    "duration": 174,
    "start_time": "2022-07-24T13:47:28.929Z"
   },
   {
    "duration": 129,
    "start_time": "2022-07-24T13:47:29.105Z"
   },
   {
    "duration": 15,
    "start_time": "2022-07-24T13:47:29.235Z"
   },
   {
    "duration": 0,
    "start_time": "2022-07-24T13:47:29.251Z"
   },
   {
    "duration": 0,
    "start_time": "2022-07-24T13:47:29.253Z"
   },
   {
    "duration": 0,
    "start_time": "2022-07-24T13:47:29.254Z"
   },
   {
    "duration": 0,
    "start_time": "2022-07-24T13:47:29.255Z"
   },
   {
    "duration": 0,
    "start_time": "2022-07-24T13:47:29.256Z"
   },
   {
    "duration": 2548,
    "start_time": "2022-07-24T13:50:20.049Z"
   },
   {
    "duration": 29,
    "start_time": "2022-07-24T13:50:22.599Z"
   },
   {
    "duration": 150,
    "start_time": "2022-07-24T13:50:22.630Z"
   },
   {
    "duration": 142,
    "start_time": "2022-07-24T13:50:22.782Z"
   },
   {
    "duration": 116,
    "start_time": "2022-07-24T13:50:22.926Z"
   },
   {
    "duration": 543,
    "start_time": "2022-07-24T13:50:23.044Z"
   },
   {
    "duration": 546,
    "start_time": "2022-07-24T13:50:23.589Z"
   },
   {
    "duration": 4,
    "start_time": "2022-07-24T13:50:24.137Z"
   },
   {
    "duration": 1881,
    "start_time": "2022-07-24T13:50:24.143Z"
   },
   {
    "duration": 7479,
    "start_time": "2022-07-24T13:50:26.026Z"
   },
   {
    "duration": 521,
    "start_time": "2022-07-24T13:50:33.506Z"
   },
   {
    "duration": 64,
    "start_time": "2022-07-24T13:50:34.029Z"
   },
   {
    "duration": 16,
    "start_time": "2022-07-24T13:50:34.095Z"
   },
   {
    "duration": 28,
    "start_time": "2022-07-24T13:50:34.115Z"
   },
   {
    "duration": 27,
    "start_time": "2022-07-24T13:50:34.145Z"
   },
   {
    "duration": 81,
    "start_time": "2022-07-24T13:50:34.174Z"
   },
   {
    "duration": 33,
    "start_time": "2022-07-24T13:50:34.257Z"
   },
   {
    "duration": 46,
    "start_time": "2022-07-24T13:50:34.292Z"
   },
   {
    "duration": 43,
    "start_time": "2022-07-24T13:50:34.339Z"
   },
   {
    "duration": 51,
    "start_time": "2022-07-24T13:50:34.384Z"
   },
   {
    "duration": 35,
    "start_time": "2022-07-24T13:50:34.438Z"
   },
   {
    "duration": 59,
    "start_time": "2022-07-24T13:50:34.475Z"
   },
   {
    "duration": 121,
    "start_time": "2022-07-24T13:50:34.536Z"
   },
   {
    "duration": 81,
    "start_time": "2022-07-24T13:50:34.659Z"
   },
   {
    "duration": 997,
    "start_time": "2022-07-24T13:50:34.741Z"
   },
   {
    "duration": 57,
    "start_time": "2022-07-24T13:50:35.739Z"
   },
   {
    "duration": 13,
    "start_time": "2022-07-24T13:50:35.797Z"
   },
   {
    "duration": 16199,
    "start_time": "2022-07-24T13:50:35.812Z"
   },
   {
    "duration": 107,
    "start_time": "2022-07-24T13:50:52.013Z"
   },
   {
    "duration": 384,
    "start_time": "2022-07-24T13:50:52.122Z"
   },
   {
    "duration": 104,
    "start_time": "2022-07-24T13:50:52.509Z"
   },
   {
    "duration": 96,
    "start_time": "2022-07-24T13:50:52.614Z"
   },
   {
    "duration": 108,
    "start_time": "2022-07-24T13:50:52.713Z"
   },
   {
    "duration": 9,
    "start_time": "2022-07-24T13:50:52.823Z"
   },
   {
    "duration": 5,
    "start_time": "2022-07-24T13:50:52.833Z"
   },
   {
    "duration": 11,
    "start_time": "2022-07-24T13:50:52.840Z"
   },
   {
    "duration": 120,
    "start_time": "2022-07-24T13:55:32.874Z"
   },
   {
    "duration": 2504,
    "start_time": "2022-07-24T13:55:53.238Z"
   },
   {
    "duration": 30,
    "start_time": "2022-07-24T13:55:55.744Z"
   },
   {
    "duration": 160,
    "start_time": "2022-07-24T13:55:55.777Z"
   },
   {
    "duration": 152,
    "start_time": "2022-07-24T13:55:55.940Z"
   },
   {
    "duration": 118,
    "start_time": "2022-07-24T13:55:56.093Z"
   },
   {
    "duration": 508,
    "start_time": "2022-07-24T13:55:56.213Z"
   },
   {
    "duration": 539,
    "start_time": "2022-07-24T13:55:56.723Z"
   },
   {
    "duration": 4,
    "start_time": "2022-07-24T13:55:57.264Z"
   },
   {
    "duration": 1926,
    "start_time": "2022-07-24T13:55:57.271Z"
   },
   {
    "duration": 7585,
    "start_time": "2022-07-24T13:55:59.200Z"
   },
   {
    "duration": 539,
    "start_time": "2022-07-24T13:56:06.787Z"
   },
   {
    "duration": 64,
    "start_time": "2022-07-24T13:56:07.327Z"
   },
   {
    "duration": 18,
    "start_time": "2022-07-24T13:56:07.393Z"
   },
   {
    "duration": 22,
    "start_time": "2022-07-24T13:56:07.414Z"
   },
   {
    "duration": 22,
    "start_time": "2022-07-24T13:56:07.438Z"
   },
   {
    "duration": 103,
    "start_time": "2022-07-24T13:56:07.462Z"
   },
   {
    "duration": 33,
    "start_time": "2022-07-24T13:56:07.567Z"
   },
   {
    "duration": 55,
    "start_time": "2022-07-24T13:56:07.611Z"
   },
   {
    "duration": 52,
    "start_time": "2022-07-24T13:56:07.668Z"
   },
   {
    "duration": 51,
    "start_time": "2022-07-24T13:56:07.723Z"
   },
   {
    "duration": 52,
    "start_time": "2022-07-24T13:56:07.776Z"
   },
   {
    "duration": 68,
    "start_time": "2022-07-24T13:56:07.830Z"
   },
   {
    "duration": 141,
    "start_time": "2022-07-24T13:56:07.900Z"
   },
   {
    "duration": 79,
    "start_time": "2022-07-24T13:56:08.043Z"
   },
   {
    "duration": 1067,
    "start_time": "2022-07-24T13:56:08.124Z"
   },
   {
    "duration": 60,
    "start_time": "2022-07-24T13:56:09.193Z"
   },
   {
    "duration": 3,
    "start_time": "2022-07-24T13:56:09.255Z"
   },
   {
    "duration": 20069,
    "start_time": "2022-07-24T13:56:09.261Z"
   },
   {
    "duration": 181,
    "start_time": "2022-07-24T13:56:29.332Z"
   },
   {
    "duration": 374,
    "start_time": "2022-07-24T13:56:29.515Z"
   },
   {
    "duration": 242,
    "start_time": "2022-07-24T13:56:29.891Z"
   },
   {
    "duration": 0,
    "start_time": "2022-07-24T13:56:30.134Z"
   },
   {
    "duration": 0,
    "start_time": "2022-07-24T13:56:30.136Z"
   },
   {
    "duration": 0,
    "start_time": "2022-07-24T13:56:30.137Z"
   },
   {
    "duration": 0,
    "start_time": "2022-07-24T13:56:30.138Z"
   },
   {
    "duration": 0,
    "start_time": "2022-07-24T13:56:30.139Z"
   },
   {
    "duration": 52,
    "start_time": "2022-07-24T13:57:13.661Z"
   },
   {
    "duration": 18,
    "start_time": "2022-07-24T13:57:15.619Z"
   },
   {
    "duration": 13,
    "start_time": "2022-07-24T13:57:17.344Z"
   },
   {
    "duration": 11,
    "start_time": "2022-07-24T13:57:19.212Z"
   },
   {
    "duration": 5,
    "start_time": "2022-07-24T13:57:21.047Z"
   },
   {
    "duration": 9,
    "start_time": "2022-07-24T13:57:22.488Z"
   },
   {
    "duration": 2571,
    "start_time": "2022-07-24T14:07:38.426Z"
   },
   {
    "duration": 35,
    "start_time": "2022-07-24T14:07:40.999Z"
   },
   {
    "duration": 174,
    "start_time": "2022-07-24T14:07:41.036Z"
   },
   {
    "duration": 150,
    "start_time": "2022-07-24T14:07:41.213Z"
   },
   {
    "duration": 117,
    "start_time": "2022-07-24T14:07:41.366Z"
   },
   {
    "duration": 605,
    "start_time": "2022-07-24T14:07:41.485Z"
   },
   {
    "duration": 644,
    "start_time": "2022-07-24T14:07:42.092Z"
   },
   {
    "duration": 4,
    "start_time": "2022-07-24T14:07:42.738Z"
   },
   {
    "duration": 1918,
    "start_time": "2022-07-24T14:07:42.744Z"
   },
   {
    "duration": 7497,
    "start_time": "2022-07-24T14:07:44.665Z"
   },
   {
    "duration": 646,
    "start_time": "2022-07-24T14:07:52.165Z"
   },
   {
    "duration": 63,
    "start_time": "2022-07-24T14:07:52.814Z"
   },
   {
    "duration": 7,
    "start_time": "2022-07-24T14:07:52.879Z"
   },
   {
    "duration": 47,
    "start_time": "2022-07-24T14:07:52.888Z"
   },
   {
    "duration": 31,
    "start_time": "2022-07-24T14:07:52.937Z"
   },
   {
    "duration": 85,
    "start_time": "2022-07-24T14:07:52.970Z"
   },
   {
    "duration": 54,
    "start_time": "2022-07-24T14:07:53.057Z"
   },
   {
    "duration": 71,
    "start_time": "2022-07-24T14:07:53.113Z"
   },
   {
    "duration": 59,
    "start_time": "2022-07-24T14:07:53.187Z"
   },
   {
    "duration": 69,
    "start_time": "2022-07-24T14:07:53.248Z"
   },
   {
    "duration": 44,
    "start_time": "2022-07-24T14:07:53.319Z"
   },
   {
    "duration": 84,
    "start_time": "2022-07-24T14:07:53.366Z"
   },
   {
    "duration": 139,
    "start_time": "2022-07-24T14:07:53.452Z"
   },
   {
    "duration": 83,
    "start_time": "2022-07-24T14:07:53.593Z"
   },
   {
    "duration": 1026,
    "start_time": "2022-07-24T14:07:53.678Z"
   },
   {
    "duration": 59,
    "start_time": "2022-07-24T14:07:54.707Z"
   },
   {
    "duration": 3,
    "start_time": "2022-07-24T14:07:54.768Z"
   },
   {
    "duration": 76,
    "start_time": "2022-07-24T14:07:54.774Z"
   },
   {
    "duration": 0,
    "start_time": "2022-07-24T14:07:54.852Z"
   },
   {
    "duration": 0,
    "start_time": "2022-07-24T14:07:54.853Z"
   },
   {
    "duration": 0,
    "start_time": "2022-07-24T14:07:54.855Z"
   },
   {
    "duration": 0,
    "start_time": "2022-07-24T14:07:54.856Z"
   },
   {
    "duration": 1,
    "start_time": "2022-07-24T14:07:54.857Z"
   },
   {
    "duration": 0,
    "start_time": "2022-07-24T14:07:54.859Z"
   },
   {
    "duration": 0,
    "start_time": "2022-07-24T14:07:54.860Z"
   },
   {
    "duration": 0,
    "start_time": "2022-07-24T14:07:54.861Z"
   },
   {
    "duration": 4,
    "start_time": "2022-07-24T14:08:31.151Z"
   },
   {
    "duration": 2491,
    "start_time": "2022-07-24T14:19:55.258Z"
   },
   {
    "duration": 43,
    "start_time": "2022-07-24T14:19:57.752Z"
   },
   {
    "duration": 276,
    "start_time": "2022-07-24T14:19:57.797Z"
   },
   {
    "duration": 161,
    "start_time": "2022-07-24T14:19:58.075Z"
   },
   {
    "duration": 135,
    "start_time": "2022-07-24T14:19:58.238Z"
   },
   {
    "duration": 571,
    "start_time": "2022-07-24T14:19:58.375Z"
   },
   {
    "duration": 626,
    "start_time": "2022-07-24T14:19:58.948Z"
   },
   {
    "duration": 4,
    "start_time": "2022-07-24T14:19:59.576Z"
   },
   {
    "duration": 1983,
    "start_time": "2022-07-24T14:19:59.582Z"
   },
   {
    "duration": 7728,
    "start_time": "2022-07-24T14:20:01.568Z"
   },
   {
    "duration": 522,
    "start_time": "2022-07-24T14:20:09.298Z"
   },
   {
    "duration": 65,
    "start_time": "2022-07-24T14:20:09.822Z"
   },
   {
    "duration": 21,
    "start_time": "2022-07-24T14:20:09.889Z"
   },
   {
    "duration": 28,
    "start_time": "2022-07-24T14:20:09.912Z"
   },
   {
    "duration": 196,
    "start_time": "2022-07-24T14:20:09.942Z"
   },
   {
    "duration": 21,
    "start_time": "2022-07-24T14:20:10.140Z"
   },
   {
    "duration": 102,
    "start_time": "2022-07-24T14:20:10.163Z"
   },
   {
    "duration": 51,
    "start_time": "2022-07-24T14:20:10.267Z"
   },
   {
    "duration": 45,
    "start_time": "2022-07-24T14:20:10.320Z"
   },
   {
    "duration": 61,
    "start_time": "2022-07-24T14:20:10.367Z"
   },
   {
    "duration": 61,
    "start_time": "2022-07-24T14:20:10.430Z"
   },
   {
    "duration": 43,
    "start_time": "2022-07-24T14:20:10.492Z"
   },
   {
    "duration": 89,
    "start_time": "2022-07-24T14:20:10.537Z"
   },
   {
    "duration": 129,
    "start_time": "2022-07-24T14:20:10.627Z"
   },
   {
    "duration": 83,
    "start_time": "2022-07-24T14:20:10.758Z"
   },
   {
    "duration": 1043,
    "start_time": "2022-07-24T14:20:10.843Z"
   },
   {
    "duration": 72,
    "start_time": "2022-07-24T14:20:11.889Z"
   },
   {
    "duration": 3,
    "start_time": "2022-07-24T14:20:11.966Z"
   },
   {
    "duration": 18543,
    "start_time": "2022-07-24T14:20:11.971Z"
   },
   {
    "duration": 111,
    "start_time": "2022-07-24T14:20:30.517Z"
   },
   {
    "duration": 407,
    "start_time": "2022-07-24T14:20:30.631Z"
   },
   {
    "duration": 76,
    "start_time": "2022-07-24T14:20:31.039Z"
   },
   {
    "duration": 94,
    "start_time": "2022-07-24T14:20:31.117Z"
   },
   {
    "duration": 108,
    "start_time": "2022-07-24T14:20:31.214Z"
   },
   {
    "duration": 50,
    "start_time": "2022-07-24T14:20:31.324Z"
   },
   {
    "duration": 7,
    "start_time": "2022-07-24T14:20:31.376Z"
   },
   {
    "duration": 85,
    "start_time": "2022-07-24T14:20:31.385Z"
   },
   {
    "duration": 5,
    "start_time": "2022-07-24T14:23:23.887Z"
   },
   {
    "duration": 10,
    "start_time": "2022-07-24T14:23:26.325Z"
   },
   {
    "duration": 2944,
    "start_time": "2022-07-24T20:18:09.858Z"
   },
   {
    "duration": 41,
    "start_time": "2022-07-24T20:18:12.804Z"
   },
   {
    "duration": 206,
    "start_time": "2022-07-24T20:18:12.847Z"
   },
   {
    "duration": 196,
    "start_time": "2022-07-24T20:18:13.055Z"
   },
   {
    "duration": 143,
    "start_time": "2022-07-24T20:18:13.254Z"
   },
   {
    "duration": 601,
    "start_time": "2022-07-24T20:18:13.400Z"
   },
   {
    "duration": 664,
    "start_time": "2022-07-24T20:18:14.003Z"
   },
   {
    "duration": 4,
    "start_time": "2022-07-24T20:18:14.670Z"
   },
   {
    "duration": 2161,
    "start_time": "2022-07-24T20:18:14.677Z"
   },
   {
    "duration": 8385,
    "start_time": "2022-07-24T20:18:16.841Z"
   },
   {
    "duration": 608,
    "start_time": "2022-07-24T20:18:25.228Z"
   },
   {
    "duration": 98,
    "start_time": "2022-07-24T20:18:25.838Z"
   },
   {
    "duration": 7,
    "start_time": "2022-07-24T20:18:25.939Z"
   },
   {
    "duration": 46,
    "start_time": "2022-07-24T20:18:25.948Z"
   },
   {
    "duration": 209,
    "start_time": "2022-07-24T20:18:25.997Z"
   },
   {
    "duration": 40,
    "start_time": "2022-07-24T20:18:26.208Z"
   },
   {
    "duration": 139,
    "start_time": "2022-07-24T20:18:26.250Z"
   },
   {
    "duration": 60,
    "start_time": "2022-07-24T20:18:26.391Z"
   },
   {
    "duration": 51,
    "start_time": "2022-07-24T20:18:26.454Z"
   },
   {
    "duration": 50,
    "start_time": "2022-07-24T20:18:26.508Z"
   },
   {
    "duration": 79,
    "start_time": "2022-07-24T20:18:26.560Z"
   },
   {
    "duration": 39,
    "start_time": "2022-07-24T20:18:26.641Z"
   },
   {
    "duration": 79,
    "start_time": "2022-07-24T20:18:26.681Z"
   },
   {
    "duration": 127,
    "start_time": "2022-07-24T20:18:26.762Z"
   },
   {
    "duration": 140,
    "start_time": "2022-07-24T20:18:26.892Z"
   },
   {
    "duration": 1323,
    "start_time": "2022-07-24T20:18:27.039Z"
   },
   {
    "duration": 82,
    "start_time": "2022-07-24T20:18:28.365Z"
   },
   {
    "duration": 94,
    "start_time": "2022-07-24T20:18:28.451Z"
   },
   {
    "duration": 20968,
    "start_time": "2022-07-24T20:18:28.546Z"
   },
   {
    "duration": 108,
    "start_time": "2022-07-24T20:18:49.520Z"
   },
   {
    "duration": 434,
    "start_time": "2022-07-24T20:18:49.631Z"
   },
   {
    "duration": 66,
    "start_time": "2022-07-24T20:18:50.067Z"
   },
   {
    "duration": 89,
    "start_time": "2022-07-24T20:18:50.135Z"
   },
   {
    "duration": 134,
    "start_time": "2022-07-24T20:18:50.230Z"
   },
   {
    "duration": 17,
    "start_time": "2022-07-24T20:18:50.366Z"
   },
   {
    "duration": 46,
    "start_time": "2022-07-24T20:18:50.411Z"
   },
   {
    "duration": 17,
    "start_time": "2022-07-24T20:18:50.460Z"
   },
   {
    "duration": 6,
    "start_time": "2022-07-24T20:19:24.892Z"
   },
   {
    "duration": 6,
    "start_time": "2022-07-24T20:19:37.690Z"
   },
   {
    "duration": 2491,
    "start_time": "2022-07-24T22:38:06.454Z"
   },
   {
    "duration": 32,
    "start_time": "2022-07-24T22:38:08.948Z"
   },
   {
    "duration": 172,
    "start_time": "2022-07-24T22:38:08.982Z"
   },
   {
    "duration": 141,
    "start_time": "2022-07-24T22:38:09.156Z"
   },
   {
    "duration": 111,
    "start_time": "2022-07-24T22:38:09.311Z"
   },
   {
    "duration": 555,
    "start_time": "2022-07-24T22:38:09.423Z"
   },
   {
    "duration": 589,
    "start_time": "2022-07-24T22:38:09.979Z"
   },
   {
    "duration": 5,
    "start_time": "2022-07-24T22:38:10.572Z"
   },
   {
    "duration": 1999,
    "start_time": "2022-07-24T22:38:10.579Z"
   },
   {
    "duration": 7246,
    "start_time": "2022-07-24T22:38:12.581Z"
   },
   {
    "duration": 518,
    "start_time": "2022-07-24T22:38:19.829Z"
   },
   {
    "duration": 74,
    "start_time": "2022-07-24T22:38:20.349Z"
   },
   {
    "duration": 7,
    "start_time": "2022-07-24T22:38:20.425Z"
   },
   {
    "duration": 39,
    "start_time": "2022-07-24T22:38:20.434Z"
   },
   {
    "duration": 166,
    "start_time": "2022-07-24T22:38:20.475Z"
   },
   {
    "duration": 19,
    "start_time": "2022-07-24T22:38:20.643Z"
   },
   {
    "duration": 89,
    "start_time": "2022-07-24T22:38:20.663Z"
   },
   {
    "duration": 35,
    "start_time": "2022-07-24T22:38:20.754Z"
   },
   {
    "duration": 47,
    "start_time": "2022-07-24T22:38:20.791Z"
   },
   {
    "duration": 48,
    "start_time": "2022-07-24T22:38:20.839Z"
   },
   {
    "duration": 45,
    "start_time": "2022-07-24T22:38:20.889Z"
   },
   {
    "duration": 45,
    "start_time": "2022-07-24T22:38:20.935Z"
   },
   {
    "duration": 50,
    "start_time": "2022-07-24T22:38:20.982Z"
   },
   {
    "duration": 107,
    "start_time": "2022-07-24T22:38:21.034Z"
   },
   {
    "duration": 75,
    "start_time": "2022-07-24T22:38:21.143Z"
   },
   {
    "duration": 1026,
    "start_time": "2022-07-24T22:38:21.220Z"
   },
   {
    "duration": 63,
    "start_time": "2022-07-24T22:38:22.248Z"
   },
   {
    "duration": 23,
    "start_time": "2022-07-24T22:38:22.314Z"
   },
   {
    "duration": 8,
    "start_time": "2022-07-24T22:38:22.339Z"
   },
   {
    "duration": 56,
    "start_time": "2022-07-24T22:38:22.349Z"
   },
   {
    "duration": 15604,
    "start_time": "2022-07-24T22:38:22.407Z"
   },
   {
    "duration": 105,
    "start_time": "2022-07-24T22:38:38.013Z"
   },
   {
    "duration": 392,
    "start_time": "2022-07-24T22:38:38.121Z"
   },
   {
    "duration": 97,
    "start_time": "2022-07-24T22:38:38.515Z"
   },
   {
    "duration": 16,
    "start_time": "2022-07-24T22:38:38.613Z"
   },
   {
    "duration": 198,
    "start_time": "2022-07-24T22:38:38.631Z"
   },
   {
    "duration": 10,
    "start_time": "2022-07-24T22:38:38.831Z"
   },
   {
    "duration": 12,
    "start_time": "2022-07-24T22:38:38.843Z"
   },
   {
    "duration": 18,
    "start_time": "2022-07-24T22:38:38.858Z"
   },
   {
    "duration": 2592,
    "start_time": "2022-07-24T22:42:32.140Z"
   },
   {
    "duration": 29,
    "start_time": "2022-07-24T22:42:34.734Z"
   },
   {
    "duration": 162,
    "start_time": "2022-07-24T22:42:34.764Z"
   },
   {
    "duration": 142,
    "start_time": "2022-07-24T22:42:34.930Z"
   },
   {
    "duration": 117,
    "start_time": "2022-07-24T22:42:35.074Z"
   },
   {
    "duration": 559,
    "start_time": "2022-07-24T22:42:35.193Z"
   },
   {
    "duration": 569,
    "start_time": "2022-07-24T22:42:35.754Z"
   },
   {
    "duration": 5,
    "start_time": "2022-07-24T22:42:36.325Z"
   },
   {
    "duration": 1909,
    "start_time": "2022-07-24T22:42:36.332Z"
   },
   {
    "duration": 7820,
    "start_time": "2022-07-24T22:42:38.245Z"
   },
   {
    "duration": 566,
    "start_time": "2022-07-24T22:42:46.067Z"
   },
   {
    "duration": 66,
    "start_time": "2022-07-24T22:42:46.636Z"
   },
   {
    "duration": 21,
    "start_time": "2022-07-24T22:42:46.703Z"
   },
   {
    "duration": 25,
    "start_time": "2022-07-24T22:42:46.726Z"
   },
   {
    "duration": 179,
    "start_time": "2022-07-24T22:42:46.753Z"
   },
   {
    "duration": 20,
    "start_time": "2022-07-24T22:42:46.934Z"
   },
   {
    "duration": 105,
    "start_time": "2022-07-24T22:42:46.955Z"
   },
   {
    "duration": 32,
    "start_time": "2022-07-24T22:42:47.063Z"
   },
   {
    "duration": 64,
    "start_time": "2022-07-24T22:42:47.097Z"
   },
   {
    "duration": 59,
    "start_time": "2022-07-24T22:42:47.163Z"
   },
   {
    "duration": 36,
    "start_time": "2022-07-24T22:42:47.224Z"
   },
   {
    "duration": 34,
    "start_time": "2022-07-24T22:42:47.262Z"
   },
   {
    "duration": 61,
    "start_time": "2022-07-24T22:42:47.297Z"
   },
   {
    "duration": 141,
    "start_time": "2022-07-24T22:42:47.360Z"
   },
   {
    "duration": 89,
    "start_time": "2022-07-24T22:42:47.503Z"
   },
   {
    "duration": 1092,
    "start_time": "2022-07-24T22:42:47.594Z"
   },
   {
    "duration": 68,
    "start_time": "2022-07-24T22:42:48.688Z"
   },
   {
    "duration": 26,
    "start_time": "2022-07-24T22:42:48.761Z"
   },
   {
    "duration": 86,
    "start_time": "2022-07-24T22:42:48.789Z"
   },
   {
    "duration": 5,
    "start_time": "2022-07-24T22:42:48.876Z"
   },
   {
    "duration": 15244,
    "start_time": "2022-07-24T22:42:48.883Z"
   },
   {
    "duration": 104,
    "start_time": "2022-07-24T22:43:04.130Z"
   },
   {
    "duration": 538,
    "start_time": "2022-07-24T22:43:04.235Z"
   },
   {
    "duration": 59,
    "start_time": "2022-07-24T22:43:04.775Z"
   },
   {
    "duration": 84,
    "start_time": "2022-07-24T22:43:04.838Z"
   },
   {
    "duration": 29,
    "start_time": "2022-07-24T22:43:05.011Z"
   },
   {
    "duration": 9,
    "start_time": "2022-07-24T22:43:05.042Z"
   },
   {
    "duration": 6,
    "start_time": "2022-07-24T22:43:05.053Z"
   },
   {
    "duration": 16,
    "start_time": "2022-07-24T22:43:05.060Z"
   },
   {
    "duration": 2664,
    "start_time": "2022-07-24T22:43:18.239Z"
   },
   {
    "duration": 44,
    "start_time": "2022-07-24T22:43:20.905Z"
   },
   {
    "duration": 278,
    "start_time": "2022-07-24T22:43:20.951Z"
   },
   {
    "duration": 158,
    "start_time": "2022-07-24T22:43:21.231Z"
   },
   {
    "duration": 140,
    "start_time": "2022-07-24T22:43:21.391Z"
   },
   {
    "duration": 633,
    "start_time": "2022-07-24T22:43:21.532Z"
   },
   {
    "duration": 620,
    "start_time": "2022-07-24T22:43:22.167Z"
   },
   {
    "duration": 5,
    "start_time": "2022-07-24T22:43:22.789Z"
   },
   {
    "duration": 1940,
    "start_time": "2022-07-24T22:43:22.796Z"
   },
   {
    "duration": 7647,
    "start_time": "2022-07-24T22:43:24.739Z"
   },
   {
    "duration": 573,
    "start_time": "2022-07-24T22:43:32.389Z"
   },
   {
    "duration": 74,
    "start_time": "2022-07-24T22:43:32.964Z"
   },
   {
    "duration": 8,
    "start_time": "2022-07-24T22:43:33.040Z"
   },
   {
    "duration": 27,
    "start_time": "2022-07-24T22:43:33.050Z"
   },
   {
    "duration": 193,
    "start_time": "2022-07-24T22:43:33.079Z"
   },
   {
    "duration": 195,
    "start_time": "2022-07-24T22:43:33.274Z"
   },
   {
    "duration": 22,
    "start_time": "2022-07-24T22:43:33.471Z"
   },
   {
    "duration": 136,
    "start_time": "2022-07-24T22:43:33.495Z"
   },
   {
    "duration": 48,
    "start_time": "2022-07-24T22:43:33.633Z"
   },
   {
    "duration": 89,
    "start_time": "2022-07-24T22:43:33.683Z"
   },
   {
    "duration": 51,
    "start_time": "2022-07-24T22:43:33.774Z"
   },
   {
    "duration": 41,
    "start_time": "2022-07-24T22:43:33.827Z"
   },
   {
    "duration": 54,
    "start_time": "2022-07-24T22:43:33.870Z"
   },
   {
    "duration": 79,
    "start_time": "2022-07-24T22:43:33.926Z"
   },
   {
    "duration": 126,
    "start_time": "2022-07-24T22:43:34.007Z"
   },
   {
    "duration": 81,
    "start_time": "2022-07-24T22:43:34.135Z"
   },
   {
    "duration": 1106,
    "start_time": "2022-07-24T22:43:34.218Z"
   },
   {
    "duration": 57,
    "start_time": "2022-07-24T22:43:35.332Z"
   },
   {
    "duration": 32,
    "start_time": "2022-07-24T22:43:35.391Z"
   },
   {
    "duration": 73,
    "start_time": "2022-07-24T22:43:35.425Z"
   },
   {
    "duration": 25,
    "start_time": "2022-07-24T22:43:35.500Z"
   },
   {
    "duration": 15113,
    "start_time": "2022-07-24T22:43:35.527Z"
   },
   {
    "duration": 105,
    "start_time": "2022-07-24T22:43:50.711Z"
   },
   {
    "duration": 374,
    "start_time": "2022-07-24T22:43:50.821Z"
   },
   {
    "duration": 128,
    "start_time": "2022-07-24T22:43:51.197Z"
   },
   {
    "duration": 87,
    "start_time": "2022-07-24T22:43:51.329Z"
   },
   {
    "duration": 128,
    "start_time": "2022-07-24T22:43:51.418Z"
   },
   {
    "duration": 12,
    "start_time": "2022-07-24T22:43:51.548Z"
   },
   {
    "duration": 8,
    "start_time": "2022-07-24T22:43:51.563Z"
   },
   {
    "duration": 26,
    "start_time": "2022-07-24T22:43:51.573Z"
   },
   {
    "duration": 57,
    "start_time": "2022-07-24T22:52:04.841Z"
   },
   {
    "duration": 80,
    "start_time": "2022-07-24T22:52:21.319Z"
   },
   {
    "duration": 76,
    "start_time": "2022-07-24T22:53:53.424Z"
   },
   {
    "duration": 2611,
    "start_time": "2022-07-24T22:54:22.318Z"
   },
   {
    "duration": 32,
    "start_time": "2022-07-24T22:54:24.931Z"
   },
   {
    "duration": 183,
    "start_time": "2022-07-24T22:54:24.965Z"
   },
   {
    "duration": 158,
    "start_time": "2022-07-24T22:54:25.151Z"
   },
   {
    "duration": 129,
    "start_time": "2022-07-24T22:54:25.311Z"
   },
   {
    "duration": 594,
    "start_time": "2022-07-24T22:54:25.442Z"
   },
   {
    "duration": 625,
    "start_time": "2022-07-24T22:54:26.038Z"
   },
   {
    "duration": 4,
    "start_time": "2022-07-24T22:54:26.665Z"
   },
   {
    "duration": 1923,
    "start_time": "2022-07-24T22:54:26.671Z"
   },
   {
    "duration": 7559,
    "start_time": "2022-07-24T22:54:28.598Z"
   },
   {
    "duration": 532,
    "start_time": "2022-07-24T22:54:36.159Z"
   },
   {
    "duration": 74,
    "start_time": "2022-07-24T22:54:36.693Z"
   },
   {
    "duration": 7,
    "start_time": "2022-07-24T22:54:36.770Z"
   },
   {
    "duration": 47,
    "start_time": "2022-07-24T22:54:36.779Z"
   },
   {
    "duration": 178,
    "start_time": "2022-07-24T22:54:36.828Z"
   },
   {
    "duration": 185,
    "start_time": "2022-07-24T22:54:37.009Z"
   },
   {
    "duration": 26,
    "start_time": "2022-07-24T22:54:37.196Z"
   },
   {
    "duration": 109,
    "start_time": "2022-07-24T22:54:37.226Z"
   },
   {
    "duration": 32,
    "start_time": "2022-07-24T22:54:37.337Z"
   },
   {
    "duration": 52,
    "start_time": "2022-07-24T22:54:37.371Z"
   },
   {
    "duration": 40,
    "start_time": "2022-07-24T22:54:37.428Z"
   },
   {
    "duration": 42,
    "start_time": "2022-07-24T22:54:37.470Z"
   },
   {
    "duration": 47,
    "start_time": "2022-07-24T22:54:37.514Z"
   },
   {
    "duration": 65,
    "start_time": "2022-07-24T22:54:37.563Z"
   },
   {
    "duration": 160,
    "start_time": "2022-07-24T22:54:37.631Z"
   },
   {
    "duration": 98,
    "start_time": "2022-07-24T22:54:37.794Z"
   },
   {
    "duration": 1034,
    "start_time": "2022-07-24T22:54:37.893Z"
   },
   {
    "duration": 62,
    "start_time": "2022-07-24T22:54:38.932Z"
   },
   {
    "duration": 48,
    "start_time": "2022-07-24T22:54:38.997Z"
   },
   {
    "duration": 140,
    "start_time": "2022-07-24T22:54:39.047Z"
   },
   {
    "duration": 5,
    "start_time": "2022-07-24T22:54:39.189Z"
   },
   {
    "duration": 15231,
    "start_time": "2022-07-24T22:54:39.196Z"
   },
   {
    "duration": 102,
    "start_time": "2022-07-24T22:54:54.429Z"
   },
   {
    "duration": 418,
    "start_time": "2022-07-24T22:54:54.534Z"
   },
   {
    "duration": 75,
    "start_time": "2022-07-24T22:54:54.954Z"
   },
   {
    "duration": 88,
    "start_time": "2022-07-24T22:54:55.031Z"
   },
   {
    "duration": 115,
    "start_time": "2022-07-24T22:54:55.130Z"
   },
   {
    "duration": 34,
    "start_time": "2022-07-24T22:54:55.247Z"
   },
   {
    "duration": 19,
    "start_time": "2022-07-24T22:54:55.283Z"
   },
   {
    "duration": 36,
    "start_time": "2022-07-24T22:54:55.303Z"
   },
   {
    "duration": 120,
    "start_time": "2022-07-24T22:56:04.706Z"
   },
   {
    "duration": 191,
    "start_time": "2022-07-24T22:56:32.043Z"
   },
   {
    "duration": 100,
    "start_time": "2022-07-24T22:58:51.825Z"
   },
   {
    "duration": 2636,
    "start_time": "2022-07-24T22:59:01.823Z"
   },
   {
    "duration": 28,
    "start_time": "2022-07-24T22:59:04.461Z"
   },
   {
    "duration": 228,
    "start_time": "2022-07-24T22:59:04.490Z"
   },
   {
    "duration": 201,
    "start_time": "2022-07-24T22:59:04.725Z"
   },
   {
    "duration": 139,
    "start_time": "2022-07-24T22:59:04.937Z"
   },
   {
    "duration": 581,
    "start_time": "2022-07-24T22:59:05.077Z"
   },
   {
    "duration": 577,
    "start_time": "2022-07-24T22:59:05.659Z"
   },
   {
    "duration": 5,
    "start_time": "2022-07-24T22:59:06.237Z"
   },
   {
    "duration": 1876,
    "start_time": "2022-07-24T22:59:06.244Z"
   },
   {
    "duration": 7526,
    "start_time": "2022-07-24T22:59:08.125Z"
   },
   {
    "duration": 579,
    "start_time": "2022-07-24T22:59:15.652Z"
   },
   {
    "duration": 65,
    "start_time": "2022-07-24T22:59:16.235Z"
   },
   {
    "duration": 23,
    "start_time": "2022-07-24T22:59:16.302Z"
   },
   {
    "duration": 25,
    "start_time": "2022-07-24T22:59:16.327Z"
   },
   {
    "duration": 192,
    "start_time": "2022-07-24T22:59:16.353Z"
   },
   {
    "duration": 218,
    "start_time": "2022-07-24T22:59:16.546Z"
   },
   {
    "duration": 18,
    "start_time": "2022-07-24T22:59:16.766Z"
   },
   {
    "duration": 103,
    "start_time": "2022-07-24T22:59:16.785Z"
   },
   {
    "duration": 45,
    "start_time": "2022-07-24T22:59:16.890Z"
   },
   {
    "duration": 44,
    "start_time": "2022-07-24T22:59:16.937Z"
   },
   {
    "duration": 48,
    "start_time": "2022-07-24T22:59:16.983Z"
   },
   {
    "duration": 55,
    "start_time": "2022-07-24T22:59:17.033Z"
   },
   {
    "duration": 65,
    "start_time": "2022-07-24T22:59:17.089Z"
   },
   {
    "duration": 61,
    "start_time": "2022-07-24T22:59:17.155Z"
   },
   {
    "duration": 116,
    "start_time": "2022-07-24T22:59:17.225Z"
   },
   {
    "duration": 94,
    "start_time": "2022-07-24T22:59:17.343Z"
   },
   {
    "duration": 1088,
    "start_time": "2022-07-24T22:59:17.439Z"
   },
   {
    "duration": 57,
    "start_time": "2022-07-24T22:59:18.530Z"
   },
   {
    "duration": 39,
    "start_time": "2022-07-24T22:59:18.589Z"
   },
   {
    "duration": 72,
    "start_time": "2022-07-24T22:59:18.630Z"
   },
   {
    "duration": 21,
    "start_time": "2022-07-24T22:59:18.704Z"
   },
   {
    "duration": 15213,
    "start_time": "2022-07-24T22:59:18.727Z"
   },
   {
    "duration": 174,
    "start_time": "2022-07-24T22:59:33.942Z"
   },
   {
    "duration": 398,
    "start_time": "2022-07-24T22:59:34.118Z"
   },
   {
    "duration": 97,
    "start_time": "2022-07-24T22:59:34.517Z"
   },
   {
    "duration": 18,
    "start_time": "2022-07-24T22:59:34.620Z"
   },
   {
    "duration": 210,
    "start_time": "2022-07-24T22:59:34.641Z"
   },
   {
    "duration": 21,
    "start_time": "2022-07-24T22:59:34.853Z"
   },
   {
    "duration": 18,
    "start_time": "2022-07-24T22:59:34.876Z"
   },
   {
    "duration": 20,
    "start_time": "2022-07-24T22:59:34.896Z"
   },
   {
    "duration": 2570,
    "start_time": "2022-07-24T23:01:26.375Z"
   },
   {
    "duration": 32,
    "start_time": "2022-07-24T23:01:28.947Z"
   },
   {
    "duration": 179,
    "start_time": "2022-07-24T23:01:28.981Z"
   },
   {
    "duration": 162,
    "start_time": "2022-07-24T23:01:29.164Z"
   },
   {
    "duration": 115,
    "start_time": "2022-07-24T23:01:29.328Z"
   },
   {
    "duration": 569,
    "start_time": "2022-07-24T23:01:29.445Z"
   },
   {
    "duration": 640,
    "start_time": "2022-07-24T23:01:30.024Z"
   },
   {
    "duration": 4,
    "start_time": "2022-07-24T23:01:30.666Z"
   },
   {
    "duration": 2133,
    "start_time": "2022-07-24T23:01:30.672Z"
   },
   {
    "duration": 7733,
    "start_time": "2022-07-24T23:01:32.814Z"
   },
   {
    "duration": 582,
    "start_time": "2022-07-24T23:01:40.549Z"
   },
   {
    "duration": 69,
    "start_time": "2022-07-24T23:01:41.133Z"
   },
   {
    "duration": 14,
    "start_time": "2022-07-24T23:01:41.204Z"
   },
   {
    "duration": 50,
    "start_time": "2022-07-24T23:01:41.220Z"
   },
   {
    "duration": 230,
    "start_time": "2022-07-24T23:01:41.273Z"
   },
   {
    "duration": 227,
    "start_time": "2022-07-24T23:01:41.505Z"
   },
   {
    "duration": 100,
    "start_time": "2022-07-24T23:01:41.735Z"
   },
   {
    "duration": 43,
    "start_time": "2022-07-24T23:01:41.840Z"
   },
   {
    "duration": 117,
    "start_time": "2022-07-24T23:01:41.885Z"
   },
   {
    "duration": 67,
    "start_time": "2022-07-24T23:01:42.005Z"
   },
   {
    "duration": 53,
    "start_time": "2022-07-24T23:01:42.074Z"
   },
   {
    "duration": 36,
    "start_time": "2022-07-24T23:01:42.134Z"
   },
   {
    "duration": 55,
    "start_time": "2022-07-24T23:01:42.172Z"
   },
   {
    "duration": 118,
    "start_time": "2022-07-24T23:01:42.229Z"
   },
   {
    "duration": 108,
    "start_time": "2022-07-24T23:01:42.349Z"
   },
   {
    "duration": 1106,
    "start_time": "2022-07-24T23:01:42.461Z"
   },
   {
    "duration": 67,
    "start_time": "2022-07-24T23:01:43.569Z"
   },
   {
    "duration": 22,
    "start_time": "2022-07-24T23:01:43.640Z"
   },
   {
    "duration": 89,
    "start_time": "2022-07-24T23:01:43.664Z"
   },
   {
    "duration": 6,
    "start_time": "2022-07-24T23:01:43.755Z"
   },
   {
    "duration": 15352,
    "start_time": "2022-07-24T23:01:43.763Z"
   },
   {
    "duration": 112,
    "start_time": "2022-07-24T23:01:59.117Z"
   },
   {
    "duration": 402,
    "start_time": "2022-07-24T23:01:59.231Z"
   },
   {
    "duration": 83,
    "start_time": "2022-07-24T23:01:59.635Z"
   },
   {
    "duration": 91,
    "start_time": "2022-07-24T23:01:59.721Z"
   },
   {
    "duration": 138,
    "start_time": "2022-07-24T23:01:59.814Z"
   },
   {
    "duration": 24,
    "start_time": "2022-07-24T23:01:59.954Z"
   },
   {
    "duration": 14,
    "start_time": "2022-07-24T23:01:59.980Z"
   },
   {
    "duration": 28,
    "start_time": "2022-07-24T23:01:59.996Z"
   },
   {
    "duration": 97,
    "start_time": "2022-07-24T23:05:08.833Z"
   },
   {
    "duration": 2625,
    "start_time": "2022-07-24T23:05:20.030Z"
   },
   {
    "duration": 30,
    "start_time": "2022-07-24T23:05:22.657Z"
   },
   {
    "duration": 182,
    "start_time": "2022-07-24T23:05:22.689Z"
   },
   {
    "duration": 164,
    "start_time": "2022-07-24T23:05:22.874Z"
   },
   {
    "duration": 114,
    "start_time": "2022-07-24T23:05:23.039Z"
   },
   {
    "duration": 578,
    "start_time": "2022-07-24T23:05:23.154Z"
   },
   {
    "duration": 631,
    "start_time": "2022-07-24T23:05:23.733Z"
   },
   {
    "duration": 5,
    "start_time": "2022-07-24T23:05:24.365Z"
   },
   {
    "duration": 1907,
    "start_time": "2022-07-24T23:05:24.373Z"
   },
   {
    "duration": 7544,
    "start_time": "2022-07-24T23:05:26.284Z"
   },
   {
    "duration": 523,
    "start_time": "2022-07-24T23:05:33.830Z"
   },
   {
    "duration": 77,
    "start_time": "2022-07-24T23:05:34.355Z"
   },
   {
    "duration": 7,
    "start_time": "2022-07-24T23:05:34.434Z"
   },
   {
    "duration": 28,
    "start_time": "2022-07-24T23:05:34.443Z"
   },
   {
    "duration": 187,
    "start_time": "2022-07-24T23:05:34.473Z"
   },
   {
    "duration": 190,
    "start_time": "2022-07-24T23:05:34.662Z"
   },
   {
    "duration": 85,
    "start_time": "2022-07-24T23:05:34.854Z"
   },
   {
    "duration": 53,
    "start_time": "2022-07-24T23:05:34.941Z"
   },
   {
    "duration": 82,
    "start_time": "2022-07-24T23:05:34.996Z"
   },
   {
    "duration": 62,
    "start_time": "2022-07-24T23:05:35.080Z"
   },
   {
    "duration": 33,
    "start_time": "2022-07-24T23:05:35.144Z"
   },
   {
    "duration": 48,
    "start_time": "2022-07-24T23:05:35.180Z"
   },
   {
    "duration": 59,
    "start_time": "2022-07-24T23:05:35.230Z"
   },
   {
    "duration": 135,
    "start_time": "2022-07-24T23:05:35.291Z"
   },
   {
    "duration": 73,
    "start_time": "2022-07-24T23:05:35.428Z"
   },
   {
    "duration": 1074,
    "start_time": "2022-07-24T23:05:35.503Z"
   },
   {
    "duration": 66,
    "start_time": "2022-07-24T23:05:36.578Z"
   },
   {
    "duration": 23,
    "start_time": "2022-07-24T23:05:36.648Z"
   },
   {
    "duration": 91,
    "start_time": "2022-07-24T23:05:36.673Z"
   },
   {
    "duration": 5,
    "start_time": "2022-07-24T23:05:36.765Z"
   },
   {
    "duration": 19950,
    "start_time": "2022-07-24T23:05:36.772Z"
   },
   {
    "duration": 121,
    "start_time": "2022-07-24T23:05:56.724Z"
   },
   {
    "duration": 371,
    "start_time": "2022-07-24T23:05:56.910Z"
   },
   {
    "duration": 51,
    "start_time": "2022-07-24T23:05:57.283Z"
   },
   {
    "duration": 85,
    "start_time": "2022-07-24T23:05:57.336Z"
   },
   {
    "duration": 113,
    "start_time": "2022-07-24T23:05:57.423Z"
   },
   {
    "duration": 9,
    "start_time": "2022-07-24T23:05:57.538Z"
   },
   {
    "duration": 7,
    "start_time": "2022-07-24T23:05:57.550Z"
   },
   {
    "duration": 14,
    "start_time": "2022-07-24T23:05:57.559Z"
   },
   {
    "duration": 2687,
    "start_time": "2022-07-24T23:09:11.426Z"
   },
   {
    "duration": 42,
    "start_time": "2022-07-24T23:09:14.116Z"
   },
   {
    "duration": 165,
    "start_time": "2022-07-24T23:09:14.160Z"
   },
   {
    "duration": 152,
    "start_time": "2022-07-24T23:09:14.328Z"
   },
   {
    "duration": 121,
    "start_time": "2022-07-24T23:09:14.481Z"
   },
   {
    "duration": 531,
    "start_time": "2022-07-24T23:09:14.603Z"
   },
   {
    "duration": 598,
    "start_time": "2022-07-24T23:09:15.135Z"
   },
   {
    "duration": 4,
    "start_time": "2022-07-24T23:09:15.735Z"
   },
   {
    "duration": 1923,
    "start_time": "2022-07-24T23:09:15.741Z"
   },
   {
    "duration": 7539,
    "start_time": "2022-07-24T23:09:17.668Z"
   },
   {
    "duration": 554,
    "start_time": "2022-07-24T23:09:25.210Z"
   },
   {
    "duration": 84,
    "start_time": "2022-07-24T23:09:25.766Z"
   },
   {
    "duration": 7,
    "start_time": "2022-07-24T23:09:25.853Z"
   },
   {
    "duration": 35,
    "start_time": "2022-07-24T23:09:25.862Z"
   },
   {
    "duration": 193,
    "start_time": "2022-07-24T23:09:25.899Z"
   },
   {
    "duration": 175,
    "start_time": "2022-07-24T23:09:26.094Z"
   },
   {
    "duration": 195,
    "start_time": "2022-07-24T23:09:26.271Z"
   },
   {
    "duration": 77,
    "start_time": "2022-07-24T23:09:26.468Z"
   },
   {
    "duration": 32,
    "start_time": "2022-07-24T23:09:26.547Z"
   },
   {
    "duration": 47,
    "start_time": "2022-07-24T23:09:26.581Z"
   },
   {
    "duration": 48,
    "start_time": "2022-07-24T23:09:26.631Z"
   },
   {
    "duration": 45,
    "start_time": "2022-07-24T23:09:26.681Z"
   },
   {
    "duration": 35,
    "start_time": "2022-07-24T23:09:26.728Z"
   },
   {
    "duration": 70,
    "start_time": "2022-07-24T23:09:26.765Z"
   },
   {
    "duration": 157,
    "start_time": "2022-07-24T23:09:26.837Z"
   },
   {
    "duration": 115,
    "start_time": "2022-07-24T23:09:26.996Z"
   },
   {
    "duration": 1056,
    "start_time": "2022-07-24T23:09:27.113Z"
   },
   {
    "duration": 58,
    "start_time": "2022-07-24T23:09:28.174Z"
   },
   {
    "duration": 22,
    "start_time": "2022-07-24T23:09:28.234Z"
   },
   {
    "duration": 85,
    "start_time": "2022-07-24T23:09:28.258Z"
   },
   {
    "duration": 5,
    "start_time": "2022-07-24T23:09:28.345Z"
   },
   {
    "duration": 14459,
    "start_time": "2022-07-24T23:09:28.352Z"
   },
   {
    "duration": 106,
    "start_time": "2022-07-24T23:09:42.813Z"
   },
   {
    "duration": 370,
    "start_time": "2022-07-24T23:09:42.922Z"
   },
   {
    "duration": 35,
    "start_time": "2022-07-24T23:09:43.295Z"
   },
   {
    "duration": 185,
    "start_time": "2022-07-24T23:09:43.332Z"
   },
   {
    "duration": 97,
    "start_time": "2022-07-24T23:09:43.521Z"
   },
   {
    "duration": 10,
    "start_time": "2022-07-24T23:09:43.621Z"
   },
   {
    "duration": 6,
    "start_time": "2022-07-24T23:09:43.634Z"
   },
   {
    "duration": 12,
    "start_time": "2022-07-24T23:09:43.642Z"
   },
   {
    "duration": 174,
    "start_time": "2022-07-24T23:17:13.922Z"
   },
   {
    "duration": 17,
    "start_time": "2022-07-24T23:20:49.010Z"
   },
   {
    "duration": 11,
    "start_time": "2022-07-24T23:21:44.983Z"
   },
   {
    "duration": 2650,
    "start_time": "2022-07-24T23:22:31.412Z"
   },
   {
    "duration": 30,
    "start_time": "2022-07-24T23:22:34.065Z"
   },
   {
    "duration": 179,
    "start_time": "2022-07-24T23:22:34.097Z"
   },
   {
    "duration": 173,
    "start_time": "2022-07-24T23:22:34.277Z"
   },
   {
    "duration": 115,
    "start_time": "2022-07-24T23:22:34.453Z"
   },
   {
    "duration": 562,
    "start_time": "2022-07-24T23:22:34.570Z"
   },
   {
    "duration": 614,
    "start_time": "2022-07-24T23:22:35.135Z"
   },
   {
    "duration": 4,
    "start_time": "2022-07-24T23:22:35.751Z"
   },
   {
    "duration": 1908,
    "start_time": "2022-07-24T23:22:35.757Z"
   },
   {
    "duration": 7788,
    "start_time": "2022-07-24T23:22:37.667Z"
   },
   {
    "duration": 535,
    "start_time": "2022-07-24T23:22:45.457Z"
   },
   {
    "duration": 77,
    "start_time": "2022-07-24T23:22:45.994Z"
   },
   {
    "duration": 10,
    "start_time": "2022-07-24T23:22:46.073Z"
   },
   {
    "duration": 43,
    "start_time": "2022-07-24T23:22:46.086Z"
   },
   {
    "duration": 199,
    "start_time": "2022-07-24T23:22:46.131Z"
   },
   {
    "duration": 216,
    "start_time": "2022-07-24T23:22:46.334Z"
   },
   {
    "duration": 189,
    "start_time": "2022-07-24T23:22:46.552Z"
   },
   {
    "duration": 92,
    "start_time": "2022-07-24T23:22:46.742Z"
   },
   {
    "duration": 31,
    "start_time": "2022-07-24T23:22:46.836Z"
   },
   {
    "duration": 60,
    "start_time": "2022-07-24T23:22:46.869Z"
   },
   {
    "duration": 73,
    "start_time": "2022-07-24T23:22:46.931Z"
   },
   {
    "duration": 68,
    "start_time": "2022-07-24T23:22:47.006Z"
   },
   {
    "duration": 64,
    "start_time": "2022-07-24T23:22:47.076Z"
   },
   {
    "duration": 49,
    "start_time": "2022-07-24T23:22:47.142Z"
   },
   {
    "duration": 131,
    "start_time": "2022-07-24T23:22:47.193Z"
   },
   {
    "duration": 118,
    "start_time": "2022-07-24T23:22:47.326Z"
   },
   {
    "duration": 1060,
    "start_time": "2022-07-24T23:22:47.446Z"
   },
   {
    "duration": 63,
    "start_time": "2022-07-24T23:22:48.508Z"
   },
   {
    "duration": 49,
    "start_time": "2022-07-24T23:22:48.573Z"
   },
   {
    "duration": 528,
    "start_time": "2022-07-24T23:22:48.629Z"
   },
   {
    "duration": 21,
    "start_time": "2022-07-24T23:22:49.159Z"
   },
   {
    "duration": 15345,
    "start_time": "2022-07-24T23:22:49.182Z"
   },
   {
    "duration": 115,
    "start_time": "2022-07-24T23:23:04.533Z"
   },
   {
    "duration": 505,
    "start_time": "2022-07-24T23:23:04.713Z"
   },
   {
    "duration": 97,
    "start_time": "2022-07-24T23:23:05.220Z"
   },
   {
    "duration": 191,
    "start_time": "2022-07-24T23:23:05.322Z"
   },
   {
    "duration": 18,
    "start_time": "2022-07-24T23:23:05.515Z"
   },
   {
    "duration": 13,
    "start_time": "2022-07-24T23:23:05.535Z"
   },
   {
    "duration": 5,
    "start_time": "2022-07-24T23:23:05.549Z"
   },
   {
    "duration": 64,
    "start_time": "2022-07-24T23:23:05.556Z"
   },
   {
    "duration": 67,
    "start_time": "2022-07-24T23:25:14.741Z"
   },
   {
    "duration": 24,
    "start_time": "2022-07-24T23:25:25.709Z"
   },
   {
    "duration": 2739,
    "start_time": "2022-07-24T23:55:30.906Z"
   },
   {
    "duration": 28,
    "start_time": "2022-07-24T23:55:33.648Z"
   },
   {
    "duration": 183,
    "start_time": "2022-07-24T23:55:33.678Z"
   },
   {
    "duration": 157,
    "start_time": "2022-07-24T23:55:33.863Z"
   },
   {
    "duration": 126,
    "start_time": "2022-07-24T23:55:34.025Z"
   },
   {
    "duration": 586,
    "start_time": "2022-07-24T23:55:34.152Z"
   },
   {
    "duration": 624,
    "start_time": "2022-07-24T23:55:34.741Z"
   },
   {
    "duration": 4,
    "start_time": "2022-07-24T23:55:35.367Z"
   },
   {
    "duration": 1994,
    "start_time": "2022-07-24T23:55:35.373Z"
   },
   {
    "duration": 7852,
    "start_time": "2022-07-24T23:55:37.370Z"
   },
   {
    "duration": 572,
    "start_time": "2022-07-24T23:55:45.228Z"
   },
   {
    "duration": 77,
    "start_time": "2022-07-24T23:55:45.802Z"
   },
   {
    "duration": 7,
    "start_time": "2022-07-24T23:55:45.881Z"
   },
   {
    "duration": 43,
    "start_time": "2022-07-24T23:55:45.890Z"
   },
   {
    "duration": 195,
    "start_time": "2022-07-24T23:55:45.934Z"
   },
   {
    "duration": 226,
    "start_time": "2022-07-24T23:55:46.131Z"
   },
   {
    "duration": 224,
    "start_time": "2022-07-24T23:55:46.359Z"
   },
   {
    "duration": 86,
    "start_time": "2022-07-24T23:55:46.585Z"
   },
   {
    "duration": 43,
    "start_time": "2022-07-24T23:55:46.672Z"
   },
   {
    "duration": 56,
    "start_time": "2022-07-24T23:55:46.717Z"
   },
   {
    "duration": 32,
    "start_time": "2022-07-24T23:55:46.775Z"
   },
   {
    "duration": 59,
    "start_time": "2022-07-24T23:55:46.809Z"
   },
   {
    "duration": 30,
    "start_time": "2022-07-24T23:55:46.870Z"
   },
   {
    "duration": 64,
    "start_time": "2022-07-24T23:55:46.902Z"
   },
   {
    "duration": 122,
    "start_time": "2022-07-24T23:55:46.968Z"
   },
   {
    "duration": 91,
    "start_time": "2022-07-24T23:55:47.091Z"
   },
   {
    "duration": 1073,
    "start_time": "2022-07-24T23:55:47.184Z"
   },
   {
    "duration": 67,
    "start_time": "2022-07-24T23:55:48.261Z"
   },
   {
    "duration": 26,
    "start_time": "2022-07-24T23:55:48.334Z"
   },
   {
    "duration": 538,
    "start_time": "2022-07-24T23:55:48.361Z"
   },
   {
    "duration": 3,
    "start_time": "2022-07-24T23:55:48.901Z"
   },
   {
    "duration": 148,
    "start_time": "2022-07-24T23:55:48.910Z"
   },
   {
    "duration": 0,
    "start_time": "2022-07-24T23:55:49.060Z"
   },
   {
    "duration": 0,
    "start_time": "2022-07-24T23:55:49.061Z"
   },
   {
    "duration": 0,
    "start_time": "2022-07-24T23:55:49.062Z"
   },
   {
    "duration": 0,
    "start_time": "2022-07-24T23:55:49.063Z"
   },
   {
    "duration": 0,
    "start_time": "2022-07-24T23:55:49.064Z"
   },
   {
    "duration": 0,
    "start_time": "2022-07-24T23:55:49.066Z"
   },
   {
    "duration": 0,
    "start_time": "2022-07-24T23:55:49.067Z"
   },
   {
    "duration": 0,
    "start_time": "2022-07-24T23:55:49.068Z"
   },
   {
    "duration": 0,
    "start_time": "2022-07-24T23:55:49.069Z"
   },
   {
    "duration": 0,
    "start_time": "2022-07-24T23:55:49.070Z"
   },
   {
    "duration": 0,
    "start_time": "2022-07-24T23:55:49.071Z"
   },
   {
    "duration": 2742,
    "start_time": "2022-07-24T23:56:35.984Z"
   },
   {
    "duration": 39,
    "start_time": "2022-07-24T23:56:38.730Z"
   },
   {
    "duration": 189,
    "start_time": "2022-07-24T23:56:38.771Z"
   },
   {
    "duration": 161,
    "start_time": "2022-07-24T23:56:38.962Z"
   },
   {
    "duration": 148,
    "start_time": "2022-07-24T23:56:39.125Z"
   },
   {
    "duration": 575,
    "start_time": "2022-07-24T23:56:39.274Z"
   },
   {
    "duration": 614,
    "start_time": "2022-07-24T23:56:39.850Z"
   },
   {
    "duration": 4,
    "start_time": "2022-07-24T23:56:40.466Z"
   },
   {
    "duration": 2010,
    "start_time": "2022-07-24T23:56:40.472Z"
   },
   {
    "duration": 7666,
    "start_time": "2022-07-24T23:56:42.486Z"
   },
   {
    "duration": 541,
    "start_time": "2022-07-24T23:56:50.154Z"
   },
   {
    "duration": 72,
    "start_time": "2022-07-24T23:56:50.697Z"
   },
   {
    "duration": 6,
    "start_time": "2022-07-24T23:56:50.770Z"
   },
   {
    "duration": 42,
    "start_time": "2022-07-24T23:56:50.778Z"
   },
   {
    "duration": 196,
    "start_time": "2022-07-24T23:56:50.822Z"
   },
   {
    "duration": 205,
    "start_time": "2022-07-24T23:56:51.023Z"
   },
   {
    "duration": 185,
    "start_time": "2022-07-24T23:56:51.233Z"
   },
   {
    "duration": 78,
    "start_time": "2022-07-24T23:56:51.426Z"
   },
   {
    "duration": 63,
    "start_time": "2022-07-24T23:56:51.506Z"
   },
   {
    "duration": 33,
    "start_time": "2022-07-24T23:56:51.571Z"
   },
   {
    "duration": 66,
    "start_time": "2022-07-24T23:56:51.606Z"
   },
   {
    "duration": 33,
    "start_time": "2022-07-24T23:56:51.674Z"
   },
   {
    "duration": 59,
    "start_time": "2022-07-24T23:56:51.709Z"
   },
   {
    "duration": 85,
    "start_time": "2022-07-24T23:56:51.770Z"
   },
   {
    "duration": 141,
    "start_time": "2022-07-24T23:56:51.857Z"
   },
   {
    "duration": 113,
    "start_time": "2022-07-24T23:56:52.001Z"
   },
   {
    "duration": 1077,
    "start_time": "2022-07-24T23:56:52.116Z"
   },
   {
    "duration": 72,
    "start_time": "2022-07-24T23:56:53.196Z"
   },
   {
    "duration": 21,
    "start_time": "2022-07-24T23:56:53.270Z"
   },
   {
    "duration": 537,
    "start_time": "2022-07-24T23:56:53.293Z"
   },
   {
    "duration": 7,
    "start_time": "2022-07-24T23:56:53.834Z"
   },
   {
    "duration": 6,
    "start_time": "2022-07-24T23:56:53.843Z"
   },
   {
    "duration": 11,
    "start_time": "2022-07-24T23:56:53.851Z"
   },
   {
    "duration": 89,
    "start_time": "2022-07-24T23:56:53.864Z"
   },
   {
    "duration": 0,
    "start_time": "2022-07-24T23:56:53.954Z"
   },
   {
    "duration": 0,
    "start_time": "2022-07-24T23:56:53.955Z"
   },
   {
    "duration": 0,
    "start_time": "2022-07-24T23:56:53.956Z"
   },
   {
    "duration": 0,
    "start_time": "2022-07-24T23:56:53.957Z"
   },
   {
    "duration": 0,
    "start_time": "2022-07-24T23:56:53.958Z"
   },
   {
    "duration": 0,
    "start_time": "2022-07-24T23:56:53.959Z"
   },
   {
    "duration": 0,
    "start_time": "2022-07-24T23:56:53.961Z"
   },
   {
    "duration": 0,
    "start_time": "2022-07-24T23:56:53.962Z"
   },
   {
    "duration": 0,
    "start_time": "2022-07-24T23:56:53.963Z"
   },
   {
    "duration": 142,
    "start_time": "2022-07-24T23:57:12.730Z"
   },
   {
    "duration": 2587,
    "start_time": "2022-07-24T23:58:15.784Z"
   },
   {
    "duration": 43,
    "start_time": "2022-07-24T23:58:18.373Z"
   },
   {
    "duration": 160,
    "start_time": "2022-07-24T23:58:18.428Z"
   },
   {
    "duration": 159,
    "start_time": "2022-07-24T23:58:18.591Z"
   },
   {
    "duration": 118,
    "start_time": "2022-07-24T23:58:18.751Z"
   },
   {
    "duration": 572,
    "start_time": "2022-07-24T23:58:18.871Z"
   },
   {
    "duration": 619,
    "start_time": "2022-07-24T23:58:19.445Z"
   },
   {
    "duration": 5,
    "start_time": "2022-07-24T23:58:20.066Z"
   },
   {
    "duration": 1999,
    "start_time": "2022-07-24T23:58:20.072Z"
   },
   {
    "duration": 7273,
    "start_time": "2022-07-24T23:58:22.074Z"
   },
   {
    "duration": 527,
    "start_time": "2022-07-24T23:58:29.349Z"
   },
   {
    "duration": 75,
    "start_time": "2022-07-24T23:58:29.878Z"
   },
   {
    "duration": 7,
    "start_time": "2022-07-24T23:58:29.954Z"
   },
   {
    "duration": 63,
    "start_time": "2022-07-24T23:58:29.963Z"
   },
   {
    "duration": 194,
    "start_time": "2022-07-24T23:58:30.029Z"
   },
   {
    "duration": 180,
    "start_time": "2022-07-24T23:58:30.225Z"
   },
   {
    "duration": 185,
    "start_time": "2022-07-24T23:58:30.408Z"
   },
   {
    "duration": 80,
    "start_time": "2022-07-24T23:58:30.595Z"
   },
   {
    "duration": 45,
    "start_time": "2022-07-24T23:58:30.677Z"
   },
   {
    "duration": 34,
    "start_time": "2022-07-24T23:58:30.725Z"
   },
   {
    "duration": 45,
    "start_time": "2022-07-24T23:58:30.761Z"
   },
   {
    "duration": 49,
    "start_time": "2022-07-24T23:58:30.807Z"
   },
   {
    "duration": 36,
    "start_time": "2022-07-24T23:58:30.857Z"
   },
   {
    "duration": 55,
    "start_time": "2022-07-24T23:58:30.895Z"
   },
   {
    "duration": 114,
    "start_time": "2022-07-24T23:58:30.952Z"
   },
   {
    "duration": 81,
    "start_time": "2022-07-24T23:58:31.068Z"
   },
   {
    "duration": 1068,
    "start_time": "2022-07-24T23:58:31.150Z"
   },
   {
    "duration": 52,
    "start_time": "2022-07-24T23:58:32.226Z"
   },
   {
    "duration": 45,
    "start_time": "2022-07-24T23:58:32.280Z"
   },
   {
    "duration": 490,
    "start_time": "2022-07-24T23:58:32.327Z"
   },
   {
    "duration": 4,
    "start_time": "2022-07-24T23:58:32.825Z"
   },
   {
    "duration": 7,
    "start_time": "2022-07-24T23:58:32.831Z"
   },
   {
    "duration": 15,
    "start_time": "2022-07-24T23:58:32.840Z"
   },
   {
    "duration": 132,
    "start_time": "2022-07-24T23:58:32.857Z"
   },
   {
    "duration": 0,
    "start_time": "2022-07-24T23:58:32.990Z"
   },
   {
    "duration": 0,
    "start_time": "2022-07-24T23:58:32.991Z"
   },
   {
    "duration": 0,
    "start_time": "2022-07-24T23:58:32.993Z"
   },
   {
    "duration": 0,
    "start_time": "2022-07-24T23:58:32.994Z"
   },
   {
    "duration": 0,
    "start_time": "2022-07-24T23:58:32.995Z"
   },
   {
    "duration": 0,
    "start_time": "2022-07-24T23:58:32.996Z"
   },
   {
    "duration": 0,
    "start_time": "2022-07-24T23:58:32.998Z"
   },
   {
    "duration": 0,
    "start_time": "2022-07-24T23:58:33.010Z"
   },
   {
    "duration": 0,
    "start_time": "2022-07-24T23:58:33.011Z"
   },
   {
    "duration": 4,
    "start_time": "2022-07-24T23:59:35.634Z"
   },
   {
    "duration": 15,
    "start_time": "2022-07-24T23:59:48.263Z"
   },
   {
    "duration": 2630,
    "start_time": "2022-07-25T00:00:23.527Z"
   },
   {
    "duration": 31,
    "start_time": "2022-07-25T00:00:26.159Z"
   },
   {
    "duration": 203,
    "start_time": "2022-07-25T00:00:26.192Z"
   },
   {
    "duration": 163,
    "start_time": "2022-07-25T00:00:26.398Z"
   },
   {
    "duration": 114,
    "start_time": "2022-07-25T00:00:26.563Z"
   },
   {
    "duration": 553,
    "start_time": "2022-07-25T00:00:26.678Z"
   },
   {
    "duration": 623,
    "start_time": "2022-07-25T00:00:27.233Z"
   },
   {
    "duration": 4,
    "start_time": "2022-07-25T00:00:27.859Z"
   },
   {
    "duration": 1869,
    "start_time": "2022-07-25T00:00:27.865Z"
   },
   {
    "duration": 7498,
    "start_time": "2022-07-25T00:00:29.737Z"
   },
   {
    "duration": 533,
    "start_time": "2022-07-25T00:00:37.237Z"
   },
   {
    "duration": 87,
    "start_time": "2022-07-25T00:00:37.772Z"
   },
   {
    "duration": 7,
    "start_time": "2022-07-25T00:00:37.861Z"
   },
   {
    "duration": 25,
    "start_time": "2022-07-25T00:00:37.870Z"
   },
   {
    "duration": 174,
    "start_time": "2022-07-25T00:00:37.897Z"
   },
   {
    "duration": 191,
    "start_time": "2022-07-25T00:00:38.074Z"
   },
   {
    "duration": 184,
    "start_time": "2022-07-25T00:00:38.267Z"
   },
   {
    "duration": 74,
    "start_time": "2022-07-25T00:00:38.453Z"
   },
   {
    "duration": 37,
    "start_time": "2022-07-25T00:00:38.529Z"
   },
   {
    "duration": 31,
    "start_time": "2022-07-25T00:00:38.567Z"
   },
   {
    "duration": 57,
    "start_time": "2022-07-25T00:00:38.600Z"
   },
   {
    "duration": 36,
    "start_time": "2022-07-25T00:00:38.659Z"
   },
   {
    "duration": 44,
    "start_time": "2022-07-25T00:00:38.696Z"
   },
   {
    "duration": 46,
    "start_time": "2022-07-25T00:00:38.742Z"
   },
   {
    "duration": 138,
    "start_time": "2022-07-25T00:00:38.790Z"
   },
   {
    "duration": 77,
    "start_time": "2022-07-25T00:00:38.930Z"
   },
   {
    "duration": 1033,
    "start_time": "2022-07-25T00:00:39.010Z"
   },
   {
    "duration": 69,
    "start_time": "2022-07-25T00:00:40.047Z"
   },
   {
    "duration": 501,
    "start_time": "2022-07-25T00:00:40.117Z"
   },
   {
    "duration": 3,
    "start_time": "2022-07-25T00:00:40.626Z"
   },
   {
    "duration": 7,
    "start_time": "2022-07-25T00:00:40.631Z"
   },
   {
    "duration": 7,
    "start_time": "2022-07-25T00:00:40.640Z"
   },
   {
    "duration": 136,
    "start_time": "2022-07-25T00:00:40.648Z"
   },
   {
    "duration": 0,
    "start_time": "2022-07-25T00:00:40.786Z"
   },
   {
    "duration": 1,
    "start_time": "2022-07-25T00:00:40.787Z"
   },
   {
    "duration": 0,
    "start_time": "2022-07-25T00:00:40.789Z"
   },
   {
    "duration": 0,
    "start_time": "2022-07-25T00:00:40.791Z"
   },
   {
    "duration": 0,
    "start_time": "2022-07-25T00:00:40.792Z"
   },
   {
    "duration": 0,
    "start_time": "2022-07-25T00:00:40.794Z"
   },
   {
    "duration": 0,
    "start_time": "2022-07-25T00:00:40.810Z"
   },
   {
    "duration": 0,
    "start_time": "2022-07-25T00:00:40.811Z"
   },
   {
    "duration": 0,
    "start_time": "2022-07-25T00:00:40.812Z"
   },
   {
    "duration": 6,
    "start_time": "2022-07-25T00:02:08.398Z"
   },
   {
    "duration": 5734385,
    "start_time": "2022-07-25T00:02:09.941Z"
   },
   {
    "duration": 2514,
    "start_time": "2022-07-25T02:02:56.617Z"
   },
   {
    "duration": 31,
    "start_time": "2022-07-25T02:02:59.132Z"
   },
   {
    "duration": 166,
    "start_time": "2022-07-25T02:02:59.164Z"
   },
   {
    "duration": 139,
    "start_time": "2022-07-25T02:02:59.332Z"
   },
   {
    "duration": 120,
    "start_time": "2022-07-25T02:02:59.473Z"
   },
   {
    "duration": 552,
    "start_time": "2022-07-25T02:02:59.595Z"
   },
   {
    "duration": 634,
    "start_time": "2022-07-25T02:03:00.149Z"
   },
   {
    "duration": 4,
    "start_time": "2022-07-25T02:03:00.785Z"
   },
   {
    "duration": 1864,
    "start_time": "2022-07-25T02:03:00.790Z"
   },
   {
    "duration": 7357,
    "start_time": "2022-07-25T02:03:02.657Z"
   },
   {
    "duration": 513,
    "start_time": "2022-07-25T02:03:10.015Z"
   },
   {
    "duration": 66,
    "start_time": "2022-07-25T02:03:10.529Z"
   },
   {
    "duration": 18,
    "start_time": "2022-07-25T02:03:10.597Z"
   },
   {
    "duration": 79,
    "start_time": "2022-07-25T02:03:10.616Z"
   },
   {
    "duration": 177,
    "start_time": "2022-07-25T02:03:10.698Z"
   },
   {
    "duration": 179,
    "start_time": "2022-07-25T02:03:10.877Z"
   },
   {
    "duration": 188,
    "start_time": "2022-07-25T02:03:11.057Z"
   },
   {
    "duration": 73,
    "start_time": "2022-07-25T02:03:11.247Z"
   },
   {
    "duration": 30,
    "start_time": "2022-07-25T02:03:11.322Z"
   },
   {
    "duration": 31,
    "start_time": "2022-07-25T02:03:11.354Z"
   },
   {
    "duration": 50,
    "start_time": "2022-07-25T02:03:11.387Z"
   },
   {
    "duration": 33,
    "start_time": "2022-07-25T02:03:11.439Z"
   },
   {
    "duration": 46,
    "start_time": "2022-07-25T02:03:11.473Z"
   },
   {
    "duration": 46,
    "start_time": "2022-07-25T02:03:11.520Z"
   },
   {
    "duration": 119,
    "start_time": "2022-07-25T02:03:11.568Z"
   },
   {
    "duration": 84,
    "start_time": "2022-07-25T02:03:11.688Z"
   },
   {
    "duration": 945,
    "start_time": "2022-07-25T02:03:11.774Z"
   },
   {
    "duration": 57,
    "start_time": "2022-07-25T02:03:12.723Z"
   },
   {
    "duration": 484,
    "start_time": "2022-07-25T02:03:12.783Z"
   },
   {
    "duration": 3,
    "start_time": "2022-07-25T02:03:13.269Z"
   },
   {
    "duration": 6,
    "start_time": "2022-07-25T02:03:13.274Z"
   },
   {
    "duration": 8,
    "start_time": "2022-07-25T02:03:13.282Z"
   },
   {
    "duration": 115433,
    "start_time": "2022-07-25T02:03:13.292Z"
   },
   {
    "duration": 3,
    "start_time": "2022-07-25T02:05:08.728Z"
   },
   {
    "duration": 14,
    "start_time": "2022-07-25T02:05:08.733Z"
   },
   {
    "duration": 7,
    "start_time": "2022-07-25T02:05:08.749Z"
   },
   {
    "duration": 53,
    "start_time": "2022-07-25T02:05:08.758Z"
   },
   {
    "duration": 12,
    "start_time": "2022-07-25T02:05:08.813Z"
   },
   {
    "duration": 10,
    "start_time": "2022-07-25T02:05:08.827Z"
   },
   {
    "duration": 8,
    "start_time": "2022-07-25T02:05:08.839Z"
   },
   {
    "duration": 140,
    "start_time": "2022-07-25T02:05:08.849Z"
   },
   {
    "duration": 0,
    "start_time": "2022-07-25T02:05:08.990Z"
   },
   {
    "duration": 14,
    "start_time": "2022-07-25T08:39:59.052Z"
   },
   {
    "duration": 5,
    "start_time": "2022-07-25T08:40:17.799Z"
   },
   {
    "duration": 11,
    "start_time": "2022-07-25T08:40:21.345Z"
   },
   {
    "duration": 24,
    "start_time": "2022-07-25T08:40:53.553Z"
   },
   {
    "duration": 17,
    "start_time": "2022-07-25T08:41:51.371Z"
   },
   {
    "duration": 4555,
    "start_time": "2022-07-25T09:38:18.287Z"
   },
   {
    "duration": 28,
    "start_time": "2022-07-25T09:38:22.844Z"
   },
   {
    "duration": 140,
    "start_time": "2022-07-25T09:38:22.874Z"
   },
   {
    "duration": 142,
    "start_time": "2022-07-25T09:38:23.016Z"
   },
   {
    "duration": 111,
    "start_time": "2022-07-25T09:38:23.159Z"
   },
   {
    "duration": 519,
    "start_time": "2022-07-25T09:38:23.271Z"
   },
   {
    "duration": 544,
    "start_time": "2022-07-25T09:38:23.792Z"
   },
   {
    "duration": 5,
    "start_time": "2022-07-25T09:38:24.338Z"
   },
   {
    "duration": 1966,
    "start_time": "2022-07-25T09:38:24.345Z"
   },
   {
    "duration": 7365,
    "start_time": "2022-07-25T09:38:26.314Z"
   },
   {
    "duration": 522,
    "start_time": "2022-07-25T09:38:33.680Z"
   },
   {
    "duration": 67,
    "start_time": "2022-07-25T09:38:34.204Z"
   },
   {
    "duration": 6,
    "start_time": "2022-07-25T09:38:34.273Z"
   },
   {
    "duration": 42,
    "start_time": "2022-07-25T09:38:34.281Z"
   },
   {
    "duration": 181,
    "start_time": "2022-07-25T09:38:34.325Z"
   },
   {
    "duration": 179,
    "start_time": "2022-07-25T09:38:34.509Z"
   },
   {
    "duration": 176,
    "start_time": "2022-07-25T09:38:34.690Z"
   },
   {
    "duration": 75,
    "start_time": "2022-07-25T09:38:34.867Z"
   },
   {
    "duration": 32,
    "start_time": "2022-07-25T09:38:34.944Z"
   },
   {
    "duration": 47,
    "start_time": "2022-07-25T09:38:34.977Z"
   },
   {
    "duration": 31,
    "start_time": "2022-07-25T09:38:35.026Z"
   },
   {
    "duration": 48,
    "start_time": "2022-07-25T09:38:35.059Z"
   },
   {
    "duration": 47,
    "start_time": "2022-07-25T09:38:35.110Z"
   },
   {
    "duration": 56,
    "start_time": "2022-07-25T09:38:35.159Z"
   },
   {
    "duration": 124,
    "start_time": "2022-07-25T09:38:35.217Z"
   },
   {
    "duration": 75,
    "start_time": "2022-07-25T09:38:35.343Z"
   },
   {
    "duration": 917,
    "start_time": "2022-07-25T09:38:35.420Z"
   },
   {
    "duration": 61,
    "start_time": "2022-07-25T09:38:36.341Z"
   },
   {
    "duration": 456,
    "start_time": "2022-07-25T09:38:36.413Z"
   },
   {
    "duration": 3,
    "start_time": "2022-07-25T09:38:36.871Z"
   },
   {
    "duration": 6,
    "start_time": "2022-07-25T09:38:36.875Z"
   },
   {
    "duration": 8,
    "start_time": "2022-07-25T09:38:36.883Z"
   },
   {
    "duration": 18,
    "start_time": "2022-07-25T09:38:36.892Z"
   },
   {
    "duration": 151411,
    "start_time": "2022-07-25T09:38:36.912Z"
   },
   {
    "duration": 10814,
    "start_time": "2022-07-25T09:41:08.325Z"
   },
   {
    "duration": 177,
    "start_time": "2022-07-25T09:41:19.140Z"
   },
   {
    "duration": 201,
    "start_time": "2022-07-25T09:41:19.409Z"
   },
   {
    "duration": 98,
    "start_time": "2022-07-25T09:41:19.612Z"
   },
   {
    "duration": 11,
    "start_time": "2022-07-25T09:41:19.712Z"
   },
   {
    "duration": 5,
    "start_time": "2022-07-25T09:41:19.725Z"
   },
   {
    "duration": 20,
    "start_time": "2022-07-25T09:41:19.731Z"
   },
   {
    "duration": 12,
    "start_time": "2022-07-25T09:41:19.753Z"
   },
   {
    "duration": 6,
    "start_time": "2022-07-25T09:41:19.767Z"
   },
   {
    "duration": 7,
    "start_time": "2022-07-25T09:41:19.775Z"
   },
   {
    "duration": 7,
    "start_time": "2022-07-25T09:41:19.783Z"
   },
   {
    "duration": 6,
    "start_time": "2022-07-25T09:41:19.792Z"
   },
   {
    "duration": 7,
    "start_time": "2022-07-25T09:41:47.023Z"
   },
   {
    "duration": 5,
    "start_time": "2022-07-25T09:41:51.724Z"
   },
   {
    "duration": 8,
    "start_time": "2022-07-25T09:41:53.573Z"
   },
   {
    "duration": 2495,
    "start_time": "2022-07-25T09:57:45.225Z"
   },
   {
    "duration": 31,
    "start_time": "2022-07-25T09:57:47.722Z"
   },
   {
    "duration": 168,
    "start_time": "2022-07-25T09:57:47.755Z"
   },
   {
    "duration": 150,
    "start_time": "2022-07-25T09:57:47.926Z"
   },
   {
    "duration": 119,
    "start_time": "2022-07-25T09:57:48.078Z"
   },
   {
    "duration": 535,
    "start_time": "2022-07-25T09:57:48.199Z"
   },
   {
    "duration": 553,
    "start_time": "2022-07-25T09:57:48.736Z"
   },
   {
    "duration": 4,
    "start_time": "2022-07-25T09:57:49.291Z"
   },
   {
    "duration": 1781,
    "start_time": "2022-07-25T09:57:49.297Z"
   },
   {
    "duration": 7138,
    "start_time": "2022-07-25T09:57:51.081Z"
   },
   {
    "duration": 550,
    "start_time": "2022-07-25T09:57:58.221Z"
   },
   {
    "duration": 72,
    "start_time": "2022-07-25T09:57:58.773Z"
   },
   {
    "duration": 7,
    "start_time": "2022-07-25T09:57:58.847Z"
   },
   {
    "duration": 51,
    "start_time": "2022-07-25T09:57:58.856Z"
   },
   {
    "duration": 181,
    "start_time": "2022-07-25T09:57:58.909Z"
   },
   {
    "duration": 173,
    "start_time": "2022-07-25T09:57:59.092Z"
   },
   {
    "duration": 177,
    "start_time": "2022-07-25T09:57:59.267Z"
   },
   {
    "duration": 76,
    "start_time": "2022-07-25T09:57:59.446Z"
   },
   {
    "duration": 31,
    "start_time": "2022-07-25T09:57:59.523Z"
   },
   {
    "duration": 30,
    "start_time": "2022-07-25T09:57:59.555Z"
   },
   {
    "duration": 52,
    "start_time": "2022-07-25T09:57:59.587Z"
   },
   {
    "duration": 36,
    "start_time": "2022-07-25T09:57:59.641Z"
   },
   {
    "duration": 41,
    "start_time": "2022-07-25T09:57:59.679Z"
   },
   {
    "duration": 49,
    "start_time": "2022-07-25T09:57:59.721Z"
   },
   {
    "duration": 116,
    "start_time": "2022-07-25T09:57:59.772Z"
   },
   {
    "duration": 81,
    "start_time": "2022-07-25T09:57:59.889Z"
   },
   {
    "duration": 890,
    "start_time": "2022-07-25T09:57:59.971Z"
   },
   {
    "duration": 67,
    "start_time": "2022-07-25T09:58:00.865Z"
   },
   {
    "duration": 452,
    "start_time": "2022-07-25T09:58:00.934Z"
   },
   {
    "duration": 3,
    "start_time": "2022-07-25T09:58:01.388Z"
   },
   {
    "duration": 76,
    "start_time": "2022-07-25T09:58:01.393Z"
   },
   {
    "duration": 31,
    "start_time": "2022-07-25T09:58:01.471Z"
   },
   {
    "duration": 59,
    "start_time": "2022-07-25T09:58:01.504Z"
   },
   {
    "duration": 184656,
    "start_time": "2022-07-25T09:58:01.566Z"
   },
   {
    "duration": 10821,
    "start_time": "2022-07-25T10:01:06.224Z"
   },
   {
    "duration": 75,
    "start_time": "2022-07-25T10:01:17.047Z"
   },
   {
    "duration": 94,
    "start_time": "2022-07-25T10:01:17.125Z"
   },
   {
    "duration": 9,
    "start_time": "2022-07-25T10:01:17.311Z"
   },
   {
    "duration": 18,
    "start_time": "2022-07-25T10:01:17.321Z"
   },
   {
    "duration": 8,
    "start_time": "2022-07-25T10:01:17.341Z"
   }
  ],
  "kernelspec": {
   "display_name": "Python 3 (ipykernel)",
   "language": "python",
   "name": "python3"
  },
  "language_info": {
   "codemirror_mode": {
    "name": "ipython",
    "version": 3
   },
   "file_extension": ".py",
   "mimetype": "text/x-python",
   "name": "python",
   "nbconvert_exporter": "python",
   "pygments_lexer": "ipython3",
   "version": "3.9.13"
  },
  "toc": {
   "base_numbering": 1,
   "nav_menu": {},
   "number_sections": true,
   "sideBar": true,
   "skip_h1_title": true,
   "title_cell": "Table of Contents",
   "title_sidebar": "Contents",
   "toc_cell": false,
   "toc_position": {},
   "toc_section_display": true,
   "toc_window_display": false
  }
 },
 "nbformat": 4,
 "nbformat_minor": 2
}
